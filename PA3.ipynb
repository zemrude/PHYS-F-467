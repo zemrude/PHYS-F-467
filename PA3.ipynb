{
 "cells": [
  {
   "cell_type": "markdown",
   "metadata": {
    "slideshow": {
     "slide_type": "slide"
    }
   },
   "source": [
    "<img src=\"https://actus.ulb.be/medias/photo/logo3lp_1548687761441-jpg?ID_FICHE=19524\" alt=\"ULB logo\" width=\"15%\" align=\"right\"><br><br><br><br>\n",
    "\n",
    "\n",
    "# Lecture 3\n",
    "# Cosmic Rays\n",
    "\n",
    "<p>Université Libre de Bruxelles,\n",
    "\n",
    "<a href=\"http://iihe.ac.be/~aguilar\">Juan A. Aguilar</a>\n",
    "</p>"
   ]
  },
  {
   "cell_type": "markdown",
   "metadata": {},
   "source": [
    "## Cosmic Rays \n",
    "\n",
    "### Cosmic ray spectrum\n",
    "Cosmic rays mostly protons accelerated at sites within the galaxy.\n",
    "\n",
    "* As they are charged they are deviated in galactic and inter-galactic $\\vec{B}$ and solar and terrestrial magnetic fields. Directionality only possible for $E \\gt 10^{19}$ eV. \n",
    "* But interactions with CMB at $E \\sim 10^{19}$ limit horizon tens or hundreds of Mpc.\n",
    "* One century after discovery, origins of cosmic rays, in particular UHECR, remain **unknown**"
   ]
  },
  {
   "cell_type": "markdown",
   "metadata": {
    "slideshow": {
     "slide_type": "slide"
    }
   },
   "source": [
    "<div align=\"center\">\n",
    "<img src=\"images/cr.gif\" width=\"50%\">\n",
    "</div>"
   ]
  },
  {
   "cell_type": "markdown",
   "metadata": {
    "slideshow": {
     "slide_type": "slide"
    }
   },
   "source": [
    "### Cosmic Ray as function of...\n",
    "\n",
    "There are four different ways to describe the spectra of the cosmic ray radiation:\n",
    "* By **particles per unit rigidity**. Propagation and deflection on magnetic fields depends on the rigidity.\n",
    "* By **particles per energy-per-nucleon**. Fragmentation of nuclei propagating through\n",
    "the interstellar gas depends on energy per nucleon, since that quantity is approximately conserved when a nucleus breaks up on interaction with the gas.\n",
    "* By **nucleons per energy-per-nucleon**. Production of secondary cosmic rays in the atmosphere depends on the intensity of nucleons per energy-per-nucleon, approximately independently of whether the incident nucleons are free protons or bound in nuclei.\n",
    "* By **particles per energy-per-nucleus**. Air shower experiments that use the atmosphere as a calorimeter generally measure a quantity that is related to total energy per particle.\n",
    "\n",
    "For $E > 100$ TeV the difference between the kinetic energy and the total energy is negligible and fluxes are obten presented as **particle per energy-per-nucleus**.\n",
    "\n",
    "For $E < 100$ TeV the difference is important and it is common to present\n",
    "**nucleons per kinetic energy-per-nucleon**. This is\n",
    "the usual way of presenting the spectrum for nuclei with different masses: the\n",
    "conversion in energy per nucleus is not trivial.\n",
    "\n"
   ]
  },
  {
   "cell_type": "markdown",
   "metadata": {},
   "source": [
    "### Primary Cosmic Rays\n",
    "\n",
    "The energy spectrum of primary nucleons from GeV to ~ 100 TeV is given by:\n",
    "\n",
    "$$ I(E) \\approx 1.8 \\times 10^4 \\left(\\frac{E}{1\\; \\rm{GeV}}\\right)^{-2.7} \\frac{\\rm{nucleons}}{\\rm{m}^2\\; \\rm{s\\;sr\\;GeV}}$$\n",
    "\n",
    "Where $\\alpha \\equiv 1+ \\gamma = 2.7$ is the differential spectral index and $\\gamma$ the integral spectral index. The composition of the bulk of cosmic rays are: 80% protons, 15% He, and he rest are heavier nuclei: C, O, Fe and other ionized nuclei and electrons (2%)"
   ]
  },
  {
   "cell_type": "markdown",
   "metadata": {
    "slideshow": {
     "slide_type": "slide"
    }
   },
   "source": [
    "<div align=\"center\">\n",
    "<img src=\"images/cosmic-rays.png\" width=\"40%\">\n",
    "<div class=\"caption\">Source: Particle Data Group</div>\n",
    "</div>"
   ]
  },
  {
   "cell_type": "markdown",
   "metadata": {},
   "source": [
    "### Galactic Cosmic Ray Composition"
   ]
  },
  {
   "cell_type": "markdown",
   "metadata": {
    "slideshow": {
     "slide_type": "slide"
    }
   },
   "source": [
    "  \n",
    "* The chemical composition of cosmic rays is similar to the abundances of the elements in the Sun indicating an **stellar origin of cosmic rays**.\n",
    "* However there are some differences: Li, Be, B are secondary nuclei produced in the spallation of heavier elements (C and O). Also Mn, V, and Sc come from the fragmentation of Fe. These are usually referred as **secondary cosmic rays**. \n",
    "* The see-saw effect is due to the fact that nuclei with odd Z and/or A have weaker bounds and are less frequent products of thermonuclear reactions.\n",
    "\n",
    "By measuring the primary-to-secondary ratio we can infer the propagation and diffusion processes of CR "
   ]
  },
  {
   "cell_type": "markdown",
   "metadata": {
    "caption": "somecaption"
   },
   "source": [
    "<div align=\"center\">\n",
    "<img src=\"images/composition.png\" width=\"50%\">\n",
    "<div class=\"caption\">Source: Particle Data Group</div>\n",
    "</div>\n"
   ]
  },
  {
   "cell_type": "markdown",
   "metadata": {},
   "source": [
    "### Electrons \n",
    "\n",
    "The spectrum of electrons is expected to steepen because the radioactive energy loss in the galaxy. Electrons will lose energy primarly due to synchrotron radiation and Compton scattering.\n",
    "\n",
    "<div align=\"center\">\n",
    "<img src=\"images/electrons.png\" width=\"60%\">\n",
    "<div class=\"caption\">Source: Particle Data Group</div>\n",
    "</div>\n"
   ]
  },
  {
   "cell_type": "markdown",
   "metadata": {},
   "source": [
    "The plot above shows the ($e^− + e^+$) spectrum, only PAMELA data refers only to $e^−$. As can be seen there are several features worth noting:\n",
    "* The proton spectrum is also shown multiplied by 0.01, which means that electrons contribute only 1% to the CR.\n",
    "* For $E \\leq$ 20 GeV the spectra is dominated by solar modulations and somehow follows the proton spectrum.\n",
    "* At about 5 GeV there is a change in the spectrum. Sometimes identified as the energy when electrons start too loose energy, and therefore the spectrum becomes steeper.\n",
    "* For $E >$ 50 GeV spectra is well fitted with a power law of $\\sim $ 3.1 for $e^−$ and $\\sim $ 2.7 for $e^+$. Since $e^−$ domimate over $e^+$ the overall spectrum ($e^− + e^+$) also follows a spectral index of $\\sim$ 3. Electron spectrum is much steeper than the proton one.\n",
    "* The sum spectrum ($e^− + e^+$) has a sharp break at $E \\simeq$ 1 TeV, however this is dominated by the $e^−$ with an estimate of a ratio of 3 − 4 in $e^−/e^+$.\n",
    "* There is an excess measured by ATIC at $\\sim$ 700 GeV. The existance of that feature has, however, never been confirmed by other experiments (Fermi, DAMPE, HESS).\n",
    "\n"
   ]
  },
  {
   "cell_type": "markdown",
   "metadata": {
    "slideshow": {
     "slide_type": "slide"
    }
   },
   "source": [
    "> **Question:**\n",
    "> \n",
    "> Assuming the electron flux is only 1% of the protons. Is it the Earth positive charged-up?\n",
    "> \n",
    "\n"
   ]
  },
  {
   "cell_type": "markdown",
   "metadata": {},
   "source": [
    "### Antimatter \n",
    "\n",
    "* As antimatter is rare in the Universe today, all antimatter we observe are by-product of particle interactions such as Cosmic Rays interacting with the interstellar gas.\n",
    "* The PAMELA and AMS-02  satellite experiments measured the positron to electron ratio to increase above 10 GeV instead of the expected decrease at higher energy."
   ]
  },
  {
   "cell_type": "markdown",
   "metadata": {},
   "source": [
    "<div align=\"center\">\n",
    "<img src=\"images/positron.png\" width=\"60%\">\n",
    "<div class=\"caption\">Source: Particle Data Group</div>\n",
    "</div>"
   ]
  },
  {
   "cell_type": "markdown",
   "metadata": {
    "slideshow": {
     "slide_type": "slide"
    }
   },
   "source": [
    "This excess might hint to to contributions from individual nearby sources (supernova remnants or pulsars) emerging above a background suppressed at high energy by synchrotron losses"
   ]
  },
  {
   "cell_type": "markdown",
   "metadata": {},
   "source": [
    "### Galactic Cosmic Rays\n",
    "\n",
    "One trivial argument to discriminate between a Galacic or extra-Galactic origin of the origin of cosmic rays is to check whether or not the larmor radius, $r_L$, of cosmic ray particles is of the order of the size of the Galaxy. As we showed, we can express the larmor radius as:\n",
    "\n",
    "$$r_L \\simeq  1 \\;{\\rm kpc} \\left(\\frac{E}{10^{18}\\;\\rm{eV}}\\right)\\left(\\frac{1}{Z}\\right)\\left(\\frac{\\mu\\rm{ G}}{B}\\right)$$\n",
    "\n",
    "and so the maximum energy to contain cosmic rays in the Galaxy is:\n",
    "\n",
    "\n",
    "$$ E < 10^{18}\\;\\rm{eV} \\left(\\frac{h}{1\\;\\rm{kpc}}\\right)\\left(\\frac{\\mu\\rm{ G}}{B}\\right)$$ \n",
    "\n",
    "There are many uncertainties in these numbers but we can assume that the size of the Galactic halo is $h \\sim 1 - 10\\; {\\rm kpc}$, and the magnetic field in the halo is about $B \\sim 0.1 - 10 \\;\\mu{\\rm G}$. Putting this number gives maximum energy of $E_{max} \\sim 10^{17} - 10^{20} \\;{\\rm eV}$. Given this result we can assume that lower energy cosmic rays come from own Galaxy, otherwise they would have escaped. \n",
    "\n"
   ]
  },
  {
   "cell_type": "markdown",
   "metadata": {
    "slideshow": {
     "slide_type": "slide"
    }
   },
   "source": [
    "### Cosmic-ray interactions\n",
    "\n",
    "Since the bluck of cosmic-ray particles are expected come from the Galaxy we can now evaluate where and how they will interact during their travel. There are two chiefly process in which a cosmic-ray particle can interact:\n",
    "\n",
    "* **Coulomb collissions:** They occur when a particle interacts with another particle via electric fields.\n",
    "    * The Coulomb cross-section for a 1 GeV particle is $10^{-30} \\; {\\rm cm}^2$.\n",
    "    * For 1 GeV cosmic-ray propating in the ISM ($n \\sim 1 \\; {\\rm cm}^{-3}$) the mean Coulomb interacion length  rate is $1/n\\sigma \\sim 324100 \\; {\\rm Mpc}$ which is much larger than the Galaxy size. Therefore **coulomb collisions can be neglected.**\n",
    "     \n",
    " * **Spallations processes:** It occurs when C, N, O, Fe nuclei impact on intestellar hydrogen. The large nuclei is broken up into smaller nuclei. A clear indication of a spallation comes precisely from the composition comparison with stellar matter."
   ]
  },
  {
   "cell_type": "code",
   "execution_count": 2,
   "metadata": {},
   "outputs": [
    {
     "name": "stdout",
     "output_type": "stream",
     "text": [
      "The interaction length for Coulomb collisions is 324100 Mpc\n"
     ]
    }
   ],
   "source": [
    "sigma = 1e-30 #in cm2\n",
    "n = 1 # in cm-3\n",
    "l = 1./(n*sigma) * 3.241e-25 # in Mpc\n",
    "print (\"The interaction length for Coulomb collisions is %.0f Mpc\" %l)"
   ]
  },
  {
   "cell_type": "markdown",
   "metadata": {},
   "source": [
    "### The interstellar medium\n",
    "\n",
    "Given the low density of the Galactic halo it is clear that the spallation processes must occur in the Galactic Disk. The Galactic Disk is mostly populated by the Interstellar Medium or ISM. It is mostly composed by Hydrogen in 3 different phases:\n",
    "\n",
    "* Molecular Gas. This phase is the more clumpsy as they gathered in molecular clouds that can reach densities of $10^{6} \\; {\\rm cm }^{-3}$ which is still very low for our atmosphere standards (14 lower). It is composed of hydrogene in molecular form, ${\\rm H}_2$, ${\\rm CO}$. Sometimes called stars nurseries they are stars forming regions. \n",
    "* Atomic Gas. Made up of neutral atomic Hydrogen (HI in astronomical nomenclature). The maps tracing the ${\\rm HI}$ that is organized in a spiral pattern, like ${\\rm H}_2$, and also its structure is quite complex, with overdensities and holes.\n",
    "\n",
    "* Ionized Gas. Is ionized Hydrogen or ${\\rm HII}$. \n",
    "\n",
    "The overall density of the ISM is $\\sim 0.1-1 \\;{\\rm cm}^{-3}$. The interstellar gas is not a an static gas, but rather is subject to a turbulent motion. "
   ]
  },
  {
   "cell_type": "markdown",
   "metadata": {},
   "source": [
    "### The Leaky Box model\n",
    "\n",
    "The *Leaky Box model* is a very simple model used to describe cosmic-ray confinement. In this simplified phenomenological picture CRs are assumed be accelerated in the galactic plane and to propagate freely within a cylindrical box of size $H$ and radius $r$ and reflected at the boundaries; the loss of particles is parametrized assuming the existence of a non-zero probability of escape for each encounter with the boundary (Poisson process). "
   ]
  },
  {
   "cell_type": "markdown",
   "metadata": {
    "slideshow": {
     "slide_type": "subslide"
    }
   },
   "source": [
    "<div align=\"center>\n",
    "<img src=\"images/leaky-box.png\" width=\"70%\">\n",
    "</div>"
   ]
  },
  {
   "cell_type": "markdown",
   "metadata": {
    "slideshow": {
     "slide_type": "slide"
    }
   },
   "source": [
    "### Primary-to-Secondary ratios\n",
    "\n",
    "Since we know the partial cross-section of spallation processes we can use the secondary-to-primary abundance ratios to infer the gas column density traversed by the average cosmic ray.\n",
    "\n",
    "\n",
    "\n",
    "\n",
    "\n",
    "Let us perform a simply estimate of the *Boron-to-Carbon ratio*. Boron is chiefly produced by Carbon and Oxygen with approximately conserved kinetic energy per nucleon (see *Superposition principle*), so we can relate the *Boron source production rate*, $Q_B(E)$ to the differential density of Carbon by this equation:\n",
    "\n",
    "$$Q_B(E) \\simeq n_{H} \\beta c \\sigma_{\\rightarrow B} N_C$$\n",
    "\n",
    "where, $n_H$ denotes the average interstellar gas number density and $N_C$ is the Carbon density and $\\beta c$ is the Carbon velocity and $\\sigma_{\\rightarrow B}$ is the spallation cross-section of Carbon into Boron.\n",
    "\n",
    "The Boron density is related to the production rate by the lifetime of Boron in the Galaxy, $\\tau$, before it escapes or losses itself energy by spallation:\n",
    "\n",
    "$$Q_B = \\dot{N}_B = \\frac{N_B}{\\tau}$$ \n",
    "\n",
    "where we used $\\dot{N}_B = \\frac{N_B}{\\tau}$ assuming a constant per unit time lifetime (see next Leaky Box model). So we can write:\n",
    "\n",
    "\n",
    "$$\\frac{N_B}{N_C} \\simeq n_{H} \\beta c \\sigma_{\\rightarrow B}\\tau$$\n",
    "\n"
   ]
  },
  {
   "cell_type": "markdown",
   "metadata": {},
   "source": [
    "### Boron-to-Carbon ratio\n",
    "\n",
    "The plot below represents the 2014 measurements from PAMELA and AMS satellites of the Boron-to-Carbon ratio. The decrease in energy of the Boron-to-Carbon ratio suggests that high energy CR spend less time than the low energy ones in the Galaxy before escaping. "
   ]
  },
  {
   "cell_type": "markdown",
   "metadata": {},
   "source": [
    "<div align=\"center\">\n",
    "<img src=\"images/boron-carbon.png\" width=\"60%\">\n",
    "</div>"
   ]
  },
  {
   "cell_type": "markdown",
   "metadata": {},
   "source": [
    "### Tutorial I:  Fit the B/C spectrum of AMS-02 data"
   ]
  },
  {
   "cell_type": "markdown",
   "metadata": {
    "slideshow": {
     "slide_type": "subslide"
    }
   },
   "source": [
    "\n",
    "\n",
    "We are going to retrive the data and fit it. We are going to use python to download the data"
   ]
  },
  {
   "cell_type": "code",
   "execution_count": 3,
   "metadata": {
    "collapsed": true
   },
   "outputs": [],
   "source": [
    "%matplotlib inline\n",
    "import numpy as np\n",
    "import matplotlib.pylab as plt\n",
    "from IPython.display import Latex\n",
    "\n",
    "plt.style.use(\"seaborn-notebook\")\n",
    "\n",
    "%config InlineBackend.figure_format = 'svg'"
   ]
  },
  {
   "cell_type": "code",
   "execution_count": 4,
   "metadata": {
    "collapsed": true
   },
   "outputs": [],
   "source": [
    "#We are going to use the cosmic-ray-database: https://lpsc.in2p3.fr/cosmic-rays-db/#\n",
    "#See  Maurin, Melot, Taillet, A&A 569, A32 (2014) [arxiv.org/abs/1302.5525].\n",
    "\n",
    "import urllib\n",
    "\n",
    "#url = \"http://lpsc.in2p3.fr/cosmic-rays-db/rest.php?num=B&den=C&energy_type=EKN&experiment=AMS02\"\n",
    "#f = urllib.urlopen(url)\n",
    "\n",
    "#E, Emin, Emax, y, ymin, ymax = np.loadtxt(f, usecols = (3, 4,5, 6, 7,8), unpack=True)\n",
    "\n",
    "#Alternatively we can use the file on the github repo\n",
    "#data = np.loadtxt(\"carbon-boron-AMS02.dat\", unpack=True)\n"
   ]
  },
  {
   "cell_type": "markdown",
   "metadata": {},
   "source": [
    "We are going to log-log in linear space and make the fit with a linear function"
   ]
  },
  {
   "cell_type": "code",
   "execution_count": 5,
   "metadata": {},
   "outputs": [
    {
     "ename": "NameError",
     "evalue": "name 'E' is not defined",
     "output_type": "error",
     "traceback": [
      "\u001b[0;31m---------------------------------------------------------------------------\u001b[0m",
      "\u001b[0;31mNameError\u001b[0m                                 Traceback (most recent call last)",
      "\u001b[0;32m/var/folders/lx/66msvxgn7jbds1ygvq14q5z00000gn/T/ipykernel_4964/3344645113.py\u001b[0m in \u001b[0;36m<module>\u001b[0;34m\u001b[0m\n\u001b[1;32m      3\u001b[0m \u001b[0;34m\u001b[0m\u001b[0m\n\u001b[1;32m      4\u001b[0m \u001b[0;31m#For the sake of the argument we will ignore the errors\u001b[0m\u001b[0;34m\u001b[0m\u001b[0;34m\u001b[0m\u001b[0m\n\u001b[0;32m----> 5\u001b[0;31m \u001b[0mxlog\u001b[0m \u001b[0;34m=\u001b[0m \u001b[0mnp\u001b[0m\u001b[0;34m.\u001b[0m\u001b[0mlog10\u001b[0m\u001b[0;34m(\u001b[0m\u001b[0mE\u001b[0m\u001b[0;34m)\u001b[0m\u001b[0;34m\u001b[0m\u001b[0;34m\u001b[0m\u001b[0m\n\u001b[0m\u001b[1;32m      6\u001b[0m \u001b[0mylog\u001b[0m \u001b[0;34m=\u001b[0m \u001b[0mnp\u001b[0m\u001b[0;34m.\u001b[0m\u001b[0mlog10\u001b[0m\u001b[0;34m(\u001b[0m\u001b[0my\u001b[0m\u001b[0;34m)\u001b[0m\u001b[0;34m\u001b[0m\u001b[0;34m\u001b[0m\u001b[0m\n\u001b[1;32m      7\u001b[0m \u001b[0;34m\u001b[0m\u001b[0m\n",
      "\u001b[0;31mNameError\u001b[0m: name 'E' is not defined"
     ]
    },
    {
     "data": {
      "image/svg+xml": "<?xml version=\"1.0\" encoding=\"utf-8\" standalone=\"no\"?>\n<!DOCTYPE svg PUBLIC \"-//W3C//DTD SVG 1.1//EN\"\n  \"http://www.w3.org/Graphics/SVG/1.1/DTD/svg11.dtd\">\n<svg height=\"201.457344pt\" version=\"1.1\" viewBox=\"0 0 439.354688 201.457344\" width=\"439.354688pt\" xmlns=\"http://www.w3.org/2000/svg\" xmlns:xlink=\"http://www.w3.org/1999/xlink\">\n <metadata>\n  <rdf:RDF xmlns:cc=\"http://creativecommons.org/ns#\" xmlns:dc=\"http://purl.org/dc/elements/1.1/\" xmlns:rdf=\"http://www.w3.org/1999/02/22-rdf-syntax-ns#\">\n   <cc:Work>\n    <dc:type rdf:resource=\"http://purl.org/dc/dcmitype/StillImage\"/>\n    <dc:date>2022-03-09T17:38:57.358882</dc:date>\n    <dc:format>image/svg+xml</dc:format>\n    <dc:creator>\n     <cc:Agent>\n      <dc:title>Matplotlib v3.4.2, https://matplotlib.org/</dc:title>\n     </cc:Agent>\n    </dc:creator>\n   </cc:Work>\n  </rdf:RDF>\n </metadata>\n <defs>\n  <style type=\"text/css\">*{stroke-linecap:butt;stroke-linejoin:round;}</style>\n </defs>\n <g id=\"figure_1\">\n  <g id=\"patch_1\">\n   <path d=\"M 0 201.457344 \nL 439.354688 201.457344 \nL 439.354688 0 \nL 0 0 \nz\n\" style=\"fill:none;\"/>\n  </g>\n  <g id=\"axes_1\">\n   <g id=\"patch_2\">\n    <path d=\"M 33.603125 174.079219 \nL 424.203125 174.079219 \nL 424.203125 10.999219 \nL 33.603125 10.999219 \nz\n\" style=\"fill:#ffffff;\"/>\n   </g>\n   <g id=\"matplotlib.axis_1\">\n    <g id=\"xtick_1\">\n     <g id=\"line2d_1\">\n      <defs>\n       <path d=\"M 0 0 \nL 0 3.5 \n\" id=\"m6b85d59b87\" style=\"stroke:#000000;\"/>\n      </defs>\n      <g>\n       <use style=\"stroke:#000000;\" x=\"33.603125\" xlink:href=\"#m6b85d59b87\" y=\"174.079219\"/>\n      </g>\n     </g>\n     <g id=\"text_1\">\n      <!-- 0.0 -->\n      <g transform=\"translate(25.651563 192.177656)scale(0.1 -0.1)\">\n       <defs>\n        <path d=\"M 2034 4250 \nQ 1547 4250 1301 3770 \nQ 1056 3291 1056 2328 \nQ 1056 1369 1301 889 \nQ 1547 409 2034 409 \nQ 2525 409 2770 889 \nQ 3016 1369 3016 2328 \nQ 3016 3291 2770 3770 \nQ 2525 4250 2034 4250 \nz\nM 2034 4750 \nQ 2819 4750 3233 4129 \nQ 3647 3509 3647 2328 \nQ 3647 1150 3233 529 \nQ 2819 -91 2034 -91 \nQ 1250 -91 836 529 \nQ 422 1150 422 2328 \nQ 422 3509 836 4129 \nQ 1250 4750 2034 4750 \nz\n\" id=\"DejaVuSans-30\" transform=\"scale(0.015625)\"/>\n        <path d=\"M 684 794 \nL 1344 794 \nL 1344 0 \nL 684 0 \nL 684 794 \nz\n\" id=\"DejaVuSans-2e\" transform=\"scale(0.015625)\"/>\n       </defs>\n       <use xlink:href=\"#DejaVuSans-30\"/>\n       <use x=\"63.623047\" xlink:href=\"#DejaVuSans-2e\"/>\n       <use x=\"95.410156\" xlink:href=\"#DejaVuSans-30\"/>\n      </g>\n     </g>\n    </g>\n    <g id=\"xtick_2\">\n     <g id=\"line2d_2\">\n      <g>\n       <use style=\"stroke:#000000;\" x=\"111.723125\" xlink:href=\"#m6b85d59b87\" y=\"174.079219\"/>\n      </g>\n     </g>\n     <g id=\"text_2\">\n      <!-- 0.2 -->\n      <g transform=\"translate(103.771563 192.177656)scale(0.1 -0.1)\">\n       <defs>\n        <path d=\"M 1228 531 \nL 3431 531 \nL 3431 0 \nL 469 0 \nL 469 531 \nQ 828 903 1448 1529 \nQ 2069 2156 2228 2338 \nQ 2531 2678 2651 2914 \nQ 2772 3150 2772 3378 \nQ 2772 3750 2511 3984 \nQ 2250 4219 1831 4219 \nQ 1534 4219 1204 4116 \nQ 875 4013 500 3803 \nL 500 4441 \nQ 881 4594 1212 4672 \nQ 1544 4750 1819 4750 \nQ 2544 4750 2975 4387 \nQ 3406 4025 3406 3419 \nQ 3406 3131 3298 2873 \nQ 3191 2616 2906 2266 \nQ 2828 2175 2409 1742 \nQ 1991 1309 1228 531 \nz\n\" id=\"DejaVuSans-32\" transform=\"scale(0.015625)\"/>\n       </defs>\n       <use xlink:href=\"#DejaVuSans-30\"/>\n       <use x=\"63.623047\" xlink:href=\"#DejaVuSans-2e\"/>\n       <use x=\"95.410156\" xlink:href=\"#DejaVuSans-32\"/>\n      </g>\n     </g>\n    </g>\n    <g id=\"xtick_3\">\n     <g id=\"line2d_3\">\n      <g>\n       <use style=\"stroke:#000000;\" x=\"189.843125\" xlink:href=\"#m6b85d59b87\" y=\"174.079219\"/>\n      </g>\n     </g>\n     <g id=\"text_3\">\n      <!-- 0.4 -->\n      <g transform=\"translate(181.891563 192.177656)scale(0.1 -0.1)\">\n       <defs>\n        <path d=\"M 2419 4116 \nL 825 1625 \nL 2419 1625 \nL 2419 4116 \nz\nM 2253 4666 \nL 3047 4666 \nL 3047 1625 \nL 3713 1625 \nL 3713 1100 \nL 3047 1100 \nL 3047 0 \nL 2419 0 \nL 2419 1100 \nL 313 1100 \nL 313 1709 \nL 2253 4666 \nz\n\" id=\"DejaVuSans-34\" transform=\"scale(0.015625)\"/>\n       </defs>\n       <use xlink:href=\"#DejaVuSans-30\"/>\n       <use x=\"63.623047\" xlink:href=\"#DejaVuSans-2e\"/>\n       <use x=\"95.410156\" xlink:href=\"#DejaVuSans-34\"/>\n      </g>\n     </g>\n    </g>\n    <g id=\"xtick_4\">\n     <g id=\"line2d_4\">\n      <g>\n       <use style=\"stroke:#000000;\" x=\"267.963125\" xlink:href=\"#m6b85d59b87\" y=\"174.079219\"/>\n      </g>\n     </g>\n     <g id=\"text_4\">\n      <!-- 0.6 -->\n      <g transform=\"translate(260.011563 192.177656)scale(0.1 -0.1)\">\n       <defs>\n        <path d=\"M 2113 2584 \nQ 1688 2584 1439 2293 \nQ 1191 2003 1191 1497 \nQ 1191 994 1439 701 \nQ 1688 409 2113 409 \nQ 2538 409 2786 701 \nQ 3034 994 3034 1497 \nQ 3034 2003 2786 2293 \nQ 2538 2584 2113 2584 \nz\nM 3366 4563 \nL 3366 3988 \nQ 3128 4100 2886 4159 \nQ 2644 4219 2406 4219 \nQ 1781 4219 1451 3797 \nQ 1122 3375 1075 2522 \nQ 1259 2794 1537 2939 \nQ 1816 3084 2150 3084 \nQ 2853 3084 3261 2657 \nQ 3669 2231 3669 1497 \nQ 3669 778 3244 343 \nQ 2819 -91 2113 -91 \nQ 1303 -91 875 529 \nQ 447 1150 447 2328 \nQ 447 3434 972 4092 \nQ 1497 4750 2381 4750 \nQ 2619 4750 2861 4703 \nQ 3103 4656 3366 4563 \nz\n\" id=\"DejaVuSans-36\" transform=\"scale(0.015625)\"/>\n       </defs>\n       <use xlink:href=\"#DejaVuSans-30\"/>\n       <use x=\"63.623047\" xlink:href=\"#DejaVuSans-2e\"/>\n       <use x=\"95.410156\" xlink:href=\"#DejaVuSans-36\"/>\n      </g>\n     </g>\n    </g>\n    <g id=\"xtick_5\">\n     <g id=\"line2d_5\">\n      <g>\n       <use style=\"stroke:#000000;\" x=\"346.083125\" xlink:href=\"#m6b85d59b87\" y=\"174.079219\"/>\n      </g>\n     </g>\n     <g id=\"text_5\">\n      <!-- 0.8 -->\n      <g transform=\"translate(338.131562 192.177656)scale(0.1 -0.1)\">\n       <defs>\n        <path d=\"M 2034 2216 \nQ 1584 2216 1326 1975 \nQ 1069 1734 1069 1313 \nQ 1069 891 1326 650 \nQ 1584 409 2034 409 \nQ 2484 409 2743 651 \nQ 3003 894 3003 1313 \nQ 3003 1734 2745 1975 \nQ 2488 2216 2034 2216 \nz\nM 1403 2484 \nQ 997 2584 770 2862 \nQ 544 3141 544 3541 \nQ 544 4100 942 4425 \nQ 1341 4750 2034 4750 \nQ 2731 4750 3128 4425 \nQ 3525 4100 3525 3541 \nQ 3525 3141 3298 2862 \nQ 3072 2584 2669 2484 \nQ 3125 2378 3379 2068 \nQ 3634 1759 3634 1313 \nQ 3634 634 3220 271 \nQ 2806 -91 2034 -91 \nQ 1263 -91 848 271 \nQ 434 634 434 1313 \nQ 434 1759 690 2068 \nQ 947 2378 1403 2484 \nz\nM 1172 3481 \nQ 1172 3119 1398 2916 \nQ 1625 2713 2034 2713 \nQ 2441 2713 2670 2916 \nQ 2900 3119 2900 3481 \nQ 2900 3844 2670 4047 \nQ 2441 4250 2034 4250 \nQ 1625 4250 1398 4047 \nQ 1172 3844 1172 3481 \nz\n\" id=\"DejaVuSans-38\" transform=\"scale(0.015625)\"/>\n       </defs>\n       <use xlink:href=\"#DejaVuSans-30\"/>\n       <use x=\"63.623047\" xlink:href=\"#DejaVuSans-2e\"/>\n       <use x=\"95.410156\" xlink:href=\"#DejaVuSans-38\"/>\n      </g>\n     </g>\n    </g>\n    <g id=\"xtick_6\">\n     <g id=\"line2d_6\">\n      <g>\n       <use style=\"stroke:#000000;\" x=\"424.203125\" xlink:href=\"#m6b85d59b87\" y=\"174.079219\"/>\n      </g>\n     </g>\n     <g id=\"text_6\">\n      <!-- 1.0 -->\n      <g transform=\"translate(416.251562 192.177656)scale(0.1 -0.1)\">\n       <defs>\n        <path d=\"M 794 531 \nL 1825 531 \nL 1825 4091 \nL 703 3866 \nL 703 4441 \nL 1819 4666 \nL 2450 4666 \nL 2450 531 \nL 3481 531 \nL 3481 0 \nL 794 0 \nL 794 531 \nz\n\" id=\"DejaVuSans-31\" transform=\"scale(0.015625)\"/>\n       </defs>\n       <use xlink:href=\"#DejaVuSans-31\"/>\n       <use x=\"63.623047\" xlink:href=\"#DejaVuSans-2e\"/>\n       <use x=\"95.410156\" xlink:href=\"#DejaVuSans-30\"/>\n      </g>\n     </g>\n    </g>\n   </g>\n   <g id=\"matplotlib.axis_2\">\n    <g id=\"ytick_1\">\n     <g id=\"line2d_7\">\n      <defs>\n       <path d=\"M 0 0 \nL -3.5 0 \n\" id=\"mef6f3227f8\" style=\"stroke:#000000;\"/>\n      </defs>\n      <g>\n       <use style=\"stroke:#000000;\" x=\"33.603125\" xlink:href=\"#mef6f3227f8\" y=\"174.079219\"/>\n      </g>\n     </g>\n     <g id=\"text_7\">\n      <!-- 0.0 -->\n      <g transform=\"translate(7.2 177.878438)scale(0.1 -0.1)\">\n       <use xlink:href=\"#DejaVuSans-30\"/>\n       <use x=\"63.623047\" xlink:href=\"#DejaVuSans-2e\"/>\n       <use x=\"95.410156\" xlink:href=\"#DejaVuSans-30\"/>\n      </g>\n     </g>\n    </g>\n    <g id=\"ytick_2\">\n     <g id=\"line2d_8\">\n      <g>\n       <use style=\"stroke:#000000;\" x=\"33.603125\" xlink:href=\"#mef6f3227f8\" y=\"141.463219\"/>\n      </g>\n     </g>\n     <g id=\"text_8\">\n      <!-- 0.2 -->\n      <g transform=\"translate(7.2 145.262438)scale(0.1 -0.1)\">\n       <use xlink:href=\"#DejaVuSans-30\"/>\n       <use x=\"63.623047\" xlink:href=\"#DejaVuSans-2e\"/>\n       <use x=\"95.410156\" xlink:href=\"#DejaVuSans-32\"/>\n      </g>\n     </g>\n    </g>\n    <g id=\"ytick_3\">\n     <g id=\"line2d_9\">\n      <g>\n       <use style=\"stroke:#000000;\" x=\"33.603125\" xlink:href=\"#mef6f3227f8\" y=\"108.847219\"/>\n      </g>\n     </g>\n     <g id=\"text_9\">\n      <!-- 0.4 -->\n      <g transform=\"translate(7.2 112.646437)scale(0.1 -0.1)\">\n       <use xlink:href=\"#DejaVuSans-30\"/>\n       <use x=\"63.623047\" xlink:href=\"#DejaVuSans-2e\"/>\n       <use x=\"95.410156\" xlink:href=\"#DejaVuSans-34\"/>\n      </g>\n     </g>\n    </g>\n    <g id=\"ytick_4\">\n     <g id=\"line2d_10\">\n      <g>\n       <use style=\"stroke:#000000;\" x=\"33.603125\" xlink:href=\"#mef6f3227f8\" y=\"76.231219\"/>\n      </g>\n     </g>\n     <g id=\"text_10\">\n      <!-- 0.6 -->\n      <g transform=\"translate(7.2 80.030437)scale(0.1 -0.1)\">\n       <use xlink:href=\"#DejaVuSans-30\"/>\n       <use x=\"63.623047\" xlink:href=\"#DejaVuSans-2e\"/>\n       <use x=\"95.410156\" xlink:href=\"#DejaVuSans-36\"/>\n      </g>\n     </g>\n    </g>\n    <g id=\"ytick_5\">\n     <g id=\"line2d_11\">\n      <g>\n       <use style=\"stroke:#000000;\" x=\"33.603125\" xlink:href=\"#mef6f3227f8\" y=\"43.615219\"/>\n      </g>\n     </g>\n     <g id=\"text_11\">\n      <!-- 0.8 -->\n      <g transform=\"translate(7.2 47.414437)scale(0.1 -0.1)\">\n       <use xlink:href=\"#DejaVuSans-30\"/>\n       <use x=\"63.623047\" xlink:href=\"#DejaVuSans-2e\"/>\n       <use x=\"95.410156\" xlink:href=\"#DejaVuSans-38\"/>\n      </g>\n     </g>\n    </g>\n    <g id=\"ytick_6\">\n     <g id=\"line2d_12\">\n      <g>\n       <use style=\"stroke:#000000;\" x=\"33.603125\" xlink:href=\"#mef6f3227f8\" y=\"10.999219\"/>\n      </g>\n     </g>\n     <g id=\"text_12\">\n      <!-- 1.0 -->\n      <g transform=\"translate(7.2 14.798437)scale(0.1 -0.1)\">\n       <use xlink:href=\"#DejaVuSans-31\"/>\n       <use x=\"63.623047\" xlink:href=\"#DejaVuSans-2e\"/>\n       <use x=\"95.410156\" xlink:href=\"#DejaVuSans-30\"/>\n      </g>\n     </g>\n    </g>\n   </g>\n   <g id=\"patch_3\">\n    <path d=\"M 33.603125 174.079219 \nL 33.603125 10.999219 \n\" style=\"fill:none;stroke:#000000;stroke-linecap:square;stroke-linejoin:miter;stroke-width:0.8;\"/>\n   </g>\n   <g id=\"patch_4\">\n    <path d=\"M 424.203125 174.079219 \nL 424.203125 10.999219 \n\" style=\"fill:none;stroke:#000000;stroke-linecap:square;stroke-linejoin:miter;stroke-width:0.8;\"/>\n   </g>\n   <g id=\"patch_5\">\n    <path d=\"M 33.603125 174.079219 \nL 424.203125 174.079219 \n\" style=\"fill:none;stroke:#000000;stroke-linecap:square;stroke-linejoin:miter;stroke-width:0.8;\"/>\n   </g>\n   <g id=\"patch_6\">\n    <path d=\"M 33.603125 10.999219 \nL 424.203125 10.999219 \n\" style=\"fill:none;stroke:#000000;stroke-linecap:square;stroke-linejoin:miter;stroke-width:0.8;\"/>\n   </g>\n  </g>\n </g>\n</svg>\n",
      "text/plain": [
       "<Figure size 504x216 with 1 Axes>"
      ]
     },
     "metadata": {
      "needs_background": "light"
     },
     "output_type": "display_data"
    }
   ],
   "source": [
    "fig = plt.figure(figsize=(7,3))\n",
    "ax = plt.subplot(111)\n",
    "\n",
    "#For the sake of the argument we will ignore the errors\n",
    "xlog = np.log10(E)\n",
    "ylog = np.log10(y)\n",
    "\n",
    "ax.plot(xlog, ylog, 'o', ms=5)\n",
    "ax.set_ylabel(\"$\\log_{10}(B/C)$\")\n",
    "ax.set_xlabel(r\"$\\log_{10}(E_{kin}/n [{\\rm GeV}])$\")\n",
    "ax.grid()\n",
    "def func(x, a, b):\n",
    "    return a  + b *x\n",
    "\n",
    "from scipy.optimize import curve_fit\n",
    "#We only fit in the linear part, ie when E > 10 GeV\n",
    "popt, pcov = curve_fit(func, xlog[np.where(xlog > 1)], ylog[np.where(xlog > 1)])\n",
    "\n",
    "xgrid = np.linspace(1, 3, 100)\n",
    "\n",
    "ax.plot(xgrid, func(xgrid, popt[0], popt[1]),  linewidth=2)\n",
    "ax.set_xlim(-0.5,3.5)\n",
    "ax.set_ylim(-1.5,-0.2)\n",
    "p1 = np.round(10**popt[0],2)\n",
    "p2 = np.round(popt[1],3)\n",
    "\n",
    "Latex(r\"The values are $\\alpha$ = %.2f, and $\\beta$ = %.2f\" %(p1, p2))"
   ]
  },
  {
   "cell_type": "markdown",
   "metadata": {},
   "source": [
    "Above about 10 GeV/nucleon the **experimental data** can be fitted to a test function, therefore the Boron-to-Carbon ratio can be expressed as:\n",
    "\n",
    "$$\\frac{N_B}{N_C} = n_{H}\\beta c \\sigma_{f,B} \\tau  =0.4 \\left(\\frac{E}{\\rm{GeV}}\\right)^{-0.3}$$\n",
    "\n",
    "For energies above 10 GeV/nucleon we can approximate $\\beta \\sim 1$, which leads, using the values of the cross-section, to a life time gas density of:\n",
    "\n",
    "$$ n_H \\tau \\simeq 10^{14}\\left(\\frac{E}{\\rm{GeV}}\\right)^{-0.3} \\; \\rm{s}\\;\\rm{cm}^{-3} $$"
   ]
  },
  {
   "cell_type": "markdown",
   "metadata": {},
   "source": [
    "#### Boron Lifetime\n",
    "\n",
    "But what is this Boron lifetime? The lifetime $\\tau$ for Boron includes the **catastrophic loss** time due to the partial fragmentation of Boron, $\\tau_{f,B}$ and the **escape probability** from the Galactic confinement volume, $T_{esc}$. The fragmentation cross section is $\\sigma_{f,B} \\approx 250$ mbarn so we find that:"
   ]
  },
  {
   "cell_type": "code",
   "execution_count": 6,
   "metadata": {},
   "outputs": [
    {
     "data": {
      "text/latex": [
       "The boron lifetime is approx: 1.33e+14 $\\;{\\rm s \\; cm^{-3}}$"
      ],
      "text/plain": [
       "<IPython.core.display.Latex object>"
      ]
     },
     "execution_count": 6,
     "metadata": {},
     "output_type": "execute_result"
    }
   ],
   "source": [
    "Latex(r\"The boron lifetime is approx: %.2e $\\;{\\rm s \\; cm^{-3}}$\" %(1/0.250/1e-24/2.998e+10))"
   ]
  },
  {
   "cell_type": "markdown",
   "metadata": {},
   "source": [
    "$$n_H \\tau_{f,B} = \\frac{n_H}{n_H \\beta c \\sigma_{f,B}} \\simeq 1.33 \\times 10^{14}\\; \\rm{s}\\;\\rm{cm}^{-3} $$\n",
    "\n",
    "which is a good match with the loss time bound at $\\sim$ 1 GeV but is larger at higher energies and does not depend on energy. For example at 1 TeV it is an order of magnitude larger:\n",
    "\n",
    "$$ n_H\\tau(1\\; \\rm{TeV}) \\simeq 10^{14} 1000^{-0.3} \\sim 1.3 \\times 10^{13} \\rm{s\\;cm}^{-3}$$"
   ]
  },
  {
   "cell_type": "markdown",
   "metadata": {
    "slideshow": {
     "slide_type": "skip"
    }
   },
   "source": [
    "#### Borom escape\n",
    "\n",
    "It could be that Borom escape the leaky box, but that time will be $\\tau_{esc} = \\frac{H}{c}$ which will be roughly:\n",
    "\n",
    "$$\\tau_{esc} = \\frac{300\\;{\\rm pc}}{c} \\simeq 3\\times 10^{10}\\; {\\rm s} $$\n",
    "\n",
    "\n",
    "which is too small compared to the effective lifetime found. This seems to indicate that CR do not travel in straight lines. Let's assume that the overall process is a convination of both the borom fragmentation and another process with a lifetime $T$. By summing the inverse of these processes (being exponential processes):\n",
    "\n",
    "$$\\tau^{-1} =  n_H \\beta c \\sigma_{f,B} + T^{-1}$$\n",
    "\n",
    "and solving for $T$ we have that:\n",
    "\n",
    "$$n_H T = \\frac{n_H}{\\frac{1}{\\tau} - \\frac{1}{\\tau_{f,B}}} \\simeq \\frac{10^{14} \\; \\rm{s}\\;\\rm{cm}^{-3}}{\\left(\\frac{E}{\\rm{GeV}}\\right)^{-0.3} -0.7} \\simeq 10^{14}\\left(\\frac{E}{\\rm{GeV}}\\right)^{-0.55} \\rm{s}\\;\\rm{cm}^{-3}$$\n",
    "\n",
    "There no other physical loss process for Boron, so $T$ really must be the escape of the galactic confinement (leaky box). But if the box has a size $H$, $T_{esc}$ will be H/c which is the time required by CR generated in the Galactic plane to escape the box of height $H$! However we know that $T \\gg H/c$. So there must be something else confining the CR in the galaxy... what could it be?"
   ]
  },
  {
   "cell_type": "markdown",
   "metadata": {
    "slideshow": {
     "slide_type": "slide"
    }
   },
   "source": [
    "### Dynamic of charge particles in magnetic fields.\n",
    "\n",
    "Before solving the problem what process in the Galaxy is confining the cosmic-rays, let's review a bit the dynamics of charge particles in magnetic fields. \n",
    "\n",
    "Let's assume the simplest case of a test particle or mass $m_0$ and charge $Ze$ and lorentz factor $\\gamma$ in an uniform static magnetic field, ${\\mathbf B}$.\n",
    "\n",
    "$$\\frac{d}{dt}(\\gamma m_0 {\\mathbf v}) = Ze ( {\\mathbf v} \\times {\\mathbf B})$$\n",
    "\n",
    "knowing the expression of $\\gamma$ we derive this:\n",
    "\n",
    "$$\n",
    "m_0\\frac{d}{dt}(\\gamma \\mathbf{v}) = m_0\\gamma\\frac{d {\\mathbf v}}{dt} + m_0\\gamma^3 {\\mathbf v}\\frac{ \\mathbf{v} \\cdot {\\mathbf a}}{c^2}$$\n",
    "\n",
    "In a magnetic field the acceleration is always perpendicular to ${\\mathbf v}$ so ${\\mathbf v\\cdot a} = 0$ resulting in:\n",
    "\n",
    "$$m_0\\gamma\\frac{d{\\mathbf v}}{dt} =  Ze ( {\\mathbf v} \\times {\\mathbf B})$$\n",
    "\n",
    "This equation tell us that there is no change in the $v_{\\parallel}$ the parallel component of the velocity and the aceleration is only perpendicular to the magnetic field direction, $v_{\\perp}$. Beacuse ${\\mathbf B}$ is constant this results in a spiral motion around the magnetic field. Now we are going to test what happens if the magnetic field is not uniform."
   ]
  },
  {
   "cell_type": "markdown",
   "metadata": {
    "slideshow": {
     "slide_type": "subslide"
    }
   },
   "source": [
    "### Tutorial II:  Motion of a charge particle in a slowly changing magnetic field"
   ]
  },
  {
   "cell_type": "code",
   "execution_count": 7,
   "metadata": {
    "slideshow": {
     "slide_type": "-"
    }
   },
   "outputs": [
    {
     "name": "stdout",
     "output_type": "stream",
     "text": [
      "Number of elements in t array:  20000\n"
     ]
    }
   ],
   "source": [
    "from mpl_toolkits.mplot3d import Axes3D\n",
    "\n",
    "q = 1.0\n",
    "m = 10.0\n",
    "dt = 1e-3\n",
    "t0 = 0\n",
    "t1 = 10\n",
    "t2 = 20\n",
    "\n",
    "\n",
    "t = np.linspace(t0, t2, int((t2 - t0)/dt))\n",
    "n = len(t)\n",
    "print (\"Number of elements in t array: \", n)\n",
    "\n",
    "r = np.zeros((n,3))\n",
    "v = np.zeros((n,3))\n",
    "\n",
    "#Initial conditions\n",
    "\n",
    "r[0] = [0.0, 0.0, 0.0]\n",
    "v[0] = [2.0, 0.0, 3.0]\n",
    "\n",
    "#B = array([0.0, 0.0, 5.0])\n",
    "\n",
    "B = np.zeros((n,3))\n",
    "B[0] = np.array([0.0, 0.0, 4.0])\n",
    "dB = np.array([0.0, 0.0, 5e-3])\n",
    "for i in range(n-1):\n",
    "    a   = q/m* np.cross(v[i],B[i]) \n",
    "    v[i+1] = v[i] + a*dt\n",
    "    r[i+1] = r[i] + v[i+1]*dt\n",
    "    B[i+1] = B[i] + dB"
   ]
  },
  {
   "cell_type": "code",
   "execution_count": 8,
   "metadata": {
    "slideshow": {
     "slide_type": "subslide"
    }
   },
   "outputs": [
    {
     "data": {
      "image/svg+xml": "<?xml version=\"1.0\" encoding=\"utf-8\" standalone=\"no\"?>\n<!DOCTYPE svg PUBLIC \"-//W3C//DTD SVG 1.1//EN\"\n  \"http://www.w3.org/Graphics/SVG/1.1/DTD/svg11.dtd\">\n<svg height=\"449.28pt\" version=\"1.1\" viewBox=\"0 0 468.710224 449.28\" width=\"468.710224pt\" xmlns=\"http://www.w3.org/2000/svg\" xmlns:xlink=\"http://www.w3.org/1999/xlink\">\n <metadata>\n  <rdf:RDF xmlns:cc=\"http://creativecommons.org/ns#\" xmlns:dc=\"http://purl.org/dc/elements/1.1/\" xmlns:rdf=\"http://www.w3.org/1999/02/22-rdf-syntax-ns#\">\n   <cc:Work>\n    <dc:type rdf:resource=\"http://purl.org/dc/dcmitype/StillImage\"/>\n    <dc:date>2022-03-09T17:39:04.677112</dc:date>\n    <dc:format>image/svg+xml</dc:format>\n    <dc:creator>\n     <cc:Agent>\n      <dc:title>Matplotlib v3.4.2, https://matplotlib.org/</dc:title>\n     </cc:Agent>\n    </dc:creator>\n   </cc:Work>\n  </rdf:RDF>\n </metadata>\n <defs>\n  <style type=\"text/css\">*{stroke-linecap:butt;stroke-linejoin:round;}</style>\n </defs>\n <g id=\"figure_1\">\n  <g id=\"patch_1\">\n   <path d=\"M 0 449.28 \nL 468.710224 449.28 \nL 468.710224 0 \nL 0 0 \nz\n\" style=\"fill:none;\"/>\n  </g>\n  <g id=\"patch_2\">\n   <path d=\"M 7.2 442.08 \nL 442.08 442.08 \nL 442.08 7.2 \nL 7.2 7.2 \nz\n\" style=\"fill:#ffffff;\"/>\n  </g>\n  <g id=\"pane3d_1\">\n   <g id=\"patch_3\">\n    <path d=\"M 40.036439 334.852529 \nL 183.648018 214.474456 \nL 181.651679 40.867756 \nL 31.167546 150.684222 \n\" style=\"fill:#f2f2f2;opacity:0.5;stroke:#f2f2f2;stroke-linejoin:miter;stroke-width:0.3;\"/>\n   </g>\n  </g>\n  <g id=\"pane3d_2\">\n   <g id=\"patch_4\">\n    <path d=\"M 183.648018 214.474456 \nL 414.09336 281.455819 \nL 422.317142 101.869435 \nL 181.651679 40.867756 \n\" style=\"fill:#e6e6e6;opacity:0.5;stroke:#e6e6e6;stroke-linejoin:miter;stroke-width:0.3;\"/>\n   </g>\n  </g>\n  <g id=\"pane3d_3\">\n   <g id=\"patch_5\">\n    <path d=\"M 40.036439 334.852529 \nL 284.319758 414.63546 \nL 414.09336 281.455819 \nL 183.648018 214.474456 \n\" style=\"fill:#ececec;opacity:0.5;stroke:#ececec;stroke-linejoin:miter;stroke-width:0.3;\"/>\n   </g>\n  </g>\n  <g id=\"axis3d_1\">\n   <g id=\"line2d_1\">\n    <path d=\"M 40.036439 334.852529 \nL 284.319758 414.63546 \n\" style=\"fill:none;stroke:#000000;stroke-linecap:square;stroke-width:0.8;\"/>\n   </g>\n   <g id=\"text_1\">\n    <!-- $x$ -->\n    <g transform=\"translate(139.418958 411.886366)scale(0.11 -0.11)\">\n     <defs>\n      <path d=\"M 3841 3500 \nL 2234 1784 \nL 3219 0 \nL 2559 0 \nL 1819 1388 \nL 531 0 \nL -166 0 \nL 1556 1844 \nL 641 3500 \nL 1300 3500 \nL 1972 2234 \nL 3144 3500 \nL 3841 3500 \nz\n\" id=\"DejaVuSans-Oblique-78\" transform=\"scale(0.015625)\"/>\n     </defs>\n     <use transform=\"translate(0 0.3125)\" xlink:href=\"#DejaVuSans-Oblique-78\"/>\n    </g>\n   </g>\n   <g id=\"Line3DCollection_1\">\n    <path d=\"M 54.831519 339.684602 \nL 197.662998 218.548057 \nL 196.259223 44.570342 \n\" style=\"fill:none;stroke:#b0b0b0;\"/>\n    <path d=\"M 93.704274 352.380444 \nL 234.45035 229.240688 \nL 234.619806 54.293632 \n\" style=\"fill:none;stroke:#b0b0b0;\"/>\n    <path d=\"M 133.250594 365.296272 \nL 271.822063 240.10317 \nL 273.616208 64.178083 \n\" style=\"fill:none;stroke:#b0b0b0;\"/>\n    <path d=\"M 173.488139 378.437854 \nL 309.792171 251.139581 \nL 313.264368 74.227736 \n\" style=\"fill:none;stroke:#b0b0b0;\"/>\n    <path d=\"M 214.435191 391.811161 \nL 348.375162 262.354134 \nL 353.580763 84.446767 \n\" style=\"fill:none;stroke:#b0b0b0;\"/>\n    <path d=\"M 256.110683 405.422376 \nL 387.585997 273.751175 \nL 394.582432 94.839495 \n\" style=\"fill:none;stroke:#b0b0b0;\"/>\n   </g>\n   <g id=\"xtick_1\">\n    <g id=\"line2d_2\">\n     <path d=\"M 56.075287 338.629752 \nL 52.338645 341.798829 \n\" style=\"fill:none;stroke:#000000;stroke-linecap:square;\"/>\n    </g>\n    <g id=\"text_2\">\n     <!-- 0.0 -->\n     <g transform=\"translate(37.06682 367.759908)scale(0.1 -0.1)\">\n      <defs>\n       <path d=\"M 2034 4250 \nQ 1547 4250 1301 3770 \nQ 1056 3291 1056 2328 \nQ 1056 1369 1301 889 \nQ 1547 409 2034 409 \nQ 2525 409 2770 889 \nQ 3016 1369 3016 2328 \nQ 3016 3291 2770 3770 \nQ 2525 4250 2034 4250 \nz\nM 2034 4750 \nQ 2819 4750 3233 4129 \nQ 3647 3509 3647 2328 \nQ 3647 1150 3233 529 \nQ 2819 -91 2034 -91 \nQ 1250 -91 836 529 \nQ 422 1150 422 2328 \nQ 422 3509 836 4129 \nQ 1250 4750 2034 4750 \nz\n\" id=\"DejaVuSans-30\" transform=\"scale(0.015625)\"/>\n       <path d=\"M 684 794 \nL 1344 794 \nL 1344 0 \nL 684 0 \nL 684 794 \nz\n\" id=\"DejaVuSans-2e\" transform=\"scale(0.015625)\"/>\n      </defs>\n      <use xlink:href=\"#DejaVuSans-30\"/>\n      <use x=\"63.623047\" xlink:href=\"#DejaVuSans-2e\"/>\n      <use x=\"95.410156\" xlink:href=\"#DejaVuSans-30\"/>\n     </g>\n    </g>\n   </g>\n   <g id=\"xtick_2\">\n    <g id=\"line2d_3\">\n     <path d=\"M 94.930738 351.307401 \nL 91.246038 354.531172 \n\" style=\"fill:none;stroke:#000000;stroke-linecap:square;\"/>\n    </g>\n    <g id=\"text_3\">\n     <!-- 0.5 -->\n     <g transform=\"translate(75.971275 380.670122)scale(0.1 -0.1)\">\n      <defs>\n       <path d=\"M 691 4666 \nL 3169 4666 \nL 3169 4134 \nL 1269 4134 \nL 1269 2991 \nQ 1406 3038 1543 3061 \nQ 1681 3084 1819 3084 \nQ 2600 3084 3056 2656 \nQ 3513 2228 3513 1497 \nQ 3513 744 3044 326 \nQ 2575 -91 1722 -91 \nQ 1428 -91 1123 -41 \nQ 819 9 494 109 \nL 494 744 \nQ 775 591 1075 516 \nQ 1375 441 1709 441 \nQ 2250 441 2565 725 \nQ 2881 1009 2881 1497 \nQ 2881 1984 2565 2268 \nQ 2250 2553 1709 2553 \nQ 1456 2553 1204 2497 \nQ 953 2441 691 2322 \nL 691 4666 \nz\n\" id=\"DejaVuSans-35\" transform=\"scale(0.015625)\"/>\n      </defs>\n      <use xlink:href=\"#DejaVuSans-30\"/>\n      <use x=\"63.623047\" xlink:href=\"#DejaVuSans-2e\"/>\n      <use x=\"95.410156\" xlink:href=\"#DejaVuSans-35\"/>\n     </g>\n    </g>\n   </g>\n   <g id=\"xtick_3\">\n    <g id=\"line2d_4\">\n     <path d=\"M 134.458966 364.204563 \nL 130.828577 367.484456 \n\" style=\"fill:none;stroke:#000000;stroke-linecap:square;\"/>\n    </g>\n    <g id=\"text_4\">\n     <!-- 1.0 -->\n     <g transform=\"translate(115.551878 393.804711)scale(0.1 -0.1)\">\n      <defs>\n       <path d=\"M 794 531 \nL 1825 531 \nL 1825 4091 \nL 703 3866 \nL 703 4441 \nL 1819 4666 \nL 2450 4666 \nL 2450 531 \nL 3481 531 \nL 3481 0 \nL 794 0 \nL 794 531 \nz\n\" id=\"DejaVuSans-31\" transform=\"scale(0.015625)\"/>\n      </defs>\n      <use xlink:href=\"#DejaVuSans-31\"/>\n      <use x=\"63.623047\" xlink:href=\"#DejaVuSans-2e\"/>\n      <use x=\"95.410156\" xlink:href=\"#DejaVuSans-30\"/>\n     </g>\n    </g>\n   </g>\n   <g id=\"xtick_4\">\n    <g id=\"line2d_5\">\n     <path d=\"M 174.677595 377.326987 \nL 171.103989 380.66448 \n\" style=\"fill:none;stroke:#000000;stroke-linecap:square;\"/>\n    </g>\n    <g id=\"text_5\">\n     <!-- 1.5 -->\n     <g transform=\"translate(155.82641 407.169576)scale(0.1 -0.1)\">\n      <use xlink:href=\"#DejaVuSans-31\"/>\n      <use x=\"63.623047\" xlink:href=\"#DejaVuSans-2e\"/>\n      <use x=\"95.410156\" xlink:href=\"#DejaVuSans-35\"/>\n     </g>\n    </g>\n   </g>\n   <g id=\"xtick_5\">\n    <g id=\"line2d_6\">\n     <path d=\"M 215.604874 390.680627 \nL 212.090628 394.077252 \n\" style=\"fill:none;stroke:#000000;stroke-linecap:square;\"/>\n    </g>\n    <g id=\"text_6\">\n     <!-- 2.0 -->\n     <g transform=\"translate(196.813281 420.770827)scale(0.1 -0.1)\">\n      <defs>\n       <path d=\"M 1228 531 \nL 3431 531 \nL 3431 0 \nL 469 0 \nL 469 531 \nQ 828 903 1448 1529 \nQ 2069 2156 2228 2338 \nQ 2531 2678 2651 2914 \nQ 2772 3150 2772 3378 \nQ 2772 3750 2511 3984 \nQ 2250 4219 1831 4219 \nQ 1534 4219 1204 4116 \nQ 875 4013 500 3803 \nL 500 4441 \nQ 881 4594 1212 4672 \nQ 1544 4750 1819 4750 \nQ 2544 4750 2975 4387 \nQ 3406 4025 3406 3419 \nQ 3406 3131 3298 2873 \nQ 3191 2616 2906 2266 \nQ 2828 2175 2409 1742 \nQ 1991 1309 1228 531 \nz\n\" id=\"DejaVuSans-32\" transform=\"scale(0.015625)\"/>\n      </defs>\n      <use xlink:href=\"#DejaVuSans-32\"/>\n      <use x=\"63.623047\" xlink:href=\"#DejaVuSans-2e\"/>\n      <use x=\"95.410156\" xlink:href=\"#DejaVuSans-30\"/>\n     </g>\n    </g>\n   </g>\n   <g id=\"xtick_6\">\n    <g id=\"line2d_7\">\n     <path d=\"M 257.259699 404.271648 \nL 253.8075 407.72899 \n\" style=\"fill:none;stroke:#000000;stroke-linecap:square;\"/>\n    </g>\n    <g id=\"text_7\">\n     <!-- 2.5 -->\n     <g transform=\"translate(238.531558 434.614791)scale(0.1 -0.1)\">\n      <use xlink:href=\"#DejaVuSans-32\"/>\n      <use x=\"63.623047\" xlink:href=\"#DejaVuSans-2e\"/>\n      <use x=\"95.410156\" xlink:href=\"#DejaVuSans-35\"/>\n     </g>\n    </g>\n   </g>\n  </g>\n  <g id=\"axis3d_2\">\n   <g id=\"line2d_8\">\n    <path d=\"M 414.09336 281.455819 \nL 284.319758 414.63546 \n\" style=\"fill:none;stroke:#000000;stroke-linecap:square;stroke-width:0.8;\"/>\n   </g>\n   <g id=\"text_8\">\n    <!-- $y$ -->\n    <g transform=\"translate(375.76947 376.074222)scale(0.11 -0.11)\">\n     <defs>\n      <path d=\"M 1588 -325 \nQ 1188 -997 936 -1164 \nQ 684 -1331 294 -1331 \nL -159 -1331 \nL -63 -850 \nL 269 -850 \nQ 509 -850 678 -719 \nQ 847 -588 1056 -206 \nL 1234 128 \nL 459 3500 \nL 1069 3500 \nL 1650 819 \nL 3256 3500 \nL 3859 3500 \nL 1588 -325 \nz\n\" id=\"DejaVuSans-Oblique-79\" transform=\"scale(0.015625)\"/>\n     </defs>\n     <use transform=\"translate(0 0.3125)\" xlink:href=\"#DejaVuSans-Oblique-79\"/>\n    </g>\n   </g>\n   <g id=\"Line3DCollection_2\">\n    <path d=\"M 54.306858 133.798206 \nL 62.048123 316.401899 \nL 304.284934 394.146277 \n\" style=\"fill:none;stroke:#b0b0b0;\"/>\n    <path d=\"M 75.249604 118.515144 \nL 81.992426 299.684188 \nL 322.351588 375.605446 \n\" style=\"fill:none;stroke:#b0b0b0;\"/>\n    <path d=\"M 95.695154 103.594913 \nL 101.483566 283.346328 \nL 339.986329 357.507864 \n\" style=\"fill:none;stroke:#b0b0b0;\"/>\n    <path d=\"M 115.661006 89.024744 \nL 120.536814 267.375518 \nL 357.204462 339.837824 \n\" style=\"fill:none;stroke:#b0b0b0;\"/>\n    <path d=\"M 135.163845 74.792459 \nL 139.166762 251.759526 \nL 374.020578 322.580352 \n\" style=\"fill:none;stroke:#b0b0b0;\"/>\n    <path d=\"M 154.219595 60.886441 \nL 157.387362 236.486658 \nL 390.448594 305.721166 \n\" style=\"fill:none;stroke:#b0b0b0;\"/>\n    <path d=\"M 172.843453 47.295598 \nL 175.211959 221.545727 \nL 406.501793 289.246635 \n\" style=\"fill:none;stroke:#b0b0b0;\"/>\n   </g>\n   <g id=\"xtick_7\">\n    <g id=\"line2d_9\">\n     <path d=\"M 302.244353 393.491366 \nL 308.371337 395.457782 \n\" style=\"fill:none;stroke:#000000;stroke-linecap:square;\"/>\n    </g>\n    <g id=\"text_9\">\n     <!-- −3.0 -->\n     <g transform=\"translate(308.824801 419.117988)scale(0.1 -0.1)\">\n      <defs>\n       <path d=\"M 678 2272 \nL 4684 2272 \nL 4684 1741 \nL 678 1741 \nL 678 2272 \nz\n\" id=\"DejaVuSans-2212\" transform=\"scale(0.015625)\"/>\n       <path d=\"M 2597 2516 \nQ 3050 2419 3304 2112 \nQ 3559 1806 3559 1356 \nQ 3559 666 3084 287 \nQ 2609 -91 1734 -91 \nQ 1441 -91 1130 -33 \nQ 819 25 488 141 \nL 488 750 \nQ 750 597 1062 519 \nQ 1375 441 1716 441 \nQ 2309 441 2620 675 \nQ 2931 909 2931 1356 \nQ 2931 1769 2642 2001 \nQ 2353 2234 1838 2234 \nL 1294 2234 \nL 1294 2753 \nL 1863 2753 \nQ 2328 2753 2575 2939 \nQ 2822 3125 2822 3475 \nQ 2822 3834 2567 4026 \nQ 2313 4219 1838 4219 \nQ 1578 4219 1281 4162 \nQ 984 4106 628 3988 \nL 628 4550 \nQ 988 4650 1302 4700 \nQ 1616 4750 1894 4750 \nQ 2613 4750 3031 4423 \nQ 3450 4097 3450 3541 \nQ 3450 3153 3228 2886 \nQ 3006 2619 2597 2516 \nz\n\" id=\"DejaVuSans-33\" transform=\"scale(0.015625)\"/>\n      </defs>\n      <use xlink:href=\"#DejaVuSans-2212\"/>\n      <use x=\"83.789062\" xlink:href=\"#DejaVuSans-33\"/>\n      <use x=\"147.412109\" xlink:href=\"#DejaVuSans-2e\"/>\n      <use x=\"179.199219\" xlink:href=\"#DejaVuSans-30\"/>\n     </g>\n    </g>\n   </g>\n   <g id=\"xtick_8\">\n    <g id=\"line2d_10\">\n     <path d=\"M 320.328056 374.966281 \nL 326.403785 376.885397 \n\" style=\"fill:none;stroke:#000000;stroke-linecap:square;\"/>\n    </g>\n    <g id=\"text_10\">\n     <!-- −2.5 -->\n     <g transform=\"translate(326.698018 400.358189)scale(0.1 -0.1)\">\n      <use xlink:href=\"#DejaVuSans-2212\"/>\n      <use x=\"83.789062\" xlink:href=\"#DejaVuSans-32\"/>\n      <use x=\"147.412109\" xlink:href=\"#DejaVuSans-2e\"/>\n      <use x=\"179.199219\" xlink:href=\"#DejaVuSans-35\"/>\n     </g>\n    </g>\n   </g>\n   <g id=\"xtick_9\">\n    <g id=\"line2d_11\">\n     <path d=\"M 337.979618 356.883885 \nL 344.004778 358.757386 \n\" style=\"fill:none;stroke:#000000;stroke-linecap:square;\"/>\n    </g>\n    <g id=\"text_11\">\n     <!-- −2.0 -->\n     <g transform=\"translate(344.143748 382.047081)scale(0.1 -0.1)\">\n      <use xlink:href=\"#DejaVuSans-2212\"/>\n      <use x=\"83.789062\" xlink:href=\"#DejaVuSans-32\"/>\n      <use x=\"147.412109\" xlink:href=\"#DejaVuSans-2e\"/>\n      <use x=\"179.199219\" xlink:href=\"#DejaVuSans-30\"/>\n     </g>\n    </g>\n   </g>\n   <g id=\"xtick_10\">\n    <g id=\"line2d_12\">\n     <path d=\"M 355.214348 339.228496 \nL 361.189617 341.057989 \n\" style=\"fill:none;stroke:#000000;stroke-linecap:square;\"/>\n    </g>\n    <g id=\"text_12\">\n     <!-- −1.5 -->\n     <g transform=\"translate(361.177147 364.168758)scale(0.1 -0.1)\">\n      <use xlink:href=\"#DejaVuSans-2212\"/>\n      <use x=\"83.789062\" xlink:href=\"#DejaVuSans-31\"/>\n      <use x=\"147.412109\" xlink:href=\"#DejaVuSans-2e\"/>\n      <use x=\"179.199219\" xlink:href=\"#DejaVuSans-35\"/>\n     </g>\n    </g>\n   </g>\n   <g id=\"xtick_11\">\n    <g id=\"line2d_13\">\n     <path d=\"M 372.046837 321.985165 \nL 377.97289 323.772183 \n\" style=\"fill:none;stroke:#000000;stroke-linecap:square;\"/>\n    </g>\n    <g id=\"text_13\">\n     <!-- −1.0 -->\n     <g transform=\"translate(377.812663 346.708055)scale(0.1 -0.1)\">\n      <use xlink:href=\"#DejaVuSans-2212\"/>\n      <use x=\"83.789062\" xlink:href=\"#DejaVuSans-31\"/>\n      <use x=\"147.412109\" xlink:href=\"#DejaVuSans-2e\"/>\n      <use x=\"179.199219\" xlink:href=\"#DejaVuSans-30\"/>\n     </g>\n    </g>\n   </g>\n   <g id=\"xtick_12\">\n    <g id=\"line2d_14\">\n     <path d=\"M 388.491005 305.139633 \nL 394.368508 306.885638 \n\" style=\"fill:none;stroke:#000000;stroke-linecap:square;\"/>\n    </g>\n    <g id=\"text_14\">\n     <!-- −0.5 -->\n     <g transform=\"translate(394.064075 329.650508)scale(0.1 -0.1)\">\n      <use xlink:href=\"#DejaVuSans-2212\"/>\n      <use x=\"83.789062\" xlink:href=\"#DejaVuSans-30\"/>\n      <use x=\"147.412109\" xlink:href=\"#DejaVuSans-2e\"/>\n      <use x=\"179.199219\" xlink:href=\"#DejaVuSans-35\"/>\n     </g>\n    </g>\n   </g>\n   <g id=\"xtick_13\">\n    <g id=\"line2d_15\">\n     <path d=\"M 404.560136 288.678292 \nL 410.38975 290.38468 \n\" style=\"fill:none;stroke:#000000;stroke-linecap:square;\"/>\n    </g>\n    <g id=\"text_15\">\n     <!-- 0.0 -->\n     <g transform=\"translate(414.134379 312.982314)scale(0.1 -0.1)\">\n      <use xlink:href=\"#DejaVuSans-30\"/>\n      <use x=\"63.623047\" xlink:href=\"#DejaVuSans-2e\"/>\n      <use x=\"95.410156\" xlink:href=\"#DejaVuSans-30\"/>\n     </g>\n    </g>\n   </g>\n  </g>\n  <g id=\"axis3d_3\">\n   <g id=\"line2d_16\">\n    <path d=\"M 414.09336 281.455819 \nL 422.317142 101.869435 \n\" style=\"fill:none;stroke:#000000;stroke-linecap:square;stroke-width:0.8;\"/>\n   </g>\n   <g id=\"text_16\">\n    <!-- $z$ -->\n    <g transform=\"translate(455.680224 191.241835)scale(0.11 -0.11)\">\n     <defs>\n      <path d=\"M 744 3500 \nL 3475 3500 \nL 3372 2975 \nL 738 459 \nL 2913 459 \nL 2822 0 \nL -19 0 \nL 84 525 \nL 2719 3041 \nL 653 3041 \nL 744 3500 \nz\n\" id=\"DejaVuSans-Oblique-7a\" transform=\"scale(0.015625)\"/>\n     </defs>\n     <use transform=\"translate(0 0.3125)\" xlink:href=\"#DejaVuSans-Oblique-7a\"/>\n    </g>\n   </g>\n   <g id=\"Line3DCollection_3\">\n    <path d=\"M 414.250919 278.015143 \nL 183.609691 211.14145 \nL 39.866802 331.329898 \n\" style=\"fill:none;stroke:#b0b0b0;\"/>\n    <path d=\"M 415.521255 250.274246 \nL 183.300788 184.278513 \nL 38.498678 302.919927 \n\" style=\"fill:none;stroke:#b0b0b0;\"/>\n    <path d=\"M 416.80928 222.147078 \nL 182.987791 157.059424 \nL 37.110777 274.099263 \n\" style=\"fill:none;stroke:#b0b0b0;\"/>\n    <path d=\"M 418.115365 193.625514 \nL 182.670615 129.477052 \nL 35.702667 244.858936 \n\" style=\"fill:none;stroke:#b0b0b0;\"/>\n    <path d=\"M 419.439893 164.7012 \nL 182.349178 101.524076 \nL 34.273902 215.189712 \n\" style=\"fill:none;stroke:#b0b0b0;\"/>\n    <path d=\"M 420.783258 135.365546 \nL 182.023393 73.192976 \nL 32.824025 185.082085 \n\" style=\"fill:none;stroke:#b0b0b0;\"/>\n   </g>\n   <g id=\"xtick_14\">\n    <g id=\"line2d_17\">\n     <path d=\"M 412.315126 277.453866 \nL 418.127113 279.139033 \n\" style=\"fill:none;stroke:#000000;stroke-linecap:square;\"/>\n    </g>\n    <g id=\"text_17\">\n     <!-- 0 -->\n     <g transform=\"translate(434.90667 282.219035)scale(0.1 -0.1)\">\n      <use xlink:href=\"#DejaVuSans-30\"/>\n     </g>\n    </g>\n   </g>\n   <g id=\"xtick_15\">\n    <g id=\"line2d_18\">\n     <path d=\"M 413.571577 249.720158 \nL 419.425285 251.383749 \n\" style=\"fill:none;stroke:#000000;stroke-linecap:square;\"/>\n    </g>\n    <g id=\"text_18\">\n     <!-- 10 -->\n     <g transform=\"translate(433.157102 254.521666)scale(0.1 -0.1)\">\n      <use xlink:href=\"#DejaVuSans-31\"/>\n      <use x=\"63.623047\" xlink:href=\"#DejaVuSans-30\"/>\n     </g>\n    </g>\n   </g>\n   <g id=\"xtick_16\">\n    <g id=\"line2d_19\">\n     <path d=\"M 414.845515 221.600435 \nL 420.741548 223.241682 \n\" style=\"fill:none;stroke:#000000;stroke-linecap:square;\"/>\n    </g>\n    <g id=\"text_19\">\n     <!-- 20 -->\n     <g transform=\"translate(434.60867 226.439568)scale(0.1 -0.1)\">\n      <use xlink:href=\"#DejaVuSans-32\"/>\n      <use x=\"63.623047\" xlink:href=\"#DejaVuSans-30\"/>\n     </g>\n    </g>\n   </g>\n   <g id=\"xtick_17\">\n    <g id=\"line2d_20\">\n     <path d=\"M 416.13731 193.08658 \nL 422.076283 194.704692 \n\" style=\"fill:none;stroke:#000000;stroke-linecap:square;\"/>\n    </g>\n    <g id=\"text_20\">\n     <!-- 30 -->\n     <g transform=\"translate(436.080543 197.964671)scale(0.1 -0.1)\">\n      <use xlink:href=\"#DejaVuSans-33\"/>\n      <use x=\"63.623047\" xlink:href=\"#DejaVuSans-30\"/>\n     </g>\n    </g>\n   </g>\n   <g id=\"xtick_18\">\n    <g id=\"line2d_21\">\n     <path d=\"M 417.447338 164.170248 \nL 423.42988 165.764405 \n\" style=\"fill:none;stroke:#000000;stroke-linecap:square;\"/>\n    </g>\n    <g id=\"text_21\">\n     <!-- 40 -->\n     <g transform=\"translate(437.573148 169.088674)scale(0.1 -0.1)\">\n      <defs>\n       <path d=\"M 2419 4116 \nL 825 1625 \nL 2419 1625 \nL 2419 4116 \nz\nM 2253 4666 \nL 3047 4666 \nL 3047 1625 \nL 3713 1625 \nL 3713 1100 \nL 3047 1100 \nL 3047 0 \nL 2419 0 \nL 2419 1100 \nL 313 1100 \nL 313 1709 \nL 2253 4666 \nz\n\" id=\"DejaVuSans-34\" transform=\"scale(0.015625)\"/>\n      </defs>\n      <use xlink:href=\"#DejaVuSans-34\"/>\n      <use x=\"63.623047\" xlink:href=\"#DejaVuSans-30\"/>\n     </g>\n    </g>\n   </g>\n   <g id=\"xtick_19\">\n    <g id=\"line2d_22\">\n     <path d=\"M 418.775989 134.842858 \nL 424.802744 136.412212 \n\" style=\"fill:none;stroke:#000000;stroke-linecap:square;\"/>\n    </g>\n    <g id=\"text_22\">\n     <!-- 50 -->\n     <g transform=\"translate(439.086928 139.803042)scale(0.1 -0.1)\">\n      <use xlink:href=\"#DejaVuSans-35\"/>\n      <use x=\"63.623047\" xlink:href=\"#DejaVuSans-30\"/>\n     </g>\n    </g>\n   </g>\n  </g>\n  <g id=\"axes_1\">\n   <g id=\"line2d_23\">\n    <path clip-path=\"url(#p0f039d7b0f)\" d=\"M 189.240875 222.310722 \nL 201.623894 225.363435 \nL 213.269333 228.462522 \nL 224.168126 231.592428 \nL 234.316088 234.734368 \nL 243.848905 237.913742 \nL 252.8946 241.16358 \nL 261.315249 244.422181 \nL 269.23855 247.724587 \nL 276.660104 251.058223 \nL 283.578234 254.409769 \nL 289.994129 257.765397 \nL 295.91193 261.11101 \nL 301.33876 264.432469 \nL 306.284689 267.715802 \nL 310.851117 271.014119 \nL 314.953514 274.250388 \nL 318.609786 277.411803 \nL 321.910562 280.556799 \nL 324.795711 283.605784 \nL 327.347266 286.620463 \nL 329.572219 289.593438 \nL 331.434453 292.444273 \nL 333.001179 295.238836 \nL 334.28325 297.971228 \nL 335.292511 300.636 \nL 336.041715 303.228185 \nL 336.544426 305.743322 \nL 336.819712 308.251088 \nL 336.864423 310.673677 \nL 336.685404 313.080554 \nL 336.294169 315.395128 \nL 335.685092 317.686212 \nL 334.855017 319.949269 \nL 333.801174 322.179607 \nL 332.521223 324.37239 \nL 331.013283 326.522647 \nL 329.217975 328.690165 \nL 327.177824 330.801328 \nL 324.892565 332.850314 \nL 322.282153 334.890117 \nL 319.413298 336.851104 \nL 316.192399 338.780488 \nL 312.703313 340.612153 \nL 308.839464 342.386614 \nL 304.702731 344.042282 \nL 300.174554 345.612068 \nL 295.375537 347.040075 \nL 290.176582 348.350749 \nL 284.717457 349.495204 \nL 279.013723 350.465546 \nL 272.923754 351.272604 \nL 266.615128 351.881046 \nL 260.110507 352.284159 \nL 253.434462 352.476025 \nL 246.613396 352.451595 \nL 239.675466 352.206786 \nL 232.650462 351.738549 \nL 225.569682 351.044953 \nL 218.465774 350.125249 \nL 211.372561 348.97993 \nL 204.504695 347.648667 \nL 197.712917 346.107785 \nL 191.030608 344.361397 \nL 184.661392 342.468607 \nL 178.458981 340.392176 \nL 172.61375 338.202478 \nL 166.983901 335.853466 \nL 161.743194 333.4252 \nL 156.89568 330.938349 \nL 152.3103 328.334327 \nL 148.130482 325.703896 \nL 144.349599 323.065204 \nL 140.95771 320.434978 \nL 137.846114 317.740652 \nL 135.113706 315.080684 \nL 132.743131 312.468288 \nL 130.715137 309.915124 \nL 128.95057 307.339021 \nL 127.504384 304.840162 \nL 126.31388 302.333688 \nL 125.413002 299.919278 \nL 124.756103 297.510407 \nL 124.35675 295.205238 \nL 124.186632 292.916568 \nL 124.246628 290.649995 \nL 124.520963 288.500061 \nL 125.007304 286.380569 \nL 125.738427 284.21041 \nL 126.697081 282.084069 \nL 127.881038 280.006959 \nL 129.287425 277.984406 \nL 130.98223 275.944443 \nL 132.909103 273.974891 \nL 135.149859 272.010111 \nL 137.628022 270.13337 \nL 140.440344 268.286362 \nL 143.489845 266.546575 \nL 146.88688 264.864021 \nL 150.642906 263.257809 \nL 154.629469 261.794584 \nL 158.973269 260.439079 \nL 163.525457 259.248482 \nL 168.420648 258.198012 \nL 173.490719 257.333842 \nL 178.874887 256.642169 \nL 184.3875 256.156575 \nL 190.168504 255.874426 \nL 196.017197 255.815155 \nL 201.89685 255.978935 \nL 207.769668 256.364572 \nL 213.596965 256.969453 \nL 219.339361 257.789501 \nL 224.956997 258.819129 \nL 230.25212 260.012155 \nL 235.355268 261.387967 \nL 240.086012 262.887819 \nL 244.569245 264.54096 \nL 248.646079 266.278191 \nL 252.314897 268.075968 \nL 255.57937 269.912305 \nL 258.544972 271.834509 \nL 261.105773 273.761025 \nL 263.277508 275.673917 \nL 265.079317 277.557256 \nL 266.53315 279.397131 \nL 267.663174 281.181625 \nL 268.495223 282.900759 \nL 269.056266 284.546399 \nL 269.383704 286.18649 \nL 269.475466 287.740623 \nL 269.349546 289.277544 \nL 269.004701 290.791227 \nL 268.440457 292.27562 \nL 267.657137 293.724666 \nL 266.602801 295.198227 \nL 265.311599 296.619489 \nL 263.712089 298.042066 \nL 261.862407 299.392451 \nL 259.672437 300.716566 \nL 257.118259 301.994916 \nL 254.178735 303.205818 \nL 250.965318 304.286593 \nL 247.356692 305.261889 \nL 243.492399 306.078571 \nL 239.240086 306.749461 \nL 234.766654 307.233511 \nL 229.933178 307.531063 \nL 224.931935 307.6158 \nL 219.801363 307.483887 \nL 214.581594 307.133269 \nL 209.314115 306.563735 \nL 204.041386 305.776955 \nL 198.806452 304.776504 \nL 193.652536 303.56786 \nL 188.622614 302.158388 \nL 183.92349 300.615572 \nL 179.416537 298.903956 \nL 175.286097 297.104186 \nL 171.398387 295.169345 \nL 167.911193 293.190143 \nL 164.70025 291.109286 \nL 161.894176 289.024521 \nL 159.476958 286.957003 \nL 157.428284 284.9252 \nL 155.653152 282.854229 \nL 154.220157 280.846143 \nL 153.100715 278.913119 \nL 152.229124 276.972462 \nL 151.633123 275.124559 \nL 151.26801 273.284146 \nL 151.135279 271.458246 \nL 151.235451 269.653834 \nL 151.545936 267.965835 \nL 152.098062 266.223087 \nL 152.878934 264.521869 \nL 153.885225 262.8687 \nL 155.112654 261.269915 \nL 156.633726 259.656421 \nL 158.385694 258.116451 \nL 160.459752 256.589081 \nL 162.877705 255.093846 \nL 165.537308 253.709856 \nL 168.553815 252.391823 \nL 171.938055 251.163476 \nL 175.546632 250.089802 \nL 179.511067 249.143963 \nL 183.825059 248.352222 \nL 188.305447 247.759599 \nL 192.915738 247.369702 \nL 197.79341 247.181658 \nL 202.726306 247.214256 \nL 207.669681 247.466025 \nL 212.578047 247.933543 \nL 217.405524 248.61142 \nL 222.106213 249.492283 \nL 226.634583 250.566781 \nL 230.796142 251.775723 \nL 234.716781 253.142374 \nL 238.229339 254.59492 \nL 241.451486 256.167865 \nL 244.247687 257.780223 \nL 246.629948 259.407023 \nL 248.616223 261.026166 \nL 250.229311 262.618477 \nL 251.49579 264.167677 \nL 252.445025 265.660291 \nL 253.13662 267.160561 \nL 253.549955 268.584581 \nL 253.719197 269.925207 \nL 253.670001 271.25067 \nL 253.401298 272.554127 \nL 252.913035 273.828745 \nL 252.206199 275.067737 \nL 251.225252 276.3295 \nL 250.00678 277.536351 \nL 248.473155 278.739097 \nL 246.593889 279.918181 \nL 244.449611 281.002152 \nL 241.932765 282.026035 \nL 239.023606 282.96408 \nL 235.708356 283.788082 \nL 232.134872 284.44412 \nL 228.170761 284.939668 \nL 223.996862 285.235795 \nL 219.653146 285.326567 \nL 215.00092 285.198988 \nL 210.26018 284.843219 \nL 205.481942 284.259928 \nL 200.718123 283.452379 \nL 196.020903 282.42643 \nL 191.615382 281.24178 \nL 187.364494 279.872586 \nL 183.311995 278.330489 \nL 179.647099 276.699951 \nL 176.375028 275.011988 \nL 173.367089 273.214543 \nL 170.761432 271.405752 \nL 168.442471 269.522703 \nL 166.513443 267.668543 \nL 164.947742 265.862647 \nL 163.715219 264.121 \nL 162.738482 262.363682 \nL 162.054307 260.693136 \nL 161.60841 259.025409 \nL 161.403054 257.368719 \nL 161.43085 255.821558 \nL 161.6738 254.298313 \nL 162.1306 252.805665 \nL 162.798913 251.350149 \nL 163.733338 249.856553 \nL 164.895915 248.419014 \nL 166.363461 246.970163 \nL 168.069002 245.599416 \nL 170.1099 244.249013 \nL 172.508978 242.941798 \nL 175.152746 241.756347 \nL 178.163251 240.653354 \nL 181.547539 239.660407 \nL 185.143905 238.838508 \nL 189.087469 238.169674 \nL 193.18734 237.698567 \nL 197.580115 237.421438 \nL 202.050148 237.363544 \nL 206.548215 237.523879 \nL 211.024268 237.899089 \nL 215.427913 238.483466 \nL 219.708916 239.268948 \nL 223.817717 240.245155 \nL 227.705974 241.399436 \nL 231.18795 242.661318 \nL 234.384518 244.058692 \nL 237.146015 245.509616 \nL 239.482956 246.9849 \nL 241.413714 248.458917 \nL 242.962947 249.909676 \nL 244.1601 251.318785 \nL 245.038024 252.671309 \nL 245.65941 254.031133 \nL 246.005736 255.313281 \nL 246.115027 256.584849 \nL 245.999619 257.764446 \nL 245.672068 258.920261 \nL 245.092366 260.114504 \nL 244.276166 261.265871 \nL 243.227172 262.366329 \nL 241.868529 263.467356 \nL 240.16644 264.548284 \nL 238.200571 265.535954 \nL 235.861509 266.46459 \nL 233.127983 267.30633 \nL 229.98592 268.0305 \nL 226.59031 268.583112 \nL 222.80716 268.968057 \nL 218.828157 269.148432 \nL 214.699231 269.119025 \nL 210.283088 268.861801 \nL 205.812837 268.373213 \nL 201.346284 267.656341 \nL 196.941566 266.717369 \nL 192.831733 265.617615 \nL 188.881184 264.332981 \nL 185.295513 262.943154 \nL 181.939011 261.409267 \nL 178.983054 259.824383 \nL 176.299638 258.136023 \nL 174.022153 256.445849 \nL 172.129184 254.778838 \nL 170.515739 253.064785 \nL 169.257018 251.409245 \nL 168.31773 249.827647 \nL 167.627002 248.238276 \nL 167.207907 246.743899 \nL 167.015167 245.25914 \nL 167.049731 243.791929 \nL 167.311213 242.350093 \nL 167.797897 240.941303 \nL 168.506748 239.573035 \nL 169.433437 238.252527 \nL 170.650445 236.909596 \nL 172.098791 235.636388 \nL 173.873607 234.372607 \nL 176.001691 233.141686 \nL 178.373781 232.025373 \nL 181.112467 230.982904 \nL 184.227538 230.043422 \nL 187.55648 229.270609 \nL 191.23608 228.646587 \nL 195.0713 228.21759 \nL 199.199947 227.980956 \nL 203.399516 227.961849 \nL 207.617175 228.158632 \nL 211.799396 228.567005 \nL 215.89255 229.180018 \nL 219.84354 229.988102 \nL 223.600425 230.979125 \nL 227.113081 232.138489 \nL 230.2005 233.389361 \nL 232.862527 234.697262 \nL 235.214289 236.100187 \nL 237.139671 237.508886 \nL 238.664604 238.898092 \nL 239.821107 240.246859 \nL 240.645458 241.538402 \nL 241.176567 242.759816 \nL 241.465441 243.977557 \nL 241.513414 245.107646 \nL 241.344381 246.218781 \nL 240.958354 247.303388 \nL 240.356681 248.353978 \nL 239.48027 249.428834 \nL 238.366559 250.447941 \nL 236.930783 251.460301 \nL 235.138231 252.442693 \nL 232.958297 253.368241 \nL 230.502974 254.168068 \nL 227.646878 254.862852 \nL 224.381622 255.418774 \nL 220.882531 255.787086 \nL 217.012914 255.963451 \nL 212.986685 255.919755 \nL 208.859315 255.653291 \nL 204.688128 255.164556 \nL 200.531429 254.457267 \nL 196.447612 253.538332 \nL 192.494259 252.417765 \nL 188.893662 251.171933 \nL 185.509287 249.767835 \nL 182.527058 248.297855 \nL 179.8154 246.713823 \nL 177.518783 245.118443 \nL 175.616522 243.539637 \nL 173.998565 241.909064 \nL 172.745193 240.334198 \nL 171.818843 238.832084 \nL 171.145 237.32114 \nL 170.746904 235.905769 \nL 170.5774 234.500157 \nL 170.637396 233.1127 \nL 170.926295 231.751663 \nL 171.442001 230.425133 \nL 172.180938 229.140963 \nL 173.209496 227.826396 \nL 174.478424 226.577412 \nL 176.079209 225.331488 \nL 177.926758 224.17822 \nL 180.134431 223.06754 \nL 182.722442 222.028192 \nL 185.54811 221.134603 \nL 188.746267 220.360027 \nL 192.136899 219.762851 \nL 195.860432 219.332436 \nL 199.703477 219.106936 \nL 203.802783 219.09153 \nL 207.918566 219.300134 \nL 211.990746 219.727615 \nL 215.959315 220.365684 \nL 219.765149 221.20295 \nL 223.350832 222.225026 \nL 226.517712 223.357223 \nL 229.259686 224.561669 \nL 231.69773 225.872278 \nL 233.70267 227.19914 \nL 235.299494 228.51428 \nL 236.520506 229.794537 \nL 237.403133 231.021394 \nL 238.018449 232.258028 \nL 238.346745 233.416079 \nL 238.432869 234.487215 \nL 238.304758 235.541043 \nL 237.962311 236.569855 \nL 237.406844 237.566043 \nL 236.578456 238.588707 \nL 235.51389 239.556437 \nL 234.126033 240.518479 \nL 232.37807 241.450439 \nL 230.237778 242.3239 \nL 227.821752 243.069088 \nL 225.000906 243.704833 \nL 221.768277 244.195245 \nL 218.308763 244.49253 \nL 214.484103 244.58894 \nL 210.520158 244.459461 \nL 206.478021 244.102668 \nL 202.4204 243.520781 \nL 198.410559 242.719649 \nL 194.511241 241.708677 \nL 190.956335 240.562444 \nL 187.607781 239.251248 \nL 184.66125 237.867538 \nL 181.98182 236.365251 \nL 179.720938 234.848275 \nL 177.857469 233.346268 \nL 176.27742 231.791192 \nL 175.063582 230.292119 \nL 174.176151 228.866776 \nL 173.538237 227.432726 \nL 173.172286 226.095631 \nL 173.030285 224.76851 \nL 173.113014 223.459745 \nL 173.419694 222.177582 \nL 173.947998 220.930069 \nL 174.694071 219.72501 \nL 175.728985 218.489502 \nL 176.999294 217.320115 \nL 178.602133 216.154942 \nL 180.446396 215.083668 \nL 182.65158 214.057758 \nL 185.237547 213.107413 \nL 188.052481 212.305846 \nL 191.236337 211.629434 \nL 194.77932 211.112906 \nL 198.469031 210.801916 \nL 202.252635 210.69878 \nL 206.26688 210.813518 \nL 210.260507 211.152617 \nL 214.169233 211.708416 \nL 217.929531 212.469789 \nL 221.316197 213.37281 \nL 224.461012 214.433963 \nL 227.315804 215.635563 \nL 229.718677 216.889022 \nL 231.685348 218.159805 \nL 233.242219 219.418648 \nL 234.423616 220.641548 \nL 235.3164 221.887877 \nL 235.882067 223.065476 \nL 236.167469 224.16227 \nL 236.215346 225.247263 \nL 236.045854 226.236014 \nL 235.633263 227.271906 \nL 234.98425 228.2689 \nL 234.102882 229.218093 \nL 232.907519 230.172279 \nL 231.357001 231.107365 \nL 229.536652 231.945844 \nL 227.326812 232.719087 \nL 224.70453 233.393383 \nL 221.824734 233.907741 \nL 218.546932 234.266672 \nL 215.07183 234.428345 \nL 211.257131 234.379432 \nL 207.343619 234.103202 \nL 203.396256 233.600848 \nL 199.480889 232.877454 \nL 195.663053 231.941929 \nL 192.184798 230.868112 \nL 188.905075 229.627854 \nL 186.026159 228.31406 \nL 183.409114 226.881238 \nL 181.209898 225.434394 \nL 179.302381 223.912703 \nL 177.794055 222.427104 \nL 176.647287 221.000454 \nL 175.770016 219.553505 \nL 175.201457 218.195654 \nL 174.879062 216.841068 \nL 174.802237 215.594982 \nL 174.940098 214.368396 \nL 175.29148 213.169146 \nL 175.853726 212.004861 \nL 176.69027 210.798576 \nL 177.759534 209.650213 \nL 179.153286 208.493567 \nL 180.790739 207.422553 \nL 182.788509 206.384397 \nL 185.171674 205.409717 \nL 187.795035 204.577026 \nL 190.799329 203.859309 \nL 194.179266 203.292957 \nL 197.723466 202.929126 \nL 201.378333 202.771112 \nL 205.284098 202.827381 \nL 209.184918 203.108616 \nL 213.014339 203.607723 \nL 216.706554 204.313932 \nL 220.197456 205.212906 \nL 223.271434 206.229369 \nL 226.058903 207.385975 \nL 228.394065 208.592687 \nL 230.294364 209.814163 \nL 231.788412 211.020736 \nL 232.978033 212.267131 \nL 233.803283 213.457832 \nL 234.311454 214.576554 \nL 234.551641 215.611934 \nL 234.565841 216.634941 \nL 234.353007 217.636749 \nL 233.913851 218.608628 \nL 233.250874 219.54201 \nL 232.291548 220.494586 \nL 231.085313 221.382847 \nL 229.530362 222.252416 \nL 227.589292 223.074332 \nL 225.231815 223.815024 \nL 222.600656 224.406692 \nL 219.555363 224.858879 \nL 216.288456 225.121992 \nL 212.654698 225.1868 \nL 208.891751 225.028446 \nL 205.06449 224.646263 \nL 201.239238 224.043578 \nL 197.482528 223.227675 \nL 193.859847 222.209665 \nL 190.608792 221.072125 \nL 187.585694 219.781722 \nL 184.982512 218.43863 \nL 182.661085 216.991748 \nL 180.762484 215.551432 \nL 179.255851 214.146584 \nL 178.03022 212.703107 \nL 177.151343 211.333585 \nL 176.536645 209.954618 \nL 176.207268 208.676049 \nL 176.112914 207.409011 \nL 176.254122 206.162846 \nL 176.629528 204.946716 \nL 177.235884 203.769522 \nL 178.068088 202.639841 \nL 179.208927 201.485776 \nL 180.592786 200.405929 \nL 182.330224 199.341447 \nL 184.31273 198.382417 \nL 186.673351 197.485678 \nL 189.427871 196.68577 \nL 192.398813 196.05223 \nL 195.734684 195.570317 \nL 199.215256 195.287818 \nL 202.986241 195.208404 \nL 206.792306 195.352591 \nL 210.566737 195.7155 \nL 214.242895 196.288468 \nL 217.755302 197.059146 \nL 221.040737 198.011645 \nL 223.889584 199.064352 \nL 226.433702 200.244131 \nL 228.51796 201.456046 \nL 230.167657 202.665691 \nL 231.418591 203.844912 \nL 232.313714 204.971596 \nL 232.935349 206.110731 \nL 233.26108 207.16857 \nL 233.340608 208.215972 \nL 233.19395 209.164687 \nL 232.836281 210.087806 \nL 232.21291 211.049869 \nL 231.348666 211.96297 \nL 230.15635 212.880841 \nL 228.703786 213.720015 \nL 226.874749 214.52008 \nL 224.635892 215.247811 \nL 221.963965 215.86534 \nL 219.029619 216.310219 \nL 215.686513 216.58217 \nL 212.157309 216.641336 \nL 208.503534 216.483312 \nL 204.789287 216.107602 \nL 201.08004 215.517658 \nL 197.441385 214.720833 \nL 193.93779 213.728249 \nL 190.631365 212.554599 \nL 187.742521 211.296057 \nL 185.127413 209.909581 \nL 182.953105 208.505328 \nL 181.194957 207.117431 \nL 179.72992 205.676236 \nL 178.642658 204.297236 \nL 177.885463 202.999466 \nL 177.378267 201.696237 \nL 177.135831 200.49786 \nL 177.111887 199.312682 \nL 177.306422 198.149123 \nL 177.717726 197.015421 \nL 178.342408 195.919568 \nL 179.254061 194.784014 \nL 180.401686 193.711189 \nL 181.889243 192.635972 \nL 183.622208 191.653641 \nL 185.730281 190.714495 \nL 188.237043 189.852726 \nL 190.976269 189.145216 \nL 194.098996 188.571322 \nL 197.392604 188.187272 \nL 201.008913 187.991849 \nL 204.695404 188.014634 \nL 208.386935 188.252901 \nL 212.017885 188.700178 \nL 215.523223 189.346319 \nL 218.839599 190.177621 \nL 221.906429 191.177005 \nL 224.522554 192.257017 \nL 226.821631 193.449566 \nL 228.660704 194.655645 \nL 230.072965 195.842626 \nL 231.100972 196.984569 \nL 231.793134 198.061815 \nL 232.224514 199.143466 \nL 232.38657 200.135714 \nL 232.319562 201.112536 \nL 232.023138 202.064769 \nL 231.498893 202.98339 \nL 230.750386 203.859592 \nL 229.692869 204.751087 \nL 228.277964 205.632518 \nL 226.591803 206.420655 \nL 224.505464 207.149061 \nL 221.990956 207.780497 \nL 219.214873 208.249545 \nL 216.025657 208.558871 \nL 212.643468 208.664995 \nL 208.917303 208.550332 \nL 205.113648 208.200809 \nL 201.307374 207.619743 \nL 197.57365 206.815154 \nL 194.180573 205.861292 \nL 190.978036 204.733328 \nL 188.1886 203.528079 \nL 185.661557 202.200521 \nL 183.565785 200.86136 \nL 181.763774 199.447635 \nL 180.368544 198.076413 \nL 179.335556 196.771742 \nL 178.566108 195.449393 \nL 178.096398 194.223796 \nL 177.861649 193.003479 \nL 177.863681 191.798152 \nL 178.102254 190.617375 \nL 178.575076 189.470476 \nL 179.277839 188.366475 \nL 180.204258 187.314005 \nL 181.450718 186.241455 \nL 182.937167 185.248678 \nL 184.788813 184.278931 \nL 187.036947 183.365296 \nL 189.528551 182.591668 \nL 192.416551 181.930569 \nL 195.498674 181.446771 \nL 198.932962 181.133059 \nL 202.472895 181.028775 \nL 206.267386 181.1461 \nL 210.036146 181.492832 \nL 213.704434 182.059639 \nL 217.198903 182.832859 \nL 220.275979 183.736656 \nL 223.078936 184.790541 \nL 225.420163 185.900767 \nL 227.318158 187.028123 \nL 228.899892 188.221374 \nL 230.06955 189.378165 \nL 230.876164 190.475479 \nL 231.372965 191.496652 \nL 231.626145 192.515098 \nL 231.641309 193.437364 \nL 231.448022 194.340554 \nL 231.047024 195.21675 \nL 230.375534 196.132697 \nL 229.465083 196.997514 \nL 228.218063 197.865864 \nL 226.586324 198.7088 \nL 224.674572 199.443549 \nL 222.342577 200.097633 \nL 219.568993 200.630048 \nL 216.545396 200.980038 \nL 213.115902 201.14201 \nL 209.527417 201.081237 \nL 205.849178 200.795432 \nL 202.152501 200.286787 \nL 198.509304 199.561948 \nL 194.990597 198.631892 \nL 191.854095 197.582536 \nL 188.942838 196.380368 \nL 186.462788 195.130819 \nL 184.262315 193.78003 \nL 182.490062 192.444261 \nL 181.013365 191.052434 \nL 179.92359 189.724446 \nL 179.169026 188.480422 \nL 178.663083 187.230224 \nL 178.410389 185.984877 \nL 178.403132 184.856925 \nL 178.610402 183.750562 \nL 179.030341 182.673905 \nL 179.726782 181.542485 \nL 180.66518 180.465557 \nL 181.836377 179.45237 \nL 183.354674 178.436681 \nL 185.260636 177.449361 \nL 187.423146 176.583384 \nL 189.992756 175.801124 \nL 192.786162 175.178933 \nL 195.96547 174.699987 \nL 199.297989 174.417476 \nL 202.943216 174.335473 \nL 206.627152 174.477312 \nL 210.278469 174.837871 \nL 213.82602 175.407852 \nL 217.200121 176.173901 \nL 220.333848 177.118802 \nL 223.007277 178.152898 \nL 225.363858 179.306992 \nL 227.246947 180.478145 \nL 228.691668 181.631163 \nL 229.743694 182.738307 \nL 230.455105 183.778798 \nL 230.908694 184.825224 \nL 231.093085 185.779688 \nL 231.053583 186.720302 \nL 230.789663 187.638092 \nL 230.302745 188.52422 \nL 229.521251 189.444665 \nL 228.485451 190.306371 \nL 227.087735 191.161715 \nL 225.418964 191.923922 \nL 223.341024 192.627899 \nL 220.823297 193.234143 \nL 218.043521 193.674891 \nL 214.840201 193.951398 \nL 211.449145 194.019793 \nL 207.93363 193.875563 \nL 204.359626 193.518287 \nL 200.794467 192.951663 \nL 197.305492 192.183452 \nL 193.95868 191.225323 \nL 190.817317 190.092627 \nL 188.111702 188.888776 \nL 185.683651 187.565722 \nL 183.703327 186.240755 \nL 182.028101 184.84655 \nL 180.766641 183.505963 \nL 179.867358 182.242719 \nL 179.232173 180.96729 \nL 178.887466 179.797976 \nL 178.772948 178.638262 \nL 178.889417 177.497523 \nL 179.235636 176.384942 \nL 179.808357 175.309439 \nL 180.602358 174.279593 \nL 181.712464 173.217778 \nL 183.065594 172.229952 \nL 184.789118 171.253916 \nL 186.920985 170.323957 \nL 189.309126 169.530764 \nL 192.113612 168.843457 \nL 195.127593 168.333168 \nL 198.51802 167.991023 \nL 202.027939 167.861414 \nL 205.592 167.944478 \nL 209.36359 168.261509 \nL 213.041001 168.805113 \nL 216.34557 169.511224 \nL 219.433786 170.390289 \nL 222.245937 171.423587 \nL 224.582552 172.513046 \nL 226.464662 173.617201 \nL 228.028414 174.787485 \nL 229.173697 175.916866 \nL 229.954276 176.981822 \nL 230.459244 178.055174 \nL 230.674174 179.035349 \nL 230.648836 180.001585 \nL 230.382512 180.943874 \nL 229.876758 181.852359 \nL 229.135412 182.717431 \nL 228.065229 183.600764 \nL 226.732986 184.41 \nL 225.010399 185.190729 \nL 222.855001 185.90619 \nL 220.419692 186.478516 \nL 217.541783 186.920042 \nL 214.435468 187.173364 \nL 210.932396 187.227743 \nL 207.303231 187.054871 \nL 203.622043 186.654873 \nL 199.964248 186.032654 \nL 196.404948 185.197798 \nL 193.222643 184.234451 \nL 190.248675 183.111466 \nL 187.536648 181.8467 \nL 185.284838 180.556325 \nL 183.338854 179.178563 \nL 181.832198 177.838156 \nL 180.71606 176.56335 \nL 179.876529 175.26633 \nL 179.357984 174.069541 \nL 179.084505 172.876124 \nL 179.058482 171.696591 \nL 179.249616 170.64505 \nL 179.643617 169.621139 \nL 180.307375 168.535533 \nL 181.206074 167.501664 \nL 182.444096 166.443249 \nL 183.937056 165.467726 \nL 185.822282 164.515799 \nL 187.961491 163.68373 \nL 190.516574 162.932573 \nL 193.293797 162.341122 \nL 196.467269 161.89288 \nL 199.790531 161.642073 \nL 203.434095 161.594757 \nL 207.10746 161.77324 \nL 210.736021 162.171566 \nL 214.245615 162.779369 \nL 217.563935 163.582026 \nL 220.439686 164.494947 \nL 223.033403 165.544407 \nL 225.156775 166.628633 \nL 226.956827 167.794712 \nL 228.312117 168.933054 \nL 229.274799 170.016088 \nL 229.902837 171.023777 \nL 230.279949 172.034365 \nL 230.400922 172.946219 \nL 230.308702 173.842878 \nL 230.00327 174.716032 \nL 229.48641 175.557514 \nL 228.678008 176.437079 \nL 227.625459 177.258522 \nL 226.210461 178.077033 \nL 224.381914 178.859275 \nL 222.270483 179.519854 \nL 219.714177 180.081837 \nL 216.905957 180.477102 \nL 213.67053 180.705082 \nL 210.261394 180.723412 \nL 206.744337 180.528603 \nL 203.18756 180.121405 \nL 199.660267 179.506808 \nL 196.231212 178.693949 \nL 192.967273 177.695928 \nL 189.932063 176.52953 \nL 187.357728 175.306679 \nL 185.077621 173.973297 \nL 183.25746 172.654093 \nL 181.854703 171.382659 \nL 180.735943 170.074528 \nL 179.971549 168.85589 \nL 179.464932 167.630582 \nL 179.23232 166.520716 \nL 179.218706 165.423729 \nL 179.424012 164.34822 \nL 179.846299 163.302586 \nL 180.481791 162.294954 \nL 181.420386 161.239737 \nL 182.600345 160.249725 \nL 184.148361 159.254785 \nL 185.949908 158.359102 \nL 188.162 157.511895 \nL 190.811496 156.754338 \nL 193.695111 156.167591 \nL 196.99008 155.737265 \nL 200.436062 155.517799 \nL 203.967271 155.511153 \nL 207.516067 155.715309 \nL 211.243885 156.158612 \nL 214.613239 156.775081 \nL 217.793867 157.571822 \nL 220.723055 158.531418 \nL 223.178491 159.555773 \nL 225.320699 160.684873 \nL 226.995829 161.808717 \nL 228.250125 162.894488 \nL 229.206338 164.011294 \nL 229.809335 165.049041 \nL 230.123758 165.993487 \nL 230.211708 166.929363 \nL 230.071527 167.847427 \nL 229.703607 168.738533 \nL 229.110418 169.593715 \nL 228.203213 170.482556 \nL 227.037912 171.306339 \nL 225.486357 172.118581 \nL 223.661132 172.828537 \nL 221.401864 173.469297 \nL 218.67916 173.996429 \nL 215.703179 174.342552 \nL 212.294024 174.502241 \nL 208.725576 174.43695 \nL 205.071973 174.144698 \nL 201.40944 173.628357 \nL 197.81459 172.89561 \nL 194.362708 171.958786 \nL 191.333759 170.914965 \nL 188.547525 169.724602 \nL 186.221966 168.504988 \nL 184.185699 167.193089 \nL 182.590287 165.916414 \nL 181.289398 164.59271 \nL 180.370248 163.351839 \nL 179.722918 162.097832 \nL 179.376207 160.957263 \nL 179.26288 159.826137 \nL 179.383762 158.714001 \nL 179.737535 157.630204 \nL 180.320764 156.583819 \nL 181.127937 155.583557 \nL 182.265444 154.546408 \nL 183.652056 153.585384 \nL 185.43065 152.634912 \nL 187.463899 151.797291 \nL 189.922945 151.028254 \nL 192.611728 150.41289 \nL 195.716885 149.930874 \nL 198.985356 149.642549 \nL 202.602329 149.552093 \nL 206.265774 149.687093 \nL 209.900278 150.042537 \nL 213.430585 150.608944 \nL 216.783057 151.372496 \nL 219.88712 152.31526 \nL 222.50175 153.337721 \nL 224.793241 154.476967 \nL 226.593393 155.619593 \nL 227.948056 156.729337 \nL 228.913361 157.778648 \nL 229.601542 158.845148 \nL 229.978924 159.818356 \nL 230.115128 160.784548 \nL 230.007887 161.733552 \nL 229.657278 162.655288 \nL 229.065744 163.539869 \nL 228.238105 164.377703 \nL 227.063638 165.234367 \nL 225.624998 166.011805 \nL 223.773224 166.757049 \nL 221.463108 167.429271 \nL 218.873156 167.947697 \nL 215.819539 168.321303 \nL 212.54867 168.49337 \nL 209.123452 168.457538 \nL 205.357618 168.185984 \nL 201.574653 167.675834 \nL 198.103054 166.991449 \nL 194.757929 166.116889 \nL 191.604506 165.066655 \nL 188.704186 163.858732 \nL 186.286987 162.614282 \nL 184.176985 161.27097 \nL 182.532348 159.961019 \nL 181.300831 158.716267 \nL 180.348345 157.443581 \nL 179.733965 156.27414 \nL 179.365194 155.103815 \nL 179.245416 153.943211 \nL 179.351329 152.915647 \nL 179.658706 151.911941 \nL 180.233313 150.833547 \nL 181.04759 149.803211 \nL 182.093425 148.830064 \nL 183.498901 147.835855 \nL 185.155333 146.931684 \nL 187.225494 146.05906 \nL 189.745138 145.25962 \nL 192.512491 144.622803 \nL 195.717693 144.128682 \nL 199.096733 143.8403 \nL 202.585387 143.76104 \nL 206.117175 143.890395 \nL 209.872331 144.255407 \nL 213.516514 144.844478 \nL 216.746053 145.583067 \nL 219.745078 146.487577 \nL 222.454291 147.53868 \nL 224.662968 148.626514 \nL 226.536175 149.801662 \nL 227.938501 150.945323 \nL 228.929007 152.027635 \nL 229.572882 153.027311 \nL 229.964532 154.030605 \nL 230.097153 154.927454 \nL 230.019495 155.810077 \nL 229.731435 156.670406 \nL 229.234612 157.500508 \nL 228.441955 158.378001 \nL 227.403059 159.198439 \nL 225.987731 160.023501 \nL 224.137364 160.817474 \nL 221.99322 161.487149 \nL 219.375231 162.058264 \nL 216.494555 162.456417 \nL 213.156416 162.680675 \nL 209.6404 162.685215 \nL 206.018862 162.466777 \nL 202.366666 162.026826 \nL 198.759525 161.371538 \nL 195.272321 160.511672 \nL 191.977442 159.462334 \nL 189.149905 158.334937 \nL 186.597575 157.078677 \nL 184.525161 155.822263 \nL 182.75719 154.490871 \nL 181.426717 153.22042 \nL 180.391024 151.917498 \nL 179.716158 150.717712 \nL 179.302375 149.515349 \nL 179.156611 148.440624 \nL 179.226689 147.38161 \nL 179.511829 146.34654 \nL 180.00945 145.343428 \nL 180.806218 144.275729 \nL 181.851434 143.267113 \nL 183.134107 142.327051 \nL 184.803256 141.382587 \nL 186.908556 140.471269 \nL 189.280051 139.695678 \nL 192.108616 139.020085 \nL 195.15895 138.525215 \nL 198.630994 138.202053 \nL 202.228529 138.100541 \nL 205.878736 138.22059 \nL 209.50744 138.557715 \nL 213.040502 139.103085 \nL 216.405229 139.843657 \nL 219.531786 140.762373 \nL 222.164341 141.756855 \nL 224.486697 142.867773 \nL 226.317653 143.978022 \nL 227.81792 145.15084 \nL 228.881443 146.264283 \nL 229.576198 147.294809 \nL 230.002881 148.330347 \nL 230.152874 149.256554 \nL 230.13947 149.765332 \nL 230.13947 149.765332 \n\" style=\"fill:none;stroke:#1f77b4;stroke-linecap:square;stroke-width:1.75;\"/>\n   </g>\n  </g>\n </g>\n <defs>\n  <clipPath id=\"p0f039d7b0f\">\n   <rect height=\"434.88\" width=\"434.88\" x=\"7.2\" y=\"7.2\"/>\n  </clipPath>\n </defs>\n</svg>\n",
      "text/plain": [
       "<Figure size 576x576 with 1 Axes>"
      ]
     },
     "metadata": {
      "needs_background": "light"
     },
     "output_type": "display_data"
    }
   ],
   "source": [
    "fig = plt.figure(figsize=(8,8))\n",
    "\n",
    "ax = fig.add_subplot(111, projection='3d')\n",
    "\n",
    "ax.plot(r[:,0], r[:,1], r[:,2])\n",
    "\n",
    "ax.set_xlabel(\"$x$\")\n",
    "ax.set_ylabel(\"$y$\")\n",
    "ax.set_zlabel(\"$z$\")\n",
    "plt.show()"
   ]
  },
  {
   "cell_type": "markdown",
   "metadata": {},
   "source": [
    "### Scattering  in a Plasma\n",
    "\n",
    "The picture above holds while the gyroradius is larger or smaller than the variation of the magnetic field. In the first case when $R_g \\ll (\\Delta B)$ the charge particle will follow the substructure of the magnetic field. In the second case $R_g \\gg (\\Delta B)$ the magnetic field irregularities are transparent to the particle. However when $R_g \\approx (\\Delta B)$ then the particle *sees* the magnetic irregularities. In this case the particle will scattered almost inelastically in this irregularities. The picture of a test-particle moving in a magnetic field is a simplistic one. In reallity cosmic ray particles propagate in collisionless, high-conductive, magnetized plasma consisting mainly of protons and electrons and very often the energy density of cosmic ray particles is comparable to that of the background medium. As a consequence of that, the electromagnetic field in the system is severely influenced by the cosmic ray particles and the description is more complex than the motion of a test charged particle in a fixed electromagnetic field. This will generate irregularities in the magnetic field. The **irregularities in the Galactic magnetic field** are responsible for the **diffusive propagation** of cosmic rays.\n"
   ]
  },
  {
   "cell_type": "markdown",
   "metadata": {
    "slideshow": {
     "slide_type": "skip"
    }
   },
   "source": [
    "### Diffusion\n",
    "\n",
    "The results above leads to think that CR experience diffusion in the galaxy. The equation that we used to relate the Boron production rate by the Carbon spallation process can be seen as a diffuse equation.\n",
    "\n",
    "In diffusion the continuity equation states that the variation of the density $N$ in time is given by its transfer of flux in area plus the source contribution:\n",
    "\n",
    "$$\\frac{\\partial N}{\\partial t}= - \\nabla \\cdot \\mathbf{J} + Q $$\n",
    "\n",
    "where $Q$ is intensity of any local source of this quantity and $\\mathbf{J}$ is the flux. \n",
    "\n",
    "**Fick's first law:** the diffusion flux is proportional to the negative of the concentration gradient in an isotropic medium:\n",
    "\n",
    "$$\\begin{aligned}\n",
    "\\mathbf{J}&=-D \\nabla N \\\\\n",
    "J_i&=-D \\frac{\\partial N}{\\partial x_i}\n",
    "\\end{aligned}$$\n",
    "\n",
    "where the proporcionality constant, $D$, is called diffusion coefficient. Which leads to the diffusion equation of:\n",
    "\n",
    "$$\\frac{\\partial N}{\\partial t} =  D\\Delta N + Q $$\n",
    "\n",
    "where $\\Delta$ (or $\\nabla^2$) is the Laplace operator.\n",
    "\n",
    "\n",
    "\n",
    "In the Leaky Box model the diffusion equation, ignoring other effects, can be written as:\n",
    "\n",
    "$$\\frac{\\partial N_i}{\\partial t} = D\\Delta N_i =-\\frac{N_i}{T_{esp}}$$\n",
    "\n",
    "We made use of the fact that the escape probability is constant per unit time (Poisson process) and so the distribution in time can be writen as: \n",
    "\n",
    "$$N_i(t) = n_0 e^{-\\frac{t}{T_{esc}}}$$ \n",
    "\n",
    "In the absent of collisions and other energy changing processes, the distribution of cosmic ray path lengths can also be written as: \n",
    "\n",
    "$$N_i(z) = n_0 e^{-\\frac{z}{H}}$$\n",
    "\n",
    "with $z$ the travel distance in the z-axis and $H$ the heigth of the *box*. Using both expressions of the cosmic ray distribution (in time and in space), together with the diffusion formula above give us equation:\n",
    "\n",
    "$$T_{esp} = \\frac{H^2}{D} $$\n",
    "\n",
    "However we found from the B/C ratio that $T_{esc} \\propto E^{-\\delta}$ with $\\delta = 0.55$, therefore the diffusion coefficient is:\n",
    "\n",
    "$$ D(E) \\propto E^{\\delta} \\sim E^{0.55}$$\n",
    "\n",
    "Note that physically $D = D(z)$ ie, diffussion will depend on distance to the disc, however in the leaky-box model we assumed that $D$ is independent of that, which it is only an approximation.\n",
    "\n"
   ]
  },
  {
   "cell_type": "markdown",
   "metadata": {
    "slideshow": {
     "slide_type": "subslide"
    }
   },
   "source": [
    "### The state-of-art of Diffusion\n",
    "\n",
    "The leaky box model is a very simplistic approximation but more\n",
    "realistic diffusion models, such as the numerical integration of the transport equation in the GALPROP code (Strong and Moskalenko 1998), lead to results for the major stable cosmic-ray nuclei, which are equivalent to the Leaky-Box predictions at high energy. However sofisticated models of transport should include effects such as:\n",
    "\n",
    "1. Diffusion coefficient non spatially constant.\n",
    "2. Anisotropic diffusion (Parallel vs Perpendicular)\n",
    "3. Effect of self-generation waves induced by CR.\n",
    "4. Damping of waves and its effects in CR propagation\n",
    "5. Cascading of modes in wavenumber space\n",
    "\n",
    "Each of these effects might change the predicted spectra and CR anisotropies in significant ways."
   ]
  },
  {
   "cell_type": "markdown",
   "metadata": {
    "slideshow": {
     "slide_type": "skip"
    }
   },
   "source": [
    "### Transport equation on Primaries\n",
    "\n",
    "The general simplified transport/dissusion equation that relate the abundances of CR elements can be given by:\n",
    "\n",
    "$$\\frac{\\partial N_i(E)}{\\partial t} =\\frac{N_i(E)}{T_{esc}(E)} = Q_i(E) - \\left(\\beta c n_H \\sigma_i + \\frac{1}{\\gamma\\tau_i}\\right)N_i(E) + \\beta c n_H \\sum_{k\\ge i}\\sigma_{k\\rightarrow i}N_K(E)$$\n",
    "\n",
    "where now $Q_i(E)$ is the **local production rate by a CR accelerator**, the middle part reprensents the **losses due to interactions** with cross-section $\\sigma_i$ and **decays for unestable nuclei** with lifetime $\\tau_i$. The last term is the **feed-down production** due to spallation processes of heavier CR. We can simplified this equation depending if we are dealing with Primary or Secondary CR:\n",
    "\n",
    "* Primaries $\\rightarrow$ neglect spallation feed-down.\n",
    "* Secondaries $\\rightarrow$ neglect production by sources: $Q_s = 0$\n",
    "\n",
    "For example, let's assume now a primary CR, $P$, where feed-down spallation is not taking place (ie, they are not product of heavier CR) and no decay (most nuclei are stable, one exception is $^{10}$Be which is unstable and $\\beta$-decay), the equation can be written as:\n",
    "\n",
    "$$\\frac{N_P(E)}{T_{esc}(E)} = Q_P(E) - \\frac{\\beta c \\rho_H N_P(E)}{\\lambda_P(E)} \\rightarrow N_P(E) = \\frac{Q_P(E)}{\\frac{1}{T_{esc}(E)}+\\frac{\\beta c \\rho_H}{\\lambda_P(E)}}$$\n",
    "\n",
    "where we wrote $n_H = \\rho_H/m$ and $\\lambda_P$ is the mean free path in ${\\rm g / cm}^2$."
   ]
  },
  {
   "cell_type": "markdown",
   "metadata": {
    "slideshow": {
     "slide_type": "subslide"
    }
   },
   "source": [
    "\n",
    "While $T_{esc}$ is the same for all nuclei with same rigidity, $\\lambda_i$ is different and depends on the mass of the nucleus. The equation suggests that at low energies the spectra for different nuclei will be different (eg for Fe interaction dominates over escape) and will be parallel at high energy if accelerated on the same source. For proton with interaction lengths $\\lambda_{proton} \\gg \\lambda_{esc}$ at all energies so the transport equation gets simplified to:\n",
    "\n",
    "$$N_{p}(E) = Q_p(E)\\cdot T_{esc}(E)$$\n",
    "\n",
    "ie, we observe at Earth a proton density of $N_p(E)\\propto E^{-(\\gamma +1)} \\sim E^{-2.7}$, and $T_{esc}(E)$ goes with the inverse of the diffusion coefficient $D(E)$, ie $T_{esc}(E) \\propto E^{-\\delta}$, then at the production site the spectrum must follow $Q_p(E) \\propto E^{-\\alpha}$ with:\n",
    "\n",
    "\n",
    "$$\\alpha = (\\gamma + 1) -\\delta \\approx 2.1$$\n"
   ]
  },
  {
   "cell_type": "markdown",
   "metadata": {},
   "source": [
    "## Acceleration\n",
    "\n",
    "Three questions:\n",
    "\n",
    "* What is the source of power?\n",
    "* What is the actual mechanism?\n",
    "* Can it reproduce the spectral index found?"
   ]
  },
  {
   "cell_type": "markdown",
   "metadata": {
    "slideshow": {
     "slide_type": "slide"
    }
   },
   "source": [
    "### Energy density of galactic cosmic-rays\n",
    "\n",
    "In cosmic ray physics we called spectrum to the flux per stero radian, so the relationship between them is:\n",
    "\n",
    "$$\\Phi (E) = \\int_\\Omega {\\rm d} \\Omega I(E) = 4\\pi I(E)$$\n",
    "\n",
    "For all-hemispheres. So we can relate the number density of CR with the spectrum by:\n",
    "\n",
    "$$n(E) = \\frac{4\\pi}{v}I(E)$$\n",
    "\n",
    "since the flux is just the number density times the velocity.\n",
    "\n",
    "And so **kinetic energy density** of CR, $\\rho_{CR}$ is therefore the integral of the **energy density spectrum**, $E\\cdot n(E)$:\n",
    "\n",
    "$$\\rho_{CR} = \\int E n(E) {\\rm d} E =4\\pi \\int \\frac{E}{v}I(E) {\\rm d} E$$\n",
    "\n",
    "assuming for the Galactic CR (and that $v = c$ for relativistic particles):\n",
    "\n",
    "$$ I(E) \\approx 1.8 \\times 10^4 \\left(\\frac{E}{1\\; \\rm{GeV}}\\right)^{-2.7} \\frac{\\rm{nucleons}}{\\rm{m}^2\\; \\rm{s\\;sr\\;GeV}}$$\n",
    "\n",
    "we can calculate the energy density for cosmic-rays from above the solar modulations up the *knee*, which is given by:\n",
    "\n",
    "$$ \\rho_{CR} = \\frac{4\\pi}{c} \\frac{1.8}{1 - 1.7} \\left[\\left(\\frac{E_{max}}{1\\;\\rm{GeV}}\\right)^{1 -1.7} - \\left(\\frac{E_{min}}{1\\;\\rm{GeV}}\\right)^{1 -1.7}\\right] \\approx 1\\; {\\rm ev\\; cm}^{-3}$$\n",
    "\n",
    "\n"
   ]
  },
  {
   "cell_type": "code",
   "execution_count": 9,
   "metadata": {},
   "outputs": [
    {
     "data": {
      "text/latex": [
       "The energy density is $\\rho_{CR} \\approx 1.08$ ${\\rm ev/cm}^{3}$"
      ],
      "text/plain": [
       "<IPython.core.display.Latex object>"
      ]
     },
     "execution_count": 9,
     "metadata": {},
     "output_type": "execute_result"
    }
   ],
   "source": [
    "import scipy.constants as cte\n",
    "from astropy.constants import pc\n",
    "\n",
    "cspeed = cte.value(\"speed of light in vacuum\") * 1e2 # in cm/s\n",
    "\n",
    "emin = 1. #GeV\n",
    "emax = 1e5 # 100 TeV\n",
    "rho = 4 * np.pi /cspeed * 1.8 / (1 - 1.7) * (np.power(emax,1-1.7) - np.power(emin,1-1.7)) * 1e9 # in ev cm-3\n",
    "\n",
    "Latex(r\"The energy density is $\\rho_{CR} \\approx %.2f$ ${\\rm ev/cm}^{3}$\" %rho)"
   ]
  },
  {
   "cell_type": "markdown",
   "metadata": {},
   "source": [
    "This energy density is comparable with the energy density of the CMB $\\rho_{CMB} \\approx 0.25$ eV/cm$^{3}$"
   ]
  },
  {
   "cell_type": "markdown",
   "metadata": {},
   "source": [
    "### Power required for galactic cosmic-rays\n",
    "\n",
    "If we assume this value to be the constant value over the galaxy, the power required (called *luminosity* in astrophysics) to supply all the galactic CR and balance the escape processes is:\n",
    "\n",
    "$$\\mathcal{L}_{CR} = \\frac{V_D \\rho_{CR}}{\\tau_{esc} }\\sim 4\\times 10^{40} {\\rm erg\\;s}^{-1}$$"
   ]
  },
  {
   "cell_type": "markdown",
   "metadata": {},
   "source": [
    "where $V_D$ is the volume of the galactic disk\n",
    "\n",
    "$$V_D = \\pi R^2 d \\sim \\pi (15 {\\rm kpc})^2(300 {\\rm pc}) \\sim 6 \\times 10^{66} {\\rm cm}^3.$$\n"
   ]
  },
  {
   "cell_type": "code",
   "execution_count": 12,
   "metadata": {},
   "outputs": [
    {
     "data": {
      "text/latex": [
       "Galactic Volume is 6.2e+66 ${\\rm cm}^{-3}$"
      ],
      "text/plain": [
       "<IPython.core.display.Latex object>"
      ]
     },
     "execution_count": 12,
     "metadata": {},
     "output_type": "execute_result"
    }
   ],
   "source": [
    "R = 15000 * pc.to(\"cm\").value # radius in Cm\n",
    "h = 300 * pc.to(\"cm\").value\n",
    "Vd = np.pi * R **2 * h\n",
    "Latex(r\"Galactic Volume is %.1e ${\\rm cm}^{-3}$\" %Vd)"
   ]
  },
  {
   "cell_type": "code",
   "execution_count": 13,
   "metadata": {},
   "outputs": [
    {
     "data": {
      "text/latex": [
       "Power $\\mathcal{L}_{CR} \\sim$ 1e+40 ${\\rm erg \\; s}^{-1}$"
      ],
      "text/plain": [
       "<IPython.core.display.Latex object>"
      ]
     },
     "execution_count": 13,
     "metadata": {},
     "output_type": "execute_result"
    }
   ],
   "source": [
    "evtoerg = cte.value(\"electron volt-joule relationship\") * 1e7 \n",
    "tesc = 1e14 # s cm^3 at 1 GeV\n",
    "tesc = tesc/0.1 # s\n",
    "power = (Vd * rho) * evtoerg / tesc\n",
    "Latex(r\"Power $\\mathcal{L}_{CR} \\sim$ %.0e ${\\rm erg \\; s}^{-1}$\" %(power))"
   ]
  },
  {
   "cell_type": "markdown",
   "metadata": {
    "slideshow": {
     "slide_type": "subslide"
    }
   },
   "source": [
    "\n",
    "It was emphasized long ago (Ginzburg & Syrovatskii 1964) that supernovae might account for this power. For example a type II supernova gives an average power output of:\n",
    "\n",
    "$$\\mathcal{L}_{SN} \\sim 3 \\times 10^{42} {\\rm erg\\;s}^{-1}$$\n",
    "\n",
    "Therefore if SN transmit a few percent of the energy into CR it is enough to account for the total energy in the cosmic ray beam. That was called the **SNR paradigm**"
   ]
  },
  {
   "cell_type": "markdown",
   "metadata": {
    "slideshow": {
     "slide_type": "subslide"
    }
   },
   "source": [
    "### Power required for > 100 TeV\n",
    "\n",
    "The derivation above was considered using the CR flux with an integral spectral index of $\\gamma = \\alpha -1 =  1.7$ which describes well the CR up to the *knee*. This is the bulk of cosmic ray density. The power required for the high energy part will be significantly less due to the steeply falling primary cosmic ray spectrum. For example assuming an integral index of $\\gamma = 1.6$ for $E < 1000$ TeV and $\\gamma = 2$ for higher energy we get:\n",
    "\n",
    "$$\\begin{aligned}\n",
    "\\sim 2 \\times 10^{39} {\\;\\rm\\;erg/s\\; for\\; } E &> 100 {\\rm\\; TeV}\\\\\n",
    "\\sim 2 \\times 10^{38} {\\;\\rm\\;erg/s\\; for\\; } E &> 1 {\\rm\\; PeV}\\\\\n",
    " \\sim 2 \\times 10^{37} {\\;\\rm\\;erg/s\\; for\\; } E &> 10 {\\rm\\; PeV}\n",
    " \\end{aligned}$$\n",
    "\n",
    "which are considerably less than the total power required for all the cosmic-rays. This power might be available from a few very energetic sources.\n",
    "\n",
    "\n",
    "\n"
   ]
  },
  {
   "cell_type": "markdown",
   "metadata": {
    "slideshow": {
     "slide_type": "slide"
    }
   },
   "source": [
    "### Fermi Acceleration\n",
    "Fermi studied how it is posible to transfer macroscopic kinetic energy of moving magnetized plasma to individual particles. He considered an iterative process in which for each *encounter* a particle gains energy which is proportional to the energy.\n",
    "\n",
    "Let's write the increase in energy as $\\Delta E = \\xi E$ after $n$ encounters then:\n",
    "\n",
    "$$E_n = E_0(1 + \\xi)^n$$\n",
    "\n",
    "where $E_0$ is the injection energy in the *acceleration region*. If the probability of escaping this *acceleration region* is $P_{esc}$ per *encounter*, after $n$ the remaining probability is $(1 - P_{esc})^n$. To reach a given energy $E$ we need:\n",
    "\n",
    "$$n = \\log\\left(\\frac{E_n}{E_0}\\right)/\\log(1 + \\xi)$$ \n",
    "\n",
    "after each interaction there is a fraction $(1-P_{esc})$ that remain and the rest escapes the accelerator. If $N_0$ particles entered the \"encounter\" in the first place, after $n$ interaction those remaining are:\n",
    "\n",
    "$$N(\\ge  E_n) = N_0(1- P_{esc})^n $$\n",
    "\n",
    "These particles will always eventually escape since $P_{esc}$ is not 0, but for any given number of cycles, $n$, we can be sure that those remaining particles (whenever they escape) will have more energy than those that escaped at the cycle $n$.  We can rewrite:\n",
    "\n",
    "$$\\log\\left(\\frac{N}{N_0}\\right) = n(1 - P_{esc}) $$\n",
    "\n",
    "\n",
    "equalling $n$ with the equation above we have:\n",
    "\n",
    "$$\\frac{\\log (N/N_0)}{\\log (E_n/E_0)} = \\frac{\\log(1-P_{esc})}{\\log(1+ \\xi)}$$\n",
    "\n",
    "For any given energy then we have:\n",
    "\n",
    "$$N(\\ge E) = N_0 \\left(\\frac{E}{E_0}\\right)^{-\\gamma}$$\n",
    "\n",
    "where we defined \n",
    "\n",
    "$$\\gamma = \\log\\left(\\frac{1}{1-P_{esc}}\\right)\\frac{1}{\\log (1+\\xi)} \\approx \\frac{P_{esc}}{\\xi} = \\frac{1}{\\xi}\\cdot\\frac{T_{cycle}}{T_{esc}}$$\n",
    "\n",
    "where $T_{cycle}$ is the characteristic time of acceleration cycle, and $T_{esc}$ is the characteristic time to escape the acceleration region.\n",
    "\n",
    "Note that $N(\\ge E)$ is the integral spectrum, the differntial spectrum is given by:\n",
    "\n",
    "$$ n(E) \\propto E^{-1 - \\gamma} $$\n"
   ]
  },
  {
   "cell_type": "markdown",
   "metadata": {},
   "source": [
    "### Fermi Mechanism\n",
    "\n",
    "\n",
    "A mechanism working for a time $t$ will produce a maximum energy:\n",
    "\n",
    "$$E\\leq E_0 (1+\\xi)^{t/T_{cycle}}$$\n",
    "\n",
    "Two characteristic features are apparent from this equation: \n",
    "\n",
    "* High energy particles take longer to accelerate\n",
    "* If a given kind of Fermi accelerator has a limited lifetime this will be characterize by a maximum energy per particle that can produce."
   ]
  },
  {
   "cell_type": "markdown",
   "metadata": {},
   "source": [
    "#### General mechanism\n",
    "\n",
    "In the general mechanism we can imagine a particle encountering something moving at a speed $\\beta$. This \"something\" can be for example a magnetic cloud."
   ]
  },
  {
   "cell_type": "markdown",
   "metadata": {},
   "source": [
    "<div align=\"center\">\n",
    "<img src=\"images/fermi_general.jpeg\" width=\"50%\">\n",
    "</div>"
   ]
  },
  {
   "cell_type": "markdown",
   "metadata": {
    "slideshow": {
     "slide_type": "subslide"
    }
   },
   "source": [
    "In this general approach, the particle might enter at different angles and exit at difference angles. Let's assume $O^\\prime$ to be the reference system where the magnetic cloud is in the rest frame. A particle with energy $E_1$ in the lab reference system will have total energy in this reference system given by the boost transformation with $\\beta$ being the speed of the plasma flow (cloud:\n",
    "\n",
    "$$E_1^\\prime = \\gamma E_1 (1 -\\beta \\cos\\theta_1)$$\n",
    "\n",
    "Before leaving the gas cloud the particle has an anegy $E_2^\\prime$. If we transform this back to the lab reference system we get:\n",
    "\n",
    "$$E_2 = \\gamma E_2^\\prime (1 +\\beta \\cos\\theta_2^\\prime)$$\n",
    "\n",
    "As the particle suffers from colissioness scatterings inside the cloud the energy in the moving frame just before it escapes is $E_2^\\prime = E_1^\\prime$ and so we can calculate the increment in energy $\\Delta E = E_2 - E_1$ as:\n",
    "\n",
    "$$\\xi = \\frac{\\Delta E}{E_1}  = \\frac{1 - \\beta \\cos \\theta_1 + \\beta\\cos\\theta_2^\\prime - \\beta^2\\cos\\theta_1\\cos\\theta_2^\\prime}{1 - \\beta^2} -1$$"
   ]
  },
  {
   "cell_type": "markdown",
   "metadata": {},
   "source": [
    "### Fermi 2nd order acceleration.\n",
    "\n",
    "In the **second order** (first chronologically) Fermi considered *encounters* with moving clouds of plasma. "
   ]
  },
  {
   "cell_type": "markdown",
   "metadata": {},
   "source": [
    "<div align=\"center\"><img src=\"images/Fermi2nd.png\" width=\"50%\"> </div>"
   ]
  },
  {
   "cell_type": "markdown",
   "metadata": {
    "slideshow": {
     "slide_type": "subslide"
    }
   },
   "source": [
    "* The scattered angle is uniform so the average value is $\\langle \\cos\\theta_2^\\prime\\rangle = 0$.\n",
    "\n",
    "* The probability of collision at angle $\\theta$ with the cloud of speed V is proportional to the relative velocity between the cloud and the particle $c$ if we assume it relativistic (factor $1/2$ is there to have a proper normalization):\n",
    "\n",
    "\n",
    "$$\\frac{dn}{d\\cos \\theta_1} = \\frac{1}{2}\\frac{c - V\\cos\\theta_1}{c}=\\frac{1 -\\beta \\cos\\theta_1}{2}, {\\;\\; \\rm for -1 \\leq \\cos\\theta_1 \\leq 1}$$\n",
    "\n",
    "and so:\n",
    "\n",
    "$$\\langle \\cos\\theta_1\\rangle = \\frac{\\int \\cos\\theta_1 \\cdot \\frac{dn}{d\\cos\\theta_1} d\\cos\\theta_1}{\\int \\frac{dn}{d\\cos\\theta_1}d\\cos\\theta_1} = - \\frac{\\beta}{3}$$\n",
    "\n",
    "Particles can gain or lose energy depending on the angles, but on average the gain is \n",
    "\n",
    "\n",
    "$$\\xi = \\frac{1 + \\frac{1}{3}\\beta^2}{1 - \\beta^2} \\sim \\frac{4}{3}\\beta^2$$"
   ]
  },
  {
   "cell_type": "markdown",
   "metadata": {
    "slideshow": {
     "slide_type": "subslide"
    }
   },
   "source": [
    "\n",
    "#### Problems with the 2nd order acceleration\n",
    "\n",
    "* The energy increase is second order of $\\beta$ and..\n",
    "* ... the random velocities of clouds are relatively small: $\\beta \\sim 10^{-4}$ !!!\n",
    "* Some collisions result in energy losses! Only with the average one finds a net increase.\n",
    "* Very little chance of a particle gaining significant energy!\n",
    "* The theory does not predict the power law exponent\n"
   ]
  },
  {
   "cell_type": "markdown",
   "metadata": {
    "slideshow": {
     "slide_type": "subslide"
    }
   },
   "source": [
    "### Fermi Acceleration 1st order acceleration.\n",
    "\n",
    "Let's imagine a shock moving through a plasma. In the reference system of the *unshocked* plasma the shock front approaches with speed $\\vec{u_1}$ while the *shocked* plasma (left behind) moves at a slower velocity $\\vec{V}$ where $|V| < |u_1|$. If we now changed to the reference system where the shock-front is at rest the gas *unshocked* now appears to approach speed $-\\vec{u_1}$ while the *shocked* plasma recedes with speed ${-\\vec u_2 = (\\vec{V} - \\vec u_1)}$. A test cosmic ray particle crossing from any side of the shock, will always face an encounter with plasma aproaching at speed $|V|$, hence $\\beta$ now refers to this speed, the speed of the shocked (downstream) gas in the upstream reference system.\n"
   ]
  },
  {
   "cell_type": "markdown",
   "metadata": {
    "slideshow": {
     "slide_type": "skip"
    }
   },
   "source": [
    "\n",
    "* The outcoming distribution of particles is not now 0, there is an asymmetry in the Fermi shock acceleration model, as particle in the upstream will re-enter the shock, only those going downstream can escape. Therefore the distribution follows the projection of an uniform flux on a plane:\n",
    "\n",
    "$$\\frac{dn}{d\\cos \\theta_2^\\prime} = 2 \\cos\\theta_2^\\prime{\\;\\; \\rm for\\;  0 \\leq \\cos\\theta_2^\\prime \\leq 1}$$\n",
    "\n",
    "which gives:\n",
    "\n",
    "\n",
    "$$\\langle \\cos\\theta_2^\\prime\\rangle = \\frac{\\int \\cos\\theta_2^\\prime \\cdot \\frac{dn}{d\\cos\\theta_2^\\prime} d\\cos\\theta_2^\\prime}{\\int \\frac{dn}{d\\cos\\theta_2^\\prime}d\\cos\\theta_2^\\prime} = \\frac{2}{3}$$\n",
    "\n",
    "* The incoming angle distribution is also the projection of an uniform flux on a plen but this time with  $-1 \\leq \\cos\\theta_1 \\leq 0$ and so $\\langle \\cos \\theta_1 \\rangle = -2/3$\n",
    "\n",
    "\n",
    "Particles entering the shockwave and exiting will have a gain of:\n",
    "\n",
    "$$\\xi = \\frac{1 + \\frac{4}{3}\\beta + \\frac{4}{9}\\beta^2}{1 -\\beta^2} - 1 \\sim \\frac{4}{3}\\beta = \\frac{4}{3}\\frac{u_1 - u_2}{c}$$"
   ]
  },
  {
   "cell_type": "markdown",
   "metadata": {
    "slideshow": {
     "slide_type": "slide"
    }
   },
   "source": [
    "### Fermi Acceleration: Escape probability\n",
    "\n",
    "The escape probability of loss rate of particles is given by the ratio of the incoming flux and the outgoing flux of particles."
   ]
  },
  {
   "cell_type": "markdown",
   "metadata": {
    "slideshow": {
     "slide_type": "skip"
    }
   },
   "source": [
    "\n",
    "\n",
    "* **Incoming rate.** Let's assume that the diffusion of particles is so effective that close to the shockwave the distribution of particles is isotropic. In this case the rate of encounters for a plane shock is the projection of an isotropic flux onto the plane shock. Let's assume $n$ to be the density of particles close to the shock, because it is isotropic it should follow:\n",
    "\n",
    "$${\\rm d}n = \\frac{n}{4\\pi}{\\rm d}\\Omega$$\n",
    "\n",
    "assuming the particles moving at relativistic speed, the velocity across the shock is $c\\cos\\theta$ therefore the rate of encounters of particles upstream with the shock is given by:\n",
    "\n",
    "$$R_{in} = \\int {\\rm d} n c \\cos\\theta = \\int_0^1 {\\rm d} \\cos \\theta \\int_0^{2\\pi} {\\rm d} \\phi\\frac{cn(E)}{4\\pi}\\cos\\theta = \\frac{cn(E)}{4}$$\n",
    "\n",
    "where $n(E)$ is the CR number density. \n",
    "    \n",
    "* **Outgoing rate.** The outgoing rate is simply the number of particles escaping the system. In the shock rest frame, that's all particles not returning to the shockwave. In this reference system there is an outflow of cosmic-rays adverted downstream. Since particles are diffusing in all direction, the net outflow goes with the velocity of the downstream speed and is given simply by $R_{out} = n(E) u_2$,\n",
    "\n",
    "Therefore the escape probability is given by:\n",
    "\n",
    "$$P_{esc} = \\frac{R_{in} }{R_{out} }= \\frac{4 u_2}{c}$$\n",
    "\n",
    "which for acceleration at shock gives:\n",
    "\n",
    "$$\\gamma = \\frac{P_{esc}}{\\xi} = \\frac{3}{u_1/u_2 -1}$$\n",
    "\n",
    "So we get an estimate of the spectral index based on the relative velocities of the downstream and upstram gas in the sockwave."
   ]
  },
  {
   "cell_type": "markdown",
   "metadata": {
    "slideshow": {
     "slide_type": "subslide"
    }
   },
   "source": [
    "### Fermi acceleration: Kinematic relations at the shock\n",
    "In order to derive the exact value of the spectral index we need to obtain a relation between $u_1$ and $u_2$ using the kinematics of a shock wave. This equations are the conservation of mass, the Euler equation for momentum conservation and conservation of energy: \n"
   ]
  },
  {
   "cell_type": "markdown",
   "metadata": {
    "slideshow": {
     "slide_type": "skip"
    }
   },
   "source": [
    "* **Conservation of mass**:\n",
    "$$\\partial_t \\rho + \\nabla \\cdot (\\rho\\vec{u}) = 0$$\n",
    "\n",
    "\n",
    "* **Conservation of momentum (Euler equation)**:\n",
    "\n",
    "$$\\rho\\frac{\\partial \\vec{u}}{\\partial t} + \\rho \\vec{u} \\cdot(\\nabla\\vec{u}) = \\vec{F} - \\nabla P$$\n",
    "\n",
    "where $\\vec{F}$ is an external force, and $\\nabla P$ is a force due to a pressure gradient. \n",
    "\n",
    "* **Conservation of energy**:\n",
    "\n",
    "$$\\frac{\\partial}{\\partial t} \\left(\\frac{\\rho u^2}{2} + \\rho U + \\rho\\Phi\\right) + \\nabla\\cdot\\left[\\rho \\vec{u}\\left(\\frac{u^2}{2} + U + \\frac{P}{\\rho} + \\Phi\\right)\\right] = 0 $$\n",
    "\n",
    "where this equation accounts for the kinetic, internal, and potential energy $\\Phi$. \n",
    "\n",
    "Let's assume a one-dimensional, steady shock in its rest frame (otherwise time derivates must be taking into account). \n",
    "\n",
    "Then the first equation becomes simply:\n",
    "$$\\frac{d}{dx} (\\rho u) = 0$$ \n",
    "\n",
    "and the Euler equation simplifies to:\n",
    "\n",
    "$$\\frac{d}{dx}(P + \\rho u^2) = 0$$\n",
    "\n",
    "In the energy equation we assume $\\Phi = 0$:\n",
    "\n",
    "$$\\frac{d}{dx}\\left(\\frac{\\rho u^3}{2} + (\\rho U + P)u\\right) = 0 $$\n",
    "\n",
    "$$\\frac{d}{dx}\\left[ \\rho u \\left(\\frac{u^2}{2} + U + \\frac{P}{\\rho}\\right) \\right] = 0 $$\n",
    "\n",
    "where U is the internal density per unit volume and we can write $ \\rho U = \\frac{P} {\\Gamma -1}$, where $\\Gamma = c_p/c_v$ is the [adiabatic index](http://en.wikipedia.org/wiki/Heat_capacity_ratio) or heat capacity ratio.\n",
    "\n",
    "\n"
   ]
  },
  {
   "cell_type": "markdown",
   "metadata": {},
   "source": [
    "#### Condition at the discontinuity of the shock wave\n",
    "\n",
    "Let's assume we are in the shock ref system. Applyting these equations at the discontinuity of the shock we have the three conditions at the discontinuity of the shock:\n",
    "\n",
    "$$\\begin{aligned}\n",
    "\\rho_1 u_1 &= \\rho_2 u_2\\\\\n",
    "P_1 + \\rho_1 u_1^2 &= P_2 + \\rho_2 u_2^2\\\\\n",
    "\\frac{\\rho_1 u_1^2}{2} + \\frac{\\Gamma}{\\Gamma - 1} P_1 &=\\frac{\\rho_2 u_2^2}{2} + \\frac{\\Gamma}{\\Gamma - 1}  P_2\\\\\n",
    "\\end{aligned}$$\n",
    "\n",
    "\n",
    "For a gas with $P = K \\rho^\\Gamma$ the speed of sound can be written as $c_s = \\sqrt{\\Gamma P / \\rho}$ or $\\rho c_s^2 = \\Gamma P$. From the second condition we can write:\n",
    "\n",
    "$$ P_1 + \\rho_1 u_1^2 =  \\rho_1 u_1^2 \\left( 1 + \\frac{P_1}{\\rho_1 u_1^2}\\right)  = \\rho_1 u_1^2 \\left( 1 + \\frac{c_s^2}{\\Gamma u_1^2}\\right) = \\rho_1 u_1^2 \\left(1 + \\frac{1}{\\mathcal{M_1}\\Gamma}\\right) $$\n",
    "\n",
    "For strong shocks $\\mathcal{M_1} \\gg 1$ then the presure in the upstream is neglicable $P_1 \\sim 0$\n",
    "\n",
    "We can isolate $\\rho_2$ and $P_2$ as:\n",
    "\n",
    "$$\\rho_2 = \\frac{u_1}{u_2} \\rho_1$$\n",
    "\n",
    "$$P_2 = P_1 + \\rho_1 u_1^2 - \\rho_1 \\frac{u_1}{u_2}u_2^2 = P_1 + \\rho_1 u_1 (u_1 - u_2) \\sim \\rho_1 u_1 (u_1 - u_2)$$\n",
    "\n",
    "\n",
    "Using these expression ot eliminate $\\rho_2$ and $P_2$ from the third (enegy conservation) equation we have:"
   ]
  },
  {
   "cell_type": "markdown",
   "metadata": {},
   "source": [
    "$$\\frac{1}{2}u_1^2 = \\frac{1}{2}u_2^2 + \\frac{\\Gamma}{\\Gamma -1}\\frac{P_2}{\\rho_2} = \\frac{1}{2}u_2^2 + \\frac{\\Gamma}{\\Gamma -1} u_2 (u_1 - u_2)$$\n",
    "\n",
    "grouping by powers of $u_2$:\n",
    "\n",
    "$$\\left(\\frac{\\Gamma}{\\Gamma -1} - \\frac{1}{2}\\right) u_2^2 - \\frac{\\Gamma}{\\Gamma -1} u_2u_1 + u_1^2 = 0 $$\n",
    "\n",
    "multiplying by $2/u_1^2$:\n",
    "$$\\left(\\frac{\\Gamma + 1 }{\\Gamma -1}\\right) t^2 - \\frac{2\\Gamma}{\\Gamma -1} t + 1 = 0$$\n",
    "\n",
    "where we defined $t \\equiv u_2/u_1$ this quadratic equation has the 2 solutions:\n",
    "\n",
    "$$ t = 1 \\rightarrow u_1 = u_2$$\n",
    "\n",
    "ie, no shock at all, and a second solution given by:\n",
    "\n",
    "$$ t = \\frac{\\Gamma - 1}{\\Gamma + 1} \\rightarrow \\frac{u_2}{u_1} = \\frac{\\Gamma - 1}{\\Gamma +1}$$\n",
    "\n",
    "for a monatomic gas with 3 degrees of freedom the ratio of specific heats is $\\Gamma = 1 + 1/f = \\frac{5}{3}$, so\n",
    "\n",
    "$$\\frac{u_2}{u_1} = \\frac{1}{4}$$"
   ]
  },
  {
   "cell_type": "markdown",
   "metadata": {
    "slideshow": {
     "slide_type": "skip"
    }
   },
   "source": [
    "No matter how strong a shock wave is, a mono-atomic gas can only be compressed by a factor of 4. The spectral index is then:\n",
    "\n",
    "$$\\gamma = \\frac{P_{esc}}{\\xi} = \\frac{3}{u_1/u_2 -1} = 1$$\n",
    "\n",
    "If one keeps the factors of $1/\\mathcal{M}^2$ (to prove if you are brave):\n",
    "\n",
    "$$\\gamma \\sim 1 + \\frac{4}{\\mathcal{M}^2} \\sim 1.1$$\n",
    "\n",
    "Which matches remarkably to what we derived to be the differential spectral index at the accelerator:\n",
    "\n",
    "$$ n(E) \\propto E^{-(\\gamma+1)} \\sim E^{-2.1} $$"
   ]
  },
  {
   "cell_type": "markdown",
   "metadata": {
    "slideshow": {
     "slide_type": "subslide"
    }
   },
   "source": [
    "### Fermi acceleration: Maximum Energy\n",
    "\n",
    "In an infinite planar shockwave, all particles upstream will encounter again the shochwave. However particles can advent downstream. In diffuse shock accelerations, particules will diffuse travelling a distance $l_D$ upstream, until they are reached by the shock moving at spead $u_1$ in the upstream reference system. Particles will cross when:\n",
    "\n",
    "$$\\begin{aligned}\n",
    "l_d &\\simeq \\sqrt{D t_d} \\\\\n",
    "l_d &= u_1 t_d \\\\\n",
    "t_d &\\approx \\frac{D}{u_1^2}\n",
    " \\end{aligned}$$\n",
    "\n",
    "Assuming a diffusion that depends on energy in the form of $D = D_0 E^{\\alpha}$ we can get that the maximum energy corresponds to:\n",
    "\n",
    "$$E_{max} \\leq \\left(\\frac{u_1^2 t_d}{D_0}\\right)^{\\frac{1}{\\alpha}}$$\n",
    "\n",
    "where we can assume $t_d$ to be the time during which the mechanism is working, ie the livetime of the shockwave $t_d \\sim t_{age}$. From the equation above we can conclude that the maximum energy:\n",
    "\n",
    "* increases with time\n",
    "* depends on: age, shock speed, magnetic field intensity and structure (through D)\n",
    "* is not universal\n",
    "* $D$ and therefore $l_d$ increases with energy, and the each cycle energy increases, so the last cycle is the longest\n",
    "\n",
    "\n",
    "We can rewrite the diffusion coefficient as: \n",
    "$$ D \\sim \\frac{l_d^2}{t_d} = l_d v $$\n",
    "where $v$ is the particle speed. A more detailed analysis gives $D = \\frac{1}{3}l_d v$ where the factor 3 comes from the 3 dimensions. In other words, the diffussion coefficient can be understood as the product of the particle velocity $v \\simeq c$ and its mean free path. At high energies, the mean free path between scatterings in the turbulent magnetic clous can be approximate as $l_d = r_L/r_0$, where $r_0$ is the size of the magnetic cloud and $r_L$ the Larmor radius of the particle. Assuming that $r_L \\gg r_0$ we can re-write:\n",
    "\n",
    "$$ D = \\frac{r_L c}{3} \\sim \\frac{1}{3}\\frac{E c}{Z eB} $$\n",
    "\n",
    "Another way to see this, is to assume that mean diffusion path $l_d$ cannot be smaller than the Larmor radius, since a magnetic field irregularities in a smaller scale than the Larmor radisu will be transparent. This is the regime of the Bohm diffusion and it is possible in higly turbulent magnetic fields, something that theoreticians think is possible when CR excite magnetic turbulence at shocks while being accelerated. This is called magnetic field amplification.\n",
    "\n",
    "In that case, the diffusion coefficient depends linearly with energy ($\\alpha = 1$) and the equation above can be rewritten as:\n",
    "\n",
    "$$E_{max} \\leq 3 \\frac{u_1}{c} Z e B (u_1 t_{age})$$\n",
    "\n",
    "where $t_{age}$ is the time in which the accelerator is working. Note that the product $(u_1 t_{age})$ is the radius of a expanding shell. Using some estimates on the time ($t_{age} \\sim$ 1000 yrs as the typical SN shockwave) and $B_{ISM} \\sim 3 \\mu$G we can rewrite the maximum energy for SN shockwaves as:\n",
    "\n",
    "$$E_{max} \\leq Z\\times 3 \\times 10^4 {\\rm GeV}$$\n",
    "\n",
    "In order words, the shock-wave acceleration shown can accelerate CR **up to 100 Z TeV**, but not beyond this. Other acceleration mechanism are needed for the highest energy cosmic rays. We need very high magnetic fields (non-lineal acceleration mechanism). In these cases, even if this object cannot supply the all the galactic cosmic rays the energy per particle may be orders of magnitude higher than those possible in shock acceleration by blast waves. "
   ]
  },
  {
   "cell_type": "markdown",
   "metadata": {},
   "source": [
    "### Hillas Plot\n",
    "The equation of the maximum energy from shock acceleration can be rewritten as:\n",
    "\n",
    "$$E_{max} \\leq 10^{18} {\\rm eV}\\; Z \\;\\beta_s \\left(\\frac{R}{\\rm{kpc}}\\right)\\left(\\frac{B}{\\mu\\rm{G}}\\right)$$\n",
    "\n",
    "where $\\beta_s$ is the shock velocity, $B$ the magnetic field strength, and  $R = u_1 t_{age}$ is the radius of the expanding shockwave, or in other words the size of the acceleration reguin. In 1984 Hillas arrived to a similar conclusion just by doing a back-of-an-envelope assumption that in order for it to accelerate CR particles to high\n",
    "energies in which he impossed that a condition where the size of the acceleration region must be at least twice the Larmor radius. The plot showing possible sources in the parameter space $B$ vs $R$ is usually referred as the Hillas' plot. For relativistic shockwaves ($\\beta_s \\sim 1$) many sources are able to accelerate protons up to $10^{20}$ eV, however for slower shockwaves ($\\beta_s \\sim 1/300$) the number of source candidates is strongly reduced. \n"
   ]
  },
  {
   "cell_type": "markdown",
   "metadata": {
    "slideshow": {
     "slide_type": "subslide"
    }
   },
   "source": [
    "<div align=\"center\"><img src=\"images/Hillas_plot.png\" width=\"50%\"> </div>"
   ]
  },
  {
   "cell_type": "markdown",
   "metadata": {
    "slideshow": {
     "slide_type": "slide"
    }
   },
   "source": [
    "## Sources of galactic cosmic rays\n",
    "\n",
    "### Supernova Remnants (SNRs)\n",
    "\n",
    "**Supernova remnants (SNR)** remain the most likely candidates for CR acceleration up to at least 10$^{14}$ eV via the Fermi shock mechanism. Supernova explosions are very violent events which transfer a significant amount of energy in the ISM. The explosion mechanism can be the carbon deflagration of white dwarts (Type I) or the core collapse of masssive stars (Type II) but the dynamical evolution of the supernova remnant (SNR) i.e., the expanding cloud of hot gas in the ISM is similar:\n",
    "\n",
    "* **Free Expansion Phase.** $M_{ej} \\ll M_{sw}$ The shock wave moves in the ISM gas a highly supersonic speed. The shock radius scales as: $R_s(t) = v_e t$. Behind the shockfront ISM gas starts to accumulate an a reverse shock starts to form. Sometimes we see first this reverse shock. At some point the compressed ISM gas equals the ejected material, this marks the end of the free expansion phase. It last less than 200-300 years.\n",
    "\n",
    "* **Sedov-Taylor Phase.** Once the reverse shock reaches the nucleus, the interior of the SNR gets very hot that energy losses due to radiation are not possible (all atoms are ionized). The cooling of the gas is only due to the expansion, that's why this phase is the adiabatic phase. The radius goes as $R \\propto t^{2/5}$. When temperature reaches the critical value of $10^{6}$ K ionized atoms start to capture free electrons and can lose energy due to de-exitation. This is the end of the adiabatic phase. This phase can last 20,000 years. *This is the phase when Cosmic Rays are mostly accelerated*. \n",
    "\n",
    "* **Cooling or Snowplough phase** Due to the effective radiative cooling the thermal presure decreases and the expansion slows down. More and more interstellar gas is accumulated until the swept-up mass is much larger than the ejected material. Finally the shell breaks up into clumps probably due to Rayleigh-Taylor inestabilities. This phase lasts up to 500,000 years.\n",
    "\n",
    "\n"
   ]
  },
  {
   "cell_type": "markdown",
   "metadata": {},
   "source": [
    "### The Tycho SNR"
   ]
  },
  {
   "cell_type": "markdown",
   "metadata": {},
   "source": [
    "<div align=\"center\">\n",
    "<img src=\"images/mach1000shoc.jpg\" width=\"50%\" > \n",
    "<div class=\"caption\">Source:X-ray: NASA/CXC/Rutgers/K. Eriksen et al.; Optical (starry background): DSS</div>\n",
    "</div>\n"
   ]
  },
  {
   "cell_type": "markdown",
   "metadata": {
    "slideshow": {
     "slide_type": "subslide"
    }
   },
   "source": [
    "This is a photograph of the Tycho supernova remnant taken by the Chandra X-ray Observatory. Low-energy X-rays (red) in the image show expanding debris from the supernova explosion and high energy X-rays (blue) show the blast wave, a shell of extremely energetic electrons. The X-ray emission of the debris is due to the reverse shock wave racing inward at Mach 1000 which is heating the remnant and causing it to emit X-ray light."
   ]
  },
  {
   "cell_type": "markdown",
   "metadata": {
    "slideshow": {
     "slide_type": "subslide"
    }
   },
   "source": [
    "### Other sources of Galactic Cosmic Rays\n",
    "\n",
    "\n",
    "* **Neutron stars** Neutron stars, especially young fast-rotating pulsars and magnetars have extreme magnetic fields (up to 10$^{12}$ G in the case of magnetars) with complex structure that could accelerate CR up to the highest energies. These objects are far rarer than SNRs, however, only a dozen magnetars are known in the Milky Way, although many could exist in the local neighborhood.\n",
    "\n",
    "* **Microquasars**  are radio-intense X-ray binary stars with companion orbiting an accreting black hole. They are particularly interesting particle accelerators due to observation of VHE gamma ray emission and highly relativistic jets which could provide energy for UHECR\n"
   ]
  },
  {
   "cell_type": "markdown",
   "metadata": {},
   "source": [
    "## The Knee and Beyond..."
   ]
  },
  {
   "cell_type": "markdown",
   "metadata": {},
   "source": [
    "### The Knee"
   ]
  },
  {
   "cell_type": "markdown",
   "metadata": {},
   "source": [
    "At energies of about 5 $\\times 10^{15}$ eV a steepening in the spectrum from $\\gamma \\sim 1.7 \\rightarrow \\gamma \\sim 2$ known as the *knee* takes place. \n",
    "Already Peters in 1959 concluded that it could be due to:\n",
    "\n",
    "   * Consequence of the breakdown of an acceleration mechanism.\n",
    "   * Increased rate of escape from the galaxy at high energies.\n",
    "\n"
   ]
  },
  {
   "cell_type": "markdown",
   "metadata": {},
   "source": [
    "<div align=\"center\">\n",
    "\n",
    "<img src=\"images/cr_fig9_eV_07.png\" width=\"40%\"> \n",
    "\n",
    "</div>"
   ]
  },
  {
   "cell_type": "markdown",
   "metadata": {},
   "source": [
    "A third explanation could be a change in CR interactions at ${\\sqrt s} \\sim $ few TeV.  The first two explanantions produce a rigidity dependent *knee*, ie the position of the *knee* for different nuclei depends on $Z$, while the third explanation will depend on $A$. Experimentally the rigidity dependence is favored. "
   ]
  },
  {
   "cell_type": "markdown",
   "metadata": {
    "slideshow": {
     "slide_type": "slide"
    }
   },
   "source": [
    "<div align=\"center\">\n",
    "<img src=\"images/knee.png\" width=\"60%\"> \n",
    "</div>"
   ]
  },
  {
   "cell_type": "markdown",
   "metadata": {},
   "source": [
    "Experimentally at these energies we cannot observe cosmic-rays in a direct way. We need to start looking at their interactions with the atmosphere (see lecture 3 on air-shower physics). This imposses limitation on the precision of the cosmic ray composition. In particular different models of hadronic interactions have to be assumed."
   ]
  },
  {
   "cell_type": "markdown",
   "metadata": {},
   "source": [
    "### The Ankle and the end of the spectrum"
   ]
  },
  {
   "cell_type": "markdown",
   "metadata": {},
   "source": [
    "<div align=\"center\">\n",
    "<img src=\"images/ankle.png\"> \n",
    "</div>"
   ]
  },
  {
   "cell_type": "markdown",
   "metadata": {
    "slideshow": {
     "slide_type": "slide"
    }
   },
   "source": [
    "* A proton of energies $10^{18}$ eV has a gyroradious of a kpc in a typical magnetic field which hints at an extra-Galactic origin for these energies.\n",
    "\n",
    "\n",
    "* Greissen-Zatsepin and Kuz-min predicted that at energies of $\\sim 10^{19}$ eV will interact with the low energy photons of the CMB. This interaction leads to a supression of flux above $5\\times10^{19}$ eV unless the sources are within a few tens of Mpc. This supression is referred as GZK cutoff."
   ]
  },
  {
   "cell_type": "markdown",
   "metadata": {},
   "source": [
    "### High Energy Composition"
   ]
  },
  {
   "cell_type": "markdown",
   "metadata": {},
   "source": [
    "<div align=\"center\">\n",
    "<img src=\"images/AugerUHECRComp.png\" width=\"40%\"> \n",
    "</div>"
   ]
  },
  {
   "cell_type": "markdown",
   "metadata": {
    "slideshow": {
     "slide_type": "subslide"
    }
   },
   "source": [
    "* Composition of the high energy CR spectrum involves only two\n",
    "archetypes: light nuclei (protons)\n",
    "and heavy nuclei (iron).\n",
    "* The plots above show Auger / HiRes measurements near GZK\n",
    "cutoff, all favoring at least a\n",
    "mixed composition tending toward\n",
    "heavy at the higher energies. "
   ]
  },
  {
   "cell_type": "markdown",
   "metadata": {},
   "source": [
    "### Sources of Extra Galactic Cosmic Rays\n",
    "\n",
    "As we shaw, CR in supernova remmants or blast waves can only accelerate CR **up to 100 Z TeV**. In order to explain CR beyond this energy, one has to invoke other processes such as Non-Linear Diffusion Acceleration, or extremely high magnetic fields (as suggested in Hillas plot).\n",
    "\n",
    "Binary systems in which a compact object (black hole, neutrino star, pulsar) is permanentely dragging material for an accompaying object (normal star or galaxy) and whirled into an accreation disk can generate enourmouse plasma motions with very strong electromagnetic fields. The image belowe shows an artistic representation of 4U 0614+091, a X-ray binary. "
   ]
  },
  {
   "cell_type": "markdown",
   "metadata": {
    "slideshow": {
     "slide_type": "slide"
    }
   },
   "source": [
    "<div align=\"center\">\n",
    "<img src=\"http://2.bp.blogspot.com/_viputHRpZ2A/TB9vhOAIFJI/AAAAAAAADnk/TiLb5xiigM0/s1600/REFLECTION_4_B.jpg\" width=\"60%\" > \n",
    "<div class=\"caption\">Source: ESA</div>\n",
    "</div>"
   ]
  },
  {
   "cell_type": "markdown",
   "metadata": {
    "slideshow": {
     "slide_type": "subslide"
    }
   },
   "source": [
    "### UHECR sources: The Disk Dynamo\n",
    "\n",
    "Black holes or neutrino stars will have matter acretting around them. Due to the gravitational pull matter will be ripped of in molecules, atoms, and ultimately elementary charge particles. The energy gain of infalling potrons will correspond to the variation in the gravitational potential. If we equal the variation of gravitational potential to the kinetic energy of the accretting matter we have in the classical approach:\n",
    "\n",
    "$$\\frac{1}{2}m_p v^2 = \\Delta E = -\\int^{R}_\\infty G\\frac{m_p M}{r^2} = G\\frac{m_p M}{R}  \\rightarrow v =\\sqrt{\\frac{2 GM}{R}}$$\n",
    "\n",
    "where $M$, $R$, are the mass and radius of the central compact object. \n",
    "\n",
    "* For a neutron star ($M\\approx 2\\times10^{30}$ kg, $R= 10$ km): $\\frac{\\Delta E}{m_p} \\sim 1.32\\times 10^{20} {\\rm\\; erg/g}$ \n",
    "\n",
    "* For a black hole ($M\\approx 10^8 M_\\odot$, $R = R_S = 2\\frac{GM}{c^2}$): $\\frac{\\Delta E}{m_p} \\sim 5 \\times 10^{20} {\\rm\\; erg/g}$ \n",
    "\n",
    "The variable magnetic field of the neutron stars or black holes are perpendicular to the direction of the accreation disk generating a Lorentz force:\n",
    "\n",
    "$$\\vec{F} = e (\\vec{v} \\times \\vec{B}) = e\\vec{E}$$\n",
    "\n",
    "So the energy obtained is \n",
    "\n",
    "$$E=\\int \\vec{F}d\\vec{s} = e v B\\Delta s$$\n",
    "\n",
    "\n",
    "where $\\Delta s$ is the distance over which the force acts. Under plausible assumptions ($v \\sim c$, $B= 10^6$ T, $\\Delta s = 10^5$ m) energies of $3\\times 10^{19}$ eV are possible. "
   ]
  },
  {
   "cell_type": "markdown",
   "metadata": {
    "slideshow": {
     "slide_type": "subslide"
    }
   },
   "source": [
    "### Candidates of Extra Galactic Cosmic Rays Sources\n",
    "\n",
    "The two main candidates for ExtraGalactic Cosmic Rays are:\n",
    "\n",
    "* **Active Galactic Nuclei (AGN)**\n",
    "* **Gamma Ray Bursts**"
   ]
  },
  {
   "cell_type": "markdown",
   "metadata": {
    "slideshow": {
     "slide_type": "subslide"
    }
   },
   "source": [
    "### Active Galactic Nuclei (AGNs)\n",
    "\n",
    "* Discovered in 1932 by K. Jansky looking for noise in transatlantic radio transmission for the Bell Telephone Labs. He found a persistent noise in the radio from the centre of the Galaxy too loud to be due to thermal black body radiation.\n",
    "\n",
    "* 1953 Ginzburg & Shklovski suggested it was due to synchrotron radiation from highly relativistic electrons, confirmed with discovery of predicted polarization in M87 light.\n",
    "\n",
    "* Sandange labeled 3C48 a quasar or quasi-stellar object (it appeared pointlike).\n",
    "\n",
    "* In 1962 3C273 radio source position was found with precision of 1 arcsec, which allowed to find the optical counterpart at z = 0.158 (not 1 star but a galaxy).\n",
    "\n",
    "* In 1963 Hoyle and Fowler speculated that the tremendous emitted energy is due to the gravitational collapse of a very massive object."
   ]
  },
  {
   "cell_type": "markdown",
   "metadata": {},
   "source": [
    "### AGN Classification \n",
    "\n",
    "* There is two broad classes: **Radio quiet** (90%) and **Radio Loud** (10%) depending on the pressence of jets or not.\n",
    "* The unified model of ANGs suggests that different AGNs are infact the same object seen from different angles."
   ]
  },
  {
   "cell_type": "markdown",
   "metadata": {
    "slideshow": {
     "slide_type": "subslide"
    }
   },
   "source": [
    "<div align=\"center\">\n",
    "<img src=\"images/agn_model.png\">\n",
    "</div>"
   ]
  },
  {
   "cell_type": "markdown",
   "metadata": {
    "slideshow": {
     "slide_type": "subslide"
    }
   },
   "source": [
    "### Gamma-Ray Burts\n",
    "\n",
    "* GRBs are short bursts lasting a few seconds of $\\gamma$-ray photons from 0.1 - 1 MeV. \n",
    "* They were discovered in the 60s by the U.S. Vela satellites, which were built to detect gamma radiation pulses emitted by nuclear weapons tested in space as the US suspected the URSS might carry on secret nuclear tests depiste the [Nuclear Test Ban Treaty](http://en.wikipedia.org/wiki/Nuclear_Test_Ban_Treaty).\n",
    "* They have been hypothesed (given their occurence) to have caused mass extintions events (thousand times since life begun), in particular they are associated with the  [Ordovician–Silurian extinction](http://en.wikipedia.org/wiki/Ordovician%E2%80%93Silurian_extinction_event). \n",
    "\n",
    "* There is some observational evidence suggesting that progenitor of a GRB are stars undergoing a catastrophic energy release by the end of their lifes $\\rightarrow$ Hypernovas\n"
   ]
  },
  {
   "cell_type": "markdown",
   "metadata": {
    "slideshow": {
     "slide_type": "subslide"
    }
   },
   "source": [
    "### Sources of UHECR\n",
    "\n",
    "The accepted phenomenological picuted of GRBs is of a expanding relativistic wind *fireball* dissipating kinetic energy. The observed *afterglow* on some GRBs result from the collision of the expanding fireball and the surroundings.\n",
    "\n",
    "In the fireball, the observed radition is produced by synchrotron emission of shock accelerated electrons, similar to SNRs. Hence, it is likely that protons will be also shock accelerated.\n",
    "\n",
    "The two conditition for GRBs sources of UHECR are:\n",
    "\n",
    "1. The proton acceleration time must be smaller that the wind expansion time (burst duration).\n",
    "\n",
    "2. The proton synchrotron loss time must exceed the acceleration time.\n",
    "\n",
    "These two conditions lead to a constrain in the Lorentz boost factor for GRBs:\n",
    "\n",
    "$$\\gamma \\geq 130\\left(\\frac{E}{10^{20}{\\rm\\; eV}}\\right)^{3/4}\\left(\\frac{0.01{\\rm\\; s}}{\\Delta t}\\right)^{1/4}$$\n",
    "\n",
    "which matches what we see from GRBs. However IceCube has [not seen any neutrino associated with GRBs](http://arxiv.org/abs/1204.4219) which puts in tension the idea that GRBs can be the only sources of UHECR."
   ]
  },
  {
   "cell_type": "markdown",
   "metadata": {
    "slideshow": {
     "slide_type": "slide"
    }
   },
   "source": [
    "### What else?\n",
    "\n",
    "We did not cover:\n",
    "\n",
    "* Solar modulation of Cosmic Rays and the effect of Earth magnetic fields.\n",
    "* Cosmic Ray anisotropy in the low and high energies (Compton-Getting effect, etc.)\n",
    "* The PAMELA and AMS-2 disagreement in the proton and He spectrum.\n",
    "* AGN classification in more detailed. \n",
    "* GRB modelling\n",
    "\n",
    "These could be topics for a research work.\n",
    "\n",
    "And a paper that contradicts what I explained: [Beyond the myth of the supernova-remnant origin of cosmic rays](http://www.nature.com/nature/journal/v460/n7256/full/nature08127.html)\n"
   ]
  },
  {
   "cell_type": "markdown",
   "metadata": {},
   "source": [
    "### References\n",
    "General overview:\n",
    "\n",
    "* 2017 Revision on Cosmic Ray from [PDG](http://pdg.lbl.gov/2017/reviews/rpp2017-rev-cosmic-rays.pdf)\n",
    "\n",
    "Diffusion and Leaky box (Not too many references here):\n",
    "* *Lecture Notes on High Energy Cosmic Rays.*  M. Kachelries [arXiv:0801.4376](https://arxiv.org/abs/0801.4376)\n",
    "\n",
    "On Fermi acceleration:\n",
    "\n",
    "* *High Energy Astrophysics Vol 2. Chapter 21* Malcom S. Longair\n",
    "* *Astroparticle Physics.* Claus Grupen\n",
    "\n",
    "Shockwaves in SNR:\n",
    "* *Dynamical Evolution of Supernova Remmants* Susanne Hofner\n",
    "\n",
    "CR spectrum from the knee to the cutoff:\n",
    "* *Cosmic rays from the ankle to the cut-off* Karl-Heinz Kampert, Peter Tinyakov. [arXiv:1405.0575](https://arxiv.org/abs/1405.0575)\n"
   ]
  },
  {
   "cell_type": "code",
   "execution_count": 14,
   "metadata": {},
   "outputs": [
    {
     "data": {
      "application/json": {
       "Software versions": [
        {
         "module": "Python",
         "version": "3.9.7 64bit [Clang 13.0.0 (clang-1300.0.29.3)]"
        },
        {
         "module": "IPython",
         "version": "7.23.1"
        },
        {
         "module": "OS",
         "version": "macOS 12.2 x86_64 i386 64bit"
        },
        {
         "module": "numpy",
         "version": "1.19.5"
        },
        {
         "module": "matplotlib",
         "version": "3.4.2"
        },
        {
         "module": "astropy",
         "version": "4.2.1"
        },
        {
         "module": "scipy",
         "version": "1.6.3"
        }
       ]
      },
      "text/html": [
       "<table><tr><th>Software</th><th>Version</th></tr><tr><td>Python</td><td>3.9.7 64bit [Clang 13.0.0 (clang-1300.0.29.3)]</td></tr><tr><td>IPython</td><td>7.23.1</td></tr><tr><td>OS</td><td>macOS 12.2 x86\\_64 i386 64bit</td></tr><tr><td>numpy</td><td>1.19.5</td></tr><tr><td>matplotlib</td><td>3.4.2</td></tr><tr><td>astropy</td><td>4.2.1</td></tr><tr><td>scipy</td><td>1.6.3</td></tr><tr><td colspan='2'>Wed Mar 09 17:41:37 2022 CET</td></tr></table>"
      ],
      "text/latex": [
       "\\begin{tabular}{|l|l|}\\hline\n",
       "{\\bf Software} & {\\bf Version} \\\\ \\hline\\hline\n",
       "Python & 3.9.7 64bit [Clang 13.0.0 (clang-1300.0.29.3)] \\\\ \\hline\n",
       "IPython & 7.23.1 \\\\ \\hline\n",
       "OS & macOS 12.2 x86\\_64 i386 64bit \\\\ \\hline\n",
       "numpy & 1.19.5 \\\\ \\hline\n",
       "matplotlib & 3.4.2 \\\\ \\hline\n",
       "astropy & 4.2.1 \\\\ \\hline\n",
       "scipy & 1.6.3 \\\\ \\hline\n",
       "\\hline \\multicolumn{2}{|l|}{Wed Mar 09 17:41:37 2022 CET} \\\\ \\hline\n",
       "\\end{tabular}\n"
      ],
      "text/plain": [
       "Software versions\n",
       "Python 3.9.7 64bit [Clang 13.0.0 (clang-1300.0.29.3)]\n",
       "IPython 7.23.1\n",
       "OS macOS 12.2 x86_64 i386 64bit\n",
       "numpy 1.19.5\n",
       "matplotlib 3.4.2\n",
       "astropy 4.2.1\n",
       "scipy 1.6.3\n",
       "Wed Mar 09 17:41:37 2022 CET"
      ]
     },
     "execution_count": 14,
     "metadata": {},
     "output_type": "execute_result"
    }
   ],
   "source": [
    "%load_ext version_information\n",
    "%version_information numpy, matplotlib, astropy, scipy"
   ]
  },
  {
   "cell_type": "code",
   "execution_count": 15,
   "metadata": {},
   "outputs": [
    {
     "data": {
      "text/html": [],
      "text/plain": [
       "<IPython.core.display.HTML object>"
      ]
     },
     "execution_count": 15,
     "metadata": {},
     "output_type": "execute_result"
    }
   ],
   "source": [
    "from IPython.core.display import HTML\n",
    "def css_styling():\n",
    "    styles = open(\"css/custom.css\", \"r\").read()\n",
    "    return HTML(styles)\n",
    "css_styling()"
   ]
  }
 ],
 "metadata": {
  "celltoolbar": "Edit Metadata",
  "hide_input": false,
  "interpreter": {
   "hash": "aee8b7b246df8f9039afb4144a1f6fd8d2ca17a180786b69acc140d282b71a49"
  },
  "kernelspec": {
   "display_name": "Python 2",
   "language": "python",
   "name": "python3"
  },
  "language_info": {
   "codemirror_mode": {
    "name": "ipython",
    "version": 3
   },
   "file_extension": ".py",
   "mimetype": "text/x-python",
   "name": "python",
   "nbconvert_exporter": "python",
   "pygments_lexer": "ipython3",
   "version": "3.9.7"
  },
  "latex_envs": {
   "bibliofile": "biblio.bib",
   "cite_by": "apalike",
   "current_citInitial": 1,
   "eqLabelWithNumbers": true,
   "eqNumInitial": 0
  }
 },
 "nbformat": 4,
 "nbformat_minor": 1
}
