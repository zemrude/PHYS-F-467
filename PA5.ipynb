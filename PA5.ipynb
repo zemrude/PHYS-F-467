{
 "cells": [
  {
   "cell_type": "markdown",
   "metadata": {
    "slideshow": {
     "slide_type": "slide"
    }
   },
   "source": [
    "<img src=\"https://actus.ulb.be/medias/photo/logo3lp_1548687761441-jpg?ID_FICHE=19524\" alt=\"ULB logo\" width=\"15%\" align=\"right\"><br><br><br><br>\n",
    "\n",
    "\n",
    "\n",
    "# Lecture 5\n",
    "# Multimessenger Astronomy\n",
    "\n",
    "<p>Université Libre de Bruxelles,\n",
    "<a href=\"http://iihe.ac.be/~aguilar\">Juan A. Aguilar</a>\n",
    "</p>\n"
   ]
  },
  {
   "cell_type": "markdown",
   "metadata": {},
   "source": [
    "## Multimessenger Astronomy \n",
    "\n",
    "### The Beam Dumps\n",
    "\n",
    "Cosmic ray accelerated are typically surrounded by a radiation field and matter eventually interacting and producing secondary particles. The picture is similar to that of beam dumps in particle accelerators at Earth, where a beam of particles is aimed at a specific target. Among the secondary particles produced we have gamma-rays and neutrinos both of them will point to the accelerators.\n"
   ]
  },
  {
   "cell_type": "markdown",
   "metadata": {},
   "source": [
    "<div align=\"center\">\n",
    "<img src=\"images/beam_dump.svg?sanitize=True\">\n",
    "</div>"
   ]
  },
  {
   "cell_type": "markdown",
   "metadata": {},
   "source": [
    "A cosmic-ray source it is said to be opaque or **optically thick** if photons and protons cannot escape from the source without lossing all or most of their energy. Alternatively a transparent source it is said to be **optically thin**. A source that is very optically thick won't be visible in any messenger except neutrinos. We call those source *hidden sources*.\n"
   ]
  },
  {
   "cell_type": "markdown",
   "metadata": {
    "slideshow": {
     "slide_type": "slide"
    }
   },
   "source": [
    "## Gamma-ray Astronomy\n",
    "\n",
    "As we saw, the origin of CR remains a mystery due to the deflection of CRs in their travel. Only CR astronomy at $10^{19}$ eV will be possible if the composition of these UHECR are protons, but even in this case the GZK limits the horizon. \n",
    "\n",
    "Gamma-ray astronomy provides an fundamental tool to observe the Universe using neutral deep penetrating gamma-ray particles. Originally the distinction between gamma-rays and X-rays was due to the nuclear production mechanism. X-rays are the product of transition of electrons in the atomic shell, while gamma-rays are produced in the atomic nucleus. This distinction also leads to a classification in energy. X-rays are typically below 100 keV. Photons with E > 100 keV are called gamma-rays. "
   ]
  },
  {
   "cell_type": "markdown",
   "metadata": {
    "slideshow": {
     "slide_type": "subslide"
    }
   },
   "source": [
    "<div align=\"center\">\n",
    "<img src=\"http://upload.wikimedia.org/wikipedia/commons/f/f1/EM_spectrum.svg\">\n",
    "<div class=\"caption\"> Credit: Wikipedia </div>\n",
    "</div>"
   ]
  },
  {
   "cell_type": "markdown",
   "metadata": {},
   "source": [
    "### Spectral Energy Distribution\n",
    "\n",
    "In gamma-ray astronomy is usual to study an object emission by its spectral energy distribution (SED).  The SED on an object is its energy emitted plotted against some measure of the photon - frequency or wavelength. The reason astronomers do this is to see how much energy is produced by the object as a function of frequency or wavelength. The SED is typically characterized by $\\nu F_\\nu$ and it is measured in units of ergs ${\\rm cm}^{-2}\\; {\\rm s}\\;^{-1}$, ie. it indicates the rate of energy emitted per surface. The function $F_\\nu$ is the flux density which indicates the rate of energy emitted per surface and also per frequency, so it is expressed as ergs ${\\rm cm^{-2}\\; s^{-1}\\; Hz^{-1}}$. All of this doesn't need to be confused with the spectrum! which is what we are being using to characterize CRs. In CR physics spectrum in the rate of particles per unit energy and surface and it is measured on ${\\rm GeV^{-1}\\; cm^{-2}\\; s^{-1}}$. The spectrum multiply by energy, gives you the rate of particles per unit surface. Multiplying again by energy give use the energy rate per unit surface. Therefore we have the relation:\n",
    "\n",
    "$$\\nu F_\\nu = E^2 \\frac{{\\rm d}N}{{\\rm d}E}$$\n"
   ]
  },
  {
   "cell_type": "markdown",
   "metadata": {
    "slideshow": {
     "slide_type": "-"
    }
   },
   "source": [
    "### Gamma-ray production mechanism\n",
    "Sources of CR can also produce gamma-rays by different mechanisms roughly divided in two main categories:\n",
    "\n",
    "#### Leptonic models: \n",
    "In this models only leptons (mostly electrons) will produce gamma-ray emission. The mechanismare mostly:\n",
    "   * **Synchrotron radiation.** \n",
    "   * **Inverse Compton Scattering.**\n",
    "\n",
    "#### Hadronic model:\n",
    "In hadronic models, gamma-rays are produced as a result of acceleration to high energies of protons or other hadrons. The mechanism of gamma-ray production in hadronic models are mainly:\n",
    "   * **$\\pi^0$ decay.** \n",
    "   * **Proton synchrotron radiation.** \n",
    "\n",
    "Another categories for gamma-ray production can some exotic models like dark matter annihilaiton, or matter-antimatter annihilation and nuclear transformation."
   ]
  },
  {
   "cell_type": "markdown",
   "metadata": {},
   "source": [
    "### Leptonic models\n",
    "\n",
    "#### Synchrotron radiation\n",
    "\n",
    "Synchrotron radiation is extremely important for astrophysics as it was realized by Shklovskii in 1957 when studing the non-thermal emission of the Crab remnant. In order to understand better the synchrotron radiation we will have to dig in a bit in electromagnetism. We already saw that a charge particle of charge $q$, for example an electron, moving with velocity $v$ in a magnetic field $\\vec{B}$ feels an an external force:\n",
    "\n",
    "$$\\vec{F} = \\frac{q}{c}(\\vec{v}\\times \\vec{B}) $$\n",
    "\n",
    "Now, because of the force on the particle is perpendicular to the motion, the magnetic field cannot do work on the particle, and so its speed does not change, i.e. $|v|$ = constant, but there is an acceleration since the direction will change. On the other hand an accelerated electrical charge radiates electromagnetic waves! which... will slow down the particle... \n",
    "\n",
    "The reason of this aparent inconsistency comes from the fact that we treat the electric field lines as the purely Coulombic action-at-a-distance. In reality we have to take into account that as a particle moves, the electric field lines need to *re-arrange* and this re-arrangement cannot happen at a speed faster than the speed of light. \n",
    "\n",
    "Here are going to derive the radiation emission for a particle with an acceleration and we are going to do it by messing around with the Coulomb fields. For a more formal argument derived from Maxwell equations you can see the book of Longair.\n",
    "\n",
    "Let's assume that the particle is at rest at the moment $t=0$. The electric field lines clearly point away from the origin. At that moment the particle accelerates which brings the velocity of the particle to $\\Delta v$ in a time $\\Delta t$, after that the particle continues with uniform velocity. "
   ]
  },
  {
   "cell_type": "markdown",
   "metadata": {},
   "source": [
    "<div align=\"center\">\n",
    "<img src=\"images/bremsstrahlung.svg?sanitize=True\" width=\"70%\">\n",
    "</div>"
   ]
  },
  {
   "cell_type": "markdown",
   "metadata": {},
   "source": [
    "After a certain time, the particle will be in the position $t\\Delta v$. In a sphere located far way (with a radius larger than $c t$), the electric field lines are still those of the stacionary particle, since they field lines cannot \"know\" yet that the particle has moved, so the point radially towards the origin at $t=0$. Inside a sphere of radius $c(t - \\Delta t$), the electric field lines are already those from the electron that moves at a constant velocity.\n",
    "\n",
    "The perturbation of the electric field lines needs to propagate radially, this *kink* is nothing more than a radiation! From simple geometry relations we can get that:\n",
    "\n",
    "$$\\frac{E_\\theta}{E_{r}} = \\frac{\\Delta v  t \\sin\\theta}{c\\Delta t} = \\frac{r \\sin \\theta}{c^2}\\frac{\\Delta v}{\\Delta t}$$\n",
    "\n",
    "where $r = c t$, and $E_r$ is simply the Coulomb field $E_r = q/4\\pi\\epsilon_0 r^2$ or in [gaussian units](https://en.wikipedia.org/wiki/Gaussian_units) since the kink is really small and the eletric field along the kink remains the same $E_r = q/r^2$ and therefore the transverse component becomes:\n",
    "\n",
    "$$E_\\theta = \\frac{q a \\sin\\theta}{c^2 r}$$\n",
    "\n",
    "where we used the fact that $\\Delta v/\\Delta t$ is just the acceleration $a$. An interesting fact appears here, $E_\\theta$ depends on $r^{-1}$ and  not $r^{-2}$ so for larger $r$, $E_\\theta$ is going to dominate over $E_r$.  Accompanying this transverse electric field there will be a magnetic field, which is a property of an electromagnetic wave. In other words, an electromagnetic pulse is generated by the accelerated charge particle. Since this is an electromagnetic radiation there is an energy flow per unit area, per second and the direction is given by the Poynting vector (with $|E|=|B|$ as in electromagnetic wave):\n",
    "\n",
    "\n",
    "$$\\vec{S}  = \\frac{c}{4\\pi}(\\vec{E}\\times\\vec{B})$$\n",
    "\n",
    "Which points in the radial direction. In this case can be reduced to:\n",
    "\n",
    "$$|S| \\equiv \\frac{ {\\rm d}E}{{\\rm d}t {\\rm d}A} = \\frac{c}{4\\pi} E^2_\\theta \\vec{n} $$\n",
    "\n",
    "Which is the energy flow per unit area per second. The unit area ${\\rm d}A$ can be rewritten in terms of the solid angle as ${\\rm d} A= r^2{\\rm d}\\Omega$, and so the rate of energy loss through the area subtended by the solid angle ${\\rm d} \\Omega$ at distance $r$ is given by:\n",
    "\n",
    "$$\\left(\\frac{{\\rm d}E}{{\\rm d}t {\\rm d} \\Omega}\\right)_{rad}  = \\frac{q^2a^2 \\sin^2 \\theta}{4\\pi c^3}$$\n",
    "\n",
    "Notice that this energy loss rate follows a *dipole* pattern ${\\rm d}P/{\\rm d}\\Omega \\propto \\sin^2 \\theta$ and that $\\theta$ is defined along the acceleration line. If we now integrate over all solid angles we obtain that the emitted power is given by:\n",
    "\n",
    "\n",
    "$$P \\equiv -\\left(\\frac{{\\rm d}E}{{\\rm d}t}\\right)_{rad} = \\frac{2q^2 a^2 }{3c^3}$$\n",
    "\n",
    "Which is call the *Larmor's formula*. Note that this is valid for any form of acceleration $a$.\n",
    "\n",
    "\n",
    "In the relativistic case this formula can be rewritten as:\n",
    "\n",
    "$$P  = \\frac{2q^2}{3c^3} \\gamma^4 [ \\gamma^2 a_{\\parallel}^2 + a^2_{\\perp}] $$ \n",
    "\n",
    "\n",
    "\n",
    "### Single-electron in uniform magnetic field\n",
    "\n",
    "In an uniform magnetic field, a high energy charged particle, for example an electron, moves in spiral path at a constant *pitch angle*, $\\alpha$.\n",
    "\n"
   ]
  },
  {
   "cell_type": "markdown",
   "metadata": {},
   "source": [
    "<div align=\"center\">\n",
    "<img src=\"images/spiral.svg?sanitize=True\" width=\"50%\">\n",
    "</div>"
   ]
  },
  {
   "cell_type": "markdown",
   "metadata": {},
   "source": [
    "Its velocity along the field lines is constant $v_{\\parallel} = v \\cos\\alpha = {\\rm const.}$, but its circular component $v_\\perp = v\\sin\\alpha$. Let's first attack the non-relativistic case.\n",
    "\n",
    "#### Non relativistic case: Cyclotron radiation\n",
    "\n",
    "From Newton's law and the Lorentz force we have that:\n",
    "\n",
    "$$ m_e a_\\perp = m_e \\frac{v_\\perp^2}{r_{gyr}} = \\frac{e v_\\perp B}{c}$$ \n",
    "\n",
    "where $r_{gyr}$ is the gyroradius which can be written as:\n",
    "\n",
    "$$r_{gyr} = \\frac{v_\\perp}{\\omega_{gyr}} = \\frac{v\\sin\\alpha}{\\omega_{gyr}}$$\n",
    "\n",
    "where we can define the gyrofrecuency as:\n",
    "\n",
    "$$\\omega_{gyr} \\equiv \\frac{eB}{m_e c}$$\n",
    "\n",
    "Therefore according to the Larmor's equation of power emitted we can write:\n",
    "\n",
    "$$P = \\frac{2 e^2}{3c^3} \\omega_{gyr}^2 v^2\\sin^2\\alpha$$\n",
    "\n",
    "Note the Larmor formula does not tell us frequency spectrum, but if a particle is moving in a circular motion, then from an observer far way, the \"aparent\" motion will be sinosoidal as illustrated in the figure below. "
   ]
  },
  {
   "cell_type": "markdown",
   "metadata": {},
   "source": [
    "<div aling=\"center\">\n",
    "<img src=\"images/cyclotron.svg?sanitize=True\" width=\"100%\">\n",
    "</div>"
   ]
  },
  {
   "cell_type": "markdown",
   "metadata": {},
   "source": [
    "In particular since the power $P$ depends on  $|v^2|$ for a distance in the $x-y$ plane, power will varie as $\\sin^2(\\omega_{gyr}t)$ and so the electric field line will change as $E(t)\\propto \\sin(\\omega_{gyr}t)$. The radiated emission will appear as *monochromatic* with an angular frequency given precisely by the particle circular frequency $\\omega_{gyr}$. This is the known as the *cyclotron* radiation. In this case the dipole emission pattern is turning around with the particle and an observer in the laboratory frame will see the same frequency. As a consequence also the radiation is independent of the viewing angle. "
   ]
  },
  {
   "cell_type": "markdown",
   "metadata": {},
   "source": [
    "#### Relativistic case: Synchrotron radiation.\n",
    "\n",
    "Things are slighly different when we consider the relativistic case where electrons move at $\\beta \\rightarrow 1$. Using again Newton's law with the Lorentz force we have:\n",
    "\n",
    "$$\\gamma m_e \\frac{{\\rm d} v_\\perp}{{\\rm d} t} = \\frac{e v_\\perp B}{c}$$ \n",
    "\n",
    "where we can obtain the perpendicular acceleration as:\n",
    "\n",
    "$$a_\\perp = \\frac{e v\\sin\\alpha}{\\gamma m_e c}$$\n",
    "\n",
    "\n",
    "where now the electrons's relatisvistic angular gyroradius frequency is given by:\n",
    "\n",
    "\n",
    "$$\\omega^{rel}_{gyr} \\equiv \\frac{eB}{\\gamma m_e c}$$\n",
    "\n",
    "which is exactly related to the classical angular frequency as $\\omega_{gyr}/\\gamma$. According to the relativistic Larmor's formula above we have that:\n",
    "\n",
    "$$P = \\frac{2 e^2}{3c^3} \\gamma^4 \\left(\\frac{e v\\sin\\alpha}{\\gamma m_e c}\\right)^2 $$\n",
    "\n",
    "We can re-arrange this formula by assuming ultra-relativistic electrons $\\beta \\rightarrow 1$ and that we have an average number of electrons with different pitch angles and so $\\langle \\sin^2 \\alpha \\rangle = 2/3$. We are going also to use the definition of the Thomson cross-section:\n",
    "\n",
    "$$\\sigma_T \\equiv \\frac{8\\pi}{3}r^2_0$$ \n",
    "\n",
    "where $r_0$ is the electron classic radius defined (in gaussian units) as:\n",
    "\n",
    "$$r_0 = \\frac{e^2}{m_e c^2} $$\n",
    "\n",
    "with that we can write the power loss as:\n",
    "\n",
    "$$P = \\frac{4}{3} \\sigma_T c U_B \\gamma^2$$\n",
    "\n",
    "where $U_B = B^2/8\\pi$ is the magnetic field energy density. The power depends on the electron mass via the Thomson cross-section and the $\\gamma$. In total it gives $P\\propto m_e^{-4}$ for the electrons. That's why for protons the syncrotron radiation is not as important as it is for electrons. The mean free-path for electrons given their losses sue to synchrotron is (for typical astrophysical values):\n",
    "\n",
    "$$l_{syn} = \\left(\\frac{1}{E}\\frac{{\\rm d}E}{{\\rm d}t}\\right)^{-1}  \\sim 100 {\\rm \\;pc}$$\n",
    "\n",
    "That's the reason why electrons are not the main component of CR since the cannot travel long distances. \n",
    "If we want now to derive the power emitted per frequency, things get also a bit more complicated. One first thing to take into account is that in the relativistic regime the power radiated will be distorted. From Lorentz transformations we can derive that an angle $\\Psi$ in the particle rest frame will be seen in laboratory frame as:\n",
    "\n",
    "$$\\sin \\Psi = \\frac{\\sin\\Psi^\\prime}{\\gamma(1+\\beta \\cos\\Psi^\\prime)}$$ \n",
    "\n",
    "(we saw this in the Exercises 1). For small angles we have that \n",
    "\n",
    "$$\\sin \\Psi \\sim \\Psi \\sim \\frac{1}{\\gamma}$$\n",
    "\n",
    "i.e, while the power is radiated nearly isotropically (dipole) in the particle's instantaneus rest frame, most of it will be *beamed* into a narrow cone of angle $\\sim 1/\\gamma$ in the laboratory frame. Note that I'm referring to an *instantaneous* rest frame, what does it even mean? Well it means that I in the particle rest frame, where the velocity of the particle is 0, the acceleration on the other hand is not 0, so eventually the particle will move. Ie, there is no particle rest frame, but there is an instantaneous rest frame.\n",
    "\n",
    "This beaming in the lab reference frame has an impact on how the viewer sees the electric field variation. It is no longer a sinusoidal, instead the emission is pulsed every time the cone sweeps around the line of sight of an observer as illustrated below:"
   ]
  },
  {
   "cell_type": "markdown",
   "metadata": {},
   "source": [
    "<div align=\"center\">\n",
    "<img src=\"images/synchrotron_0.svg?sanitize=True\" width=\"50%\">\n",
    "</div>"
   ]
  },
  {
   "cell_type": "markdown",
   "metadata": {
    "slideshow": {
     "slide_type": "subslide"
    }
   },
   "source": [
    "Since each cone beaming has a half amplidude of $1/\\gamma$ the radiation from an observer is visible during a $\\Delta \\theta \\sim 2/\\gamma$. During this angular distance the particle travels from $A$ to $B$ at an angular frequency given by $\\omega_{gyr}^{rel}$ which means that $\\Delta t_{AB}$ is given by:\n",
    "\n",
    "$$\\Delta t_{AB} = \\frac{\\Delta \\theta}{\\omega_{gyr}^{rel}} = \\frac{2}{\\gamma \\omega_{gyr}^{rel}}$$\n",
    "\n",
    "Given the relativistic speed of the the electron, the frequency of the radiation is no longer a sinusoidal. When a photon is emitted at the point $B$ the photon emitted in $A$ has already travelled a distance $c\\Delta t_{AB}$. Therefore the time interval between photons is given by:\n",
    "\n",
    "\n",
    "$$\\Delta t_{sync} = \\frac{c\\Delta t_{AB} - v_\\perp \\Delta t_{AB}}{c} \\approx \\Delta t_{AB}( 1 - \\beta) \\approx  \\Delta t_{AB} \\frac{1 - \\beta^2}{1 + \\beta} $$\n",
    "\n",
    "$$ \\Delta t_{sync} \\approx \\frac{ \\Delta t_{AB} }{2\\gamma^2} = \\frac{1}{\\gamma^3 \\omega_{gyr}^{rel}} = \\frac{1}{\\gamma^2 \\omega_{gyr}} $$\n",
    "\n",
    "So synchrotron radiation is a very spiky series of widely spaced narrow pulses of time $2\\Delta t_{sync}$, and adjacent spikes are separated in frequency $\\Delta t_{gyr} = 1/\\nu^{rel}_{gyr} = \\gamma/\\nu_{gyr}$. The emission from an observer is illustrated below:"
   ]
  },
  {
   "cell_type": "markdown",
   "metadata": {},
   "source": [
    "<div align=\"center\">\n",
    "<img src=\"images/synchrotron_1.svg?sanitize=True\" width=\"100%\">\n",
    "</div>"
   ]
  },
  {
   "cell_type": "markdown",
   "metadata": {},
   "source": [
    "The power spectrum (ie power as function of frequency) illustrated in the plot on the right is no long a monochromatic sinusoidal signal, but the Fourier transform of this time series of pulses. Taking of all the Fourier components into account results in the following expression for one electron (the formal derivation can be found for example in *Classical Electrodynamics* by J. D. Jackson):\n",
    "\n",
    "$$P(\\nu){\\rm d}\\nu = \\frac{\\sqrt{3}e^3B\\sin\\alpha}{m_ec^2}\\frac{\\nu}{\\nu_c}\\int_{\\nu/\\nu_c}^\\infty K_{5/3}(\\psi){\\rm d}\\psi$$\n",
    "\n",
    "where $K_{5/2}$ is the Bessel function of order 5/2, and we expressed the power spectrum in terms of the frequency $\\nu = \\nu_{gyr} =\\omega_{gyr}/2\\pi$ and where we defined the critical frequency as:\n",
    "\n",
    "$$\\nu_c \\equiv \\frac{3}{2}\\gamma^2\\nu_{gyr} \\sin \\alpha$$\n",
    "\n",
    "which the frequency at which the power spectrum will peak. In general terms we can describe the shape of the synchrotron power spectrum of a single electron has a logarithmic slope at low frequencies as $P \\propto \\nu^{1/3}$, a broad peak near the critical frequency $\\nu_c$, and a sharp fall off at higher frequencies.\n",
    "\n"
   ]
  },
  {
   "cell_type": "markdown",
   "metadata": {},
   "source": [
    "#### Spectrum for several electrons for optically thin sources\n",
    "\n",
    "If a synchrotron source containing any arbitrary distribution of electron energies is optically thin ($\\tau \\ll 1$), then its spectrum is the superposition of the spectra from individual electrons and its flux density cannot rise faster than $\\nu^{1/3}$ at any frequency $\\nu$. The energy distribution of cosmic-ray electrons in most synchrotron sources is roughly a power law:\n",
    "\n",
    "$$n(E) {\\rm d}E \\propto E^{-\\delta}{\\rm d}E$$\n",
    "\n",
    "We make the very simple and crude approximation that each electron radiates all of its power at a single critical frequency:\n",
    "\n",
    "$$\\nu_c \\simeq \\gamma^2\\nu_{gyr}$$\n",
    "\n",
    "We can assume that the luminosity or total power emitted per unit volume per unit frequency, $L(\\nu){\\rm d}\\nu$ is given by the power emitted for each individual electron times the number of electrons:\n",
    "\n",
    "$$ L (\\nu) {\\rm d}\\nu = P n(E){\\rm d}E = -\\left(\\frac{{\\rm d}E}{{\\rm d}t}\\right) n(E){\\rm d}E $$\n",
    "\n",
    "where \n",
    "$$E = \\gamma m_e c^2 \\simeq \\left(\\frac{\\nu}{\\nu_{gyr}}\\right)^{1/2}m_e c^2$$\n",
    "\n",
    "and so\n",
    "\n",
    "$$\\frac{{\\rm d}E}{{\\rm d}\\nu} \\simeq \\frac{m_e c^2 \\nu^{-1/2}}{2\\nu_{gyr}^{1/2}}$$\n",
    "\n",
    "putting all together gives:\n",
    "\n",
    "$$L_\\nu \\propto B^{(\\delta+1)/2}\\nu^{(1-\\delta)/2}$$\n",
    "\n",
    "That is, the synchrotron spectrum of a power-law energy distribution is itself a power law. This idea is represented in the figure below:"
   ]
  },
  {
   "cell_type": "markdown",
   "metadata": {},
   "source": [
    "<div align=\"center\">\n",
    "<img src=\"images/synchrotron_spectrum.svg?sanitize=true\" width=\"50%\">\n",
    "</div>"
   ]
  },
  {
   "cell_type": "markdown",
   "metadata": {},
   "source": [
    "For example in our Galaxy we expect the electron population to have an spectral index of $\\delta \\sim 2.4$, and so the synchrotron radiation should have an spectral index of $\\sim 0.7$. "
   ]
  },
  {
   "cell_type": "markdown",
   "metadata": {},
   "source": [
    "#### Power spectrum for several electrons for optically thick sources\n",
    "\n",
    "The argument of a power law synchrotron spectrum as a power-low with specltral index $\\alpha = (1 - \\delta)/2$ it's true as long as no absorption of photons by the emitting region happens. At low frequencies however synchrotron suffers from self-absorption, in which a photon interacts with a charge in a magnetic field. This also happens in *optically thick* sources. Therefore at low frequencies its emission is absorbed and re-emitted as blackbody radiation.\n",
    "The derivation of the synchrotron self-absorption is complicated so we are going to give only an heuristic approach. The problem with the re-emission of low frequencies as a black-body radiation is that a power-law distribution does not have a characteristic temperature. We can however assume that each electrons emits energy at a given frequency (given that the synchrotron emission of individual electrons is highly peak at a given frequency):\n",
    "\n",
    "\n",
    "$$\\nu_c \\equiv \\frac{3}{2}\\gamma^2\\nu_{gyr} \\sin \\alpha$$\n",
    "\n",
    "\n",
    "in order to calculate an *effective temperature* we can use that for an ultrarelativistic gas we have the relation:\n",
    "\n",
    "$$E_e = 3kT_e(\\nu)$$\n",
    "\n",
    "where $E_e = \\gamma m_e c^2$, since $\\gamma \\propto \\nu^{1/2}$ we have that:\n",
    "\n",
    "$$T_e(\\nu) \\propto \\nu^{1/2}$$\n",
    "\n",
    "The black-body radiation or Rayleigh-Jeans is proportional to $\\nu^2$ but given the extra dependency of $T_e(\\nu)$ it is changed as:\n",
    "\n",
    "$$L(\\nu) \\propto T(\\nu) \\nu^2 B^{-1/2} \\sim \\nu^{1/2}\\nu^{2}B^{-1/2} \\sim \\nu^{5/2} B^{-1/2}$$\n",
    "\n",
    "A thing to note is that this part of the spectrum is independent of the orginal electron power-law spectral index."
   ]
  },
  {
   "cell_type": "markdown",
   "metadata": {},
   "source": [
    "### Tutorial I. Working with SED\n",
    "\n",
    "We are going to plot some SED using a python module called [```naima```](https://github.com/zblz/naima). This package allows for the calculation of non-thermal radiation from relativistic particle populations."
   ]
  },
  {
   "cell_type": "code",
   "execution_count": 2,
   "metadata": {
    "collapsed": true
   },
   "outputs": [],
   "source": [
    "%matplotlib inline\n",
    "import numpy as np\n",
    "import matplotlib.pylab as plt\n",
    "from IPython.display import Latex\n",
    "\n",
    "plt.style.use(\"seaborn-notebook\")\n",
    "\n",
    "%config InlineBackend.figure_format = 'svg'"
   ]
  },
  {
   "cell_type": "code",
   "execution_count": 3,
   "metadata": {},
   "outputs": [
    {
     "data": {
      "image/svg+xml": "<?xml version=\"1.0\" encoding=\"utf-8\" standalone=\"no\"?>\n<!DOCTYPE svg PUBLIC \"-//W3C//DTD SVG 1.1//EN\"\n  \"http://www.w3.org/Graphics/SVG/1.1/DTD/svg11.dtd\">\n<svg height=\"270.487344pt\" version=\"1.1\" viewBox=\"0 0 622.72 270.487344\" width=\"622.72pt\" xmlns=\"http://www.w3.org/2000/svg\" xmlns:xlink=\"http://www.w3.org/1999/xlink\">\n <metadata>\n  <rdf:RDF xmlns:cc=\"http://creativecommons.org/ns#\" xmlns:dc=\"http://purl.org/dc/elements/1.1/\" xmlns:rdf=\"http://www.w3.org/1999/02/22-rdf-syntax-ns#\">\n   <cc:Work>\n    <dc:type rdf:resource=\"http://purl.org/dc/dcmitype/StillImage\"/>\n    <dc:date>2022-04-19T18:38:22.158491</dc:date>\n    <dc:format>image/svg+xml</dc:format>\n    <dc:creator>\n     <cc:Agent>\n      <dc:title>Matplotlib v3.4.2, https://matplotlib.org/</dc:title>\n     </cc:Agent>\n    </dc:creator>\n   </cc:Work>\n  </rdf:RDF>\n </metadata>\n <defs>\n  <style type=\"text/css\">*{stroke-linecap:butt;stroke-linejoin:round;}</style>\n </defs>\n <g id=\"figure_1\">\n  <g id=\"patch_1\">\n   <path d=\"M 0 270.487344 \nL 622.72 270.487344 \nL 622.72 0 \nL 0 0 \nz\n\" style=\"fill:none;\"/>\n  </g>\n  <g id=\"axes_1\">\n   <g id=\"patch_2\">\n    <path d=\"M 57.52 228.439219 \nL 615.52 228.439219 \nL 615.52 10.999219 \nL 57.52 10.999219 \nz\n\" style=\"fill:#ffffff;\"/>\n   </g>\n   <g id=\"matplotlib.axis_1\">\n    <g id=\"xtick_1\">\n     <g id=\"line2d_1\">\n      <path clip-path=\"url(#pb967c112ca)\" d=\"M 142.562781 228.439219 \nL 142.562781 10.999219 \n\" style=\"fill:none;stroke:#b0b0b0;stroke-linecap:square;\"/>\n     </g>\n     <g id=\"line2d_2\">\n      <defs>\n       <path d=\"M 0 0 \nL 0 3.5 \n\" id=\"me96ecde23b\" style=\"stroke:#000000;\"/>\n      </defs>\n      <g>\n       <use style=\"stroke:#000000;\" x=\"142.562781\" xlink:href=\"#me96ecde23b\" y=\"228.439219\"/>\n      </g>\n     </g>\n     <g id=\"text_1\">\n      <!-- $\\mathdefault{10^{1}}$ -->\n      <g transform=\"translate(133.762781 246.537656)scale(0.1 -0.1)\">\n       <defs>\n        <path d=\"M 794 531 \nL 1825 531 \nL 1825 4091 \nL 703 3866 \nL 703 4441 \nL 1819 4666 \nL 2450 4666 \nL 2450 531 \nL 3481 531 \nL 3481 0 \nL 794 0 \nL 794 531 \nz\n\" id=\"DejaVuSans-31\" transform=\"scale(0.015625)\"/>\n        <path d=\"M 2034 4250 \nQ 1547 4250 1301 3770 \nQ 1056 3291 1056 2328 \nQ 1056 1369 1301 889 \nQ 1547 409 2034 409 \nQ 2525 409 2770 889 \nQ 3016 1369 3016 2328 \nQ 3016 3291 2770 3770 \nQ 2525 4250 2034 4250 \nz\nM 2034 4750 \nQ 2819 4750 3233 4129 \nQ 3647 3509 3647 2328 \nQ 3647 1150 3233 529 \nQ 2819 -91 2034 -91 \nQ 1250 -91 836 529 \nQ 422 1150 422 2328 \nQ 422 3509 836 4129 \nQ 1250 4750 2034 4750 \nz\n\" id=\"DejaVuSans-30\" transform=\"scale(0.015625)\"/>\n       </defs>\n       <use transform=\"translate(0 0.684375)\" xlink:href=\"#DejaVuSans-31\"/>\n       <use transform=\"translate(63.623047 0.684375)\" xlink:href=\"#DejaVuSans-30\"/>\n       <use transform=\"translate(128.203125 38.965625)scale(0.7)\" xlink:href=\"#DejaVuSans-31\"/>\n      </g>\n     </g>\n    </g>\n    <g id=\"xtick_2\">\n     <g id=\"line2d_3\">\n      <path clip-path=\"url(#pb967c112ca)\" d=\"M 232.081497 228.439219 \nL 232.081497 10.999219 \n\" style=\"fill:none;stroke:#b0b0b0;stroke-linecap:square;\"/>\n     </g>\n     <g id=\"line2d_4\">\n      <g>\n       <use style=\"stroke:#000000;\" x=\"232.081497\" xlink:href=\"#me96ecde23b\" y=\"228.439219\"/>\n      </g>\n     </g>\n     <g id=\"text_2\">\n      <!-- $\\mathdefault{10^{4}}$ -->\n      <g transform=\"translate(223.281497 246.537656)scale(0.1 -0.1)\">\n       <defs>\n        <path d=\"M 2419 4116 \nL 825 1625 \nL 2419 1625 \nL 2419 4116 \nz\nM 2253 4666 \nL 3047 4666 \nL 3047 1625 \nL 3713 1625 \nL 3713 1100 \nL 3047 1100 \nL 3047 0 \nL 2419 0 \nL 2419 1100 \nL 313 1100 \nL 313 1709 \nL 2253 4666 \nz\n\" id=\"DejaVuSans-34\" transform=\"scale(0.015625)\"/>\n       </defs>\n       <use transform=\"translate(0 0.684375)\" xlink:href=\"#DejaVuSans-31\"/>\n       <use transform=\"translate(63.623047 0.684375)\" xlink:href=\"#DejaVuSans-30\"/>\n       <use transform=\"translate(128.203125 38.965625)scale(0.7)\" xlink:href=\"#DejaVuSans-34\"/>\n      </g>\n     </g>\n    </g>\n    <g id=\"xtick_3\">\n     <g id=\"line2d_5\">\n      <path clip-path=\"url(#pb967c112ca)\" d=\"M 321.600214 228.439219 \nL 321.600214 10.999219 \n\" style=\"fill:none;stroke:#b0b0b0;stroke-linecap:square;\"/>\n     </g>\n     <g id=\"line2d_6\">\n      <g>\n       <use style=\"stroke:#000000;\" x=\"321.600214\" xlink:href=\"#me96ecde23b\" y=\"228.439219\"/>\n      </g>\n     </g>\n     <g id=\"text_3\">\n      <!-- $\\mathdefault{10^{7}}$ -->\n      <g transform=\"translate(312.800214 246.537656)scale(0.1 -0.1)\">\n       <defs>\n        <path d=\"M 525 4666 \nL 3525 4666 \nL 3525 4397 \nL 1831 0 \nL 1172 0 \nL 2766 4134 \nL 525 4134 \nL 525 4666 \nz\n\" id=\"DejaVuSans-37\" transform=\"scale(0.015625)\"/>\n       </defs>\n       <use transform=\"translate(0 0.684375)\" xlink:href=\"#DejaVuSans-31\"/>\n       <use transform=\"translate(63.623047 0.684375)\" xlink:href=\"#DejaVuSans-30\"/>\n       <use transform=\"translate(128.203125 38.965625)scale(0.7)\" xlink:href=\"#DejaVuSans-37\"/>\n      </g>\n     </g>\n    </g>\n    <g id=\"xtick_4\">\n     <g id=\"line2d_7\">\n      <path clip-path=\"url(#pb967c112ca)\" d=\"M 411.11893 228.439219 \nL 411.11893 10.999219 \n\" style=\"fill:none;stroke:#b0b0b0;stroke-linecap:square;\"/>\n     </g>\n     <g id=\"line2d_8\">\n      <g>\n       <use style=\"stroke:#000000;\" x=\"411.11893\" xlink:href=\"#me96ecde23b\" y=\"228.439219\"/>\n      </g>\n     </g>\n     <g id=\"text_4\">\n      <!-- $\\mathdefault{10^{10}}$ -->\n      <g transform=\"translate(400.06893 246.537656)scale(0.1 -0.1)\">\n       <use transform=\"translate(0 0.765625)\" xlink:href=\"#DejaVuSans-31\"/>\n       <use transform=\"translate(63.623047 0.765625)\" xlink:href=\"#DejaVuSans-30\"/>\n       <use transform=\"translate(128.203125 39.046875)scale(0.7)\" xlink:href=\"#DejaVuSans-31\"/>\n       <use transform=\"translate(172.739258 39.046875)scale(0.7)\" xlink:href=\"#DejaVuSans-30\"/>\n      </g>\n     </g>\n    </g>\n    <g id=\"xtick_5\">\n     <g id=\"line2d_9\">\n      <path clip-path=\"url(#pb967c112ca)\" d=\"M 500.637647 228.439219 \nL 500.637647 10.999219 \n\" style=\"fill:none;stroke:#b0b0b0;stroke-linecap:square;\"/>\n     </g>\n     <g id=\"line2d_10\">\n      <g>\n       <use style=\"stroke:#000000;\" x=\"500.637647\" xlink:href=\"#me96ecde23b\" y=\"228.439219\"/>\n      </g>\n     </g>\n     <g id=\"text_5\">\n      <!-- $\\mathdefault{10^{13}}$ -->\n      <g transform=\"translate(489.587647 246.537656)scale(0.1 -0.1)\">\n       <defs>\n        <path d=\"M 2597 2516 \nQ 3050 2419 3304 2112 \nQ 3559 1806 3559 1356 \nQ 3559 666 3084 287 \nQ 2609 -91 1734 -91 \nQ 1441 -91 1130 -33 \nQ 819 25 488 141 \nL 488 750 \nQ 750 597 1062 519 \nQ 1375 441 1716 441 \nQ 2309 441 2620 675 \nQ 2931 909 2931 1356 \nQ 2931 1769 2642 2001 \nQ 2353 2234 1838 2234 \nL 1294 2234 \nL 1294 2753 \nL 1863 2753 \nQ 2328 2753 2575 2939 \nQ 2822 3125 2822 3475 \nQ 2822 3834 2567 4026 \nQ 2313 4219 1838 4219 \nQ 1578 4219 1281 4162 \nQ 984 4106 628 3988 \nL 628 4550 \nQ 988 4650 1302 4700 \nQ 1616 4750 1894 4750 \nQ 2613 4750 3031 4423 \nQ 3450 4097 3450 3541 \nQ 3450 3153 3228 2886 \nQ 3006 2619 2597 2516 \nz\n\" id=\"DejaVuSans-33\" transform=\"scale(0.015625)\"/>\n       </defs>\n       <use transform=\"translate(0 0.765625)\" xlink:href=\"#DejaVuSans-31\"/>\n       <use transform=\"translate(63.623047 0.765625)\" xlink:href=\"#DejaVuSans-30\"/>\n       <use transform=\"translate(128.203125 39.046875)scale(0.7)\" xlink:href=\"#DejaVuSans-31\"/>\n       <use transform=\"translate(172.739258 39.046875)scale(0.7)\" xlink:href=\"#DejaVuSans-33\"/>\n      </g>\n     </g>\n    </g>\n    <g id=\"xtick_6\">\n     <g id=\"line2d_11\">\n      <path clip-path=\"url(#pb967c112ca)\" d=\"M 590.156364 228.439219 \nL 590.156364 10.999219 \n\" style=\"fill:none;stroke:#b0b0b0;stroke-linecap:square;\"/>\n     </g>\n     <g id=\"line2d_12\">\n      <g>\n       <use style=\"stroke:#000000;\" x=\"590.156364\" xlink:href=\"#me96ecde23b\" y=\"228.439219\"/>\n      </g>\n     </g>\n     <g id=\"text_6\">\n      <!-- $\\mathdefault{10^{16}}$ -->\n      <g transform=\"translate(579.106364 246.537656)scale(0.1 -0.1)\">\n       <defs>\n        <path d=\"M 2113 2584 \nQ 1688 2584 1439 2293 \nQ 1191 2003 1191 1497 \nQ 1191 994 1439 701 \nQ 1688 409 2113 409 \nQ 2538 409 2786 701 \nQ 3034 994 3034 1497 \nQ 3034 2003 2786 2293 \nQ 2538 2584 2113 2584 \nz\nM 3366 4563 \nL 3366 3988 \nQ 3128 4100 2886 4159 \nQ 2644 4219 2406 4219 \nQ 1781 4219 1451 3797 \nQ 1122 3375 1075 2522 \nQ 1259 2794 1537 2939 \nQ 1816 3084 2150 3084 \nQ 2853 3084 3261 2657 \nQ 3669 2231 3669 1497 \nQ 3669 778 3244 343 \nQ 2819 -91 2113 -91 \nQ 1303 -91 875 529 \nQ 447 1150 447 2328 \nQ 447 3434 972 4092 \nQ 1497 4750 2381 4750 \nQ 2619 4750 2861 4703 \nQ 3103 4656 3366 4563 \nz\n\" id=\"DejaVuSans-36\" transform=\"scale(0.015625)\"/>\n       </defs>\n       <use transform=\"translate(0 0.765625)\" xlink:href=\"#DejaVuSans-31\"/>\n       <use transform=\"translate(63.623047 0.765625)\" xlink:href=\"#DejaVuSans-30\"/>\n       <use transform=\"translate(128.203125 39.046875)scale(0.7)\" xlink:href=\"#DejaVuSans-31\"/>\n       <use transform=\"translate(172.739258 39.046875)scale(0.7)\" xlink:href=\"#DejaVuSans-36\"/>\n      </g>\n     </g>\n    </g>\n    <g id=\"text_7\">\n     <!-- Photon energy [$\\mathrm{eV}$] -->\n     <g transform=\"translate(283.115 260.977344)scale(0.11 -0.11)\">\n      <defs>\n       <path d=\"M 1259 4147 \nL 1259 2394 \nL 2053 2394 \nQ 2494 2394 2734 2622 \nQ 2975 2850 2975 3272 \nQ 2975 3691 2734 3919 \nQ 2494 4147 2053 4147 \nL 1259 4147 \nz\nM 628 4666 \nL 2053 4666 \nQ 2838 4666 3239 4311 \nQ 3641 3956 3641 3272 \nQ 3641 2581 3239 2228 \nQ 2838 1875 2053 1875 \nL 1259 1875 \nL 1259 0 \nL 628 0 \nL 628 4666 \nz\n\" id=\"DejaVuSans-50\" transform=\"scale(0.015625)\"/>\n       <path d=\"M 3513 2113 \nL 3513 0 \nL 2938 0 \nL 2938 2094 \nQ 2938 2591 2744 2837 \nQ 2550 3084 2163 3084 \nQ 1697 3084 1428 2787 \nQ 1159 2491 1159 1978 \nL 1159 0 \nL 581 0 \nL 581 4863 \nL 1159 4863 \nL 1159 2956 \nQ 1366 3272 1645 3428 \nQ 1925 3584 2291 3584 \nQ 2894 3584 3203 3211 \nQ 3513 2838 3513 2113 \nz\n\" id=\"DejaVuSans-68\" transform=\"scale(0.015625)\"/>\n       <path d=\"M 1959 3097 \nQ 1497 3097 1228 2736 \nQ 959 2375 959 1747 \nQ 959 1119 1226 758 \nQ 1494 397 1959 397 \nQ 2419 397 2687 759 \nQ 2956 1122 2956 1747 \nQ 2956 2369 2687 2733 \nQ 2419 3097 1959 3097 \nz\nM 1959 3584 \nQ 2709 3584 3137 3096 \nQ 3566 2609 3566 1747 \nQ 3566 888 3137 398 \nQ 2709 -91 1959 -91 \nQ 1206 -91 779 398 \nQ 353 888 353 1747 \nQ 353 2609 779 3096 \nQ 1206 3584 1959 3584 \nz\n\" id=\"DejaVuSans-6f\" transform=\"scale(0.015625)\"/>\n       <path d=\"M 1172 4494 \nL 1172 3500 \nL 2356 3500 \nL 2356 3053 \nL 1172 3053 \nL 1172 1153 \nQ 1172 725 1289 603 \nQ 1406 481 1766 481 \nL 2356 481 \nL 2356 0 \nL 1766 0 \nQ 1100 0 847 248 \nQ 594 497 594 1153 \nL 594 3053 \nL 172 3053 \nL 172 3500 \nL 594 3500 \nL 594 4494 \nL 1172 4494 \nz\n\" id=\"DejaVuSans-74\" transform=\"scale(0.015625)\"/>\n       <path d=\"M 3513 2113 \nL 3513 0 \nL 2938 0 \nL 2938 2094 \nQ 2938 2591 2744 2837 \nQ 2550 3084 2163 3084 \nQ 1697 3084 1428 2787 \nQ 1159 2491 1159 1978 \nL 1159 0 \nL 581 0 \nL 581 3500 \nL 1159 3500 \nL 1159 2956 \nQ 1366 3272 1645 3428 \nQ 1925 3584 2291 3584 \nQ 2894 3584 3203 3211 \nQ 3513 2838 3513 2113 \nz\n\" id=\"DejaVuSans-6e\" transform=\"scale(0.015625)\"/>\n       <path id=\"DejaVuSans-20\" transform=\"scale(0.015625)\"/>\n       <path d=\"M 3597 1894 \nL 3597 1613 \nL 953 1613 \nQ 991 1019 1311 708 \nQ 1631 397 2203 397 \nQ 2534 397 2845 478 \nQ 3156 559 3463 722 \nL 3463 178 \nQ 3153 47 2828 -22 \nQ 2503 -91 2169 -91 \nQ 1331 -91 842 396 \nQ 353 884 353 1716 \nQ 353 2575 817 3079 \nQ 1281 3584 2069 3584 \nQ 2775 3584 3186 3129 \nQ 3597 2675 3597 1894 \nz\nM 3022 2063 \nQ 3016 2534 2758 2815 \nQ 2500 3097 2075 3097 \nQ 1594 3097 1305 2825 \nQ 1016 2553 972 2059 \nL 3022 2063 \nz\n\" id=\"DejaVuSans-65\" transform=\"scale(0.015625)\"/>\n       <path d=\"M 2631 2963 \nQ 2534 3019 2420 3045 \nQ 2306 3072 2169 3072 \nQ 1681 3072 1420 2755 \nQ 1159 2438 1159 1844 \nL 1159 0 \nL 581 0 \nL 581 3500 \nL 1159 3500 \nL 1159 2956 \nQ 1341 3275 1631 3429 \nQ 1922 3584 2338 3584 \nQ 2397 3584 2469 3576 \nQ 2541 3569 2628 3553 \nL 2631 2963 \nz\n\" id=\"DejaVuSans-72\" transform=\"scale(0.015625)\"/>\n       <path d=\"M 2906 1791 \nQ 2906 2416 2648 2759 \nQ 2391 3103 1925 3103 \nQ 1463 3103 1205 2759 \nQ 947 2416 947 1791 \nQ 947 1169 1205 825 \nQ 1463 481 1925 481 \nQ 2391 481 2648 825 \nQ 2906 1169 2906 1791 \nz\nM 3481 434 \nQ 3481 -459 3084 -895 \nQ 2688 -1331 1869 -1331 \nQ 1566 -1331 1297 -1286 \nQ 1028 -1241 775 -1147 \nL 775 -588 \nQ 1028 -725 1275 -790 \nQ 1522 -856 1778 -856 \nQ 2344 -856 2625 -561 \nQ 2906 -266 2906 331 \nL 2906 616 \nQ 2728 306 2450 153 \nQ 2172 0 1784 0 \nQ 1141 0 747 490 \nQ 353 981 353 1791 \nQ 353 2603 747 3093 \nQ 1141 3584 1784 3584 \nQ 2172 3584 2450 3431 \nQ 2728 3278 2906 2969 \nL 2906 3500 \nL 3481 3500 \nL 3481 434 \nz\n\" id=\"DejaVuSans-67\" transform=\"scale(0.015625)\"/>\n       <path d=\"M 2059 -325 \nQ 1816 -950 1584 -1140 \nQ 1353 -1331 966 -1331 \nL 506 -1331 \nL 506 -850 \nL 844 -850 \nQ 1081 -850 1212 -737 \nQ 1344 -625 1503 -206 \nL 1606 56 \nL 191 3500 \nL 800 3500 \nL 1894 763 \nL 2988 3500 \nL 3597 3500 \nL 2059 -325 \nz\n\" id=\"DejaVuSans-79\" transform=\"scale(0.015625)\"/>\n       <path d=\"M 550 4863 \nL 1875 4863 \nL 1875 4416 \nL 1125 4416 \nL 1125 -397 \nL 1875 -397 \nL 1875 -844 \nL 550 -844 \nL 550 4863 \nz\n\" id=\"DejaVuSans-5b\" transform=\"scale(0.015625)\"/>\n       <path d=\"M 1831 0 \nL 50 4666 \nL 709 4666 \nL 2188 738 \nL 3669 4666 \nL 4325 4666 \nL 2547 0 \nL 1831 0 \nz\n\" id=\"DejaVuSans-56\" transform=\"scale(0.015625)\"/>\n       <path d=\"M 1947 4863 \nL 1947 -844 \nL 622 -844 \nL 622 -397 \nL 1369 -397 \nL 1369 4416 \nL 622 4416 \nL 622 4863 \nL 1947 4863 \nz\n\" id=\"DejaVuSans-5d\" transform=\"scale(0.015625)\"/>\n      </defs>\n      <use transform=\"translate(0 0.015625)\" xlink:href=\"#DejaVuSans-50\"/>\n      <use transform=\"translate(60.302734 0.015625)\" xlink:href=\"#DejaVuSans-68\"/>\n      <use transform=\"translate(123.681641 0.015625)\" xlink:href=\"#DejaVuSans-6f\"/>\n      <use transform=\"translate(184.863281 0.015625)\" xlink:href=\"#DejaVuSans-74\"/>\n      <use transform=\"translate(224.072266 0.015625)\" xlink:href=\"#DejaVuSans-6f\"/>\n      <use transform=\"translate(285.253906 0.015625)\" xlink:href=\"#DejaVuSans-6e\"/>\n      <use transform=\"translate(348.632812 0.015625)\" xlink:href=\"#DejaVuSans-20\"/>\n      <use transform=\"translate(380.419922 0.015625)\" xlink:href=\"#DejaVuSans-65\"/>\n      <use transform=\"translate(441.943359 0.015625)\" xlink:href=\"#DejaVuSans-6e\"/>\n      <use transform=\"translate(505.322266 0.015625)\" xlink:href=\"#DejaVuSans-65\"/>\n      <use transform=\"translate(566.845703 0.015625)\" xlink:href=\"#DejaVuSans-72\"/>\n      <use transform=\"translate(607.958984 0.015625)\" xlink:href=\"#DejaVuSans-67\"/>\n      <use transform=\"translate(671.435547 0.015625)\" xlink:href=\"#DejaVuSans-79\"/>\n      <use transform=\"translate(730.615234 0.015625)\" xlink:href=\"#DejaVuSans-20\"/>\n      <use transform=\"translate(762.402344 0.015625)\" xlink:href=\"#DejaVuSans-5b\"/>\n      <use transform=\"translate(801.416016 0.015625)\" xlink:href=\"#DejaVuSans-65\"/>\n      <use transform=\"translate(862.939453 0.015625)\" xlink:href=\"#DejaVuSans-56\"/>\n      <use transform=\"translate(931.347656 0.015625)\" xlink:href=\"#DejaVuSans-5d\"/>\n     </g>\n    </g>\n   </g>\n   <g id=\"matplotlib.axis_2\">\n    <g id=\"ytick_1\">\n     <g id=\"line2d_13\">\n      <path clip-path=\"url(#pb967c112ca)\" d=\"M 57.52 228.439219 \nL 615.52 228.439219 \n\" style=\"fill:none;stroke:#b0b0b0;stroke-linecap:square;\"/>\n     </g>\n     <g id=\"line2d_14\">\n      <defs>\n       <path d=\"M 0 0 \nL -3.5 0 \n\" id=\"m49077fcb75\" style=\"stroke:#000000;\"/>\n      </defs>\n      <g>\n       <use style=\"stroke:#000000;\" x=\"57.52\" xlink:href=\"#m49077fcb75\" y=\"228.439219\"/>\n      </g>\n     </g>\n     <g id=\"text_8\">\n      <!-- $\\mathdefault{10^{-9}}$ -->\n      <g transform=\"translate(23.52 232.238438)scale(0.1 -0.1)\">\n       <defs>\n        <path d=\"M 678 2272 \nL 4684 2272 \nL 4684 1741 \nL 678 1741 \nL 678 2272 \nz\n\" id=\"DejaVuSans-2212\" transform=\"scale(0.015625)\"/>\n        <path d=\"M 703 97 \nL 703 672 \nQ 941 559 1184 500 \nQ 1428 441 1663 441 \nQ 2288 441 2617 861 \nQ 2947 1281 2994 2138 \nQ 2813 1869 2534 1725 \nQ 2256 1581 1919 1581 \nQ 1219 1581 811 2004 \nQ 403 2428 403 3163 \nQ 403 3881 828 4315 \nQ 1253 4750 1959 4750 \nQ 2769 4750 3195 4129 \nQ 3622 3509 3622 2328 \nQ 3622 1225 3098 567 \nQ 2575 -91 1691 -91 \nQ 1453 -91 1209 -44 \nQ 966 3 703 97 \nz\nM 1959 2075 \nQ 2384 2075 2632 2365 \nQ 2881 2656 2881 3163 \nQ 2881 3666 2632 3958 \nQ 2384 4250 1959 4250 \nQ 1534 4250 1286 3958 \nQ 1038 3666 1038 3163 \nQ 1038 2656 1286 2365 \nQ 1534 2075 1959 2075 \nz\n\" id=\"DejaVuSans-39\" transform=\"scale(0.015625)\"/>\n       </defs>\n       <use transform=\"translate(0 0.765625)\" xlink:href=\"#DejaVuSans-31\"/>\n       <use transform=\"translate(63.623047 0.765625)\" xlink:href=\"#DejaVuSans-30\"/>\n       <use transform=\"translate(128.203125 39.046875)scale(0.7)\" xlink:href=\"#DejaVuSans-2212\"/>\n       <use transform=\"translate(186.855469 39.046875)scale(0.7)\" xlink:href=\"#DejaVuSans-39\"/>\n      </g>\n     </g>\n    </g>\n    <g id=\"ytick_2\">\n     <g id=\"line2d_15\">\n      <path clip-path=\"url(#pb967c112ca)\" d=\"M 57.52 174.079219 \nL 615.52 174.079219 \n\" style=\"fill:none;stroke:#b0b0b0;stroke-linecap:square;\"/>\n     </g>\n     <g id=\"line2d_16\">\n      <g>\n       <use style=\"stroke:#000000;\" x=\"57.52\" xlink:href=\"#m49077fcb75\" y=\"174.079219\"/>\n      </g>\n     </g>\n     <g id=\"text_9\">\n      <!-- $\\mathdefault{10^{-8}}$ -->\n      <g transform=\"translate(23.52 177.878437)scale(0.1 -0.1)\">\n       <defs>\n        <path d=\"M 2034 2216 \nQ 1584 2216 1326 1975 \nQ 1069 1734 1069 1313 \nQ 1069 891 1326 650 \nQ 1584 409 2034 409 \nQ 2484 409 2743 651 \nQ 3003 894 3003 1313 \nQ 3003 1734 2745 1975 \nQ 2488 2216 2034 2216 \nz\nM 1403 2484 \nQ 997 2584 770 2862 \nQ 544 3141 544 3541 \nQ 544 4100 942 4425 \nQ 1341 4750 2034 4750 \nQ 2731 4750 3128 4425 \nQ 3525 4100 3525 3541 \nQ 3525 3141 3298 2862 \nQ 3072 2584 2669 2484 \nQ 3125 2378 3379 2068 \nQ 3634 1759 3634 1313 \nQ 3634 634 3220 271 \nQ 2806 -91 2034 -91 \nQ 1263 -91 848 271 \nQ 434 634 434 1313 \nQ 434 1759 690 2068 \nQ 947 2378 1403 2484 \nz\nM 1172 3481 \nQ 1172 3119 1398 2916 \nQ 1625 2713 2034 2713 \nQ 2441 2713 2670 2916 \nQ 2900 3119 2900 3481 \nQ 2900 3844 2670 4047 \nQ 2441 4250 2034 4250 \nQ 1625 4250 1398 4047 \nQ 1172 3844 1172 3481 \nz\n\" id=\"DejaVuSans-38\" transform=\"scale(0.015625)\"/>\n       </defs>\n       <use transform=\"translate(0 0.765625)\" xlink:href=\"#DejaVuSans-31\"/>\n       <use transform=\"translate(63.623047 0.765625)\" xlink:href=\"#DejaVuSans-30\"/>\n       <use transform=\"translate(128.203125 39.046875)scale(0.7)\" xlink:href=\"#DejaVuSans-2212\"/>\n       <use transform=\"translate(186.855469 39.046875)scale(0.7)\" xlink:href=\"#DejaVuSans-38\"/>\n      </g>\n     </g>\n    </g>\n    <g id=\"ytick_3\">\n     <g id=\"line2d_17\">\n      <path clip-path=\"url(#pb967c112ca)\" d=\"M 57.52 119.719219 \nL 615.52 119.719219 \n\" style=\"fill:none;stroke:#b0b0b0;stroke-linecap:square;\"/>\n     </g>\n     <g id=\"line2d_18\">\n      <g>\n       <use style=\"stroke:#000000;\" x=\"57.52\" xlink:href=\"#m49077fcb75\" y=\"119.719219\"/>\n      </g>\n     </g>\n     <g id=\"text_10\">\n      <!-- $\\mathdefault{10^{-7}}$ -->\n      <g transform=\"translate(23.52 123.518437)scale(0.1 -0.1)\">\n       <use transform=\"translate(0 0.684375)\" xlink:href=\"#DejaVuSans-31\"/>\n       <use transform=\"translate(63.623047 0.684375)\" xlink:href=\"#DejaVuSans-30\"/>\n       <use transform=\"translate(128.203125 38.965625)scale(0.7)\" xlink:href=\"#DejaVuSans-2212\"/>\n       <use transform=\"translate(186.855469 38.965625)scale(0.7)\" xlink:href=\"#DejaVuSans-37\"/>\n      </g>\n     </g>\n    </g>\n    <g id=\"ytick_4\">\n     <g id=\"line2d_19\">\n      <path clip-path=\"url(#pb967c112ca)\" d=\"M 57.52 65.359219 \nL 615.52 65.359219 \n\" style=\"fill:none;stroke:#b0b0b0;stroke-linecap:square;\"/>\n     </g>\n     <g id=\"line2d_20\">\n      <g>\n       <use style=\"stroke:#000000;\" x=\"57.52\" xlink:href=\"#m49077fcb75\" y=\"65.359219\"/>\n      </g>\n     </g>\n     <g id=\"text_11\">\n      <!-- $\\mathdefault{10^{-6}}$ -->\n      <g transform=\"translate(23.52 69.158437)scale(0.1 -0.1)\">\n       <use transform=\"translate(0 0.765625)\" xlink:href=\"#DejaVuSans-31\"/>\n       <use transform=\"translate(63.623047 0.765625)\" xlink:href=\"#DejaVuSans-30\"/>\n       <use transform=\"translate(128.203125 39.046875)scale(0.7)\" xlink:href=\"#DejaVuSans-2212\"/>\n       <use transform=\"translate(186.855469 39.046875)scale(0.7)\" xlink:href=\"#DejaVuSans-36\"/>\n      </g>\n     </g>\n    </g>\n    <g id=\"ytick_5\">\n     <g id=\"line2d_21\">\n      <path clip-path=\"url(#pb967c112ca)\" d=\"M 57.52 10.999219 \nL 615.52 10.999219 \n\" style=\"fill:none;stroke:#b0b0b0;stroke-linecap:square;\"/>\n     </g>\n     <g id=\"line2d_22\">\n      <g>\n       <use style=\"stroke:#000000;\" x=\"57.52\" xlink:href=\"#m49077fcb75\" y=\"10.999219\"/>\n      </g>\n     </g>\n     <g id=\"text_12\">\n      <!-- $\\mathdefault{10^{-5}}$ -->\n      <g transform=\"translate(23.52 14.798437)scale(0.1 -0.1)\">\n       <defs>\n        <path d=\"M 691 4666 \nL 3169 4666 \nL 3169 4134 \nL 1269 4134 \nL 1269 2991 \nQ 1406 3038 1543 3061 \nQ 1681 3084 1819 3084 \nQ 2600 3084 3056 2656 \nQ 3513 2228 3513 1497 \nQ 3513 744 3044 326 \nQ 2575 -91 1722 -91 \nQ 1428 -91 1123 -41 \nQ 819 9 494 109 \nL 494 744 \nQ 775 591 1075 516 \nQ 1375 441 1709 441 \nQ 2250 441 2565 725 \nQ 2881 1009 2881 1497 \nQ 2881 1984 2565 2268 \nQ 2250 2553 1709 2553 \nQ 1456 2553 1204 2497 \nQ 953 2441 691 2322 \nL 691 4666 \nz\n\" id=\"DejaVuSans-35\" transform=\"scale(0.015625)\"/>\n       </defs>\n       <use transform=\"translate(0 0.684375)\" xlink:href=\"#DejaVuSans-31\"/>\n       <use transform=\"translate(63.623047 0.684375)\" xlink:href=\"#DejaVuSans-30\"/>\n       <use transform=\"translate(128.203125 38.965625)scale(0.7)\" xlink:href=\"#DejaVuSans-2212\"/>\n       <use transform=\"translate(186.855469 38.965625)scale(0.7)\" xlink:href=\"#DejaVuSans-35\"/>\n      </g>\n     </g>\n    </g>\n    <g id=\"ytick_6\">\n     <g id=\"line2d_23\">\n      <defs>\n       <path d=\"M 0 0 \nL -2 0 \n\" id=\"m7bd204d79d\" style=\"stroke:#000000;stroke-width:0.5;\"/>\n      </defs>\n      <g>\n       <use style=\"stroke:#000000;stroke-width:0.5;\" x=\"57.52\" xlink:href=\"#m7bd204d79d\" y=\"212.075228\"/>\n      </g>\n     </g>\n    </g>\n    <g id=\"ytick_7\">\n     <g id=\"line2d_24\">\n      <g>\n       <use style=\"stroke:#000000;stroke-width:0.5;\" x=\"57.52\" xlink:href=\"#m7bd204d79d\" y=\"202.502907\"/>\n      </g>\n     </g>\n    </g>\n    <g id=\"ytick_8\">\n     <g id=\"line2d_25\">\n      <g>\n       <use style=\"stroke:#000000;stroke-width:0.5;\" x=\"57.52\" xlink:href=\"#m7bd204d79d\" y=\"195.711238\"/>\n      </g>\n     </g>\n    </g>\n    <g id=\"ytick_9\">\n     <g id=\"line2d_26\">\n      <g>\n       <use style=\"stroke:#000000;stroke-width:0.5;\" x=\"57.52\" xlink:href=\"#m7bd204d79d\" y=\"190.443209\"/>\n      </g>\n     </g>\n    </g>\n    <g id=\"ytick_10\">\n     <g id=\"line2d_27\">\n      <g>\n       <use style=\"stroke:#000000;stroke-width:0.5;\" x=\"57.52\" xlink:href=\"#m7bd204d79d\" y=\"186.138917\"/>\n      </g>\n     </g>\n    </g>\n    <g id=\"ytick_11\">\n     <g id=\"line2d_28\">\n      <g>\n       <use style=\"stroke:#000000;stroke-width:0.5;\" x=\"57.52\" xlink:href=\"#m7bd204d79d\" y=\"182.499689\"/>\n      </g>\n     </g>\n    </g>\n    <g id=\"ytick_12\">\n     <g id=\"line2d_29\">\n      <g>\n       <use style=\"stroke:#000000;stroke-width:0.5;\" x=\"57.52\" xlink:href=\"#m7bd204d79d\" y=\"179.347247\"/>\n      </g>\n     </g>\n    </g>\n    <g id=\"ytick_13\">\n     <g id=\"line2d_30\">\n      <g>\n       <use style=\"stroke:#000000;stroke-width:0.5;\" x=\"57.52\" xlink:href=\"#m7bd204d79d\" y=\"176.566596\"/>\n      </g>\n     </g>\n    </g>\n    <g id=\"ytick_14\">\n     <g id=\"line2d_31\">\n      <g>\n       <use style=\"stroke:#000000;stroke-width:0.5;\" x=\"57.52\" xlink:href=\"#m7bd204d79d\" y=\"157.715228\"/>\n      </g>\n     </g>\n    </g>\n    <g id=\"ytick_15\">\n     <g id=\"line2d_32\">\n      <g>\n       <use style=\"stroke:#000000;stroke-width:0.5;\" x=\"57.52\" xlink:href=\"#m7bd204d79d\" y=\"148.142907\"/>\n      </g>\n     </g>\n    </g>\n    <g id=\"ytick_16\">\n     <g id=\"line2d_33\">\n      <g>\n       <use style=\"stroke:#000000;stroke-width:0.5;\" x=\"57.52\" xlink:href=\"#m7bd204d79d\" y=\"141.351238\"/>\n      </g>\n     </g>\n    </g>\n    <g id=\"ytick_17\">\n     <g id=\"line2d_34\">\n      <g>\n       <use style=\"stroke:#000000;stroke-width:0.5;\" x=\"57.52\" xlink:href=\"#m7bd204d79d\" y=\"136.083209\"/>\n      </g>\n     </g>\n    </g>\n    <g id=\"ytick_18\">\n     <g id=\"line2d_35\">\n      <g>\n       <use style=\"stroke:#000000;stroke-width:0.5;\" x=\"57.52\" xlink:href=\"#m7bd204d79d\" y=\"131.778917\"/>\n      </g>\n     </g>\n    </g>\n    <g id=\"ytick_19\">\n     <g id=\"line2d_36\">\n      <g>\n       <use style=\"stroke:#000000;stroke-width:0.5;\" x=\"57.52\" xlink:href=\"#m7bd204d79d\" y=\"128.139689\"/>\n      </g>\n     </g>\n    </g>\n    <g id=\"ytick_20\">\n     <g id=\"line2d_37\">\n      <g>\n       <use style=\"stroke:#000000;stroke-width:0.5;\" x=\"57.52\" xlink:href=\"#m7bd204d79d\" y=\"124.987247\"/>\n      </g>\n     </g>\n    </g>\n    <g id=\"ytick_21\">\n     <g id=\"line2d_38\">\n      <g>\n       <use style=\"stroke:#000000;stroke-width:0.5;\" x=\"57.52\" xlink:href=\"#m7bd204d79d\" y=\"122.206596\"/>\n      </g>\n     </g>\n    </g>\n    <g id=\"ytick_22\">\n     <g id=\"line2d_39\">\n      <g>\n       <use style=\"stroke:#000000;stroke-width:0.5;\" x=\"57.52\" xlink:href=\"#m7bd204d79d\" y=\"103.355228\"/>\n      </g>\n     </g>\n    </g>\n    <g id=\"ytick_23\">\n     <g id=\"line2d_40\">\n      <g>\n       <use style=\"stroke:#000000;stroke-width:0.5;\" x=\"57.52\" xlink:href=\"#m7bd204d79d\" y=\"93.782907\"/>\n      </g>\n     </g>\n    </g>\n    <g id=\"ytick_24\">\n     <g id=\"line2d_41\">\n      <g>\n       <use style=\"stroke:#000000;stroke-width:0.5;\" x=\"57.52\" xlink:href=\"#m7bd204d79d\" y=\"86.991238\"/>\n      </g>\n     </g>\n    </g>\n    <g id=\"ytick_25\">\n     <g id=\"line2d_42\">\n      <g>\n       <use style=\"stroke:#000000;stroke-width:0.5;\" x=\"57.52\" xlink:href=\"#m7bd204d79d\" y=\"81.723209\"/>\n      </g>\n     </g>\n    </g>\n    <g id=\"ytick_26\">\n     <g id=\"line2d_43\">\n      <g>\n       <use style=\"stroke:#000000;stroke-width:0.5;\" x=\"57.52\" xlink:href=\"#m7bd204d79d\" y=\"77.418917\"/>\n      </g>\n     </g>\n    </g>\n    <g id=\"ytick_27\">\n     <g id=\"line2d_44\">\n      <g>\n       <use style=\"stroke:#000000;stroke-width:0.5;\" x=\"57.52\" xlink:href=\"#m7bd204d79d\" y=\"73.779689\"/>\n      </g>\n     </g>\n    </g>\n    <g id=\"ytick_28\">\n     <g id=\"line2d_45\">\n      <g>\n       <use style=\"stroke:#000000;stroke-width:0.5;\" x=\"57.52\" xlink:href=\"#m7bd204d79d\" y=\"70.627247\"/>\n      </g>\n     </g>\n    </g>\n    <g id=\"ytick_29\">\n     <g id=\"line2d_46\">\n      <g>\n       <use style=\"stroke:#000000;stroke-width:0.5;\" x=\"57.52\" xlink:href=\"#m7bd204d79d\" y=\"67.846596\"/>\n      </g>\n     </g>\n    </g>\n    <g id=\"ytick_30\">\n     <g id=\"line2d_47\">\n      <g>\n       <use style=\"stroke:#000000;stroke-width:0.5;\" x=\"57.52\" xlink:href=\"#m7bd204d79d\" y=\"48.995228\"/>\n      </g>\n     </g>\n    </g>\n    <g id=\"ytick_31\">\n     <g id=\"line2d_48\">\n      <g>\n       <use style=\"stroke:#000000;stroke-width:0.5;\" x=\"57.52\" xlink:href=\"#m7bd204d79d\" y=\"39.422907\"/>\n      </g>\n     </g>\n    </g>\n    <g id=\"ytick_32\">\n     <g id=\"line2d_49\">\n      <g>\n       <use style=\"stroke:#000000;stroke-width:0.5;\" x=\"57.52\" xlink:href=\"#m7bd204d79d\" y=\"32.631238\"/>\n      </g>\n     </g>\n    </g>\n    <g id=\"ytick_33\">\n     <g id=\"line2d_50\">\n      <g>\n       <use style=\"stroke:#000000;stroke-width:0.5;\" x=\"57.52\" xlink:href=\"#m7bd204d79d\" y=\"27.363209\"/>\n      </g>\n     </g>\n    </g>\n    <g id=\"ytick_34\">\n     <g id=\"line2d_51\">\n      <g>\n       <use style=\"stroke:#000000;stroke-width:0.5;\" x=\"57.52\" xlink:href=\"#m7bd204d79d\" y=\"23.058917\"/>\n      </g>\n     </g>\n    </g>\n    <g id=\"ytick_35\">\n     <g id=\"line2d_52\">\n      <g>\n       <use style=\"stroke:#000000;stroke-width:0.5;\" x=\"57.52\" xlink:href=\"#m7bd204d79d\" y=\"19.419689\"/>\n      </g>\n     </g>\n    </g>\n    <g id=\"ytick_36\">\n     <g id=\"line2d_53\">\n      <g>\n       <use style=\"stroke:#000000;stroke-width:0.5;\" x=\"57.52\" xlink:href=\"#m7bd204d79d\" y=\"16.267247\"/>\n      </g>\n     </g>\n    </g>\n    <g id=\"ytick_37\">\n     <g id=\"line2d_54\">\n      <g>\n       <use style=\"stroke:#000000;stroke-width:0.5;\" x=\"57.52\" xlink:href=\"#m7bd204d79d\" y=\"13.486596\"/>\n      </g>\n     </g>\n    </g>\n    <g id=\"text_13\">\n     <!-- $E^2 dN/dE$ [$\\mathrm{erg\\,s^{-1}\\,cm^{-2}}$] -->\n     <g transform=\"translate(17.21 182.584219)rotate(-90)scale(0.11 -0.11)\">\n      <defs>\n       <path d=\"M 1081 4666 \nL 4031 4666 \nL 3928 4134 \nL 1606 4134 \nL 1338 2753 \nL 3566 2753 \nL 3463 2222 \nL 1234 2222 \nL 909 531 \nL 3284 531 \nL 3181 0 \nL 172 0 \nL 1081 4666 \nz\n\" id=\"DejaVuSans-Oblique-45\" transform=\"scale(0.015625)\"/>\n       <path d=\"M 1228 531 \nL 3431 531 \nL 3431 0 \nL 469 0 \nL 469 531 \nQ 828 903 1448 1529 \nQ 2069 2156 2228 2338 \nQ 2531 2678 2651 2914 \nQ 2772 3150 2772 3378 \nQ 2772 3750 2511 3984 \nQ 2250 4219 1831 4219 \nQ 1534 4219 1204 4116 \nQ 875 4013 500 3803 \nL 500 4441 \nQ 881 4594 1212 4672 \nQ 1544 4750 1819 4750 \nQ 2544 4750 2975 4387 \nQ 3406 4025 3406 3419 \nQ 3406 3131 3298 2873 \nQ 3191 2616 2906 2266 \nQ 2828 2175 2409 1742 \nQ 1991 1309 1228 531 \nz\n\" id=\"DejaVuSans-32\" transform=\"scale(0.015625)\"/>\n       <path d=\"M 2675 525 \nQ 2444 222 2128 65 \nQ 1813 -91 1428 -91 \nQ 903 -91 598 267 \nQ 294 625 294 1247 \nQ 294 1766 478 2236 \nQ 663 2706 1013 3078 \nQ 1244 3325 1534 3454 \nQ 1825 3584 2144 3584 \nQ 2481 3584 2739 3421 \nQ 2997 3259 3138 2956 \nL 3513 4863 \nL 4091 4863 \nL 3144 0 \nL 2566 0 \nL 2675 525 \nz\nM 891 1350 \nQ 891 897 1095 644 \nQ 1300 391 1663 391 \nQ 1931 391 2161 520 \nQ 2391 650 2566 903 \nQ 2750 1166 2856 1509 \nQ 2963 1853 2963 2188 \nQ 2963 2622 2758 2865 \nQ 2553 3109 2194 3109 \nQ 1922 3109 1687 2981 \nQ 1453 2853 1288 2613 \nQ 1106 2353 998 2009 \nQ 891 1666 891 1350 \nz\n\" id=\"DejaVuSans-Oblique-64\" transform=\"scale(0.015625)\"/>\n       <path d=\"M 1081 4666 \nL 1931 4666 \nL 3219 666 \nL 4000 4666 \nL 4616 4666 \nL 3706 0 \nL 2853 0 \nL 1569 4025 \nL 788 0 \nL 172 0 \nL 1081 4666 \nz\n\" id=\"DejaVuSans-Oblique-4e\" transform=\"scale(0.015625)\"/>\n       <path d=\"M 1625 4666 \nL 2156 4666 \nL 531 -594 \nL 0 -594 \nL 1625 4666 \nz\n\" id=\"DejaVuSans-2f\" transform=\"scale(0.015625)\"/>\n       <path d=\"M 2834 3397 \nL 2834 2853 \nQ 2591 2978 2328 3040 \nQ 2066 3103 1784 3103 \nQ 1356 3103 1142 2972 \nQ 928 2841 928 2578 \nQ 928 2378 1081 2264 \nQ 1234 2150 1697 2047 \nL 1894 2003 \nQ 2506 1872 2764 1633 \nQ 3022 1394 3022 966 \nQ 3022 478 2636 193 \nQ 2250 -91 1575 -91 \nQ 1294 -91 989 -36 \nQ 684 19 347 128 \nL 347 722 \nQ 666 556 975 473 \nQ 1284 391 1588 391 \nQ 1994 391 2212 530 \nQ 2431 669 2431 922 \nQ 2431 1156 2273 1281 \nQ 2116 1406 1581 1522 \nL 1381 1569 \nQ 847 1681 609 1914 \nQ 372 2147 372 2553 \nQ 372 3047 722 3315 \nQ 1072 3584 1716 3584 \nQ 2034 3584 2315 3537 \nQ 2597 3491 2834 3397 \nz\n\" id=\"DejaVuSans-73\" transform=\"scale(0.015625)\"/>\n       <path d=\"M 3122 3366 \nL 3122 2828 \nQ 2878 2963 2633 3030 \nQ 2388 3097 2138 3097 \nQ 1578 3097 1268 2742 \nQ 959 2388 959 1747 \nQ 959 1106 1268 751 \nQ 1578 397 2138 397 \nQ 2388 397 2633 464 \nQ 2878 531 3122 666 \nL 3122 134 \nQ 2881 22 2623 -34 \nQ 2366 -91 2075 -91 \nQ 1284 -91 818 406 \nQ 353 903 353 1747 \nQ 353 2603 823 3093 \nQ 1294 3584 2113 3584 \nQ 2378 3584 2631 3529 \nQ 2884 3475 3122 3366 \nz\n\" id=\"DejaVuSans-63\" transform=\"scale(0.015625)\"/>\n       <path d=\"M 3328 2828 \nQ 3544 3216 3844 3400 \nQ 4144 3584 4550 3584 \nQ 5097 3584 5394 3201 \nQ 5691 2819 5691 2113 \nL 5691 0 \nL 5113 0 \nL 5113 2094 \nQ 5113 2597 4934 2840 \nQ 4756 3084 4391 3084 \nQ 3944 3084 3684 2787 \nQ 3425 2491 3425 1978 \nL 3425 0 \nL 2847 0 \nL 2847 2094 \nQ 2847 2600 2669 2842 \nQ 2491 3084 2119 3084 \nQ 1678 3084 1418 2786 \nQ 1159 2488 1159 1978 \nL 1159 0 \nL 581 0 \nL 581 3500 \nL 1159 3500 \nL 1159 2956 \nQ 1356 3278 1631 3431 \nQ 1906 3584 2284 3584 \nQ 2666 3584 2933 3390 \nQ 3200 3197 3328 2828 \nz\n\" id=\"DejaVuSans-6d\" transform=\"scale(0.015625)\"/>\n      </defs>\n      <use transform=\"translate(0 0.765625)\" xlink:href=\"#DejaVuSans-Oblique-45\"/>\n      <use transform=\"translate(70.200365 39.046875)scale(0.7)\" xlink:href=\"#DejaVuSans-32\"/>\n      <use transform=\"translate(117.470872 0.765625)\" xlink:href=\"#DejaVuSans-Oblique-64\"/>\n      <use transform=\"translate(180.947435 0.765625)\" xlink:href=\"#DejaVuSans-Oblique-4e\"/>\n      <use transform=\"translate(255.752122 0.765625)\" xlink:href=\"#DejaVuSans-2f\"/>\n      <use transform=\"translate(289.443529 0.765625)\" xlink:href=\"#DejaVuSans-Oblique-64\"/>\n      <use transform=\"translate(352.920091 0.765625)\" xlink:href=\"#DejaVuSans-Oblique-45\"/>\n      <use transform=\"translate(416.103685 0.765625)\" xlink:href=\"#DejaVuSans-20\"/>\n      <use transform=\"translate(447.890794 0.765625)\" xlink:href=\"#DejaVuSans-5b\"/>\n      <use transform=\"translate(486.904466 0.765625)\" xlink:href=\"#DejaVuSans-65\"/>\n      <use transform=\"translate(548.427904 0.765625)\" xlink:href=\"#DejaVuSans-72\"/>\n      <use transform=\"translate(589.541185 0.765625)\" xlink:href=\"#DejaVuSans-67\"/>\n      <use transform=\"translate(669.253424 0.765625)\" xlink:href=\"#DejaVuSans-73\"/>\n      <use transform=\"translate(722.310064 39.046875)scale(0.7)\" xlink:href=\"#DejaVuSans-2212\"/>\n      <use transform=\"translate(780.962408 39.046875)scale(0.7)\" xlink:href=\"#DejaVuSans-31\"/>\n      <use transform=\"translate(844.468592 0.765625)\" xlink:href=\"#DejaVuSans-63\"/>\n      <use transform=\"translate(899.449061 0.765625)\" xlink:href=\"#DejaVuSans-6d\"/>\n      <use transform=\"translate(997.818201 39.046875)scale(0.7)\" xlink:href=\"#DejaVuSans-2212\"/>\n      <use transform=\"translate(1056.470545 39.046875)scale(0.7)\" xlink:href=\"#DejaVuSans-32\"/>\n      <use transform=\"translate(1103.741053 0.765625)\" xlink:href=\"#DejaVuSans-5d\"/>\n     </g>\n    </g>\n   </g>\n   <g id=\"line2d_55\">\n    <path clip-path=\"url(#pb967c112ca)\" d=\"M 82.883636 207.012572 \nL 229.124423 127.213899 \nL 243.850057 119.440501 \nL 252.990106 114.862698 \nL 259.591253 111.802791 \nL 264.669058 109.683471 \nL 268.731302 108.204241 \nL 272.285766 107.125413 \nL 275.332449 106.408766 \nL 278.379132 105.935585 \nL 280.918034 105.771095 \nL 283.456937 105.861528 \nL 285.488059 106.152276 \nL 287.519181 106.671162 \nL 289.550303 107.454956 \nL 291.581425 108.546367 \nL 293.104767 109.596363 \nL 294.628108 110.871002 \nL 296.15145 112.397002 \nL 297.674791 114.204294 \nL 299.198133 116.326419 \nL 300.721474 118.800977 \nL 302.244816 121.67013 \nL 303.768157 124.981171 \nL 305.291499 128.787168 \nL 306.81484 133.147685 \nL 308.338182 138.129598 \nL 309.861523 143.808012 \nL 311.384865 150.267297 \nL 312.908206 157.602256 \nL 314.431548 165.919432 \nL 315.954889 175.338586 \nL 317.478231 185.994366 \nL 319.001572 198.038168 \nL 320.524914 211.640248 \nL 322.048256 226.992088 \nL 323.571597 244.309056 \nL 325.094939 263.833405 \nL 325.644911 271.487344 \nL 325.644911 271.487344 \n\" style=\"fill:none;stroke:#1f77b4;stroke-linecap:square;stroke-width:3;\"/>\n   </g>\n   <g id=\"patch_3\">\n    <path d=\"M 57.52 228.439219 \nL 57.52 10.999219 \n\" style=\"fill:none;stroke:#000000;stroke-linecap:square;stroke-linejoin:miter;stroke-width:0.8;\"/>\n   </g>\n   <g id=\"patch_4\">\n    <path d=\"M 615.52 228.439219 \nL 615.52 10.999219 \n\" style=\"fill:none;stroke:#000000;stroke-linecap:square;stroke-linejoin:miter;stroke-width:0.8;\"/>\n   </g>\n   <g id=\"patch_5\">\n    <path d=\"M 57.52 228.439219 \nL 615.52 228.439219 \n\" style=\"fill:none;stroke:#000000;stroke-linecap:square;stroke-linejoin:miter;stroke-width:0.8;\"/>\n   </g>\n   <g id=\"patch_6\">\n    <path d=\"M 57.52 10.999219 \nL 615.52 10.999219 \n\" style=\"fill:none;stroke:#000000;stroke-linecap:square;stroke-linejoin:miter;stroke-width:0.8;\"/>\n   </g>\n   <g id=\"legend_1\">\n    <g id=\"patch_7\">\n     <path d=\"M 522.149688 33.677344 \nL 608.52 33.677344 \nQ 610.52 33.677344 610.52 31.677344 \nL 610.52 17.999219 \nQ 610.52 15.999219 608.52 15.999219 \nL 522.149688 15.999219 \nQ 520.149688 15.999219 520.149688 17.999219 \nL 520.149688 31.677344 \nQ 520.149688 33.677344 522.149688 33.677344 \nz\n\" style=\"fill:#ffffff;opacity:0.8;stroke:#cccccc;stroke-linejoin:miter;stroke-width:0.3;\"/>\n    </g>\n    <g id=\"line2d_56\">\n     <path d=\"M 524.149688 24.097656 \nL 544.149688 24.097656 \n\" style=\"fill:none;stroke:#1f77b4;stroke-linecap:square;stroke-width:3;\"/>\n    </g>\n    <g id=\"line2d_57\"/>\n    <g id=\"text_14\">\n     <!-- Syncrotron -->\n     <g transform=\"translate(552.149688 27.597656)scale(0.1 -0.1)\">\n      <defs>\n       <path d=\"M 3425 4513 \nL 3425 3897 \nQ 3066 4069 2747 4153 \nQ 2428 4238 2131 4238 \nQ 1616 4238 1336 4038 \nQ 1056 3838 1056 3469 \nQ 1056 3159 1242 3001 \nQ 1428 2844 1947 2747 \nL 2328 2669 \nQ 3034 2534 3370 2195 \nQ 3706 1856 3706 1288 \nQ 3706 609 3251 259 \nQ 2797 -91 1919 -91 \nQ 1588 -91 1214 -16 \nQ 841 59 441 206 \nL 441 856 \nQ 825 641 1194 531 \nQ 1563 422 1919 422 \nQ 2459 422 2753 634 \nQ 3047 847 3047 1241 \nQ 3047 1584 2836 1778 \nQ 2625 1972 2144 2069 \nL 1759 2144 \nQ 1053 2284 737 2584 \nQ 422 2884 422 3419 \nQ 422 4038 858 4394 \nQ 1294 4750 2059 4750 \nQ 2388 4750 2728 4690 \nQ 3069 4631 3425 4513 \nz\n\" id=\"DejaVuSans-53\" transform=\"scale(0.015625)\"/>\n      </defs>\n      <use xlink:href=\"#DejaVuSans-53\"/>\n      <use x=\"63.476562\" xlink:href=\"#DejaVuSans-79\"/>\n      <use x=\"122.65625\" xlink:href=\"#DejaVuSans-6e\"/>\n      <use x=\"186.035156\" xlink:href=\"#DejaVuSans-63\"/>\n      <use x=\"241.015625\" xlink:href=\"#DejaVuSans-72\"/>\n      <use x=\"279.878906\" xlink:href=\"#DejaVuSans-6f\"/>\n      <use x=\"341.060547\" xlink:href=\"#DejaVuSans-74\"/>\n      <use x=\"380.269531\" xlink:href=\"#DejaVuSans-72\"/>\n      <use x=\"419.132812\" xlink:href=\"#DejaVuSans-6f\"/>\n      <use x=\"480.314453\" xlink:href=\"#DejaVuSans-6e\"/>\n     </g>\n    </g>\n   </g>\n  </g>\n </g>\n <defs>\n  <clipPath id=\"pb967c112ca\">\n   <rect height=\"217.44\" width=\"558\" x=\"57.52\" y=\"10.999219\"/>\n  </clipPath>\n </defs>\n</svg>\n",
      "text/plain": [
       "<Figure size 720x288 with 1 Axes>"
      ]
     },
     "metadata": {
      "needs_background": "light"
     },
     "output_type": "display_data"
    }
   ],
   "source": [
    "import naima\n",
    "import astropy.units as u\n",
    "\n",
    "# First we are going to define a population of electrons with a PowerLaw model                                    \n",
    "e_pl = naima.models.PowerLaw(1e35*u.Unit('1/eV'), 1*u.TeV, 2.4)\n",
    "\n",
    "#Now the equivlent synchrotron radiation for a magnetic field of 100 uG\n",
    "syn = naima.models.Synchrotron(e_pl, B=100*u.uG)\n",
    "\n",
    "\n",
    "spectrum_energy = np.logspace(-1,16,1000)*u.eV\n",
    "sed_syn = syn.sed(spectrum_energy, distance=1.5*u.kpc)\n",
    "\n",
    "fig = plt.figure(figsize=(10,4))\n",
    "ax = plt.subplot(111)\n",
    "ax.loglog(spectrum_energy,sed_syn,lw=3,label='Syncrotron')\n",
    "\n",
    "ax.set_ylim(1e-9, 1e-5)\n",
    "ax.set_xlabel('Photon energy [{0}]'.format(\n",
    "        spectrum_energy.unit.to_string('latex_inline')))\n",
    "ax.set_ylabel('$E^2 dN/dE$ [{0}]'.format(\n",
    "        sed_syn.unit.to_string('latex_inline')))\n",
    "ax.grid()\n",
    "ax.legend(loc='upper right')\n",
    "plt.show()"
   ]
  },
  {
   "cell_type": "markdown",
   "metadata": {},
   "source": [
    "### Inverse Compton scattering.\n",
    "\n",
    "Compton discovered that photons can transfer part of their energy to electrons in a collision. In astrophysics the inverse Compton effect electrons accelerated to high energy collide with photons from the blackbody radiation (thermal photons) or starlight photons and transfer energy to them. \n",
    "\n",
    "In astrophysics the inverse compton scattering is very important as a fast electrons that produce the synchrotron component can hit a low-energy photon and transfer a large fraction of its energy to the photon. For low energy photons, the scattering is elastic, and this regime is called the classical *Thomson regime*. However, for high energy photons where $E_\\gamma \\gg m_e c^2$ the scatting is not elastic and the energy of the scattered photons changes. This regime is called the *Klein-Nishina*. The cross-section for this *inelastic* scattering is given by:\n",
    "\n",
    "$$\\frac{{\\rm d} \\sigma_{KN}}{{\\rm d}\\Omega} = \\frac{r_e^2}{2} \\frac{E^2_{\\gamma,out}}{E^2_{\\gamma,in}}\\left(\\frac{E_{\\gamma,out}}{E_{\\gamma,in}} + \\frac{E_{\\gamma,in}}{E_{\\gamma,out}} - \\sin^2\\theta\\right)$$\n",
    "\n",
    "In the low energy regime $E_{\\gamma,in} = E_{\\gamma,out}$ and the cross-section approaches that of the Thomson scattering.\n"
   ]
  },
  {
   "cell_type": "markdown",
   "metadata": {
    "slideshow": {
     "slide_type": "subslide"
    }
   },
   "source": [
    "#### Maximum energy of inverse Compton\n",
    "\n",
    "Let's assume the lab reference system, $O$, and the electrons rest frame system $O^\\prime$. The energy of the photon is then given by:\n",
    "\n",
    "$$E_{\\gamma,in}^\\prime = \\gamma E_{\\gamma,in} (1 + \\beta \\cos\\theta)$$\n",
    "\n",
    "where $\\gamma$ and $\\beta$ refer obviously to the electron. Since in the electron's rest frame the scattering happens at low-energy we can assume that the scattering is described by the elastic Thomson regime, ie, the photon is scattered with the same energy in the electron's rest frame. Going back to the lab frame we have then:\n",
    "\n",
    "$$E_{\\gamma,out} = \\gamma E_{\\gamma,out}^\\prime ( 1 + \\beta\\cos\\theta^\\prime)$$\n",
    "\n",
    "but $E_{\\gamma,in}^\\prime = E_{\\gamma,out}^\\prime$. The maximum energy transfer will be that of a head-on collision in which the electron $\\cos\\theta = \\cos \\theta^\\prime = 1$ is bounced backwards we have that:\n",
    "\n",
    "$$\\nu_{max} = \\nu_0 \\gamma^2 ( 1 + \\beta)^2 \\simeq 4 \\nu_0 \\gamma^2$$\n",
    "\n",
    "As electrons are moving in an isotropic photon field the will see mostly head on collitions. So the energy spectrum of of scattered photons peak close to the maximum frecuency. This relation is very important for astrophysics, because it tell us a relation between the energy of electrons and the spectrum of photons. We know there are electrons with $\\gamma \\sim 100 - 1000$ and therefore the resulting photon emission is of very high energy. For example assuming electrons with $\\gamma \\approx 1000$ we have:\n",
    "\n",
    "\n",
    "| Waveband | Frequency (Hz) $\\nu_0$  | Scattered Frequency (Hz) |\n",
    "|------|------|------ | \n",
    "|   Radio  | $10^9$ |   $10^{15}$ = UV    |\n",
    "|   Far-infrared  | $3\\times10^{12}$ |   $3\\times10^{18}$ = X-rays    |\n",
    "|   Optical  | $4\\times10^{14}$ |   $4\\times10^{21}$ = $\\gamma$-rays    |\n",
    "\n",
    "\n",
    "The hand-waving argument $\\nu \\sim \\nu_0 \\gamma^2$ has also implication on the spectrum of photons. If electrons follow a power-law in the form of:\n",
    "\n",
    "$${\\rm d} n(E) \\propto E^{-p} {\\rm d} E$$\n",
    "\n",
    "we can derive the spectrum of scattered photons which will follow a power-law as:\n",
    "\n",
    "$$ I(\\nu) \\propto \\nu^{-\\frac{p-1}{2}} $$\n",
    "\n",
    "because electrons losse energy by a factor $\\gamma^2$ and the frequency of photons is $\\nu \\approx \\nu_0 \\gamma^2$"
   ]
  },
  {
   "cell_type": "markdown",
   "metadata": {},
   "source": [
    "<div class=\"question\"> In some cases the synchrotron spectrum can interact with the same electron population that generated them via IC,  scenario is called <i>Synchrotron Self Compton</i> (SSC). When external photons are present IC does not need the synchrotron field. Such process is referred as <i>External Inverse Compton</i> (EC) scattering. </div>"
   ]
  },
  {
   "cell_type": "markdown",
   "metadata": {},
   "source": [
    "### Tutorial II Working with SED\n",
    "\n",
    "We are going now to calcualte the IC spectrum using the CMB as the radiation field:"
   ]
  },
  {
   "cell_type": "code",
   "execution_count": 4,
   "metadata": {},
   "outputs": [
    {
     "data": {
      "image/svg+xml": "<?xml version=\"1.0\" encoding=\"utf-8\" standalone=\"no\"?>\n<!DOCTYPE svg PUBLIC \"-//W3C//DTD SVG 1.1//EN\"\n  \"http://www.w3.org/Graphics/SVG/1.1/DTD/svg11.dtd\">\n<svg height=\"270.487344pt\" version=\"1.1\" viewBox=\"0 0 627.12 270.487344\" width=\"627.12pt\" xmlns=\"http://www.w3.org/2000/svg\" xmlns:xlink=\"http://www.w3.org/1999/xlink\">\n <metadata>\n  <rdf:RDF xmlns:cc=\"http://creativecommons.org/ns#\" xmlns:dc=\"http://purl.org/dc/elements/1.1/\" xmlns:rdf=\"http://www.w3.org/1999/02/22-rdf-syntax-ns#\">\n   <cc:Work>\n    <dc:type rdf:resource=\"http://purl.org/dc/dcmitype/StillImage\"/>\n    <dc:date>2022-04-19T18:38:38.516846</dc:date>\n    <dc:format>image/svg+xml</dc:format>\n    <dc:creator>\n     <cc:Agent>\n      <dc:title>Matplotlib v3.4.2, https://matplotlib.org/</dc:title>\n     </cc:Agent>\n    </dc:creator>\n   </cc:Work>\n  </rdf:RDF>\n </metadata>\n <defs>\n  <style type=\"text/css\">*{stroke-linecap:butt;stroke-linejoin:round;}</style>\n </defs>\n <g id=\"figure_1\">\n  <g id=\"patch_1\">\n   <path d=\"M 0 270.487344 \nL 627.12 270.487344 \nL 627.12 0 \nL 0 0 \nz\n\" style=\"fill:none;\"/>\n  </g>\n  <g id=\"axes_1\">\n   <g id=\"patch_2\">\n    <path d=\"M 61.92 228.439219 \nL 619.92 228.439219 \nL 619.92 10.999219 \nL 61.92 10.999219 \nz\n\" style=\"fill:#ffffff;\"/>\n   </g>\n   <g id=\"matplotlib.axis_1\">\n    <g id=\"xtick_1\">\n     <g id=\"line2d_1\">\n      <path clip-path=\"url(#pbf46ed4142)\" d=\"M 146.962781 228.439219 \nL 146.962781 10.999219 \n\" style=\"fill:none;stroke:#b0b0b0;stroke-linecap:square;\"/>\n     </g>\n     <g id=\"line2d_2\">\n      <defs>\n       <path d=\"M 0 0 \nL 0 3.5 \n\" id=\"me17f5ccbb6\" style=\"stroke:#000000;\"/>\n      </defs>\n      <g>\n       <use style=\"stroke:#000000;\" x=\"146.962781\" xlink:href=\"#me17f5ccbb6\" y=\"228.439219\"/>\n      </g>\n     </g>\n     <g id=\"text_1\">\n      <!-- $\\mathdefault{10^{1}}$ -->\n      <g transform=\"translate(138.162781 246.537656)scale(0.1 -0.1)\">\n       <defs>\n        <path d=\"M 794 531 \nL 1825 531 \nL 1825 4091 \nL 703 3866 \nL 703 4441 \nL 1819 4666 \nL 2450 4666 \nL 2450 531 \nL 3481 531 \nL 3481 0 \nL 794 0 \nL 794 531 \nz\n\" id=\"DejaVuSans-31\" transform=\"scale(0.015625)\"/>\n        <path d=\"M 2034 4250 \nQ 1547 4250 1301 3770 \nQ 1056 3291 1056 2328 \nQ 1056 1369 1301 889 \nQ 1547 409 2034 409 \nQ 2525 409 2770 889 \nQ 3016 1369 3016 2328 \nQ 3016 3291 2770 3770 \nQ 2525 4250 2034 4250 \nz\nM 2034 4750 \nQ 2819 4750 3233 4129 \nQ 3647 3509 3647 2328 \nQ 3647 1150 3233 529 \nQ 2819 -91 2034 -91 \nQ 1250 -91 836 529 \nQ 422 1150 422 2328 \nQ 422 3509 836 4129 \nQ 1250 4750 2034 4750 \nz\n\" id=\"DejaVuSans-30\" transform=\"scale(0.015625)\"/>\n       </defs>\n       <use transform=\"translate(0 0.684375)\" xlink:href=\"#DejaVuSans-31\"/>\n       <use transform=\"translate(63.623047 0.684375)\" xlink:href=\"#DejaVuSans-30\"/>\n       <use transform=\"translate(128.203125 38.965625)scale(0.7)\" xlink:href=\"#DejaVuSans-31\"/>\n      </g>\n     </g>\n    </g>\n    <g id=\"xtick_2\">\n     <g id=\"line2d_3\">\n      <path clip-path=\"url(#pbf46ed4142)\" d=\"M 236.481497 228.439219 \nL 236.481497 10.999219 \n\" style=\"fill:none;stroke:#b0b0b0;stroke-linecap:square;\"/>\n     </g>\n     <g id=\"line2d_4\">\n      <g>\n       <use style=\"stroke:#000000;\" x=\"236.481497\" xlink:href=\"#me17f5ccbb6\" y=\"228.439219\"/>\n      </g>\n     </g>\n     <g id=\"text_2\">\n      <!-- $\\mathdefault{10^{4}}$ -->\n      <g transform=\"translate(227.681497 246.537656)scale(0.1 -0.1)\">\n       <defs>\n        <path d=\"M 2419 4116 \nL 825 1625 \nL 2419 1625 \nL 2419 4116 \nz\nM 2253 4666 \nL 3047 4666 \nL 3047 1625 \nL 3713 1625 \nL 3713 1100 \nL 3047 1100 \nL 3047 0 \nL 2419 0 \nL 2419 1100 \nL 313 1100 \nL 313 1709 \nL 2253 4666 \nz\n\" id=\"DejaVuSans-34\" transform=\"scale(0.015625)\"/>\n       </defs>\n       <use transform=\"translate(0 0.684375)\" xlink:href=\"#DejaVuSans-31\"/>\n       <use transform=\"translate(63.623047 0.684375)\" xlink:href=\"#DejaVuSans-30\"/>\n       <use transform=\"translate(128.203125 38.965625)scale(0.7)\" xlink:href=\"#DejaVuSans-34\"/>\n      </g>\n     </g>\n    </g>\n    <g id=\"xtick_3\">\n     <g id=\"line2d_5\">\n      <path clip-path=\"url(#pbf46ed4142)\" d=\"M 326.000214 228.439219 \nL 326.000214 10.999219 \n\" style=\"fill:none;stroke:#b0b0b0;stroke-linecap:square;\"/>\n     </g>\n     <g id=\"line2d_6\">\n      <g>\n       <use style=\"stroke:#000000;\" x=\"326.000214\" xlink:href=\"#me17f5ccbb6\" y=\"228.439219\"/>\n      </g>\n     </g>\n     <g id=\"text_3\">\n      <!-- $\\mathdefault{10^{7}}$ -->\n      <g transform=\"translate(317.200214 246.537656)scale(0.1 -0.1)\">\n       <defs>\n        <path d=\"M 525 4666 \nL 3525 4666 \nL 3525 4397 \nL 1831 0 \nL 1172 0 \nL 2766 4134 \nL 525 4134 \nL 525 4666 \nz\n\" id=\"DejaVuSans-37\" transform=\"scale(0.015625)\"/>\n       </defs>\n       <use transform=\"translate(0 0.684375)\" xlink:href=\"#DejaVuSans-31\"/>\n       <use transform=\"translate(63.623047 0.684375)\" xlink:href=\"#DejaVuSans-30\"/>\n       <use transform=\"translate(128.203125 38.965625)scale(0.7)\" xlink:href=\"#DejaVuSans-37\"/>\n      </g>\n     </g>\n    </g>\n    <g id=\"xtick_4\">\n     <g id=\"line2d_7\">\n      <path clip-path=\"url(#pbf46ed4142)\" d=\"M 415.51893 228.439219 \nL 415.51893 10.999219 \n\" style=\"fill:none;stroke:#b0b0b0;stroke-linecap:square;\"/>\n     </g>\n     <g id=\"line2d_8\">\n      <g>\n       <use style=\"stroke:#000000;\" x=\"415.51893\" xlink:href=\"#me17f5ccbb6\" y=\"228.439219\"/>\n      </g>\n     </g>\n     <g id=\"text_4\">\n      <!-- $\\mathdefault{10^{10}}$ -->\n      <g transform=\"translate(404.46893 246.537656)scale(0.1 -0.1)\">\n       <use transform=\"translate(0 0.765625)\" xlink:href=\"#DejaVuSans-31\"/>\n       <use transform=\"translate(63.623047 0.765625)\" xlink:href=\"#DejaVuSans-30\"/>\n       <use transform=\"translate(128.203125 39.046875)scale(0.7)\" xlink:href=\"#DejaVuSans-31\"/>\n       <use transform=\"translate(172.739258 39.046875)scale(0.7)\" xlink:href=\"#DejaVuSans-30\"/>\n      </g>\n     </g>\n    </g>\n    <g id=\"xtick_5\">\n     <g id=\"line2d_9\">\n      <path clip-path=\"url(#pbf46ed4142)\" d=\"M 505.037647 228.439219 \nL 505.037647 10.999219 \n\" style=\"fill:none;stroke:#b0b0b0;stroke-linecap:square;\"/>\n     </g>\n     <g id=\"line2d_10\">\n      <g>\n       <use style=\"stroke:#000000;\" x=\"505.037647\" xlink:href=\"#me17f5ccbb6\" y=\"228.439219\"/>\n      </g>\n     </g>\n     <g id=\"text_5\">\n      <!-- $\\mathdefault{10^{13}}$ -->\n      <g transform=\"translate(493.987647 246.537656)scale(0.1 -0.1)\">\n       <defs>\n        <path d=\"M 2597 2516 \nQ 3050 2419 3304 2112 \nQ 3559 1806 3559 1356 \nQ 3559 666 3084 287 \nQ 2609 -91 1734 -91 \nQ 1441 -91 1130 -33 \nQ 819 25 488 141 \nL 488 750 \nQ 750 597 1062 519 \nQ 1375 441 1716 441 \nQ 2309 441 2620 675 \nQ 2931 909 2931 1356 \nQ 2931 1769 2642 2001 \nQ 2353 2234 1838 2234 \nL 1294 2234 \nL 1294 2753 \nL 1863 2753 \nQ 2328 2753 2575 2939 \nQ 2822 3125 2822 3475 \nQ 2822 3834 2567 4026 \nQ 2313 4219 1838 4219 \nQ 1578 4219 1281 4162 \nQ 984 4106 628 3988 \nL 628 4550 \nQ 988 4650 1302 4700 \nQ 1616 4750 1894 4750 \nQ 2613 4750 3031 4423 \nQ 3450 4097 3450 3541 \nQ 3450 3153 3228 2886 \nQ 3006 2619 2597 2516 \nz\n\" id=\"DejaVuSans-33\" transform=\"scale(0.015625)\"/>\n       </defs>\n       <use transform=\"translate(0 0.765625)\" xlink:href=\"#DejaVuSans-31\"/>\n       <use transform=\"translate(63.623047 0.765625)\" xlink:href=\"#DejaVuSans-30\"/>\n       <use transform=\"translate(128.203125 39.046875)scale(0.7)\" xlink:href=\"#DejaVuSans-31\"/>\n       <use transform=\"translate(172.739258 39.046875)scale(0.7)\" xlink:href=\"#DejaVuSans-33\"/>\n      </g>\n     </g>\n    </g>\n    <g id=\"xtick_6\">\n     <g id=\"line2d_11\">\n      <path clip-path=\"url(#pbf46ed4142)\" d=\"M 594.556364 228.439219 \nL 594.556364 10.999219 \n\" style=\"fill:none;stroke:#b0b0b0;stroke-linecap:square;\"/>\n     </g>\n     <g id=\"line2d_12\">\n      <g>\n       <use style=\"stroke:#000000;\" x=\"594.556364\" xlink:href=\"#me17f5ccbb6\" y=\"228.439219\"/>\n      </g>\n     </g>\n     <g id=\"text_6\">\n      <!-- $\\mathdefault{10^{16}}$ -->\n      <g transform=\"translate(583.506364 246.537656)scale(0.1 -0.1)\">\n       <defs>\n        <path d=\"M 2113 2584 \nQ 1688 2584 1439 2293 \nQ 1191 2003 1191 1497 \nQ 1191 994 1439 701 \nQ 1688 409 2113 409 \nQ 2538 409 2786 701 \nQ 3034 994 3034 1497 \nQ 3034 2003 2786 2293 \nQ 2538 2584 2113 2584 \nz\nM 3366 4563 \nL 3366 3988 \nQ 3128 4100 2886 4159 \nQ 2644 4219 2406 4219 \nQ 1781 4219 1451 3797 \nQ 1122 3375 1075 2522 \nQ 1259 2794 1537 2939 \nQ 1816 3084 2150 3084 \nQ 2853 3084 3261 2657 \nQ 3669 2231 3669 1497 \nQ 3669 778 3244 343 \nQ 2819 -91 2113 -91 \nQ 1303 -91 875 529 \nQ 447 1150 447 2328 \nQ 447 3434 972 4092 \nQ 1497 4750 2381 4750 \nQ 2619 4750 2861 4703 \nQ 3103 4656 3366 4563 \nz\n\" id=\"DejaVuSans-36\" transform=\"scale(0.015625)\"/>\n       </defs>\n       <use transform=\"translate(0 0.765625)\" xlink:href=\"#DejaVuSans-31\"/>\n       <use transform=\"translate(63.623047 0.765625)\" xlink:href=\"#DejaVuSans-30\"/>\n       <use transform=\"translate(128.203125 39.046875)scale(0.7)\" xlink:href=\"#DejaVuSans-31\"/>\n       <use transform=\"translate(172.739258 39.046875)scale(0.7)\" xlink:href=\"#DejaVuSans-36\"/>\n      </g>\n     </g>\n    </g>\n    <g id=\"text_7\">\n     <!-- Photon energy [$\\mathrm{eV}$] -->\n     <g transform=\"translate(287.515 260.977344)scale(0.11 -0.11)\">\n      <defs>\n       <path d=\"M 1259 4147 \nL 1259 2394 \nL 2053 2394 \nQ 2494 2394 2734 2622 \nQ 2975 2850 2975 3272 \nQ 2975 3691 2734 3919 \nQ 2494 4147 2053 4147 \nL 1259 4147 \nz\nM 628 4666 \nL 2053 4666 \nQ 2838 4666 3239 4311 \nQ 3641 3956 3641 3272 \nQ 3641 2581 3239 2228 \nQ 2838 1875 2053 1875 \nL 1259 1875 \nL 1259 0 \nL 628 0 \nL 628 4666 \nz\n\" id=\"DejaVuSans-50\" transform=\"scale(0.015625)\"/>\n       <path d=\"M 3513 2113 \nL 3513 0 \nL 2938 0 \nL 2938 2094 \nQ 2938 2591 2744 2837 \nQ 2550 3084 2163 3084 \nQ 1697 3084 1428 2787 \nQ 1159 2491 1159 1978 \nL 1159 0 \nL 581 0 \nL 581 4863 \nL 1159 4863 \nL 1159 2956 \nQ 1366 3272 1645 3428 \nQ 1925 3584 2291 3584 \nQ 2894 3584 3203 3211 \nQ 3513 2838 3513 2113 \nz\n\" id=\"DejaVuSans-68\" transform=\"scale(0.015625)\"/>\n       <path d=\"M 1959 3097 \nQ 1497 3097 1228 2736 \nQ 959 2375 959 1747 \nQ 959 1119 1226 758 \nQ 1494 397 1959 397 \nQ 2419 397 2687 759 \nQ 2956 1122 2956 1747 \nQ 2956 2369 2687 2733 \nQ 2419 3097 1959 3097 \nz\nM 1959 3584 \nQ 2709 3584 3137 3096 \nQ 3566 2609 3566 1747 \nQ 3566 888 3137 398 \nQ 2709 -91 1959 -91 \nQ 1206 -91 779 398 \nQ 353 888 353 1747 \nQ 353 2609 779 3096 \nQ 1206 3584 1959 3584 \nz\n\" id=\"DejaVuSans-6f\" transform=\"scale(0.015625)\"/>\n       <path d=\"M 1172 4494 \nL 1172 3500 \nL 2356 3500 \nL 2356 3053 \nL 1172 3053 \nL 1172 1153 \nQ 1172 725 1289 603 \nQ 1406 481 1766 481 \nL 2356 481 \nL 2356 0 \nL 1766 0 \nQ 1100 0 847 248 \nQ 594 497 594 1153 \nL 594 3053 \nL 172 3053 \nL 172 3500 \nL 594 3500 \nL 594 4494 \nL 1172 4494 \nz\n\" id=\"DejaVuSans-74\" transform=\"scale(0.015625)\"/>\n       <path d=\"M 3513 2113 \nL 3513 0 \nL 2938 0 \nL 2938 2094 \nQ 2938 2591 2744 2837 \nQ 2550 3084 2163 3084 \nQ 1697 3084 1428 2787 \nQ 1159 2491 1159 1978 \nL 1159 0 \nL 581 0 \nL 581 3500 \nL 1159 3500 \nL 1159 2956 \nQ 1366 3272 1645 3428 \nQ 1925 3584 2291 3584 \nQ 2894 3584 3203 3211 \nQ 3513 2838 3513 2113 \nz\n\" id=\"DejaVuSans-6e\" transform=\"scale(0.015625)\"/>\n       <path id=\"DejaVuSans-20\" transform=\"scale(0.015625)\"/>\n       <path d=\"M 3597 1894 \nL 3597 1613 \nL 953 1613 \nQ 991 1019 1311 708 \nQ 1631 397 2203 397 \nQ 2534 397 2845 478 \nQ 3156 559 3463 722 \nL 3463 178 \nQ 3153 47 2828 -22 \nQ 2503 -91 2169 -91 \nQ 1331 -91 842 396 \nQ 353 884 353 1716 \nQ 353 2575 817 3079 \nQ 1281 3584 2069 3584 \nQ 2775 3584 3186 3129 \nQ 3597 2675 3597 1894 \nz\nM 3022 2063 \nQ 3016 2534 2758 2815 \nQ 2500 3097 2075 3097 \nQ 1594 3097 1305 2825 \nQ 1016 2553 972 2059 \nL 3022 2063 \nz\n\" id=\"DejaVuSans-65\" transform=\"scale(0.015625)\"/>\n       <path d=\"M 2631 2963 \nQ 2534 3019 2420 3045 \nQ 2306 3072 2169 3072 \nQ 1681 3072 1420 2755 \nQ 1159 2438 1159 1844 \nL 1159 0 \nL 581 0 \nL 581 3500 \nL 1159 3500 \nL 1159 2956 \nQ 1341 3275 1631 3429 \nQ 1922 3584 2338 3584 \nQ 2397 3584 2469 3576 \nQ 2541 3569 2628 3553 \nL 2631 2963 \nz\n\" id=\"DejaVuSans-72\" transform=\"scale(0.015625)\"/>\n       <path d=\"M 2906 1791 \nQ 2906 2416 2648 2759 \nQ 2391 3103 1925 3103 \nQ 1463 3103 1205 2759 \nQ 947 2416 947 1791 \nQ 947 1169 1205 825 \nQ 1463 481 1925 481 \nQ 2391 481 2648 825 \nQ 2906 1169 2906 1791 \nz\nM 3481 434 \nQ 3481 -459 3084 -895 \nQ 2688 -1331 1869 -1331 \nQ 1566 -1331 1297 -1286 \nQ 1028 -1241 775 -1147 \nL 775 -588 \nQ 1028 -725 1275 -790 \nQ 1522 -856 1778 -856 \nQ 2344 -856 2625 -561 \nQ 2906 -266 2906 331 \nL 2906 616 \nQ 2728 306 2450 153 \nQ 2172 0 1784 0 \nQ 1141 0 747 490 \nQ 353 981 353 1791 \nQ 353 2603 747 3093 \nQ 1141 3584 1784 3584 \nQ 2172 3584 2450 3431 \nQ 2728 3278 2906 2969 \nL 2906 3500 \nL 3481 3500 \nL 3481 434 \nz\n\" id=\"DejaVuSans-67\" transform=\"scale(0.015625)\"/>\n       <path d=\"M 2059 -325 \nQ 1816 -950 1584 -1140 \nQ 1353 -1331 966 -1331 \nL 506 -1331 \nL 506 -850 \nL 844 -850 \nQ 1081 -850 1212 -737 \nQ 1344 -625 1503 -206 \nL 1606 56 \nL 191 3500 \nL 800 3500 \nL 1894 763 \nL 2988 3500 \nL 3597 3500 \nL 2059 -325 \nz\n\" id=\"DejaVuSans-79\" transform=\"scale(0.015625)\"/>\n       <path d=\"M 550 4863 \nL 1875 4863 \nL 1875 4416 \nL 1125 4416 \nL 1125 -397 \nL 1875 -397 \nL 1875 -844 \nL 550 -844 \nL 550 4863 \nz\n\" id=\"DejaVuSans-5b\" transform=\"scale(0.015625)\"/>\n       <path d=\"M 1831 0 \nL 50 4666 \nL 709 4666 \nL 2188 738 \nL 3669 4666 \nL 4325 4666 \nL 2547 0 \nL 1831 0 \nz\n\" id=\"DejaVuSans-56\" transform=\"scale(0.015625)\"/>\n       <path d=\"M 1947 4863 \nL 1947 -844 \nL 622 -844 \nL 622 -397 \nL 1369 -397 \nL 1369 4416 \nL 622 4416 \nL 622 4863 \nL 1947 4863 \nz\n\" id=\"DejaVuSans-5d\" transform=\"scale(0.015625)\"/>\n      </defs>\n      <use transform=\"translate(0 0.015625)\" xlink:href=\"#DejaVuSans-50\"/>\n      <use transform=\"translate(60.302734 0.015625)\" xlink:href=\"#DejaVuSans-68\"/>\n      <use transform=\"translate(123.681641 0.015625)\" xlink:href=\"#DejaVuSans-6f\"/>\n      <use transform=\"translate(184.863281 0.015625)\" xlink:href=\"#DejaVuSans-74\"/>\n      <use transform=\"translate(224.072266 0.015625)\" xlink:href=\"#DejaVuSans-6f\"/>\n      <use transform=\"translate(285.253906 0.015625)\" xlink:href=\"#DejaVuSans-6e\"/>\n      <use transform=\"translate(348.632812 0.015625)\" xlink:href=\"#DejaVuSans-20\"/>\n      <use transform=\"translate(380.419922 0.015625)\" xlink:href=\"#DejaVuSans-65\"/>\n      <use transform=\"translate(441.943359 0.015625)\" xlink:href=\"#DejaVuSans-6e\"/>\n      <use transform=\"translate(505.322266 0.015625)\" xlink:href=\"#DejaVuSans-65\"/>\n      <use transform=\"translate(566.845703 0.015625)\" xlink:href=\"#DejaVuSans-72\"/>\n      <use transform=\"translate(607.958984 0.015625)\" xlink:href=\"#DejaVuSans-67\"/>\n      <use transform=\"translate(671.435547 0.015625)\" xlink:href=\"#DejaVuSans-79\"/>\n      <use transform=\"translate(730.615234 0.015625)\" xlink:href=\"#DejaVuSans-20\"/>\n      <use transform=\"translate(762.402344 0.015625)\" xlink:href=\"#DejaVuSans-5b\"/>\n      <use transform=\"translate(801.416016 0.015625)\" xlink:href=\"#DejaVuSans-65\"/>\n      <use transform=\"translate(862.939453 0.015625)\" xlink:href=\"#DejaVuSans-56\"/>\n      <use transform=\"translate(931.347656 0.015625)\" xlink:href=\"#DejaVuSans-5d\"/>\n     </g>\n    </g>\n   </g>\n   <g id=\"matplotlib.axis_2\">\n    <g id=\"ytick_1\">\n     <g id=\"line2d_13\">\n      <path clip-path=\"url(#pbf46ed4142)\" d=\"M 61.92 228.439219 \nL 619.92 228.439219 \n\" style=\"fill:none;stroke:#b0b0b0;stroke-linecap:square;\"/>\n     </g>\n     <g id=\"line2d_14\">\n      <defs>\n       <path d=\"M 0 0 \nL -3.5 0 \n\" id=\"m861fe5cb98\" style=\"stroke:#000000;\"/>\n      </defs>\n      <g>\n       <use style=\"stroke:#000000;\" x=\"61.92\" xlink:href=\"#m861fe5cb98\" y=\"228.439219\"/>\n      </g>\n     </g>\n     <g id=\"text_8\">\n      <!-- $\\mathdefault{10^{-12}}$ -->\n      <g transform=\"translate(23.52 232.238437)scale(0.1 -0.1)\">\n       <defs>\n        <path d=\"M 678 2272 \nL 4684 2272 \nL 4684 1741 \nL 678 1741 \nL 678 2272 \nz\n\" id=\"DejaVuSans-2212\" transform=\"scale(0.015625)\"/>\n        <path d=\"M 1228 531 \nL 3431 531 \nL 3431 0 \nL 469 0 \nL 469 531 \nQ 828 903 1448 1529 \nQ 2069 2156 2228 2338 \nQ 2531 2678 2651 2914 \nQ 2772 3150 2772 3378 \nQ 2772 3750 2511 3984 \nQ 2250 4219 1831 4219 \nQ 1534 4219 1204 4116 \nQ 875 4013 500 3803 \nL 500 4441 \nQ 881 4594 1212 4672 \nQ 1544 4750 1819 4750 \nQ 2544 4750 2975 4387 \nQ 3406 4025 3406 3419 \nQ 3406 3131 3298 2873 \nQ 3191 2616 2906 2266 \nQ 2828 2175 2409 1742 \nQ 1991 1309 1228 531 \nz\n\" id=\"DejaVuSans-32\" transform=\"scale(0.015625)\"/>\n       </defs>\n       <use transform=\"translate(0 0.765625)\" xlink:href=\"#DejaVuSans-31\"/>\n       <use transform=\"translate(63.623047 0.765625)\" xlink:href=\"#DejaVuSans-30\"/>\n       <use transform=\"translate(128.203125 39.046875)scale(0.7)\" xlink:href=\"#DejaVuSans-2212\"/>\n       <use transform=\"translate(186.855469 39.046875)scale(0.7)\" xlink:href=\"#DejaVuSans-31\"/>\n       <use transform=\"translate(231.391602 39.046875)scale(0.7)\" xlink:href=\"#DejaVuSans-32\"/>\n      </g>\n     </g>\n    </g>\n    <g id=\"ytick_2\">\n     <g id=\"line2d_15\">\n      <path clip-path=\"url(#pbf46ed4142)\" d=\"M 61.92 197.376362 \nL 619.92 197.376362 \n\" style=\"fill:none;stroke:#b0b0b0;stroke-linecap:square;\"/>\n     </g>\n     <g id=\"line2d_16\">\n      <g>\n       <use style=\"stroke:#000000;\" x=\"61.92\" xlink:href=\"#m861fe5cb98\" y=\"197.376362\"/>\n      </g>\n     </g>\n     <g id=\"text_9\">\n      <!-- $\\mathdefault{10^{-11}}$ -->\n      <g transform=\"translate(23.52 201.17558)scale(0.1 -0.1)\">\n       <use transform=\"translate(0 0.684375)\" xlink:href=\"#DejaVuSans-31\"/>\n       <use transform=\"translate(63.623047 0.684375)\" xlink:href=\"#DejaVuSans-30\"/>\n       <use transform=\"translate(128.203125 38.965625)scale(0.7)\" xlink:href=\"#DejaVuSans-2212\"/>\n       <use transform=\"translate(186.855469 38.965625)scale(0.7)\" xlink:href=\"#DejaVuSans-31\"/>\n       <use transform=\"translate(231.391602 38.965625)scale(0.7)\" xlink:href=\"#DejaVuSans-31\"/>\n      </g>\n     </g>\n    </g>\n    <g id=\"ytick_3\">\n     <g id=\"line2d_17\">\n      <path clip-path=\"url(#pbf46ed4142)\" d=\"M 61.92 166.313504 \nL 619.92 166.313504 \n\" style=\"fill:none;stroke:#b0b0b0;stroke-linecap:square;\"/>\n     </g>\n     <g id=\"line2d_18\">\n      <g>\n       <use style=\"stroke:#000000;\" x=\"61.92\" xlink:href=\"#m861fe5cb98\" y=\"166.313504\"/>\n      </g>\n     </g>\n     <g id=\"text_10\">\n      <!-- $\\mathdefault{10^{-10}}$ -->\n      <g transform=\"translate(23.52 170.112723)scale(0.1 -0.1)\">\n       <use transform=\"translate(0 0.765625)\" xlink:href=\"#DejaVuSans-31\"/>\n       <use transform=\"translate(63.623047 0.765625)\" xlink:href=\"#DejaVuSans-30\"/>\n       <use transform=\"translate(128.203125 39.046875)scale(0.7)\" xlink:href=\"#DejaVuSans-2212\"/>\n       <use transform=\"translate(186.855469 39.046875)scale(0.7)\" xlink:href=\"#DejaVuSans-31\"/>\n       <use transform=\"translate(231.391602 39.046875)scale(0.7)\" xlink:href=\"#DejaVuSans-30\"/>\n      </g>\n     </g>\n    </g>\n    <g id=\"ytick_4\">\n     <g id=\"line2d_19\">\n      <path clip-path=\"url(#pbf46ed4142)\" d=\"M 61.92 135.250647 \nL 619.92 135.250647 \n\" style=\"fill:none;stroke:#b0b0b0;stroke-linecap:square;\"/>\n     </g>\n     <g id=\"line2d_20\">\n      <g>\n       <use style=\"stroke:#000000;\" x=\"61.92\" xlink:href=\"#m861fe5cb98\" y=\"135.250647\"/>\n      </g>\n     </g>\n     <g id=\"text_11\">\n      <!-- $\\mathdefault{10^{-9}}$ -->\n      <g transform=\"translate(27.92 139.049866)scale(0.1 -0.1)\">\n       <defs>\n        <path d=\"M 703 97 \nL 703 672 \nQ 941 559 1184 500 \nQ 1428 441 1663 441 \nQ 2288 441 2617 861 \nQ 2947 1281 2994 2138 \nQ 2813 1869 2534 1725 \nQ 2256 1581 1919 1581 \nQ 1219 1581 811 2004 \nQ 403 2428 403 3163 \nQ 403 3881 828 4315 \nQ 1253 4750 1959 4750 \nQ 2769 4750 3195 4129 \nQ 3622 3509 3622 2328 \nQ 3622 1225 3098 567 \nQ 2575 -91 1691 -91 \nQ 1453 -91 1209 -44 \nQ 966 3 703 97 \nz\nM 1959 2075 \nQ 2384 2075 2632 2365 \nQ 2881 2656 2881 3163 \nQ 2881 3666 2632 3958 \nQ 2384 4250 1959 4250 \nQ 1534 4250 1286 3958 \nQ 1038 3666 1038 3163 \nQ 1038 2656 1286 2365 \nQ 1534 2075 1959 2075 \nz\n\" id=\"DejaVuSans-39\" transform=\"scale(0.015625)\"/>\n       </defs>\n       <use transform=\"translate(0 0.765625)\" xlink:href=\"#DejaVuSans-31\"/>\n       <use transform=\"translate(63.623047 0.765625)\" xlink:href=\"#DejaVuSans-30\"/>\n       <use transform=\"translate(128.203125 39.046875)scale(0.7)\" xlink:href=\"#DejaVuSans-2212\"/>\n       <use transform=\"translate(186.855469 39.046875)scale(0.7)\" xlink:href=\"#DejaVuSans-39\"/>\n      </g>\n     </g>\n    </g>\n    <g id=\"ytick_5\">\n     <g id=\"line2d_21\">\n      <path clip-path=\"url(#pbf46ed4142)\" d=\"M 61.92 104.18779 \nL 619.92 104.18779 \n\" style=\"fill:none;stroke:#b0b0b0;stroke-linecap:square;\"/>\n     </g>\n     <g id=\"line2d_22\">\n      <g>\n       <use style=\"stroke:#000000;\" x=\"61.92\" xlink:href=\"#m861fe5cb98\" y=\"104.18779\"/>\n      </g>\n     </g>\n     <g id=\"text_12\">\n      <!-- $\\mathdefault{10^{-8}}$ -->\n      <g transform=\"translate(27.92 107.987009)scale(0.1 -0.1)\">\n       <defs>\n        <path d=\"M 2034 2216 \nQ 1584 2216 1326 1975 \nQ 1069 1734 1069 1313 \nQ 1069 891 1326 650 \nQ 1584 409 2034 409 \nQ 2484 409 2743 651 \nQ 3003 894 3003 1313 \nQ 3003 1734 2745 1975 \nQ 2488 2216 2034 2216 \nz\nM 1403 2484 \nQ 997 2584 770 2862 \nQ 544 3141 544 3541 \nQ 544 4100 942 4425 \nQ 1341 4750 2034 4750 \nQ 2731 4750 3128 4425 \nQ 3525 4100 3525 3541 \nQ 3525 3141 3298 2862 \nQ 3072 2584 2669 2484 \nQ 3125 2378 3379 2068 \nQ 3634 1759 3634 1313 \nQ 3634 634 3220 271 \nQ 2806 -91 2034 -91 \nQ 1263 -91 848 271 \nQ 434 634 434 1313 \nQ 434 1759 690 2068 \nQ 947 2378 1403 2484 \nz\nM 1172 3481 \nQ 1172 3119 1398 2916 \nQ 1625 2713 2034 2713 \nQ 2441 2713 2670 2916 \nQ 2900 3119 2900 3481 \nQ 2900 3844 2670 4047 \nQ 2441 4250 2034 4250 \nQ 1625 4250 1398 4047 \nQ 1172 3844 1172 3481 \nz\n\" id=\"DejaVuSans-38\" transform=\"scale(0.015625)\"/>\n       </defs>\n       <use transform=\"translate(0 0.765625)\" xlink:href=\"#DejaVuSans-31\"/>\n       <use transform=\"translate(63.623047 0.765625)\" xlink:href=\"#DejaVuSans-30\"/>\n       <use transform=\"translate(128.203125 39.046875)scale(0.7)\" xlink:href=\"#DejaVuSans-2212\"/>\n       <use transform=\"translate(186.855469 39.046875)scale(0.7)\" xlink:href=\"#DejaVuSans-38\"/>\n      </g>\n     </g>\n    </g>\n    <g id=\"ytick_6\">\n     <g id=\"line2d_23\">\n      <path clip-path=\"url(#pbf46ed4142)\" d=\"M 61.92 73.124933 \nL 619.92 73.124933 \n\" style=\"fill:none;stroke:#b0b0b0;stroke-linecap:square;\"/>\n     </g>\n     <g id=\"line2d_24\">\n      <g>\n       <use style=\"stroke:#000000;\" x=\"61.92\" xlink:href=\"#m861fe5cb98\" y=\"73.124933\"/>\n      </g>\n     </g>\n     <g id=\"text_13\">\n      <!-- $\\mathdefault{10^{-7}}$ -->\n      <g transform=\"translate(27.92 76.924152)scale(0.1 -0.1)\">\n       <use transform=\"translate(0 0.684375)\" xlink:href=\"#DejaVuSans-31\"/>\n       <use transform=\"translate(63.623047 0.684375)\" xlink:href=\"#DejaVuSans-30\"/>\n       <use transform=\"translate(128.203125 38.965625)scale(0.7)\" xlink:href=\"#DejaVuSans-2212\"/>\n       <use transform=\"translate(186.855469 38.965625)scale(0.7)\" xlink:href=\"#DejaVuSans-37\"/>\n      </g>\n     </g>\n    </g>\n    <g id=\"ytick_7\">\n     <g id=\"line2d_25\">\n      <path clip-path=\"url(#pbf46ed4142)\" d=\"M 61.92 42.062076 \nL 619.92 42.062076 \n\" style=\"fill:none;stroke:#b0b0b0;stroke-linecap:square;\"/>\n     </g>\n     <g id=\"line2d_26\">\n      <g>\n       <use style=\"stroke:#000000;\" x=\"61.92\" xlink:href=\"#m861fe5cb98\" y=\"42.062076\"/>\n      </g>\n     </g>\n     <g id=\"text_14\">\n      <!-- $\\mathdefault{10^{-6}}$ -->\n      <g transform=\"translate(27.92 45.861295)scale(0.1 -0.1)\">\n       <use transform=\"translate(0 0.765625)\" xlink:href=\"#DejaVuSans-31\"/>\n       <use transform=\"translate(63.623047 0.765625)\" xlink:href=\"#DejaVuSans-30\"/>\n       <use transform=\"translate(128.203125 39.046875)scale(0.7)\" xlink:href=\"#DejaVuSans-2212\"/>\n       <use transform=\"translate(186.855469 39.046875)scale(0.7)\" xlink:href=\"#DejaVuSans-36\"/>\n      </g>\n     </g>\n    </g>\n    <g id=\"ytick_8\">\n     <g id=\"line2d_27\">\n      <path clip-path=\"url(#pbf46ed4142)\" d=\"M 61.92 10.999219 \nL 619.92 10.999219 \n\" style=\"fill:none;stroke:#b0b0b0;stroke-linecap:square;\"/>\n     </g>\n     <g id=\"line2d_28\">\n      <g>\n       <use style=\"stroke:#000000;\" x=\"61.92\" xlink:href=\"#m861fe5cb98\" y=\"10.999219\"/>\n      </g>\n     </g>\n     <g id=\"text_15\">\n      <!-- $\\mathdefault{10^{-5}}$ -->\n      <g transform=\"translate(27.92 14.798437)scale(0.1 -0.1)\">\n       <defs>\n        <path d=\"M 691 4666 \nL 3169 4666 \nL 3169 4134 \nL 1269 4134 \nL 1269 2991 \nQ 1406 3038 1543 3061 \nQ 1681 3084 1819 3084 \nQ 2600 3084 3056 2656 \nQ 3513 2228 3513 1497 \nQ 3513 744 3044 326 \nQ 2575 -91 1722 -91 \nQ 1428 -91 1123 -41 \nQ 819 9 494 109 \nL 494 744 \nQ 775 591 1075 516 \nQ 1375 441 1709 441 \nQ 2250 441 2565 725 \nQ 2881 1009 2881 1497 \nQ 2881 1984 2565 2268 \nQ 2250 2553 1709 2553 \nQ 1456 2553 1204 2497 \nQ 953 2441 691 2322 \nL 691 4666 \nz\n\" id=\"DejaVuSans-35\" transform=\"scale(0.015625)\"/>\n       </defs>\n       <use transform=\"translate(0 0.684375)\" xlink:href=\"#DejaVuSans-31\"/>\n       <use transform=\"translate(63.623047 0.684375)\" xlink:href=\"#DejaVuSans-30\"/>\n       <use transform=\"translate(128.203125 38.965625)scale(0.7)\" xlink:href=\"#DejaVuSans-2212\"/>\n       <use transform=\"translate(186.855469 38.965625)scale(0.7)\" xlink:href=\"#DejaVuSans-35\"/>\n      </g>\n     </g>\n    </g>\n    <g id=\"ytick_9\">\n     <g id=\"line2d_29\">\n      <defs>\n       <path d=\"M 0 0 \nL -2 0 \n\" id=\"m2224ac3f58\" style=\"stroke:#000000;stroke-width:0.5;\"/>\n      </defs>\n      <g>\n       <use style=\"stroke:#000000;stroke-width:0.5;\" x=\"61.92\" xlink:href=\"#m2224ac3f58\" y=\"219.088367\"/>\n      </g>\n     </g>\n    </g>\n    <g id=\"ytick_10\">\n     <g id=\"line2d_30\">\n      <g>\n       <use style=\"stroke:#000000;stroke-width:0.5;\" x=\"61.92\" xlink:href=\"#m2224ac3f58\" y=\"213.618469\"/>\n      </g>\n     </g>\n    </g>\n    <g id=\"ytick_11\">\n     <g id=\"line2d_31\">\n      <g>\n       <use style=\"stroke:#000000;stroke-width:0.5;\" x=\"61.92\" xlink:href=\"#m2224ac3f58\" y=\"209.737515\"/>\n      </g>\n     </g>\n    </g>\n    <g id=\"ytick_12\">\n     <g id=\"line2d_32\">\n      <g>\n       <use style=\"stroke:#000000;stroke-width:0.5;\" x=\"61.92\" xlink:href=\"#m2224ac3f58\" y=\"206.727213\"/>\n      </g>\n     </g>\n    </g>\n    <g id=\"ytick_13\">\n     <g id=\"line2d_33\">\n      <g>\n       <use style=\"stroke:#000000;stroke-width:0.5;\" x=\"61.92\" xlink:href=\"#m2224ac3f58\" y=\"204.267618\"/>\n      </g>\n     </g>\n    </g>\n    <g id=\"ytick_14\">\n     <g id=\"line2d_34\">\n      <g>\n       <use style=\"stroke:#000000;stroke-width:0.5;\" x=\"61.92\" xlink:href=\"#m2224ac3f58\" y=\"202.188059\"/>\n      </g>\n     </g>\n    </g>\n    <g id=\"ytick_15\">\n     <g id=\"line2d_35\">\n      <g>\n       <use style=\"stroke:#000000;stroke-width:0.5;\" x=\"61.92\" xlink:href=\"#m2224ac3f58\" y=\"200.386663\"/>\n      </g>\n     </g>\n    </g>\n    <g id=\"ytick_16\">\n     <g id=\"line2d_36\">\n      <g>\n       <use style=\"stroke:#000000;stroke-width:0.5;\" x=\"61.92\" xlink:href=\"#m2224ac3f58\" y=\"198.79772\"/>\n      </g>\n     </g>\n    </g>\n    <g id=\"ytick_17\">\n     <g id=\"line2d_37\">\n      <g>\n       <use style=\"stroke:#000000;stroke-width:0.5;\" x=\"61.92\" xlink:href=\"#m2224ac3f58\" y=\"188.02551\"/>\n      </g>\n     </g>\n    </g>\n    <g id=\"ytick_18\">\n     <g id=\"line2d_38\">\n      <g>\n       <use style=\"stroke:#000000;stroke-width:0.5;\" x=\"61.92\" xlink:href=\"#m2224ac3f58\" y=\"182.555612\"/>\n      </g>\n     </g>\n    </g>\n    <g id=\"ytick_19\">\n     <g id=\"line2d_39\">\n      <g>\n       <use style=\"stroke:#000000;stroke-width:0.5;\" x=\"61.92\" xlink:href=\"#m2224ac3f58\" y=\"178.674658\"/>\n      </g>\n     </g>\n    </g>\n    <g id=\"ytick_20\">\n     <g id=\"line2d_40\">\n      <g>\n       <use style=\"stroke:#000000;stroke-width:0.5;\" x=\"61.92\" xlink:href=\"#m2224ac3f58\" y=\"175.664356\"/>\n      </g>\n     </g>\n    </g>\n    <g id=\"ytick_21\">\n     <g id=\"line2d_41\">\n      <g>\n       <use style=\"stroke:#000000;stroke-width:0.5;\" x=\"61.92\" xlink:href=\"#m2224ac3f58\" y=\"173.20476\"/>\n      </g>\n     </g>\n    </g>\n    <g id=\"ytick_22\">\n     <g id=\"line2d_42\">\n      <g>\n       <use style=\"stroke:#000000;stroke-width:0.5;\" x=\"61.92\" xlink:href=\"#m2224ac3f58\" y=\"171.125202\"/>\n      </g>\n     </g>\n    </g>\n    <g id=\"ytick_23\">\n     <g id=\"line2d_43\">\n      <g>\n       <use style=\"stroke:#000000;stroke-width:0.5;\" x=\"61.92\" xlink:href=\"#m2224ac3f58\" y=\"169.323806\"/>\n      </g>\n     </g>\n    </g>\n    <g id=\"ytick_24\">\n     <g id=\"line2d_44\">\n      <g>\n       <use style=\"stroke:#000000;stroke-width:0.5;\" x=\"61.92\" xlink:href=\"#m2224ac3f58\" y=\"167.734863\"/>\n      </g>\n     </g>\n    </g>\n    <g id=\"ytick_25\">\n     <g id=\"line2d_45\">\n      <g>\n       <use style=\"stroke:#000000;stroke-width:0.5;\" x=\"61.92\" xlink:href=\"#m2224ac3f58\" y=\"156.962653\"/>\n      </g>\n     </g>\n    </g>\n    <g id=\"ytick_26\">\n     <g id=\"line2d_46\">\n      <g>\n       <use style=\"stroke:#000000;stroke-width:0.5;\" x=\"61.92\" xlink:href=\"#m2224ac3f58\" y=\"151.492755\"/>\n      </g>\n     </g>\n    </g>\n    <g id=\"ytick_27\">\n     <g id=\"line2d_47\">\n      <g>\n       <use style=\"stroke:#000000;stroke-width:0.5;\" x=\"61.92\" xlink:href=\"#m2224ac3f58\" y=\"147.611801\"/>\n      </g>\n     </g>\n    </g>\n    <g id=\"ytick_28\">\n     <g id=\"line2d_48\">\n      <g>\n       <use style=\"stroke:#000000;stroke-width:0.5;\" x=\"61.92\" xlink:href=\"#m2224ac3f58\" y=\"144.601499\"/>\n      </g>\n     </g>\n    </g>\n    <g id=\"ytick_29\">\n     <g id=\"line2d_49\">\n      <g>\n       <use style=\"stroke:#000000;stroke-width:0.5;\" x=\"61.92\" xlink:href=\"#m2224ac3f58\" y=\"142.141903\"/>\n      </g>\n     </g>\n    </g>\n    <g id=\"ytick_30\">\n     <g id=\"line2d_50\">\n      <g>\n       <use style=\"stroke:#000000;stroke-width:0.5;\" x=\"61.92\" xlink:href=\"#m2224ac3f58\" y=\"140.062345\"/>\n      </g>\n     </g>\n    </g>\n    <g id=\"ytick_31\">\n     <g id=\"line2d_51\">\n      <g>\n       <use style=\"stroke:#000000;stroke-width:0.5;\" x=\"61.92\" xlink:href=\"#m2224ac3f58\" y=\"138.260949\"/>\n      </g>\n     </g>\n    </g>\n    <g id=\"ytick_32\">\n     <g id=\"line2d_52\">\n      <g>\n       <use style=\"stroke:#000000;stroke-width:0.5;\" x=\"61.92\" xlink:href=\"#m2224ac3f58\" y=\"136.672006\"/>\n      </g>\n     </g>\n    </g>\n    <g id=\"ytick_33\">\n     <g id=\"line2d_53\">\n      <g>\n       <use style=\"stroke:#000000;stroke-width:0.5;\" x=\"61.92\" xlink:href=\"#m2224ac3f58\" y=\"125.899796\"/>\n      </g>\n     </g>\n    </g>\n    <g id=\"ytick_34\">\n     <g id=\"line2d_54\">\n      <g>\n       <use style=\"stroke:#000000;stroke-width:0.5;\" x=\"61.92\" xlink:href=\"#m2224ac3f58\" y=\"120.429898\"/>\n      </g>\n     </g>\n    </g>\n    <g id=\"ytick_35\">\n     <g id=\"line2d_55\">\n      <g>\n       <use style=\"stroke:#000000;stroke-width:0.5;\" x=\"61.92\" xlink:href=\"#m2224ac3f58\" y=\"116.548944\"/>\n      </g>\n     </g>\n    </g>\n    <g id=\"ytick_36\">\n     <g id=\"line2d_56\">\n      <g>\n       <use style=\"stroke:#000000;stroke-width:0.5;\" x=\"61.92\" xlink:href=\"#m2224ac3f58\" y=\"113.538642\"/>\n      </g>\n     </g>\n    </g>\n    <g id=\"ytick_37\">\n     <g id=\"line2d_57\">\n      <g>\n       <use style=\"stroke:#000000;stroke-width:0.5;\" x=\"61.92\" xlink:href=\"#m2224ac3f58\" y=\"111.079046\"/>\n      </g>\n     </g>\n    </g>\n    <g id=\"ytick_38\">\n     <g id=\"line2d_58\">\n      <g>\n       <use style=\"stroke:#000000;stroke-width:0.5;\" x=\"61.92\" xlink:href=\"#m2224ac3f58\" y=\"108.999488\"/>\n      </g>\n     </g>\n    </g>\n    <g id=\"ytick_39\">\n     <g id=\"line2d_59\">\n      <g>\n       <use style=\"stroke:#000000;stroke-width:0.5;\" x=\"61.92\" xlink:href=\"#m2224ac3f58\" y=\"107.198092\"/>\n      </g>\n     </g>\n    </g>\n    <g id=\"ytick_40\">\n     <g id=\"line2d_60\">\n      <g>\n       <use style=\"stroke:#000000;stroke-width:0.5;\" x=\"61.92\" xlink:href=\"#m2224ac3f58\" y=\"105.609149\"/>\n      </g>\n     </g>\n    </g>\n    <g id=\"ytick_41\">\n     <g id=\"line2d_61\">\n      <g>\n       <use style=\"stroke:#000000;stroke-width:0.5;\" x=\"61.92\" xlink:href=\"#m2224ac3f58\" y=\"94.836938\"/>\n      </g>\n     </g>\n    </g>\n    <g id=\"ytick_42\">\n     <g id=\"line2d_62\">\n      <g>\n       <use style=\"stroke:#000000;stroke-width:0.5;\" x=\"61.92\" xlink:href=\"#m2224ac3f58\" y=\"89.367041\"/>\n      </g>\n     </g>\n    </g>\n    <g id=\"ytick_43\">\n     <g id=\"line2d_63\">\n      <g>\n       <use style=\"stroke:#000000;stroke-width:0.5;\" x=\"61.92\" xlink:href=\"#m2224ac3f58\" y=\"85.486087\"/>\n      </g>\n     </g>\n    </g>\n    <g id=\"ytick_44\">\n     <g id=\"line2d_64\">\n      <g>\n       <use style=\"stroke:#000000;stroke-width:0.5;\" x=\"61.92\" xlink:href=\"#m2224ac3f58\" y=\"82.475785\"/>\n      </g>\n     </g>\n    </g>\n    <g id=\"ytick_45\">\n     <g id=\"line2d_65\">\n      <g>\n       <use style=\"stroke:#000000;stroke-width:0.5;\" x=\"61.92\" xlink:href=\"#m2224ac3f58\" y=\"80.016189\"/>\n      </g>\n     </g>\n    </g>\n    <g id=\"ytick_46\">\n     <g id=\"line2d_66\">\n      <g>\n       <use style=\"stroke:#000000;stroke-width:0.5;\" x=\"61.92\" xlink:href=\"#m2224ac3f58\" y=\"77.93663\"/>\n      </g>\n     </g>\n    </g>\n    <g id=\"ytick_47\">\n     <g id=\"line2d_67\">\n      <g>\n       <use style=\"stroke:#000000;stroke-width:0.5;\" x=\"61.92\" xlink:href=\"#m2224ac3f58\" y=\"76.135235\"/>\n      </g>\n     </g>\n    </g>\n    <g id=\"ytick_48\">\n     <g id=\"line2d_68\">\n      <g>\n       <use style=\"stroke:#000000;stroke-width:0.5;\" x=\"61.92\" xlink:href=\"#m2224ac3f58\" y=\"74.546291\"/>\n      </g>\n     </g>\n    </g>\n    <g id=\"ytick_49\">\n     <g id=\"line2d_69\">\n      <g>\n       <use style=\"stroke:#000000;stroke-width:0.5;\" x=\"61.92\" xlink:href=\"#m2224ac3f58\" y=\"63.774081\"/>\n      </g>\n     </g>\n    </g>\n    <g id=\"ytick_50\">\n     <g id=\"line2d_70\">\n      <g>\n       <use style=\"stroke:#000000;stroke-width:0.5;\" x=\"61.92\" xlink:href=\"#m2224ac3f58\" y=\"58.304184\"/>\n      </g>\n     </g>\n    </g>\n    <g id=\"ytick_51\">\n     <g id=\"line2d_71\">\n      <g>\n       <use style=\"stroke:#000000;stroke-width:0.5;\" x=\"61.92\" xlink:href=\"#m2224ac3f58\" y=\"54.42323\"/>\n      </g>\n     </g>\n    </g>\n    <g id=\"ytick_52\">\n     <g id=\"line2d_72\">\n      <g>\n       <use style=\"stroke:#000000;stroke-width:0.5;\" x=\"61.92\" xlink:href=\"#m2224ac3f58\" y=\"51.412928\"/>\n      </g>\n     </g>\n    </g>\n    <g id=\"ytick_53\">\n     <g id=\"line2d_73\">\n      <g>\n       <use style=\"stroke:#000000;stroke-width:0.5;\" x=\"61.92\" xlink:href=\"#m2224ac3f58\" y=\"48.953332\"/>\n      </g>\n     </g>\n    </g>\n    <g id=\"ytick_54\">\n     <g id=\"line2d_74\">\n      <g>\n       <use style=\"stroke:#000000;stroke-width:0.5;\" x=\"61.92\" xlink:href=\"#m2224ac3f58\" y=\"46.873773\"/>\n      </g>\n     </g>\n    </g>\n    <g id=\"ytick_55\">\n     <g id=\"line2d_75\">\n      <g>\n       <use style=\"stroke:#000000;stroke-width:0.5;\" x=\"61.92\" xlink:href=\"#m2224ac3f58\" y=\"45.072378\"/>\n      </g>\n     </g>\n    </g>\n    <g id=\"ytick_56\">\n     <g id=\"line2d_76\">\n      <g>\n       <use style=\"stroke:#000000;stroke-width:0.5;\" x=\"61.92\" xlink:href=\"#m2224ac3f58\" y=\"43.483434\"/>\n      </g>\n     </g>\n    </g>\n    <g id=\"ytick_57\">\n     <g id=\"line2d_77\">\n      <g>\n       <use style=\"stroke:#000000;stroke-width:0.5;\" x=\"61.92\" xlink:href=\"#m2224ac3f58\" y=\"32.711224\"/>\n      </g>\n     </g>\n    </g>\n    <g id=\"ytick_58\">\n     <g id=\"line2d_78\">\n      <g>\n       <use style=\"stroke:#000000;stroke-width:0.5;\" x=\"61.92\" xlink:href=\"#m2224ac3f58\" y=\"27.241327\"/>\n      </g>\n     </g>\n    </g>\n    <g id=\"ytick_59\">\n     <g id=\"line2d_79\">\n      <g>\n       <use style=\"stroke:#000000;stroke-width:0.5;\" x=\"61.92\" xlink:href=\"#m2224ac3f58\" y=\"23.360372\"/>\n      </g>\n     </g>\n    </g>\n    <g id=\"ytick_60\">\n     <g id=\"line2d_80\">\n      <g>\n       <use style=\"stroke:#000000;stroke-width:0.5;\" x=\"61.92\" xlink:href=\"#m2224ac3f58\" y=\"20.350071\"/>\n      </g>\n     </g>\n    </g>\n    <g id=\"ytick_61\">\n     <g id=\"line2d_81\">\n      <g>\n       <use style=\"stroke:#000000;stroke-width:0.5;\" x=\"61.92\" xlink:href=\"#m2224ac3f58\" y=\"17.890475\"/>\n      </g>\n     </g>\n    </g>\n    <g id=\"ytick_62\">\n     <g id=\"line2d_82\">\n      <g>\n       <use style=\"stroke:#000000;stroke-width:0.5;\" x=\"61.92\" xlink:href=\"#m2224ac3f58\" y=\"15.810916\"/>\n      </g>\n     </g>\n    </g>\n    <g id=\"ytick_63\">\n     <g id=\"line2d_83\">\n      <g>\n       <use style=\"stroke:#000000;stroke-width:0.5;\" x=\"61.92\" xlink:href=\"#m2224ac3f58\" y=\"14.009521\"/>\n      </g>\n     </g>\n    </g>\n    <g id=\"ytick_64\">\n     <g id=\"line2d_84\">\n      <g>\n       <use style=\"stroke:#000000;stroke-width:0.5;\" x=\"61.92\" xlink:href=\"#m2224ac3f58\" y=\"12.420577\"/>\n      </g>\n     </g>\n    </g>\n    <g id=\"text_16\">\n     <!-- $E^2 dN/dE$ [$\\mathrm{erg\\,s^{-1}\\,cm^{-2}}$] -->\n     <g transform=\"translate(17.21 182.584219)rotate(-90)scale(0.11 -0.11)\">\n      <defs>\n       <path d=\"M 1081 4666 \nL 4031 4666 \nL 3928 4134 \nL 1606 4134 \nL 1338 2753 \nL 3566 2753 \nL 3463 2222 \nL 1234 2222 \nL 909 531 \nL 3284 531 \nL 3181 0 \nL 172 0 \nL 1081 4666 \nz\n\" id=\"DejaVuSans-Oblique-45\" transform=\"scale(0.015625)\"/>\n       <path d=\"M 2675 525 \nQ 2444 222 2128 65 \nQ 1813 -91 1428 -91 \nQ 903 -91 598 267 \nQ 294 625 294 1247 \nQ 294 1766 478 2236 \nQ 663 2706 1013 3078 \nQ 1244 3325 1534 3454 \nQ 1825 3584 2144 3584 \nQ 2481 3584 2739 3421 \nQ 2997 3259 3138 2956 \nL 3513 4863 \nL 4091 4863 \nL 3144 0 \nL 2566 0 \nL 2675 525 \nz\nM 891 1350 \nQ 891 897 1095 644 \nQ 1300 391 1663 391 \nQ 1931 391 2161 520 \nQ 2391 650 2566 903 \nQ 2750 1166 2856 1509 \nQ 2963 1853 2963 2188 \nQ 2963 2622 2758 2865 \nQ 2553 3109 2194 3109 \nQ 1922 3109 1687 2981 \nQ 1453 2853 1288 2613 \nQ 1106 2353 998 2009 \nQ 891 1666 891 1350 \nz\n\" id=\"DejaVuSans-Oblique-64\" transform=\"scale(0.015625)\"/>\n       <path d=\"M 1081 4666 \nL 1931 4666 \nL 3219 666 \nL 4000 4666 \nL 4616 4666 \nL 3706 0 \nL 2853 0 \nL 1569 4025 \nL 788 0 \nL 172 0 \nL 1081 4666 \nz\n\" id=\"DejaVuSans-Oblique-4e\" transform=\"scale(0.015625)\"/>\n       <path d=\"M 1625 4666 \nL 2156 4666 \nL 531 -594 \nL 0 -594 \nL 1625 4666 \nz\n\" id=\"DejaVuSans-2f\" transform=\"scale(0.015625)\"/>\n       <path d=\"M 2834 3397 \nL 2834 2853 \nQ 2591 2978 2328 3040 \nQ 2066 3103 1784 3103 \nQ 1356 3103 1142 2972 \nQ 928 2841 928 2578 \nQ 928 2378 1081 2264 \nQ 1234 2150 1697 2047 \nL 1894 2003 \nQ 2506 1872 2764 1633 \nQ 3022 1394 3022 966 \nQ 3022 478 2636 193 \nQ 2250 -91 1575 -91 \nQ 1294 -91 989 -36 \nQ 684 19 347 128 \nL 347 722 \nQ 666 556 975 473 \nQ 1284 391 1588 391 \nQ 1994 391 2212 530 \nQ 2431 669 2431 922 \nQ 2431 1156 2273 1281 \nQ 2116 1406 1581 1522 \nL 1381 1569 \nQ 847 1681 609 1914 \nQ 372 2147 372 2553 \nQ 372 3047 722 3315 \nQ 1072 3584 1716 3584 \nQ 2034 3584 2315 3537 \nQ 2597 3491 2834 3397 \nz\n\" id=\"DejaVuSans-73\" transform=\"scale(0.015625)\"/>\n       <path d=\"M 3122 3366 \nL 3122 2828 \nQ 2878 2963 2633 3030 \nQ 2388 3097 2138 3097 \nQ 1578 3097 1268 2742 \nQ 959 2388 959 1747 \nQ 959 1106 1268 751 \nQ 1578 397 2138 397 \nQ 2388 397 2633 464 \nQ 2878 531 3122 666 \nL 3122 134 \nQ 2881 22 2623 -34 \nQ 2366 -91 2075 -91 \nQ 1284 -91 818 406 \nQ 353 903 353 1747 \nQ 353 2603 823 3093 \nQ 1294 3584 2113 3584 \nQ 2378 3584 2631 3529 \nQ 2884 3475 3122 3366 \nz\n\" id=\"DejaVuSans-63\" transform=\"scale(0.015625)\"/>\n       <path d=\"M 3328 2828 \nQ 3544 3216 3844 3400 \nQ 4144 3584 4550 3584 \nQ 5097 3584 5394 3201 \nQ 5691 2819 5691 2113 \nL 5691 0 \nL 5113 0 \nL 5113 2094 \nQ 5113 2597 4934 2840 \nQ 4756 3084 4391 3084 \nQ 3944 3084 3684 2787 \nQ 3425 2491 3425 1978 \nL 3425 0 \nL 2847 0 \nL 2847 2094 \nQ 2847 2600 2669 2842 \nQ 2491 3084 2119 3084 \nQ 1678 3084 1418 2786 \nQ 1159 2488 1159 1978 \nL 1159 0 \nL 581 0 \nL 581 3500 \nL 1159 3500 \nL 1159 2956 \nQ 1356 3278 1631 3431 \nQ 1906 3584 2284 3584 \nQ 2666 3584 2933 3390 \nQ 3200 3197 3328 2828 \nz\n\" id=\"DejaVuSans-6d\" transform=\"scale(0.015625)\"/>\n      </defs>\n      <use transform=\"translate(0 0.765625)\" xlink:href=\"#DejaVuSans-Oblique-45\"/>\n      <use transform=\"translate(70.200365 39.046875)scale(0.7)\" xlink:href=\"#DejaVuSans-32\"/>\n      <use transform=\"translate(117.470872 0.765625)\" xlink:href=\"#DejaVuSans-Oblique-64\"/>\n      <use transform=\"translate(180.947435 0.765625)\" xlink:href=\"#DejaVuSans-Oblique-4e\"/>\n      <use transform=\"translate(255.752122 0.765625)\" xlink:href=\"#DejaVuSans-2f\"/>\n      <use transform=\"translate(289.443529 0.765625)\" xlink:href=\"#DejaVuSans-Oblique-64\"/>\n      <use transform=\"translate(352.920091 0.765625)\" xlink:href=\"#DejaVuSans-Oblique-45\"/>\n      <use transform=\"translate(416.103685 0.765625)\" xlink:href=\"#DejaVuSans-20\"/>\n      <use transform=\"translate(447.890794 0.765625)\" xlink:href=\"#DejaVuSans-5b\"/>\n      <use transform=\"translate(486.904466 0.765625)\" xlink:href=\"#DejaVuSans-65\"/>\n      <use transform=\"translate(548.427904 0.765625)\" xlink:href=\"#DejaVuSans-72\"/>\n      <use transform=\"translate(589.541185 0.765625)\" xlink:href=\"#DejaVuSans-67\"/>\n      <use transform=\"translate(669.253424 0.765625)\" xlink:href=\"#DejaVuSans-73\"/>\n      <use transform=\"translate(722.310064 39.046875)scale(0.7)\" xlink:href=\"#DejaVuSans-2212\"/>\n      <use transform=\"translate(780.962408 39.046875)scale(0.7)\" xlink:href=\"#DejaVuSans-31\"/>\n      <use transform=\"translate(844.468592 0.765625)\" xlink:href=\"#DejaVuSans-63\"/>\n      <use transform=\"translate(899.449061 0.765625)\" xlink:href=\"#DejaVuSans-6d\"/>\n      <use transform=\"translate(997.818201 39.046875)scale(0.7)\" xlink:href=\"#DejaVuSans-2212\"/>\n      <use transform=\"translate(1056.470545 39.046875)scale(0.7)\" xlink:href=\"#DejaVuSans-32\"/>\n      <use transform=\"translate(1103.741053 0.765625)\" xlink:href=\"#DejaVuSans-5d\"/>\n     </g>\n    </g>\n   </g>\n   <g id=\"line2d_85\">\n    <path clip-path=\"url(#pbf46ed4142)\" d=\"M 87.283636 123.006849 \nL 239.617789 75.548893 \nL 254.343423 71.20243 \nL 263.483473 68.729745 \nL 270.084619 67.167009 \nL 275.162424 66.176394 \nL 279.732449 65.51896 \nL 283.286912 65.219377 \nL 286.333595 65.156215 \nL 289.380278 65.319391 \nL 291.919181 65.668901 \nL 294.458084 66.255184 \nL 296.489206 66.927056 \nL 298.520328 67.810851 \nL 300.55145 68.940809 \nL 302.582572 70.356762 \nL 304.613694 72.105072 \nL 306.644816 74.239739 \nL 308.168157 76.131763 \nL 309.691499 78.306618 \nL 311.21484 80.798342 \nL 312.738182 83.64515 \nL 314.261523 86.889957 \nL 315.784865 90.580978 \nL 317.308206 94.772383 \nL 318.831548 99.525055 \nL 320.354889 104.907429 \nL 321.878231 110.996446 \nL 323.401572 117.878618 \nL 324.924914 125.651236 \nL 326.448256 134.423716 \nL 327.971597 144.319126 \nL 329.494939 155.475897 \nL 331.01828 168.049744 \nL 332.541622 182.215833 \nL 334.064963 198.171214 \nL 335.588305 216.137558 \nL 337.111646 236.364231 \nL 338.634988 259.131757 \nL 339.389512 271.487344 \nL 339.389512 271.487344 \n\" style=\"fill:none;stroke:#55a868;stroke-linecap:square;stroke-width:3;\"/>\n   </g>\n   <g id=\"line2d_86\">\n    <path clip-path=\"url(#pbf46ed4142)\" d=\"M 222.681387 271.487344 \nL 225.907715 267.187882 \nL 228.954398 263.472767 \nL 231.493301 260.674459 \nL 234.032203 258.180592 \nL 236.571106 256.01515 \nL 239.110008 254.186412 \nL 241.648911 252.678534 \nL 244.187813 251.447014 \nL 247.234496 250.236669 \nL 251.804521 248.703974 \nL 274.146863 241.716924 \nL 401.09199 202.192953 \nL 430.035479 193.402456 \nL 448.315577 188.067976 \nL 462.025651 184.294097 \nL 472.689042 181.580435 \nL 481.829091 179.479783 \nL 489.445799 177.942517 \nL 496.554726 176.730273 \nL 503.155872 175.839938 \nL 508.741458 175.296985 \nL 514.327043 174.980294 \nL 519.404848 174.923141 \nL 523.974873 175.098159 \nL 528.037117 175.47882 \nL 531.591581 176.038208 \nL 534.638264 176.744089 \nL 537.177166 177.551177 \nL 539.208288 178.392937 \nL 541.23941 179.475103 \nL 542.762752 180.502864 \nL 544.286093 181.788167 \nL 545.809435 183.437305 \nL 546.824996 184.822786 \nL 547.840557 186.531865 \nL 548.856118 188.696873 \nL 549.871679 191.536198 \nL 550.88724 195.437924 \nL 551.39502 197.99994 \nL 551.902801 201.165296 \nL 552.410581 205.182485 \nL 552.918362 210.460117 \nL 553.426143 217.722217 \nL 553.933923 228.390391 \nL 554.441704 245.711792 \nL 554.832385 271.487344 \nL 554.832385 271.487344 \n\" style=\"fill:none;stroke:#c44e52;stroke-linecap:square;stroke-width:3;\"/>\n   </g>\n   <g id=\"patch_3\">\n    <path d=\"M 61.92 228.439219 \nL 61.92 10.999219 \n\" style=\"fill:none;stroke:#000000;stroke-linecap:square;stroke-linejoin:miter;stroke-width:0.8;\"/>\n   </g>\n   <g id=\"patch_4\">\n    <path d=\"M 619.92 228.439219 \nL 619.92 10.999219 \n\" style=\"fill:none;stroke:#000000;stroke-linecap:square;stroke-linejoin:miter;stroke-width:0.8;\"/>\n   </g>\n   <g id=\"patch_5\">\n    <path d=\"M 61.92 228.439219 \nL 619.92 228.439219 \n\" style=\"fill:none;stroke:#000000;stroke-linecap:square;stroke-linejoin:miter;stroke-width:0.8;\"/>\n   </g>\n   <g id=\"patch_6\">\n    <path d=\"M 61.92 10.999219 \nL 619.92 10.999219 \n\" style=\"fill:none;stroke:#000000;stroke-linecap:square;stroke-linejoin:miter;stroke-width:0.8;\"/>\n   </g>\n   <g id=\"legend_1\">\n    <g id=\"patch_7\">\n     <path d=\"M 469.691875 48.355469 \nL 612.92 48.355469 \nQ 614.92 48.355469 614.92 46.355469 \nL 614.92 17.999219 \nQ 614.92 15.999219 612.92 15.999219 \nL 469.691875 15.999219 \nQ 467.691875 15.999219 467.691875 17.999219 \nL 467.691875 46.355469 \nQ 467.691875 48.355469 469.691875 48.355469 \nz\n\" style=\"fill:#ffffff;opacity:0.8;stroke:#cccccc;stroke-linejoin:miter;stroke-width:0.3;\"/>\n    </g>\n    <g id=\"line2d_87\">\n     <path d=\"M 471.691875 24.097656 \nL 491.691875 24.097656 \n\" style=\"fill:none;stroke:#55a868;stroke-linecap:square;stroke-width:3;\"/>\n    </g>\n    <g id=\"line2d_88\"/>\n    <g id=\"text_17\">\n     <!-- Syncrotron -->\n     <g transform=\"translate(499.691875 27.597656)scale(0.1 -0.1)\">\n      <defs>\n       <path d=\"M 3425 4513 \nL 3425 3897 \nQ 3066 4069 2747 4153 \nQ 2428 4238 2131 4238 \nQ 1616 4238 1336 4038 \nQ 1056 3838 1056 3469 \nQ 1056 3159 1242 3001 \nQ 1428 2844 1947 2747 \nL 2328 2669 \nQ 3034 2534 3370 2195 \nQ 3706 1856 3706 1288 \nQ 3706 609 3251 259 \nQ 2797 -91 1919 -91 \nQ 1588 -91 1214 -16 \nQ 841 59 441 206 \nL 441 856 \nQ 825 641 1194 531 \nQ 1563 422 1919 422 \nQ 2459 422 2753 634 \nQ 3047 847 3047 1241 \nQ 3047 1584 2836 1778 \nQ 2625 1972 2144 2069 \nL 1759 2144 \nQ 1053 2284 737 2584 \nQ 422 2884 422 3419 \nQ 422 4038 858 4394 \nQ 1294 4750 2059 4750 \nQ 2388 4750 2728 4690 \nQ 3069 4631 3425 4513 \nz\n\" id=\"DejaVuSans-53\" transform=\"scale(0.015625)\"/>\n      </defs>\n      <use xlink:href=\"#DejaVuSans-53\"/>\n      <use x=\"63.476562\" xlink:href=\"#DejaVuSans-79\"/>\n      <use x=\"122.65625\" xlink:href=\"#DejaVuSans-6e\"/>\n      <use x=\"186.035156\" xlink:href=\"#DejaVuSans-63\"/>\n      <use x=\"241.015625\" xlink:href=\"#DejaVuSans-72\"/>\n      <use x=\"279.878906\" xlink:href=\"#DejaVuSans-6f\"/>\n      <use x=\"341.060547\" xlink:href=\"#DejaVuSans-74\"/>\n      <use x=\"380.269531\" xlink:href=\"#DejaVuSans-72\"/>\n      <use x=\"419.132812\" xlink:href=\"#DejaVuSans-6f\"/>\n      <use x=\"480.314453\" xlink:href=\"#DejaVuSans-6e\"/>\n     </g>\n    </g>\n    <g id=\"line2d_89\">\n     <path d=\"M 471.691875 38.775781 \nL 491.691875 38.775781 \n\" style=\"fill:none;stroke:#c44e52;stroke-linecap:square;stroke-width:3;\"/>\n    </g>\n    <g id=\"line2d_90\"/>\n    <g id=\"text_18\">\n     <!-- Inverse Compton CBM -->\n     <g transform=\"translate(499.691875 42.275781)scale(0.1 -0.1)\">\n      <defs>\n       <path d=\"M 628 4666 \nL 1259 4666 \nL 1259 0 \nL 628 0 \nL 628 4666 \nz\n\" id=\"DejaVuSans-49\" transform=\"scale(0.015625)\"/>\n       <path d=\"M 191 3500 \nL 800 3500 \nL 1894 563 \nL 2988 3500 \nL 3597 3500 \nL 2284 0 \nL 1503 0 \nL 191 3500 \nz\n\" id=\"DejaVuSans-76\" transform=\"scale(0.015625)\"/>\n       <path d=\"M 4122 4306 \nL 4122 3641 \nQ 3803 3938 3442 4084 \nQ 3081 4231 2675 4231 \nQ 1875 4231 1450 3742 \nQ 1025 3253 1025 2328 \nQ 1025 1406 1450 917 \nQ 1875 428 2675 428 \nQ 3081 428 3442 575 \nQ 3803 722 4122 1019 \nL 4122 359 \nQ 3791 134 3420 21 \nQ 3050 -91 2638 -91 \nQ 1578 -91 968 557 \nQ 359 1206 359 2328 \nQ 359 3453 968 4101 \nQ 1578 4750 2638 4750 \nQ 3056 4750 3426 4639 \nQ 3797 4528 4122 4306 \nz\n\" id=\"DejaVuSans-43\" transform=\"scale(0.015625)\"/>\n       <path d=\"M 1159 525 \nL 1159 -1331 \nL 581 -1331 \nL 581 3500 \nL 1159 3500 \nL 1159 2969 \nQ 1341 3281 1617 3432 \nQ 1894 3584 2278 3584 \nQ 2916 3584 3314 3078 \nQ 3713 2572 3713 1747 \nQ 3713 922 3314 415 \nQ 2916 -91 2278 -91 \nQ 1894 -91 1617 61 \nQ 1341 213 1159 525 \nz\nM 3116 1747 \nQ 3116 2381 2855 2742 \nQ 2594 3103 2138 3103 \nQ 1681 3103 1420 2742 \nQ 1159 2381 1159 1747 \nQ 1159 1113 1420 752 \nQ 1681 391 2138 391 \nQ 2594 391 2855 752 \nQ 3116 1113 3116 1747 \nz\n\" id=\"DejaVuSans-70\" transform=\"scale(0.015625)\"/>\n       <path d=\"M 1259 2228 \nL 1259 519 \nL 2272 519 \nQ 2781 519 3026 730 \nQ 3272 941 3272 1375 \nQ 3272 1813 3026 2020 \nQ 2781 2228 2272 2228 \nL 1259 2228 \nz\nM 1259 4147 \nL 1259 2741 \nL 2194 2741 \nQ 2656 2741 2882 2914 \nQ 3109 3088 3109 3444 \nQ 3109 3797 2882 3972 \nQ 2656 4147 2194 4147 \nL 1259 4147 \nz\nM 628 4666 \nL 2241 4666 \nQ 2963 4666 3353 4366 \nQ 3744 4066 3744 3513 \nQ 3744 3084 3544 2831 \nQ 3344 2578 2956 2516 \nQ 3422 2416 3680 2098 \nQ 3938 1781 3938 1306 \nQ 3938 681 3513 340 \nQ 3088 0 2303 0 \nL 628 0 \nL 628 4666 \nz\n\" id=\"DejaVuSans-42\" transform=\"scale(0.015625)\"/>\n       <path d=\"M 628 4666 \nL 1569 4666 \nL 2759 1491 \nL 3956 4666 \nL 4897 4666 \nL 4897 0 \nL 4281 0 \nL 4281 4097 \nL 3078 897 \nL 2444 897 \nL 1241 4097 \nL 1241 0 \nL 628 0 \nL 628 4666 \nz\n\" id=\"DejaVuSans-4d\" transform=\"scale(0.015625)\"/>\n      </defs>\n      <use xlink:href=\"#DejaVuSans-49\"/>\n      <use x=\"29.492188\" xlink:href=\"#DejaVuSans-6e\"/>\n      <use x=\"92.871094\" xlink:href=\"#DejaVuSans-76\"/>\n      <use x=\"152.050781\" xlink:href=\"#DejaVuSans-65\"/>\n      <use x=\"213.574219\" xlink:href=\"#DejaVuSans-72\"/>\n      <use x=\"254.6875\" xlink:href=\"#DejaVuSans-73\"/>\n      <use x=\"306.787109\" xlink:href=\"#DejaVuSans-65\"/>\n      <use x=\"368.310547\" xlink:href=\"#DejaVuSans-20\"/>\n      <use x=\"400.097656\" xlink:href=\"#DejaVuSans-43\"/>\n      <use x=\"469.921875\" xlink:href=\"#DejaVuSans-6f\"/>\n      <use x=\"531.103516\" xlink:href=\"#DejaVuSans-6d\"/>\n      <use x=\"628.515625\" xlink:href=\"#DejaVuSans-70\"/>\n      <use x=\"691.992188\" xlink:href=\"#DejaVuSans-74\"/>\n      <use x=\"731.201172\" xlink:href=\"#DejaVuSans-6f\"/>\n      <use x=\"792.382812\" xlink:href=\"#DejaVuSans-6e\"/>\n      <use x=\"855.761719\" xlink:href=\"#DejaVuSans-20\"/>\n      <use x=\"887.548828\" xlink:href=\"#DejaVuSans-43\"/>\n      <use x=\"957.373047\" xlink:href=\"#DejaVuSans-42\"/>\n      <use x=\"1025.976562\" xlink:href=\"#DejaVuSans-4d\"/>\n     </g>\n    </g>\n   </g>\n  </g>\n </g>\n <defs>\n  <clipPath id=\"pbf46ed4142\">\n   <rect height=\"217.44\" width=\"558\" x=\"61.92\" y=\"10.999219\"/>\n  </clipPath>\n </defs>\n</svg>\n",
      "text/plain": [
       "<Figure size 720x288 with 1 Axes>"
      ]
     },
     "metadata": {
      "needs_background": "light"
     },
     "output_type": "display_data"
    }
   ],
   "source": [
    "from astropy.constants import c\n",
    "\n",
    "IC = naima.models.InverseCompton(e_pl, seed_photon_fields=['CMB'])\n",
    "\n",
    "sed_ic_cbm = IC.sed(spectrum_energy, distance=1.5*u.kpc, seed=\"CMB\")\n",
    "\n",
    "fig2 = plt.figure(figsize=(10,4))\n",
    "ax = plt.subplot(111)\n",
    "ax.loglog(spectrum_energy,sed_syn,lw=3,label='Syncrotron',c=naima.plot.color_cycle[1])\n",
    "\n",
    "ax.loglog(spectrum_energy,sed_ic_cbm,lw=3,\n",
    "        label='Inverse Compton CBM', c=naima.plot.color_cycle[2])\n",
    "\n",
    "ax.set_ylim(1e-12, 1e-5)\n",
    "ax.set_xlabel('Photon energy [{0}]'.format(\n",
    "        spectrum_energy.unit.to_string('latex_inline')))\n",
    "ax.set_ylabel('$E^2 dN/dE$ [{0}]'.format(\n",
    "        sed_syn.unit.to_string('latex_inline')))\n",
    "ax.grid()\n",
    "ax.legend(loc='upper right')\n",
    "plt.show()"
   ]
  },
  {
   "cell_type": "markdown",
   "metadata": {},
   "source": [
    "#### Case of study: Active Galactic Nuclei\n",
    "\n",
    "As we saw, blazars are a particular classification of AGNs with their relativistic plasma jet oriented close to the line of sight. Because blazars have their jets pointing towards, the full emission comes from a relatively small region (the width of the jets) and so these objects can exhibit rapid variability (due to the smaller causally connected regions). The typical SED for AGNS is characterized by a synchrotron component extending from radio to X-ray frequencies, and a second component peaking at gamma-ray frequencies due to either inverse-Compton radiation (or from hadronic processes). The plot below shows the spectral energy distribution of nearby (z = 0.044) blazar 1ES 2344+514 during a flaring and a quiet state."
   ]
  },
  {
   "cell_type": "markdown",
   "metadata": {},
   "source": [
    "<div>\n",
    "<img src=\"http://veritas.sao.arizona.edu/test/images/stories/results/1es2344-sed.png\">\n",
    "<div class=\"caption\">Source: Veritas collaboration</div>\n",
    "</div>"
   ]
  },
  {
   "cell_type": "markdown",
   "metadata": {},
   "source": [
    "#### Lightcurves and flares\n",
    "\n",
    "In addition to the SED one could measure the light-curve or number of photons (or energy density) as a function of time. This is usually done to illustrate the variability of the source. For AGNs it is possible to make the lightcurve for different energy ranges, and therefore addressing different emission mechanism. The following plot shows the observational campaign on Mrk 421 from 2008 April 8 (MJD 54564) to 2008 June 8 (MJD 54620). "
   ]
  },
  {
   "cell_type": "markdown",
   "metadata": {},
   "source": [
    "<div align=\"center\">\n",
    "<img src=\"http://cdn.iopscience.com/images/0067-0049/232/1/7/Full/apjsaa82ccf2_lr.jpg\" width=\"60%\">\n",
    "<div class=\"caption\">Source: Taken from http://iopscience.iop.org/article/10.3847/1538-4365/aa82cc</div>\n",
    "</div>"
   ]
  },
  {
   "cell_type": "markdown",
   "metadata": {
    "slideshow": {
     "slide_type": "subslide"
    }
   },
   "source": [
    "What it is interesting in this lightcurve is that a *flare* is observed in the high energy photon range but no activity was detected in soft/hard X-ray suggesting the existance of what is called an **orphan flare**. This is interesting since in the SSC scenarios the X-rays (due to synchrotron) and TeV gamma-rays (due IC scattering) must be correlated. An orphan flare is therefore an indication that SSC scenario might be excluded, while the EC is still possible. As we will see also an hadronic scenario in which TeV photons come from $\\pi^0$ is still possible."
   ]
  },
  {
   "cell_type": "markdown",
   "metadata": {},
   "source": [
    "### Hadronic models\n",
    "#### Pion decay\n",
    "\n",
    "Accelerated protons in the source can produce charged and neutral pions via proton-proton interaction. In this context a CR proton with energy $E_p$ and momentum $p_p$ interacts with the ISM at rest in the process:\n",
    "\n",
    "$$ p + p \\rightarrow p + p + \\pi^0$$ \n",
    "\n",
    "\n",
    "There is a threshold for this production given by the invariant:\n",
    "\n",
    "$$s = E_{CoM}^2 = (E_p + m_p)^2 - p_p^2 = (2m_p^2 + m_{\\pi^0}^2)^2 $$\n",
    "\n",
    "As we saw in lesson 2, the available energy to produce particles can be derived as:\n",
    "\n",
    "$$\\epsilon = E_{CoM} - 2m_p $$\n",
    "\n",
    "The energy threshod to produce a pion at rest is then:\n",
    "\n",
    "$$E_{p,th} = \\frac{m_{\\pi^0}^2 + 4m_p m_{\\pi^0} + 2m_p^2}{ 2 m_p} = \\frac{m_{\\pi^0}^2}{2m_p} + 2 m_{\\pi^0} + m_p$$"
   ]
  },
  {
   "cell_type": "code",
   "execution_count": 6,
   "metadata": {},
   "outputs": [
    {
     "name": "stdout",
     "output_type": "stream",
     "text": [
      "Kinetic energy threshold for pion production 279.7 MeV\n"
     ]
    }
   ],
   "source": [
    "mp = 938.28 #MeV\n",
    "mpion = 134.976 #MeV\n",
    "print (\"Kinetic energy threshold for pion production %.1f MeV\" %(mpion**2/(2*mp) + 2*mpion))\n"
   ]
  },
  {
   "cell_type": "markdown",
   "metadata": {},
   "source": [
    "The pions are produced with the same power law as the parent proton. "
   ]
  },
  {
   "cell_type": "markdown",
   "metadata": {
    "slideshow": {
     "slide_type": "subslide"
    }
   },
   "source": [
    "Neutral pions decay rapidly ($\\tau = 8.4 \\times 10^{-17}$ ns, compared to 26 ns of charged pions) in to two photons. In the CoM each photon from the pion decay has an energy of $E^{*}_\\gamma = m_{\\pi^0}/2 \\approx 70$ MeV as we saw for the 2-body decay. In order to calculate the energy in the lab system we need to make a lorentz transformation:\n",
    "\n",
    "$$E_\\gamma = \\gamma(E^{*}_\\gamma + \\beta_\\pi p^{*}_\\gamma \\cos\\theta^{*})$$\n",
    "\n",
    "where ($^*$) denotes the CoM.  Since pion is an isoscalar the decay is isotropic the limits are determined by $\\cos\\theta^{*} = \\pm 1$. These limits are:\n",
    "\n",
    "$$\\frac{m_{\\pi^0}}{2}\\sqrt{\\frac{1-\\beta}{1+\\beta}} \\leq E_\\gamma \\leq \\frac{m_{\\pi^0}}{2}\\sqrt{\\frac{1+\\beta}{1-\\beta}}$$\n",
    "\n",
    "where $\\beta$ is the velocity of the parent pion and we used $p^* = E^*$ for photons. "
   ]
  },
  {
   "cell_type": "markdown",
   "metadata": {},
   "source": [
    "#### Pion bump\n",
    "\n",
    "But what is the distribution of photons? Since the decay is isotropic in the CoM:\n",
    "\n",
    "$${\\rm d} N  = \\frac{1}{4\\pi} d\\Omega = \\frac{1}{2} {\\rm d}\\cos\\theta^*$$\n",
    "\n",
    "Using the lorentz transformation from CoM system and the lab system we can express: ${\\rm d}\\cos\\theta^* = {\\rm d}E_\\gamma/(\\gamma \\beta_\\pi p^*_\\gamma) = 2{\\rm d} E/ (\\gamma \\beta_\\pi m_{\\pi^0})$ and thus:\n",
    "\n",
    "$$\\rm{ d} N = \\frac{\\rm{ d} E}{\\gamma \\beta_\\pi m_{\\pi^0}}$$ \n",
    "\n",
    "Then the distribution of photons ${\\rm d}N/{\\rm d}E = \\rm{\\; const.}$ ie is constant on a box from $E_{min}$ to $E_{max}$ when plotted as $\\log(E_\\gamma)$. If many pions are decaying, the distribution of photons will be superpossition of boxes around $m_{\\pi^0}$. This is the so-called *pion bump*."
   ]
  },
  {
   "cell_type": "markdown",
   "metadata": {
    "slideshow": {
     "slide_type": "subslide"
    }
   },
   "source": [
    "<div align=\"center\">\n",
    "<img src=\"images/pion_bump.png\" width=\"50%\">\n",
    "</div>"
   ]
  },
  {
   "cell_type": "markdown",
   "metadata": {},
   "source": [
    "### Pion bump in SNR with Molecular Cloud\n",
    "\n",
    "In 2013 Fermi (a gamma-ray satellite) confirmed the pion-bump in two old SNRs with Molecular Cloud. "
   ]
  },
  {
   "cell_type": "markdown",
   "metadata": {},
   "source": [
    "<div>\n",
    "<img src=\"https://inspirehep.net/record/1266711/files/pionbump.png\" width=\"70%\">\n",
    "</div>"
   ]
  },
  {
   "cell_type": "markdown",
   "metadata": {
    "slideshow": {
     "slide_type": "subslide"
    }
   },
   "source": [
    "So did we find the sources of Galactic Cosmic Rays? No. The steep gamma-ray spectrum at high energies suggests that the acceleration is not very active any more (as expected from old SNRs) and hence, even though there might be some particle acceleration these are not the sources of Galactic Cosmic Rays. "
   ]
  },
  {
   "cell_type": "markdown",
   "metadata": {},
   "source": [
    "### Galactic gamma-ray diffuse emission\n",
    "\n",
    "Diffuse gamma-ray emission is that not associated with a particular source. \n",
    "Fermi-LAT observed gamma-ray counts in the energy range from 200 MeV to 100 GeV. The signal is dominated by the diffuse Galactic emission, which is strongest in the plane of our Galaxy and toward the Galactic center but present all over the sky. The following shows the diffuse gamma-ray emission from 200 MeV to 100 GeV."
   ]
  },
  {
   "cell_type": "markdown",
   "metadata": {
    "slideshow": {
     "slide_type": "slide"
    }
   },
   "source": [
    "<div>\n",
    "<img src=\"https://www.nasa.gov/images/content/585379main_2-year-all-sky_GT1_GeV_labels.jpg\">\n",
    "<div class=\"caption\">Source: Fermi collaboration.</div>\n",
    "</div>"
   ]
  },
  {
   "cell_type": "markdown",
   "metadata": {},
   "source": [
    "The gamma-ray diffuse emission are produced primarly the $\\pi^0$ produced by interactions of cosmic rays protons with the ISM. The Inverse Compton scattering on star light is less important as well as bremsstrahlung (braking radiation). In the plot below the models are split into the three basic emission components:\n",
    "* $\\pi^0$-decay (red, long-dashed) \n",
    "* IC (green, dashed),\n",
    "* and bremsstrahlung (cyan, dash-dotted). "
   ]
  },
  {
   "cell_type": "markdown",
   "metadata": {
    "slideshow": {
     "slide_type": "subslide"
    }
   },
   "source": [
    "<div align=\"center\">\n",
    "<img src=\"images/GalacticCenter_Fermi.jpg\" width=\"50%\">\n",
    "<div class=\"caption\">Source: Taken from [arXiv:1202.4039](http://arxiv.org/abs/1202.4039)</div>\n",
    "</div>"
   ]
  },
  {
   "cell_type": "markdown",
   "metadata": {},
   "source": [
    "### Extragalactic Background Light\n",
    "\n",
    "As we saw, VHE gamma-rays ($E_\\gamma =30$ GeV) have a limited horizon due to their interaction with the CMB and the [Extragalactic Background Light (EBL)](http://en.wikipedia.org/wiki/Extragalactic_background_light). The EBL is difficult to measure directly due to strong foregrounds from our solar system and the Galaxy. The TeV signal of distant AGNs are (partially) absorved at the highest energies by the ELB. The absortion is energy dependent and increases with distance. Observations of very far distant AGNs can be used to put constrains on the amount of EBL. However it is difficult to distinguish between an intrinsic softening of blazar spectra and a softening caused by the interaction with low energy EBL photons. The plot below shows the gamma-ray horizon and measurements from some Imaging Atmospheric Cherenkov Telescopes (IACTs) up to z=0.536."
   ]
  },
  {
   "cell_type": "markdown",
   "metadata": {},
   "source": [
    "<div align=\"center\">\n",
    "<img src=\"images/ELB.png\">\n",
    "<div class=\"caption\">Soruce: Taken from [arXiv:0904.0774v2](http://arxiv.org/abs/0904.0774)</div>\n",
    "</div>"
   ]
  },
  {
   "cell_type": "markdown",
   "metadata": {},
   "source": [
    "### Gamma-ray Detection\n",
    "#### The atmosphere\n",
    "\n",
    "\n",
    "The Earth's atmosphere is opaque to photons with energy above 10 eV, meaning that to observe gamma-rays directly we need to place the detector above the atmosphere. A turning point in gamma-ray astronomy was the launch of the first satellite-borne telescope, SAS-2, in 1972."
   ]
  },
  {
   "cell_type": "markdown",
   "metadata": {},
   "source": [
    "<div align=\"center\">\n",
    "\n",
    "<img src=\"http://scienceofdoom.files.wordpress.com/2009/11/800px-atmospheric_electromagnetic_opacity-svg.png\">\n",
    "<div class=\"caption\">Source: scienceofdoom.wordpress.com </div>\n",
    "</div>\n"
   ]
  },
  {
   "cell_type": "markdown",
   "metadata": {
    "slideshow": {
     "slide_type": "subslide"
    }
   },
   "source": [
    "The mayor limitation of satellite experiments is their low area which limits their use to $\\leq 100$ GeV. At 100 GeV is when electromagnetic showers from the initial photon can be detected in ground-based telescopes."
   ]
  },
  {
   "cell_type": "markdown",
   "metadata": {},
   "source": [
    "### Cherenkov emission.\n",
    "When relativistic particles traverse a medium at a speed greater than the speed of light in that medium it can induce Cherenkov radiation. Cherenkov light is emitted in the UV and blue region in a narrow cone with angle:"
   ]
  },
  {
   "cell_type": "markdown",
   "metadata": {},
   "source": [
    "<div align=\"center\">\n",
    "<img src=\"http://upload.wikimedia.org/wikipedia/commons/8/87/Cherenkov_radiation-animation.gif\">\n",
    "<div class=\"caption\">Source: Wikipedia</div>\n",
    "</div>"
   ]
  },
  {
   "cell_type": "markdown",
   "metadata": {
    "slideshow": {
     "slide_type": "subslide"
    }
   },
   "source": [
    "$$\\cos \\theta = \\frac{ct/n}{\\beta c t} = \\frac{1}{\\beta n}$$\n",
    "\n",
    "In the relativistic limit $\\beta \\sim 1$ we can write:\n",
    "\n",
    "$$\\sin \\theta = \\sqrt{1 - \\frac{1}{n^2}} = \\sqrt{\\frac{n^2 - 1}{n^2}} = \\sqrt{\\frac{(n-1)(n+1)}{n^2}} \\approx \\sqrt{2(n-1)}$$\n",
    "\n",
    "In the atmosphere the spectral index depends on the altitude (same as density and pressure):\n",
    "\n",
    "$$ n = 1 + \\epsilon_0 e^{-h/h_0} $$\n",
    "\n",
    "where $\\epsilon_0 \\simeq 2.8 \\times 10^{-4}$ at sea level. "
   ]
  },
  {
   "cell_type": "markdown",
   "metadata": {},
   "source": [
    "### Tutorial II: Plot of the Cherenkov angle as funcion of the spectral index."
   ]
  },
  {
   "cell_type": "code",
   "execution_count": 7,
   "metadata": {
    "slideshow": {
     "slide_type": "subslide"
    }
   },
   "outputs": [
    {
     "data": {
      "image/svg+xml": "<?xml version=\"1.0\" encoding=\"utf-8\" standalone=\"no\"?>\n<!DOCTYPE svg PUBLIC \"-//W3C//DTD SVG 1.1//EN\"\n  \"http://www.w3.org/Graphics/SVG/1.1/DTD/svg11.dtd\">\n<svg height=\"266.664062pt\" version=\"1.1\" viewBox=\"0 0 336.145938 266.664062\" width=\"336.145938pt\" xmlns=\"http://www.w3.org/2000/svg\" xmlns:xlink=\"http://www.w3.org/1999/xlink\">\n <metadata>\n  <rdf:RDF xmlns:cc=\"http://creativecommons.org/ns#\" xmlns:dc=\"http://purl.org/dc/elements/1.1/\" xmlns:rdf=\"http://www.w3.org/1999/02/22-rdf-syntax-ns#\">\n   <cc:Work>\n    <dc:type rdf:resource=\"http://purl.org/dc/dcmitype/StillImage\"/>\n    <dc:date>2022-04-19T18:39:53.747862</dc:date>\n    <dc:format>image/svg+xml</dc:format>\n    <dc:creator>\n     <cc:Agent>\n      <dc:title>Matplotlib v3.4.2, https://matplotlib.org/</dc:title>\n     </cc:Agent>\n    </dc:creator>\n   </cc:Work>\n  </rdf:RDF>\n </metadata>\n <defs>\n  <style type=\"text/css\">*{stroke-linecap:butt;stroke-linejoin:round;}</style>\n </defs>\n <g id=\"figure_1\">\n  <g id=\"patch_1\">\n   <path d=\"M 0 266.664062 \nL 336.145938 266.664062 \nL 336.145938 0 \nL 0 0 \nz\n\" style=\"fill:none;\"/>\n  </g>\n  <g id=\"axes_1\">\n   <g id=\"patch_2\">\n    <path d=\"M 49.945938 224.64 \nL 328.945938 224.64 \nL 328.945938 7.2 \nL 49.945938 7.2 \nz\n\" style=\"fill:#ffffff;\"/>\n   </g>\n   <g id=\"matplotlib.axis_1\">\n    <g id=\"xtick_1\">\n     <g id=\"line2d_1\">\n      <path clip-path=\"url(#p2bb5f4f96f)\" d=\"M 62.627756 224.64 \nL 62.627756 7.2 \n\" style=\"fill:none;stroke:#b0b0b0;stroke-linecap:square;\"/>\n     </g>\n     <g id=\"line2d_2\">\n      <defs>\n       <path d=\"M 0 0 \nL 0 3.5 \n\" id=\"m7b7ecf25e2\" style=\"stroke:#000000;\"/>\n      </defs>\n      <g>\n       <use style=\"stroke:#000000;\" x=\"62.627756\" xlink:href=\"#m7b7ecf25e2\" y=\"224.64\"/>\n      </g>\n     </g>\n     <g id=\"text_1\">\n      <!-- $\\mathdefault{10^{-5}}$ -->\n      <g transform=\"translate(50.877756 242.738438)scale(0.1 -0.1)\">\n       <defs>\n        <path d=\"M 794 531 \nL 1825 531 \nL 1825 4091 \nL 703 3866 \nL 703 4441 \nL 1819 4666 \nL 2450 4666 \nL 2450 531 \nL 3481 531 \nL 3481 0 \nL 794 0 \nL 794 531 \nz\n\" id=\"DejaVuSans-31\" transform=\"scale(0.015625)\"/>\n        <path d=\"M 2034 4250 \nQ 1547 4250 1301 3770 \nQ 1056 3291 1056 2328 \nQ 1056 1369 1301 889 \nQ 1547 409 2034 409 \nQ 2525 409 2770 889 \nQ 3016 1369 3016 2328 \nQ 3016 3291 2770 3770 \nQ 2525 4250 2034 4250 \nz\nM 2034 4750 \nQ 2819 4750 3233 4129 \nQ 3647 3509 3647 2328 \nQ 3647 1150 3233 529 \nQ 2819 -91 2034 -91 \nQ 1250 -91 836 529 \nQ 422 1150 422 2328 \nQ 422 3509 836 4129 \nQ 1250 4750 2034 4750 \nz\n\" id=\"DejaVuSans-30\" transform=\"scale(0.015625)\"/>\n        <path d=\"M 678 2272 \nL 4684 2272 \nL 4684 1741 \nL 678 1741 \nL 678 2272 \nz\n\" id=\"DejaVuSans-2212\" transform=\"scale(0.015625)\"/>\n        <path d=\"M 691 4666 \nL 3169 4666 \nL 3169 4134 \nL 1269 4134 \nL 1269 2991 \nQ 1406 3038 1543 3061 \nQ 1681 3084 1819 3084 \nQ 2600 3084 3056 2656 \nQ 3513 2228 3513 1497 \nQ 3513 744 3044 326 \nQ 2575 -91 1722 -91 \nQ 1428 -91 1123 -41 \nQ 819 9 494 109 \nL 494 744 \nQ 775 591 1075 516 \nQ 1375 441 1709 441 \nQ 2250 441 2565 725 \nQ 2881 1009 2881 1497 \nQ 2881 1984 2565 2268 \nQ 2250 2553 1709 2553 \nQ 1456 2553 1204 2497 \nQ 953 2441 691 2322 \nL 691 4666 \nz\n\" id=\"DejaVuSans-35\" transform=\"scale(0.015625)\"/>\n       </defs>\n       <use transform=\"translate(0 0.684375)\" xlink:href=\"#DejaVuSans-31\"/>\n       <use transform=\"translate(63.623047 0.684375)\" xlink:href=\"#DejaVuSans-30\"/>\n       <use transform=\"translate(128.203125 38.965625)scale(0.7)\" xlink:href=\"#DejaVuSans-2212\"/>\n       <use transform=\"translate(186.855469 38.965625)scale(0.7)\" xlink:href=\"#DejaVuSans-35\"/>\n      </g>\n     </g>\n    </g>\n    <g id=\"xtick_2\">\n     <g id=\"line2d_3\">\n      <path clip-path=\"url(#p2bb5f4f96f)\" d=\"M 116.627756 224.64 \nL 116.627756 7.2 \n\" style=\"fill:none;stroke:#b0b0b0;stroke-linecap:square;\"/>\n     </g>\n     <g id=\"line2d_4\">\n      <g>\n       <use style=\"stroke:#000000;\" x=\"116.627756\" xlink:href=\"#m7b7ecf25e2\" y=\"224.64\"/>\n      </g>\n     </g>\n     <g id=\"text_2\">\n      <!-- $\\mathdefault{10^{-4}}$ -->\n      <g transform=\"translate(104.877756 242.738438)scale(0.1 -0.1)\">\n       <defs>\n        <path d=\"M 2419 4116 \nL 825 1625 \nL 2419 1625 \nL 2419 4116 \nz\nM 2253 4666 \nL 3047 4666 \nL 3047 1625 \nL 3713 1625 \nL 3713 1100 \nL 3047 1100 \nL 3047 0 \nL 2419 0 \nL 2419 1100 \nL 313 1100 \nL 313 1709 \nL 2253 4666 \nz\n\" id=\"DejaVuSans-34\" transform=\"scale(0.015625)\"/>\n       </defs>\n       <use transform=\"translate(0 0.684375)\" xlink:href=\"#DejaVuSans-31\"/>\n       <use transform=\"translate(63.623047 0.684375)\" xlink:href=\"#DejaVuSans-30\"/>\n       <use transform=\"translate(128.203125 38.965625)scale(0.7)\" xlink:href=\"#DejaVuSans-2212\"/>\n       <use transform=\"translate(186.855469 38.965625)scale(0.7)\" xlink:href=\"#DejaVuSans-34\"/>\n      </g>\n     </g>\n    </g>\n    <g id=\"xtick_3\">\n     <g id=\"line2d_5\">\n      <path clip-path=\"url(#p2bb5f4f96f)\" d=\"M 170.627756 224.64 \nL 170.627756 7.2 \n\" style=\"fill:none;stroke:#b0b0b0;stroke-linecap:square;\"/>\n     </g>\n     <g id=\"line2d_6\">\n      <g>\n       <use style=\"stroke:#000000;\" x=\"170.627756\" xlink:href=\"#m7b7ecf25e2\" y=\"224.64\"/>\n      </g>\n     </g>\n     <g id=\"text_3\">\n      <!-- $\\mathdefault{10^{-3}}$ -->\n      <g transform=\"translate(158.877756 242.738438)scale(0.1 -0.1)\">\n       <defs>\n        <path d=\"M 2597 2516 \nQ 3050 2419 3304 2112 \nQ 3559 1806 3559 1356 \nQ 3559 666 3084 287 \nQ 2609 -91 1734 -91 \nQ 1441 -91 1130 -33 \nQ 819 25 488 141 \nL 488 750 \nQ 750 597 1062 519 \nQ 1375 441 1716 441 \nQ 2309 441 2620 675 \nQ 2931 909 2931 1356 \nQ 2931 1769 2642 2001 \nQ 2353 2234 1838 2234 \nL 1294 2234 \nL 1294 2753 \nL 1863 2753 \nQ 2328 2753 2575 2939 \nQ 2822 3125 2822 3475 \nQ 2822 3834 2567 4026 \nQ 2313 4219 1838 4219 \nQ 1578 4219 1281 4162 \nQ 984 4106 628 3988 \nL 628 4550 \nQ 988 4650 1302 4700 \nQ 1616 4750 1894 4750 \nQ 2613 4750 3031 4423 \nQ 3450 4097 3450 3541 \nQ 3450 3153 3228 2886 \nQ 3006 2619 2597 2516 \nz\n\" id=\"DejaVuSans-33\" transform=\"scale(0.015625)\"/>\n       </defs>\n       <use transform=\"translate(0 0.765625)\" xlink:href=\"#DejaVuSans-31\"/>\n       <use transform=\"translate(63.623047 0.765625)\" xlink:href=\"#DejaVuSans-30\"/>\n       <use transform=\"translate(128.203125 39.046875)scale(0.7)\" xlink:href=\"#DejaVuSans-2212\"/>\n       <use transform=\"translate(186.855469 39.046875)scale(0.7)\" xlink:href=\"#DejaVuSans-33\"/>\n      </g>\n     </g>\n    </g>\n    <g id=\"xtick_4\">\n     <g id=\"line2d_7\">\n      <path clip-path=\"url(#p2bb5f4f96f)\" d=\"M 224.627756 224.64 \nL 224.627756 7.2 \n\" style=\"fill:none;stroke:#b0b0b0;stroke-linecap:square;\"/>\n     </g>\n     <g id=\"line2d_8\">\n      <g>\n       <use style=\"stroke:#000000;\" x=\"224.627756\" xlink:href=\"#m7b7ecf25e2\" y=\"224.64\"/>\n      </g>\n     </g>\n     <g id=\"text_4\">\n      <!-- $\\mathdefault{10^{-2}}$ -->\n      <g transform=\"translate(212.877756 242.738438)scale(0.1 -0.1)\">\n       <defs>\n        <path d=\"M 1228 531 \nL 3431 531 \nL 3431 0 \nL 469 0 \nL 469 531 \nQ 828 903 1448 1529 \nQ 2069 2156 2228 2338 \nQ 2531 2678 2651 2914 \nQ 2772 3150 2772 3378 \nQ 2772 3750 2511 3984 \nQ 2250 4219 1831 4219 \nQ 1534 4219 1204 4116 \nQ 875 4013 500 3803 \nL 500 4441 \nQ 881 4594 1212 4672 \nQ 1544 4750 1819 4750 \nQ 2544 4750 2975 4387 \nQ 3406 4025 3406 3419 \nQ 3406 3131 3298 2873 \nQ 3191 2616 2906 2266 \nQ 2828 2175 2409 1742 \nQ 1991 1309 1228 531 \nz\n\" id=\"DejaVuSans-32\" transform=\"scale(0.015625)\"/>\n       </defs>\n       <use transform=\"translate(0 0.765625)\" xlink:href=\"#DejaVuSans-31\"/>\n       <use transform=\"translate(63.623047 0.765625)\" xlink:href=\"#DejaVuSans-30\"/>\n       <use transform=\"translate(128.203125 39.046875)scale(0.7)\" xlink:href=\"#DejaVuSans-2212\"/>\n       <use transform=\"translate(186.855469 39.046875)scale(0.7)\" xlink:href=\"#DejaVuSans-32\"/>\n      </g>\n     </g>\n    </g>\n    <g id=\"xtick_5\">\n     <g id=\"line2d_9\">\n      <path clip-path=\"url(#p2bb5f4f96f)\" d=\"M 278.627756 224.64 \nL 278.627756 7.2 \n\" style=\"fill:none;stroke:#b0b0b0;stroke-linecap:square;\"/>\n     </g>\n     <g id=\"line2d_10\">\n      <g>\n       <use style=\"stroke:#000000;\" x=\"278.627756\" xlink:href=\"#m7b7ecf25e2\" y=\"224.64\"/>\n      </g>\n     </g>\n     <g id=\"text_5\">\n      <!-- $\\mathdefault{10^{-1}}$ -->\n      <g transform=\"translate(266.877756 242.738438)scale(0.1 -0.1)\">\n       <use transform=\"translate(0 0.684375)\" xlink:href=\"#DejaVuSans-31\"/>\n       <use transform=\"translate(63.623047 0.684375)\" xlink:href=\"#DejaVuSans-30\"/>\n       <use transform=\"translate(128.203125 38.965625)scale(0.7)\" xlink:href=\"#DejaVuSans-2212\"/>\n       <use transform=\"translate(186.855469 38.965625)scale(0.7)\" xlink:href=\"#DejaVuSans-31\"/>\n      </g>\n     </g>\n    </g>\n    <g id=\"xtick_6\">\n     <g id=\"line2d_11\">\n      <defs>\n       <path d=\"M 0 0 \nL 0 2 \n\" id=\"m2257b0c08f\" style=\"stroke:#000000;stroke-width:0.5;\"/>\n      </defs>\n      <g>\n       <use style=\"stroke:#000000;stroke-width:0.5;\" x=\"50.647923\" xlink:href=\"#m2257b0c08f\" y=\"224.64\"/>\n      </g>\n     </g>\n    </g>\n    <g id=\"xtick_7\">\n     <g id=\"line2d_12\">\n      <g>\n       <use style=\"stroke:#000000;stroke-width:0.5;\" x=\"54.26305\" xlink:href=\"#m2257b0c08f\" y=\"224.64\"/>\n      </g>\n     </g>\n    </g>\n    <g id=\"xtick_8\">\n     <g id=\"line2d_13\">\n      <g>\n       <use style=\"stroke:#000000;stroke-width:0.5;\" x=\"57.394615\" xlink:href=\"#m2257b0c08f\" y=\"224.64\"/>\n      </g>\n     </g>\n    </g>\n    <g id=\"xtick_9\">\n     <g id=\"line2d_14\">\n      <g>\n       <use style=\"stroke:#000000;stroke-width:0.5;\" x=\"60.156851\" xlink:href=\"#m2257b0c08f\" y=\"224.64\"/>\n      </g>\n     </g>\n    </g>\n    <g id=\"xtick_10\">\n     <g id=\"line2d_15\">\n      <g>\n       <use style=\"stroke:#000000;stroke-width:0.5;\" x=\"78.883375\" xlink:href=\"#m2257b0c08f\" y=\"224.64\"/>\n      </g>\n     </g>\n    </g>\n    <g id=\"xtick_11\">\n     <g id=\"line2d_16\">\n      <g>\n       <use style=\"stroke:#000000;stroke-width:0.5;\" x=\"88.392303\" xlink:href=\"#m2257b0c08f\" y=\"224.64\"/>\n      </g>\n     </g>\n    </g>\n    <g id=\"xtick_12\">\n     <g id=\"line2d_17\">\n      <g>\n       <use style=\"stroke:#000000;stroke-width:0.5;\" x=\"95.138995\" xlink:href=\"#m2257b0c08f\" y=\"224.64\"/>\n      </g>\n     </g>\n    </g>\n    <g id=\"xtick_13\">\n     <g id=\"line2d_18\">\n      <g>\n       <use style=\"stroke:#000000;stroke-width:0.5;\" x=\"100.372136\" xlink:href=\"#m2257b0c08f\" y=\"224.64\"/>\n      </g>\n     </g>\n    </g>\n    <g id=\"xtick_14\">\n     <g id=\"line2d_19\">\n      <g>\n       <use style=\"stroke:#000000;stroke-width:0.5;\" x=\"104.647923\" xlink:href=\"#m2257b0c08f\" y=\"224.64\"/>\n      </g>\n     </g>\n    </g>\n    <g id=\"xtick_15\">\n     <g id=\"line2d_20\">\n      <g>\n       <use style=\"stroke:#000000;stroke-width:0.5;\" x=\"108.26305\" xlink:href=\"#m2257b0c08f\" y=\"224.64\"/>\n      </g>\n     </g>\n    </g>\n    <g id=\"xtick_16\">\n     <g id=\"line2d_21\">\n      <g>\n       <use style=\"stroke:#000000;stroke-width:0.5;\" x=\"111.394615\" xlink:href=\"#m2257b0c08f\" y=\"224.64\"/>\n      </g>\n     </g>\n    </g>\n    <g id=\"xtick_17\">\n     <g id=\"line2d_22\">\n      <g>\n       <use style=\"stroke:#000000;stroke-width:0.5;\" x=\"114.156851\" xlink:href=\"#m2257b0c08f\" y=\"224.64\"/>\n      </g>\n     </g>\n    </g>\n    <g id=\"xtick_18\">\n     <g id=\"line2d_23\">\n      <g>\n       <use style=\"stroke:#000000;stroke-width:0.5;\" x=\"132.883375\" xlink:href=\"#m2257b0c08f\" y=\"224.64\"/>\n      </g>\n     </g>\n    </g>\n    <g id=\"xtick_19\">\n     <g id=\"line2d_24\">\n      <g>\n       <use style=\"stroke:#000000;stroke-width:0.5;\" x=\"142.392303\" xlink:href=\"#m2257b0c08f\" y=\"224.64\"/>\n      </g>\n     </g>\n    </g>\n    <g id=\"xtick_20\">\n     <g id=\"line2d_25\">\n      <g>\n       <use style=\"stroke:#000000;stroke-width:0.5;\" x=\"149.138995\" xlink:href=\"#m2257b0c08f\" y=\"224.64\"/>\n      </g>\n     </g>\n    </g>\n    <g id=\"xtick_21\">\n     <g id=\"line2d_26\">\n      <g>\n       <use style=\"stroke:#000000;stroke-width:0.5;\" x=\"154.372136\" xlink:href=\"#m2257b0c08f\" y=\"224.64\"/>\n      </g>\n     </g>\n    </g>\n    <g id=\"xtick_22\">\n     <g id=\"line2d_27\">\n      <g>\n       <use style=\"stroke:#000000;stroke-width:0.5;\" x=\"158.647923\" xlink:href=\"#m2257b0c08f\" y=\"224.64\"/>\n      </g>\n     </g>\n    </g>\n    <g id=\"xtick_23\">\n     <g id=\"line2d_28\">\n      <g>\n       <use style=\"stroke:#000000;stroke-width:0.5;\" x=\"162.26305\" xlink:href=\"#m2257b0c08f\" y=\"224.64\"/>\n      </g>\n     </g>\n    </g>\n    <g id=\"xtick_24\">\n     <g id=\"line2d_29\">\n      <g>\n       <use style=\"stroke:#000000;stroke-width:0.5;\" x=\"165.394615\" xlink:href=\"#m2257b0c08f\" y=\"224.64\"/>\n      </g>\n     </g>\n    </g>\n    <g id=\"xtick_25\">\n     <g id=\"line2d_30\">\n      <g>\n       <use style=\"stroke:#000000;stroke-width:0.5;\" x=\"168.156851\" xlink:href=\"#m2257b0c08f\" y=\"224.64\"/>\n      </g>\n     </g>\n    </g>\n    <g id=\"xtick_26\">\n     <g id=\"line2d_31\">\n      <g>\n       <use style=\"stroke:#000000;stroke-width:0.5;\" x=\"186.883375\" xlink:href=\"#m2257b0c08f\" y=\"224.64\"/>\n      </g>\n     </g>\n    </g>\n    <g id=\"xtick_27\">\n     <g id=\"line2d_32\">\n      <g>\n       <use style=\"stroke:#000000;stroke-width:0.5;\" x=\"196.392303\" xlink:href=\"#m2257b0c08f\" y=\"224.64\"/>\n      </g>\n     </g>\n    </g>\n    <g id=\"xtick_28\">\n     <g id=\"line2d_33\">\n      <g>\n       <use style=\"stroke:#000000;stroke-width:0.5;\" x=\"203.138995\" xlink:href=\"#m2257b0c08f\" y=\"224.64\"/>\n      </g>\n     </g>\n    </g>\n    <g id=\"xtick_29\">\n     <g id=\"line2d_34\">\n      <g>\n       <use style=\"stroke:#000000;stroke-width:0.5;\" x=\"208.372136\" xlink:href=\"#m2257b0c08f\" y=\"224.64\"/>\n      </g>\n     </g>\n    </g>\n    <g id=\"xtick_30\">\n     <g id=\"line2d_35\">\n      <g>\n       <use style=\"stroke:#000000;stroke-width:0.5;\" x=\"212.647923\" xlink:href=\"#m2257b0c08f\" y=\"224.64\"/>\n      </g>\n     </g>\n    </g>\n    <g id=\"xtick_31\">\n     <g id=\"line2d_36\">\n      <g>\n       <use style=\"stroke:#000000;stroke-width:0.5;\" x=\"216.26305\" xlink:href=\"#m2257b0c08f\" y=\"224.64\"/>\n      </g>\n     </g>\n    </g>\n    <g id=\"xtick_32\">\n     <g id=\"line2d_37\">\n      <g>\n       <use style=\"stroke:#000000;stroke-width:0.5;\" x=\"219.394615\" xlink:href=\"#m2257b0c08f\" y=\"224.64\"/>\n      </g>\n     </g>\n    </g>\n    <g id=\"xtick_33\">\n     <g id=\"line2d_38\">\n      <g>\n       <use style=\"stroke:#000000;stroke-width:0.5;\" x=\"222.156851\" xlink:href=\"#m2257b0c08f\" y=\"224.64\"/>\n      </g>\n     </g>\n    </g>\n    <g id=\"xtick_34\">\n     <g id=\"line2d_39\">\n      <g>\n       <use style=\"stroke:#000000;stroke-width:0.5;\" x=\"240.883375\" xlink:href=\"#m2257b0c08f\" y=\"224.64\"/>\n      </g>\n     </g>\n    </g>\n    <g id=\"xtick_35\">\n     <g id=\"line2d_40\">\n      <g>\n       <use style=\"stroke:#000000;stroke-width:0.5;\" x=\"250.392303\" xlink:href=\"#m2257b0c08f\" y=\"224.64\"/>\n      </g>\n     </g>\n    </g>\n    <g id=\"xtick_36\">\n     <g id=\"line2d_41\">\n      <g>\n       <use style=\"stroke:#000000;stroke-width:0.5;\" x=\"257.138995\" xlink:href=\"#m2257b0c08f\" y=\"224.64\"/>\n      </g>\n     </g>\n    </g>\n    <g id=\"xtick_37\">\n     <g id=\"line2d_42\">\n      <g>\n       <use style=\"stroke:#000000;stroke-width:0.5;\" x=\"262.372136\" xlink:href=\"#m2257b0c08f\" y=\"224.64\"/>\n      </g>\n     </g>\n    </g>\n    <g id=\"xtick_38\">\n     <g id=\"line2d_43\">\n      <g>\n       <use style=\"stroke:#000000;stroke-width:0.5;\" x=\"266.647923\" xlink:href=\"#m2257b0c08f\" y=\"224.64\"/>\n      </g>\n     </g>\n    </g>\n    <g id=\"xtick_39\">\n     <g id=\"line2d_44\">\n      <g>\n       <use style=\"stroke:#000000;stroke-width:0.5;\" x=\"270.26305\" xlink:href=\"#m2257b0c08f\" y=\"224.64\"/>\n      </g>\n     </g>\n    </g>\n    <g id=\"xtick_40\">\n     <g id=\"line2d_45\">\n      <g>\n       <use style=\"stroke:#000000;stroke-width:0.5;\" x=\"273.394615\" xlink:href=\"#m2257b0c08f\" y=\"224.64\"/>\n      </g>\n     </g>\n    </g>\n    <g id=\"xtick_41\">\n     <g id=\"line2d_46\">\n      <g>\n       <use style=\"stroke:#000000;stroke-width:0.5;\" x=\"276.156851\" xlink:href=\"#m2257b0c08f\" y=\"224.64\"/>\n      </g>\n     </g>\n    </g>\n    <g id=\"xtick_42\">\n     <g id=\"line2d_47\">\n      <g>\n       <use style=\"stroke:#000000;stroke-width:0.5;\" x=\"294.883375\" xlink:href=\"#m2257b0c08f\" y=\"224.64\"/>\n      </g>\n     </g>\n    </g>\n    <g id=\"xtick_43\">\n     <g id=\"line2d_48\">\n      <g>\n       <use style=\"stroke:#000000;stroke-width:0.5;\" x=\"304.392303\" xlink:href=\"#m2257b0c08f\" y=\"224.64\"/>\n      </g>\n     </g>\n    </g>\n    <g id=\"xtick_44\">\n     <g id=\"line2d_49\">\n      <g>\n       <use style=\"stroke:#000000;stroke-width:0.5;\" x=\"311.138995\" xlink:href=\"#m2257b0c08f\" y=\"224.64\"/>\n      </g>\n     </g>\n    </g>\n    <g id=\"xtick_45\">\n     <g id=\"line2d_50\">\n      <g>\n       <use style=\"stroke:#000000;stroke-width:0.5;\" x=\"316.372136\" xlink:href=\"#m2257b0c08f\" y=\"224.64\"/>\n      </g>\n     </g>\n    </g>\n    <g id=\"xtick_46\">\n     <g id=\"line2d_51\">\n      <g>\n       <use style=\"stroke:#000000;stroke-width:0.5;\" x=\"320.647923\" xlink:href=\"#m2257b0c08f\" y=\"224.64\"/>\n      </g>\n     </g>\n    </g>\n    <g id=\"xtick_47\">\n     <g id=\"line2d_52\">\n      <g>\n       <use style=\"stroke:#000000;stroke-width:0.5;\" x=\"324.26305\" xlink:href=\"#m2257b0c08f\" y=\"224.64\"/>\n      </g>\n     </g>\n    </g>\n    <g id=\"xtick_48\">\n     <g id=\"line2d_53\">\n      <g>\n       <use style=\"stroke:#000000;stroke-width:0.5;\" x=\"327.394615\" xlink:href=\"#m2257b0c08f\" y=\"224.64\"/>\n      </g>\n     </g>\n    </g>\n    <g id=\"text_6\">\n     <!-- n - 1  -->\n     <g transform=\"translate(175.232734 257.176406)scale(0.11 -0.11)\">\n      <defs>\n       <path d=\"M 3513 2113 \nL 3513 0 \nL 2938 0 \nL 2938 2094 \nQ 2938 2591 2744 2837 \nQ 2550 3084 2163 3084 \nQ 1697 3084 1428 2787 \nQ 1159 2491 1159 1978 \nL 1159 0 \nL 581 0 \nL 581 3500 \nL 1159 3500 \nL 1159 2956 \nQ 1366 3272 1645 3428 \nQ 1925 3584 2291 3584 \nQ 2894 3584 3203 3211 \nQ 3513 2838 3513 2113 \nz\n\" id=\"DejaVuSans-6e\" transform=\"scale(0.015625)\"/>\n       <path id=\"DejaVuSans-20\" transform=\"scale(0.015625)\"/>\n       <path d=\"M 313 2009 \nL 1997 2009 \nL 1997 1497 \nL 313 1497 \nL 313 2009 \nz\n\" id=\"DejaVuSans-2d\" transform=\"scale(0.015625)\"/>\n      </defs>\n      <use xlink:href=\"#DejaVuSans-6e\"/>\n      <use x=\"63.378906\" xlink:href=\"#DejaVuSans-20\"/>\n      <use x=\"95.166016\" xlink:href=\"#DejaVuSans-2d\"/>\n      <use x=\"131.25\" xlink:href=\"#DejaVuSans-20\"/>\n      <use x=\"163.037109\" xlink:href=\"#DejaVuSans-31\"/>\n      <use x=\"226.660156\" xlink:href=\"#DejaVuSans-20\"/>\n     </g>\n    </g>\n   </g>\n   <g id=\"matplotlib.axis_2\">\n    <g id=\"ytick_1\">\n     <g id=\"line2d_54\">\n      <path clip-path=\"url(#p2bb5f4f96f)\" d=\"M 49.945938 168.487147 \nL 328.945938 168.487147 \n\" style=\"fill:none;stroke:#b0b0b0;stroke-linecap:square;\"/>\n     </g>\n     <g id=\"line2d_55\">\n      <defs>\n       <path d=\"M 0 0 \nL -3.5 0 \n\" id=\"m0f0694df80\" style=\"stroke:#000000;\"/>\n      </defs>\n      <g>\n       <use style=\"stroke:#000000;\" x=\"49.945938\" xlink:href=\"#m0f0694df80\" y=\"168.487147\"/>\n      </g>\n     </g>\n     <g id=\"text_7\">\n      <!-- $\\mathdefault{10^{0}}$ -->\n      <g transform=\"translate(21.845938 172.286365)scale(0.1 -0.1)\">\n       <use transform=\"translate(0 0.765625)\" xlink:href=\"#DejaVuSans-31\"/>\n       <use transform=\"translate(63.623047 0.765625)\" xlink:href=\"#DejaVuSans-30\"/>\n       <use transform=\"translate(128.203125 39.046875)scale(0.7)\" xlink:href=\"#DejaVuSans-30\"/>\n      </g>\n     </g>\n    </g>\n    <g id=\"ytick_2\">\n     <g id=\"line2d_56\">\n      <path clip-path=\"url(#p2bb5f4f96f)\" d=\"M 49.945938 90.245222 \nL 328.945938 90.245222 \n\" style=\"fill:none;stroke:#b0b0b0;stroke-linecap:square;\"/>\n     </g>\n     <g id=\"line2d_57\">\n      <g>\n       <use style=\"stroke:#000000;\" x=\"49.945938\" xlink:href=\"#m0f0694df80\" y=\"90.245222\"/>\n      </g>\n     </g>\n     <g id=\"text_8\">\n      <!-- $\\mathdefault{10^{1}}$ -->\n      <g transform=\"translate(21.845938 94.04444)scale(0.1 -0.1)\">\n       <use transform=\"translate(0 0.684375)\" xlink:href=\"#DejaVuSans-31\"/>\n       <use transform=\"translate(63.623047 0.684375)\" xlink:href=\"#DejaVuSans-30\"/>\n       <use transform=\"translate(128.203125 38.965625)scale(0.7)\" xlink:href=\"#DejaVuSans-31\"/>\n      </g>\n     </g>\n    </g>\n    <g id=\"ytick_3\">\n     <g id=\"line2d_58\">\n      <path clip-path=\"url(#p2bb5f4f96f)\" d=\"M 49.945938 12.003296 \nL 328.945938 12.003296 \n\" style=\"fill:none;stroke:#b0b0b0;stroke-linecap:square;\"/>\n     </g>\n     <g id=\"line2d_59\">\n      <g>\n       <use style=\"stroke:#000000;\" x=\"49.945938\" xlink:href=\"#m0f0694df80\" y=\"12.003296\"/>\n      </g>\n     </g>\n     <g id=\"text_9\">\n      <!-- $\\mathdefault{10^{2}}$ -->\n      <g transform=\"translate(21.845938 15.802515)scale(0.1 -0.1)\">\n       <use transform=\"translate(0 0.765625)\" xlink:href=\"#DejaVuSans-31\"/>\n       <use transform=\"translate(63.623047 0.765625)\" xlink:href=\"#DejaVuSans-30\"/>\n       <use transform=\"translate(128.203125 39.046875)scale(0.7)\" xlink:href=\"#DejaVuSans-32\"/>\n      </g>\n     </g>\n    </g>\n    <g id=\"ytick_4\">\n     <g id=\"line2d_60\">\n      <defs>\n       <path d=\"M 0 0 \nL -2 0 \n\" id=\"m549e9abe81\" style=\"stroke:#000000;stroke-width:0.5;\"/>\n      </defs>\n      <g>\n       <use style=\"stroke:#000000;stroke-width:0.5;\" x=\"49.945938\" xlink:href=\"#m549e9abe81\" y=\"223.175905\"/>\n      </g>\n     </g>\n    </g>\n    <g id=\"ytick_5\">\n     <g id=\"line2d_61\">\n      <g>\n       <use style=\"stroke:#000000;stroke-width:0.5;\" x=\"49.945938\" xlink:href=\"#m549e9abe81\" y=\"209.398186\"/>\n      </g>\n     </g>\n    </g>\n    <g id=\"ytick_6\">\n     <g id=\"line2d_62\">\n      <g>\n       <use style=\"stroke:#000000;stroke-width:0.5;\" x=\"49.945938\" xlink:href=\"#m549e9abe81\" y=\"199.622739\"/>\n      </g>\n     </g>\n    </g>\n    <g id=\"ytick_7\">\n     <g id=\"line2d_63\">\n      <g>\n       <use style=\"stroke:#000000;stroke-width:0.5;\" x=\"49.945938\" xlink:href=\"#m549e9abe81\" y=\"192.040313\"/>\n      </g>\n     </g>\n    </g>\n    <g id=\"ytick_8\">\n     <g id=\"line2d_64\">\n      <g>\n       <use style=\"stroke:#000000;stroke-width:0.5;\" x=\"49.945938\" xlink:href=\"#m549e9abe81\" y=\"185.84502\"/>\n      </g>\n     </g>\n    </g>\n    <g id=\"ytick_9\">\n     <g id=\"line2d_65\">\n      <g>\n       <use style=\"stroke:#000000;stroke-width:0.5;\" x=\"49.945938\" xlink:href=\"#m549e9abe81\" y=\"180.606974\"/>\n      </g>\n     </g>\n    </g>\n    <g id=\"ytick_10\">\n     <g id=\"line2d_66\">\n      <g>\n       <use style=\"stroke:#000000;stroke-width:0.5;\" x=\"49.945938\" xlink:href=\"#m549e9abe81\" y=\"176.069573\"/>\n      </g>\n     </g>\n    </g>\n    <g id=\"ytick_11\">\n     <g id=\"line2d_67\">\n      <g>\n       <use style=\"stroke:#000000;stroke-width:0.5;\" x=\"49.945938\" xlink:href=\"#m549e9abe81\" y=\"172.067301\"/>\n      </g>\n     </g>\n    </g>\n    <g id=\"ytick_12\">\n     <g id=\"line2d_68\">\n      <g>\n       <use style=\"stroke:#000000;stroke-width:0.5;\" x=\"49.945938\" xlink:href=\"#m549e9abe81\" y=\"144.93398\"/>\n      </g>\n     </g>\n    </g>\n    <g id=\"ytick_13\">\n     <g id=\"line2d_69\">\n      <g>\n       <use style=\"stroke:#000000;stroke-width:0.5;\" x=\"49.945938\" xlink:href=\"#m549e9abe81\" y=\"131.156261\"/>\n      </g>\n     </g>\n    </g>\n    <g id=\"ytick_14\">\n     <g id=\"line2d_70\">\n      <g>\n       <use style=\"stroke:#000000;stroke-width:0.5;\" x=\"49.945938\" xlink:href=\"#m549e9abe81\" y=\"121.380814\"/>\n      </g>\n     </g>\n    </g>\n    <g id=\"ytick_15\">\n     <g id=\"line2d_71\">\n      <g>\n       <use style=\"stroke:#000000;stroke-width:0.5;\" x=\"49.945938\" xlink:href=\"#m549e9abe81\" y=\"113.798388\"/>\n      </g>\n     </g>\n    </g>\n    <g id=\"ytick_16\">\n     <g id=\"line2d_72\">\n      <g>\n       <use style=\"stroke:#000000;stroke-width:0.5;\" x=\"49.945938\" xlink:href=\"#m549e9abe81\" y=\"107.603095\"/>\n      </g>\n     </g>\n    </g>\n    <g id=\"ytick_17\">\n     <g id=\"line2d_73\">\n      <g>\n       <use style=\"stroke:#000000;stroke-width:0.5;\" x=\"49.945938\" xlink:href=\"#m549e9abe81\" y=\"102.365049\"/>\n      </g>\n     </g>\n    </g>\n    <g id=\"ytick_18\">\n     <g id=\"line2d_74\">\n      <g>\n       <use style=\"stroke:#000000;stroke-width:0.5;\" x=\"49.945938\" xlink:href=\"#m549e9abe81\" y=\"97.827648\"/>\n      </g>\n     </g>\n    </g>\n    <g id=\"ytick_19\">\n     <g id=\"line2d_75\">\n      <g>\n       <use style=\"stroke:#000000;stroke-width:0.5;\" x=\"49.945938\" xlink:href=\"#m549e9abe81\" y=\"93.825376\"/>\n      </g>\n     </g>\n    </g>\n    <g id=\"ytick_20\">\n     <g id=\"line2d_76\">\n      <g>\n       <use style=\"stroke:#000000;stroke-width:0.5;\" x=\"49.945938\" xlink:href=\"#m549e9abe81\" y=\"66.692055\"/>\n      </g>\n     </g>\n    </g>\n    <g id=\"ytick_21\">\n     <g id=\"line2d_77\">\n      <g>\n       <use style=\"stroke:#000000;stroke-width:0.5;\" x=\"49.945938\" xlink:href=\"#m549e9abe81\" y=\"52.914336\"/>\n      </g>\n     </g>\n    </g>\n    <g id=\"ytick_22\">\n     <g id=\"line2d_78\">\n      <g>\n       <use style=\"stroke:#000000;stroke-width:0.5;\" x=\"49.945938\" xlink:href=\"#m549e9abe81\" y=\"43.138889\"/>\n      </g>\n     </g>\n    </g>\n    <g id=\"ytick_23\">\n     <g id=\"line2d_79\">\n      <g>\n       <use style=\"stroke:#000000;stroke-width:0.5;\" x=\"49.945938\" xlink:href=\"#m549e9abe81\" y=\"35.556463\"/>\n      </g>\n     </g>\n    </g>\n    <g id=\"ytick_24\">\n     <g id=\"line2d_80\">\n      <g>\n       <use style=\"stroke:#000000;stroke-width:0.5;\" x=\"49.945938\" xlink:href=\"#m549e9abe81\" y=\"29.36117\"/>\n      </g>\n     </g>\n    </g>\n    <g id=\"ytick_25\">\n     <g id=\"line2d_81\">\n      <g>\n       <use style=\"stroke:#000000;stroke-width:0.5;\" x=\"49.945938\" xlink:href=\"#m549e9abe81\" y=\"24.123124\"/>\n      </g>\n     </g>\n    </g>\n    <g id=\"ytick_26\">\n     <g id=\"line2d_82\">\n      <g>\n       <use style=\"stroke:#000000;stroke-width:0.5;\" x=\"49.945938\" xlink:href=\"#m549e9abe81\" y=\"19.585722\"/>\n      </g>\n     </g>\n    </g>\n    <g id=\"ytick_27\">\n     <g id=\"line2d_83\">\n      <g>\n       <use style=\"stroke:#000000;stroke-width:0.5;\" x=\"49.945938\" xlink:href=\"#m549e9abe81\" y=\"15.583451\"/>\n      </g>\n     </g>\n    </g>\n    <g id=\"text_10\">\n     <!-- $\\theta_C$ ($^\\circ$) -->\n     <g transform=\"translate(15.558281 132.31)rotate(-90)scale(0.11 -0.11)\">\n      <defs>\n       <path d=\"M 2913 2219 \nL 925 2219 \nQ 791 1284 928 888 \nQ 1100 400 1566 400 \nQ 2034 400 2391 891 \nQ 2703 1322 2913 2219 \nz\nM 3009 2750 \nQ 3094 3638 2984 3950 \nQ 2813 4444 2353 4444 \nQ 1875 4444 1525 3956 \nQ 1250 3563 1034 2750 \nL 3009 2750 \nz\nM 2444 4913 \nQ 3194 4913 3494 4250 \nQ 3794 3591 3566 2422 \nQ 3341 1256 2781 594 \nQ 2225 -72 1475 -72 \nQ 722 -72 425 594 \nQ 128 1256 353 2422 \nQ 581 3591 1134 4250 \nQ 1691 4913 2444 4913 \nz\n\" id=\"DejaVuSans-Oblique-3b8\" transform=\"scale(0.015625)\"/>\n       <path d=\"M 4447 4306 \nL 4319 3641 \nQ 4019 3944 3683 4091 \nQ 3347 4238 2956 4238 \nQ 2422 4238 2017 3981 \nQ 1613 3725 1319 3200 \nQ 1131 2863 1032 2486 \nQ 934 2109 934 1728 \nQ 934 1091 1264 756 \nQ 1594 422 2222 422 \nQ 2656 422 3056 561 \nQ 3456 700 3834 978 \nL 3688 231 \nQ 3316 72 2936 -9 \nQ 2556 -91 2175 -91 \nQ 1278 -91 773 396 \nQ 269 884 269 1753 \nQ 269 2309 461 2846 \nQ 653 3384 1013 3828 \nQ 1394 4300 1883 4525 \nQ 2372 4750 3022 4750 \nQ 3422 4750 3780 4639 \nQ 4138 4528 4447 4306 \nz\n\" id=\"DejaVuSans-Oblique-43\" transform=\"scale(0.015625)\"/>\n       <path d=\"M 1984 4856 \nQ 1566 4138 1362 3434 \nQ 1159 2731 1159 2009 \nQ 1159 1288 1364 580 \nQ 1569 -128 1984 -844 \nL 1484 -844 \nQ 1016 -109 783 600 \nQ 550 1309 550 2009 \nQ 550 2706 781 3412 \nQ 1013 4119 1484 4856 \nL 1984 4856 \nz\n\" id=\"DejaVuSans-28\" transform=\"scale(0.015625)\"/>\n       <path d=\"M 2000 2619 \nQ 1750 2619 1578 2445 \nQ 1406 2272 1406 2022 \nQ 1406 1775 1578 1605 \nQ 1750 1435 2000 1435 \nQ 2250 1435 2422 1605 \nQ 2594 1775 2594 2022 \nQ 2594 2269 2420 2444 \nQ 2247 2619 2000 2619 \nz\nM 2000 3022 \nQ 2200 3022 2384 2945 \nQ 2569 2869 2703 2725 \nQ 2847 2585 2919 2406 \nQ 2991 2228 2991 2022 \nQ 2991 1610 2702 1324 \nQ 2413 1038 1994 1038 \nQ 1572 1038 1290 1319 \nQ 1009 1600 1009 2022 \nQ 1009 2441 1296 2731 \nQ 1584 3022 2000 3022 \nz\n\" id=\"DejaVuSans-2218\" transform=\"scale(0.015625)\"/>\n       <path d=\"M 513 4856 \nL 1013 4856 \nQ 1481 4119 1714 3412 \nQ 1947 2706 1947 2009 \nQ 1947 1309 1714 600 \nQ 1481 -109 1013 -844 \nL 513 -844 \nQ 928 -128 1133 580 \nQ 1338 1288 1338 2009 \nQ 1338 2731 1133 3434 \nQ 928 4138 513 4856 \nz\n\" id=\"DejaVuSans-29\" transform=\"scale(0.015625)\"/>\n      </defs>\n      <use transform=\"translate(0 0.234375)\" xlink:href=\"#DejaVuSans-Oblique-3b8\"/>\n      <use transform=\"translate(61.181641 -16.171875)scale(0.7)\" xlink:href=\"#DejaVuSans-Oblique-43\"/>\n      <use transform=\"translate(112.792969 0.234375)\" xlink:href=\"#DejaVuSans-20\"/>\n      <use transform=\"translate(144.580078 0.234375)\" xlink:href=\"#DejaVuSans-28\"/>\n      <use transform=\"translate(198.188477 38.515625)scale(0.7)\" xlink:href=\"#DejaVuSans-2218\"/>\n      <use transform=\"translate(258.378906 0.234375)\" xlink:href=\"#DejaVuSans-29\"/>\n     </g>\n    </g>\n   </g>\n   <g id=\"line2d_84\">\n    <path clip-path=\"url(#p2bb5f4f96f)\" d=\"M 62.627756 214.756364 \nL 65.355028 212.780543 \nL 68.082301 210.804722 \nL 70.809574 208.828898 \nL 73.536847 206.853072 \nL 76.264119 204.877243 \nL 78.991392 202.901412 \nL 81.718665 200.925578 \nL 84.445938 198.94974 \nL 87.17321 196.973899 \nL 89.900483 194.998053 \nL 92.627756 193.022202 \nL 95.355028 191.046345 \nL 98.082301 189.070483 \nL 100.809574 187.094613 \nL 103.536847 185.118736 \nL 106.264119 183.14285 \nL 108.991392 181.166954 \nL 111.718665 179.191047 \nL 114.445938 177.215127 \nL 117.17321 175.239194 \nL 119.900483 173.263245 \nL 122.627756 171.287278 \nL 125.355028 169.311291 \nL 128.082301 167.335282 \nL 130.809574 165.359248 \nL 133.536847 163.383186 \nL 136.264119 161.407093 \nL 138.991392 159.430964 \nL 141.718665 157.454795 \nL 144.445938 155.478581 \nL 147.17321 153.502318 \nL 149.900483 151.525997 \nL 152.627756 149.549613 \nL 155.355028 147.573158 \nL 158.082301 145.596623 \nL 160.809574 143.619998 \nL 163.536847 141.643272 \nL 166.264119 139.666432 \nL 168.991392 137.689465 \nL 171.718665 135.712354 \nL 174.445938 133.735082 \nL 177.17321 131.757629 \nL 179.900483 129.779973 \nL 182.627756 127.802087 \nL 185.355028 125.823945 \nL 188.082301 123.845514 \nL 190.809574 121.866758 \nL 193.536847 119.887636 \nL 196.264119 117.908105 \nL 198.991392 115.928111 \nL 201.718665 113.947599 \nL 204.445938 111.966503 \nL 207.17321 109.984749 \nL 209.900483 108.002258 \nL 212.627756 106.018934 \nL 215.355028 104.034675 \nL 218.082301 102.049363 \nL 220.809574 100.062864 \nL 223.536847 98.075028 \nL 226.264119 96.085687 \nL 228.991392 94.094648 \nL 231.718665 92.101694 \nL 234.445938 90.10658 \nL 237.17321 88.109026 \nL 239.900483 86.108717 \nL 242.627756 84.105293 \nL 245.355028 82.098343 \nL 248.082301 80.087401 \nL 250.809574 78.071931 \nL 253.536847 76.051323 \nL 256.264119 74.024874 \nL 258.991392 71.991774 \nL 261.718665 69.951089 \nL 264.445938 67.901733 \nL 267.17321 65.842444 \nL 269.900483 63.771742 \nL 272.627756 61.687887 \nL 275.355028 59.588815 \nL 278.082301 57.472062 \nL 280.809574 55.33466 \nL 283.536847 53.172993 \nL 286.264119 50.982607 \nL 288.991392 48.757927 \nL 291.718665 46.491851 \nL 294.445938 44.175137 \nL 297.17321 41.795417 \nL 299.900483 39.335558 \nL 302.627756 36.77072 \nL 305.355028 34.06257 \nL 308.082301 31.146369 \nL 310.809574 27.895918 \nL 313.536847 23.988384 \nL 316.264119 17.083636 \n\" style=\"fill:none;stroke:#1f77b4;stroke-linecap:square;stroke-width:1.75;\"/>\n   </g>\n   <g id=\"patch_3\">\n    <path d=\"M 49.945938 224.64 \nL 49.945938 7.2 \n\" style=\"fill:none;stroke:#000000;stroke-linecap:square;stroke-linejoin:miter;stroke-width:0.8;\"/>\n   </g>\n   <g id=\"patch_4\">\n    <path d=\"M 328.945938 224.64 \nL 328.945938 7.2 \n\" style=\"fill:none;stroke:#000000;stroke-linecap:square;stroke-linejoin:miter;stroke-width:0.8;\"/>\n   </g>\n   <g id=\"patch_5\">\n    <path d=\"M 49.945938 224.64 \nL 328.945938 224.64 \n\" style=\"fill:none;stroke:#000000;stroke-linecap:square;stroke-linejoin:miter;stroke-width:0.8;\"/>\n   </g>\n   <g id=\"patch_6\">\n    <path d=\"M 49.945938 7.2 \nL 328.945938 7.2 \n\" style=\"fill:none;stroke:#000000;stroke-linecap:square;stroke-linejoin:miter;stroke-width:0.8;\"/>\n   </g>\n  </g>\n </g>\n <defs>\n  <clipPath id=\"p2bb5f4f96f\">\n   <rect height=\"217.44\" width=\"279\" x=\"49.945938\" y=\"7.2\"/>\n  </clipPath>\n </defs>\n</svg>\n",
      "text/plain": [
       "<Figure size 360x288 with 1 Axes>"
      ]
     },
     "metadata": {
      "needs_background": "light"
     },
     "output_type": "display_data"
    }
   ],
   "source": [
    "diffn = np.logspace(-5, 0, 100) #n - 1 form 0.0001 to 1\n",
    "fig, ax = plt.subplots(figsize=(5,4))\n",
    "\n",
    "#lets remove the values that will give errors in the arcsin:\n",
    "diffn = diffn[np.where(np.sqrt(2*diffn) <= 1.)]\n",
    "\n",
    "#In the relativistic limit \n",
    "ax.plot(diffn, np.degrees(np.arcsin(np.sqrt(2*diffn))))\n",
    "ax.set_yscale(\"log\")\n",
    "ax.set_xscale(\"log\")\n",
    "ax.set_xlabel(\"n - 1 \")\n",
    "ax.set_ylabel(r\"$\\theta_C$ ($^\\circ$)\")\n",
    "ax.grid()\n",
    "plt.show()"
   ]
  },
  {
   "cell_type": "code",
   "execution_count": 8,
   "metadata": {},
   "outputs": [
    {
     "data": {
      "text/latex": [
       "Cherenkov angle in water: $\\theta_C = 54.33^{\\circ}$"
      ],
      "text/plain": [
       "<IPython.core.display.Latex object>"
      ]
     },
     "execution_count": 8,
     "metadata": {},
     "output_type": "execute_result"
    }
   ],
   "source": [
    "#For water n = 1.33\n",
    "thetaw = np.degrees(np.arcsin(np.sqrt(2*(1.33 -1))))\n",
    "Latex(r\"Cherenkov angle in water: $\\theta_C = %.2f^{\\circ}$\"%thetaw)\n"
   ]
  },
  {
   "cell_type": "code",
   "execution_count": 9,
   "metadata": {},
   "outputs": [
    {
     "data": {
      "text/latex": [
       "Cherenkov angle in the atmosphere: $\\theta_C = 1.40^{\\circ}$"
      ],
      "text/plain": [
       "<IPython.core.display.Latex object>"
      ]
     },
     "execution_count": 9,
     "metadata": {},
     "output_type": "execute_result"
    }
   ],
   "source": [
    "#For the atmosphere n = 1.0003\n",
    "thetaatm = np.degrees(np.arcsin(np.sqrt(2*(1.0003 -1))))\n",
    "Latex(r\"Cherenkov angle in the atmosphere: $\\theta_C = %.2f^{\\circ}$\"%thetaatm)\n"
   ]
  },
  {
   "cell_type": "markdown",
   "metadata": {
    "slideshow": {
     "slide_type": "subslide"
    }
   },
   "source": [
    "### Number of photons\n",
    "\n",
    "The number of photons from Cherenkov radiation follows the *Frank-Tamn* formula:\n",
    "\n",
    "\n",
    "$$\\frac{{\\rm d}N}{{\\rm d}x} = 2 \\pi \\alpha z^2\\int_{\\lambda_1}^{\\lambda_2} \\sin^2\\theta \\frac{{\\rm d}\\lambda}{\\lambda^2} $$\n",
    "\n",
    "For relativistic particles, $\\beta \\sim 1$ in water $n = 1.33$ the Cherenkov spectrum is: "
   ]
  },
  {
   "cell_type": "code",
   "execution_count": 10,
   "metadata": {},
   "outputs": [
    {
     "data": {
      "image/svg+xml": "<?xml version=\"1.0\" encoding=\"utf-8\" standalone=\"no\"?>\n<!DOCTYPE svg PUBLIC \"-//W3C//DTD SVG 1.1//EN\"\n  \"http://www.w3.org/Graphics/SVG/1.1/DTD/svg11.dtd\">\n<svg height=\"277.2625pt\" version=\"1.1\" viewBox=\"0 0 331.9725 277.2625\" width=\"331.9725pt\" xmlns=\"http://www.w3.org/2000/svg\" xmlns:xlink=\"http://www.w3.org/1999/xlink\">\n <metadata>\n  <rdf:RDF xmlns:cc=\"http://creativecommons.org/ns#\" xmlns:dc=\"http://purl.org/dc/elements/1.1/\" xmlns:rdf=\"http://www.w3.org/1999/02/22-rdf-syntax-ns#\">\n   <cc:Work>\n    <dc:type rdf:resource=\"http://purl.org/dc/dcmitype/StillImage\"/>\n    <dc:date>2022-04-19T18:39:58.668172</dc:date>\n    <dc:format>image/svg+xml</dc:format>\n    <dc:creator>\n     <cc:Agent>\n      <dc:title>Matplotlib v3.4.2, https://matplotlib.org/</dc:title>\n     </cc:Agent>\n    </dc:creator>\n   </cc:Work>\n  </rdf:RDF>\n </metadata>\n <defs>\n  <style type=\"text/css\">*{stroke-linecap:butt;stroke-linejoin:round;}</style>\n </defs>\n <g id=\"figure_1\">\n  <g id=\"patch_1\">\n   <path d=\"M 0 277.2625 \nL 331.9725 277.2625 \nL 331.9725 0 \nL 0 0 \nz\n\" style=\"fill:none;\"/>\n  </g>\n  <g id=\"axes_1\">\n   <g id=\"patch_2\">\n    <path d=\"M 45.7725 235.238437 \nL 324.7725 235.238437 \nL 324.7725 17.798437 \nL 45.7725 17.798437 \nz\n\" style=\"fill:#ffffff;\"/>\n   </g>\n   <g id=\"matplotlib.axis_1\">\n    <g id=\"xtick_1\">\n     <g id=\"line2d_1\">\n      <path clip-path=\"url(#pe8a667f8fd)\" d=\"M 58.454318 235.238437 \nL 58.454318 17.798437 \n\" style=\"fill:none;stroke:#b0b0b0;stroke-linecap:square;\"/>\n     </g>\n     <g id=\"line2d_2\">\n      <defs>\n       <path d=\"M 0 0 \nL 0 3.5 \n\" id=\"m65f25b2a3a\" style=\"stroke:#000000;\"/>\n      </defs>\n      <g>\n       <use style=\"stroke:#000000;\" x=\"58.454318\" xlink:href=\"#m65f25b2a3a\" y=\"235.238437\"/>\n      </g>\n     </g>\n     <g id=\"text_1\">\n      <!-- 200 -->\n      <g transform=\"translate(48.910568 253.336875)scale(0.1 -0.1)\">\n       <defs>\n        <path d=\"M 1228 531 \nL 3431 531 \nL 3431 0 \nL 469 0 \nL 469 531 \nQ 828 903 1448 1529 \nQ 2069 2156 2228 2338 \nQ 2531 2678 2651 2914 \nQ 2772 3150 2772 3378 \nQ 2772 3750 2511 3984 \nQ 2250 4219 1831 4219 \nQ 1534 4219 1204 4116 \nQ 875 4013 500 3803 \nL 500 4441 \nQ 881 4594 1212 4672 \nQ 1544 4750 1819 4750 \nQ 2544 4750 2975 4387 \nQ 3406 4025 3406 3419 \nQ 3406 3131 3298 2873 \nQ 3191 2616 2906 2266 \nQ 2828 2175 2409 1742 \nQ 1991 1309 1228 531 \nz\n\" id=\"DejaVuSans-32\" transform=\"scale(0.015625)\"/>\n        <path d=\"M 2034 4250 \nQ 1547 4250 1301 3770 \nQ 1056 3291 1056 2328 \nQ 1056 1369 1301 889 \nQ 1547 409 2034 409 \nQ 2525 409 2770 889 \nQ 3016 1369 3016 2328 \nQ 3016 3291 2770 3770 \nQ 2525 4250 2034 4250 \nz\nM 2034 4750 \nQ 2819 4750 3233 4129 \nQ 3647 3509 3647 2328 \nQ 3647 1150 3233 529 \nQ 2819 -91 2034 -91 \nQ 1250 -91 836 529 \nQ 422 1150 422 2328 \nQ 422 3509 836 4129 \nQ 1250 4750 2034 4750 \nz\n\" id=\"DejaVuSans-30\" transform=\"scale(0.015625)\"/>\n       </defs>\n       <use xlink:href=\"#DejaVuSans-32\"/>\n       <use x=\"63.623047\" xlink:href=\"#DejaVuSans-30\"/>\n       <use x=\"127.246094\" xlink:href=\"#DejaVuSans-30\"/>\n      </g>\n     </g>\n    </g>\n    <g id=\"xtick_2\">\n     <g id=\"line2d_3\">\n      <path clip-path=\"url(#pe8a667f8fd)\" d=\"M 100.868426 235.238437 \nL 100.868426 17.798437 \n\" style=\"fill:none;stroke:#b0b0b0;stroke-linecap:square;\"/>\n     </g>\n     <g id=\"line2d_4\">\n      <g>\n       <use style=\"stroke:#000000;\" x=\"100.868426\" xlink:href=\"#m65f25b2a3a\" y=\"235.238437\"/>\n      </g>\n     </g>\n     <g id=\"text_2\">\n      <!-- 250 -->\n      <g transform=\"translate(91.324676 253.336875)scale(0.1 -0.1)\">\n       <defs>\n        <path d=\"M 691 4666 \nL 3169 4666 \nL 3169 4134 \nL 1269 4134 \nL 1269 2991 \nQ 1406 3038 1543 3061 \nQ 1681 3084 1819 3084 \nQ 2600 3084 3056 2656 \nQ 3513 2228 3513 1497 \nQ 3513 744 3044 326 \nQ 2575 -91 1722 -91 \nQ 1428 -91 1123 -41 \nQ 819 9 494 109 \nL 494 744 \nQ 775 591 1075 516 \nQ 1375 441 1709 441 \nQ 2250 441 2565 725 \nQ 2881 1009 2881 1497 \nQ 2881 1984 2565 2268 \nQ 2250 2553 1709 2553 \nQ 1456 2553 1204 2497 \nQ 953 2441 691 2322 \nL 691 4666 \nz\n\" id=\"DejaVuSans-35\" transform=\"scale(0.015625)\"/>\n       </defs>\n       <use xlink:href=\"#DejaVuSans-32\"/>\n       <use x=\"63.623047\" xlink:href=\"#DejaVuSans-35\"/>\n       <use x=\"127.246094\" xlink:href=\"#DejaVuSans-30\"/>\n      </g>\n     </g>\n    </g>\n    <g id=\"xtick_3\">\n     <g id=\"line2d_5\">\n      <path clip-path=\"url(#pe8a667f8fd)\" d=\"M 143.282533 235.238437 \nL 143.282533 17.798437 \n\" style=\"fill:none;stroke:#b0b0b0;stroke-linecap:square;\"/>\n     </g>\n     <g id=\"line2d_6\">\n      <g>\n       <use style=\"stroke:#000000;\" x=\"143.282533\" xlink:href=\"#m65f25b2a3a\" y=\"235.238437\"/>\n      </g>\n     </g>\n     <g id=\"text_3\">\n      <!-- 300 -->\n      <g transform=\"translate(133.738783 253.336875)scale(0.1 -0.1)\">\n       <defs>\n        <path d=\"M 2597 2516 \nQ 3050 2419 3304 2112 \nQ 3559 1806 3559 1356 \nQ 3559 666 3084 287 \nQ 2609 -91 1734 -91 \nQ 1441 -91 1130 -33 \nQ 819 25 488 141 \nL 488 750 \nQ 750 597 1062 519 \nQ 1375 441 1716 441 \nQ 2309 441 2620 675 \nQ 2931 909 2931 1356 \nQ 2931 1769 2642 2001 \nQ 2353 2234 1838 2234 \nL 1294 2234 \nL 1294 2753 \nL 1863 2753 \nQ 2328 2753 2575 2939 \nQ 2822 3125 2822 3475 \nQ 2822 3834 2567 4026 \nQ 2313 4219 1838 4219 \nQ 1578 4219 1281 4162 \nQ 984 4106 628 3988 \nL 628 4550 \nQ 988 4650 1302 4700 \nQ 1616 4750 1894 4750 \nQ 2613 4750 3031 4423 \nQ 3450 4097 3450 3541 \nQ 3450 3153 3228 2886 \nQ 3006 2619 2597 2516 \nz\n\" id=\"DejaVuSans-33\" transform=\"scale(0.015625)\"/>\n       </defs>\n       <use xlink:href=\"#DejaVuSans-33\"/>\n       <use x=\"63.623047\" xlink:href=\"#DejaVuSans-30\"/>\n       <use x=\"127.246094\" xlink:href=\"#DejaVuSans-30\"/>\n      </g>\n     </g>\n    </g>\n    <g id=\"xtick_4\">\n     <g id=\"line2d_7\">\n      <path clip-path=\"url(#pe8a667f8fd)\" d=\"M 185.696641 235.238437 \nL 185.696641 17.798437 \n\" style=\"fill:none;stroke:#b0b0b0;stroke-linecap:square;\"/>\n     </g>\n     <g id=\"line2d_8\">\n      <g>\n       <use style=\"stroke:#000000;\" x=\"185.696641\" xlink:href=\"#m65f25b2a3a\" y=\"235.238437\"/>\n      </g>\n     </g>\n     <g id=\"text_4\">\n      <!-- 350 -->\n      <g transform=\"translate(176.152891 253.336875)scale(0.1 -0.1)\">\n       <use xlink:href=\"#DejaVuSans-33\"/>\n       <use x=\"63.623047\" xlink:href=\"#DejaVuSans-35\"/>\n       <use x=\"127.246094\" xlink:href=\"#DejaVuSans-30\"/>\n      </g>\n     </g>\n    </g>\n    <g id=\"xtick_5\">\n     <g id=\"line2d_9\">\n      <path clip-path=\"url(#pe8a667f8fd)\" d=\"M 228.110749 235.238437 \nL 228.110749 17.798437 \n\" style=\"fill:none;stroke:#b0b0b0;stroke-linecap:square;\"/>\n     </g>\n     <g id=\"line2d_10\">\n      <g>\n       <use style=\"stroke:#000000;\" x=\"228.110749\" xlink:href=\"#m65f25b2a3a\" y=\"235.238437\"/>\n      </g>\n     </g>\n     <g id=\"text_5\">\n      <!-- 400 -->\n      <g transform=\"translate(218.566999 253.336875)scale(0.1 -0.1)\">\n       <defs>\n        <path d=\"M 2419 4116 \nL 825 1625 \nL 2419 1625 \nL 2419 4116 \nz\nM 2253 4666 \nL 3047 4666 \nL 3047 1625 \nL 3713 1625 \nL 3713 1100 \nL 3047 1100 \nL 3047 0 \nL 2419 0 \nL 2419 1100 \nL 313 1100 \nL 313 1709 \nL 2253 4666 \nz\n\" id=\"DejaVuSans-34\" transform=\"scale(0.015625)\"/>\n       </defs>\n       <use xlink:href=\"#DejaVuSans-34\"/>\n       <use x=\"63.623047\" xlink:href=\"#DejaVuSans-30\"/>\n       <use x=\"127.246094\" xlink:href=\"#DejaVuSans-30\"/>\n      </g>\n     </g>\n    </g>\n    <g id=\"xtick_6\">\n     <g id=\"line2d_11\">\n      <path clip-path=\"url(#pe8a667f8fd)\" d=\"M 270.524856 235.238437 \nL 270.524856 17.798437 \n\" style=\"fill:none;stroke:#b0b0b0;stroke-linecap:square;\"/>\n     </g>\n     <g id=\"line2d_12\">\n      <g>\n       <use style=\"stroke:#000000;\" x=\"270.524856\" xlink:href=\"#m65f25b2a3a\" y=\"235.238437\"/>\n      </g>\n     </g>\n     <g id=\"text_6\">\n      <!-- 450 -->\n      <g transform=\"translate(260.981106 253.336875)scale(0.1 -0.1)\">\n       <use xlink:href=\"#DejaVuSans-34\"/>\n       <use x=\"63.623047\" xlink:href=\"#DejaVuSans-35\"/>\n       <use x=\"127.246094\" xlink:href=\"#DejaVuSans-30\"/>\n      </g>\n     </g>\n    </g>\n    <g id=\"xtick_7\">\n     <g id=\"line2d_13\">\n      <path clip-path=\"url(#pe8a667f8fd)\" d=\"M 312.938964 235.238437 \nL 312.938964 17.798437 \n\" style=\"fill:none;stroke:#b0b0b0;stroke-linecap:square;\"/>\n     </g>\n     <g id=\"line2d_14\">\n      <g>\n       <use style=\"stroke:#000000;\" x=\"312.938964\" xlink:href=\"#m65f25b2a3a\" y=\"235.238437\"/>\n      </g>\n     </g>\n     <g id=\"text_7\">\n      <!-- 500 -->\n      <g transform=\"translate(303.395214 253.336875)scale(0.1 -0.1)\">\n       <use xlink:href=\"#DejaVuSans-35\"/>\n       <use x=\"63.623047\" xlink:href=\"#DejaVuSans-30\"/>\n       <use x=\"127.246094\" xlink:href=\"#DejaVuSans-30\"/>\n      </g>\n     </g>\n    </g>\n    <g id=\"text_8\">\n     <!-- $\\lambda$ [nm] -->\n     <g transform=\"translate(167.1225 267.774844)scale(0.11 -0.11)\">\n      <defs>\n       <path d=\"M 2350 4316 \nL 3125 0 \nL 2516 0 \nL 2038 2588 \nL 328 0 \nL -281 0 \nL 1903 3356 \nL 1794 3975 \nQ 1725 4369 1391 4369 \nL 1091 4369 \nL 1184 4863 \nL 1550 4856 \nQ 2253 4847 2350 4316 \nz\n\" id=\"DejaVuSans-Oblique-3bb\" transform=\"scale(0.015625)\"/>\n       <path id=\"DejaVuSans-20\" transform=\"scale(0.015625)\"/>\n       <path d=\"M 550 4863 \nL 1875 4863 \nL 1875 4416 \nL 1125 4416 \nL 1125 -397 \nL 1875 -397 \nL 1875 -844 \nL 550 -844 \nL 550 4863 \nz\n\" id=\"DejaVuSans-5b\" transform=\"scale(0.015625)\"/>\n       <path d=\"M 3513 2113 \nL 3513 0 \nL 2938 0 \nL 2938 2094 \nQ 2938 2591 2744 2837 \nQ 2550 3084 2163 3084 \nQ 1697 3084 1428 2787 \nQ 1159 2491 1159 1978 \nL 1159 0 \nL 581 0 \nL 581 3500 \nL 1159 3500 \nL 1159 2956 \nQ 1366 3272 1645 3428 \nQ 1925 3584 2291 3584 \nQ 2894 3584 3203 3211 \nQ 3513 2838 3513 2113 \nz\n\" id=\"DejaVuSans-6e\" transform=\"scale(0.015625)\"/>\n       <path d=\"M 3328 2828 \nQ 3544 3216 3844 3400 \nQ 4144 3584 4550 3584 \nQ 5097 3584 5394 3201 \nQ 5691 2819 5691 2113 \nL 5691 0 \nL 5113 0 \nL 5113 2094 \nQ 5113 2597 4934 2840 \nQ 4756 3084 4391 3084 \nQ 3944 3084 3684 2787 \nQ 3425 2491 3425 1978 \nL 3425 0 \nL 2847 0 \nL 2847 2094 \nQ 2847 2600 2669 2842 \nQ 2491 3084 2119 3084 \nQ 1678 3084 1418 2786 \nQ 1159 2488 1159 1978 \nL 1159 0 \nL 581 0 \nL 581 3500 \nL 1159 3500 \nL 1159 2956 \nQ 1356 3278 1631 3431 \nQ 1906 3584 2284 3584 \nQ 2666 3584 2933 3390 \nQ 3200 3197 3328 2828 \nz\n\" id=\"DejaVuSans-6d\" transform=\"scale(0.015625)\"/>\n       <path d=\"M 1947 4863 \nL 1947 -844 \nL 622 -844 \nL 622 -397 \nL 1369 -397 \nL 1369 4416 \nL 622 4416 \nL 622 4863 \nL 1947 4863 \nz\n\" id=\"DejaVuSans-5d\" transform=\"scale(0.015625)\"/>\n      </defs>\n      <use transform=\"translate(0 0.015625)\" xlink:href=\"#DejaVuSans-Oblique-3bb\"/>\n      <use transform=\"translate(59.179688 0.015625)\" xlink:href=\"#DejaVuSans-20\"/>\n      <use transform=\"translate(90.966797 0.015625)\" xlink:href=\"#DejaVuSans-5b\"/>\n      <use transform=\"translate(129.980469 0.015625)\" xlink:href=\"#DejaVuSans-6e\"/>\n      <use transform=\"translate(193.359375 0.015625)\" xlink:href=\"#DejaVuSans-6d\"/>\n      <use transform=\"translate(290.771484 0.015625)\" xlink:href=\"#DejaVuSans-5d\"/>\n     </g>\n    </g>\n   </g>\n   <g id=\"matplotlib.axis_2\">\n    <g id=\"ytick_1\">\n     <g id=\"line2d_15\">\n      <path clip-path=\"url(#pe8a667f8fd)\" d=\"M 45.7725 215.920847 \nL 324.7725 215.920847 \n\" style=\"fill:none;stroke:#b0b0b0;stroke-linecap:square;\"/>\n     </g>\n     <g id=\"line2d_16\">\n      <defs>\n       <path d=\"M 0 0 \nL -3.5 0 \n\" id=\"m9cd33ccdf7\" style=\"stroke:#000000;\"/>\n      </defs>\n      <g>\n       <use style=\"stroke:#000000;\" x=\"45.7725\" xlink:href=\"#m9cd33ccdf7\" y=\"215.920847\"/>\n      </g>\n     </g>\n     <g id=\"text_9\">\n      <!-- 1 -->\n      <g transform=\"translate(28.91 219.720065)scale(0.1 -0.1)\">\n       <defs>\n        <path d=\"M 794 531 \nL 1825 531 \nL 1825 4091 \nL 703 3866 \nL 703 4441 \nL 1819 4666 \nL 2450 4666 \nL 2450 531 \nL 3481 531 \nL 3481 0 \nL 794 0 \nL 794 531 \nz\n\" id=\"DejaVuSans-31\" transform=\"scale(0.015625)\"/>\n       </defs>\n       <use xlink:href=\"#DejaVuSans-31\"/>\n      </g>\n     </g>\n    </g>\n    <g id=\"ytick_2\">\n     <g id=\"line2d_17\">\n      <path clip-path=\"url(#pe8a667f8fd)\" d=\"M 45.7725 168.654972 \nL 324.7725 168.654972 \n\" style=\"fill:none;stroke:#b0b0b0;stroke-linecap:square;\"/>\n     </g>\n     <g id=\"line2d_18\">\n      <g>\n       <use style=\"stroke:#000000;\" x=\"45.7725\" xlink:href=\"#m9cd33ccdf7\" y=\"168.654972\"/>\n      </g>\n     </g>\n     <g id=\"text_10\">\n      <!-- 2 -->\n      <g transform=\"translate(28.91 172.454191)scale(0.1 -0.1)\">\n       <use xlink:href=\"#DejaVuSans-32\"/>\n      </g>\n     </g>\n    </g>\n    <g id=\"ytick_3\">\n     <g id=\"line2d_19\">\n      <path clip-path=\"url(#pe8a667f8fd)\" d=\"M 45.7725 121.389098 \nL 324.7725 121.389098 \n\" style=\"fill:none;stroke:#b0b0b0;stroke-linecap:square;\"/>\n     </g>\n     <g id=\"line2d_20\">\n      <g>\n       <use style=\"stroke:#000000;\" x=\"45.7725\" xlink:href=\"#m9cd33ccdf7\" y=\"121.389098\"/>\n      </g>\n     </g>\n     <g id=\"text_11\">\n      <!-- 3 -->\n      <g transform=\"translate(28.91 125.188317)scale(0.1 -0.1)\">\n       <use xlink:href=\"#DejaVuSans-33\"/>\n      </g>\n     </g>\n    </g>\n    <g id=\"ytick_4\">\n     <g id=\"line2d_21\">\n      <path clip-path=\"url(#pe8a667f8fd)\" d=\"M 45.7725 74.123224 \nL 324.7725 74.123224 \n\" style=\"fill:none;stroke:#b0b0b0;stroke-linecap:square;\"/>\n     </g>\n     <g id=\"line2d_22\">\n      <g>\n       <use style=\"stroke:#000000;\" x=\"45.7725\" xlink:href=\"#m9cd33ccdf7\" y=\"74.123224\"/>\n      </g>\n     </g>\n     <g id=\"text_12\">\n      <!-- 4 -->\n      <g transform=\"translate(28.91 77.922443)scale(0.1 -0.1)\">\n       <use xlink:href=\"#DejaVuSans-34\"/>\n      </g>\n     </g>\n    </g>\n    <g id=\"ytick_5\">\n     <g id=\"line2d_23\">\n      <path clip-path=\"url(#pe8a667f8fd)\" d=\"M 45.7725 26.857349 \nL 324.7725 26.857349 \n\" style=\"fill:none;stroke:#b0b0b0;stroke-linecap:square;\"/>\n     </g>\n     <g id=\"line2d_24\">\n      <g>\n       <use style=\"stroke:#000000;\" x=\"45.7725\" xlink:href=\"#m9cd33ccdf7\" y=\"26.857349\"/>\n      </g>\n     </g>\n     <g id=\"text_13\">\n      <!-- 5 -->\n      <g transform=\"translate(28.91 30.656568)scale(0.1 -0.1)\">\n       <use xlink:href=\"#DejaVuSans-35\"/>\n      </g>\n     </g>\n    </g>\n    <g id=\"text_14\">\n     <!-- $\\frac{{\\rm d}N_\\gamma}{{\\rm d}x {\\rm d}\\lambda}}$ (photons nm$^{-2}$) -->\n     <g transform=\"translate(20.29 181.408437)rotate(-90)scale(0.11 -0.11)\">\n      <defs>\n       <path d=\"M 2906 2969 \nL 2906 4863 \nL 3481 4863 \nL 3481 0 \nL 2906 0 \nL 2906 525 \nQ 2725 213 2448 61 \nQ 2172 -91 1784 -91 \nQ 1150 -91 751 415 \nQ 353 922 353 1747 \nQ 353 2572 751 3078 \nQ 1150 3584 1784 3584 \nQ 2172 3584 2448 3432 \nQ 2725 3281 2906 2969 \nz\nM 947 1747 \nQ 947 1113 1208 752 \nQ 1469 391 1925 391 \nQ 2381 391 2643 752 \nQ 2906 1113 2906 1747 \nQ 2906 2381 2643 2742 \nQ 2381 3103 1925 3103 \nQ 1469 3103 1208 2742 \nQ 947 2381 947 1747 \nz\n\" id=\"DejaVuSans-64\" transform=\"scale(0.015625)\"/>\n       <path d=\"M 1081 4666 \nL 1931 4666 \nL 3219 666 \nL 4000 4666 \nL 4616 4666 \nL 3706 0 \nL 2853 0 \nL 1569 4025 \nL 788 0 \nL 172 0 \nL 1081 4666 \nz\n\" id=\"DejaVuSans-Oblique-4e\" transform=\"scale(0.015625)\"/>\n       <path d=\"M 1491 2950 \nL 1838 788 \nL 3456 3500 \nL 4066 3500 \nL 1972 0 \nL 1713 -1331 \nL 1138 -1331 \nL 1397 0 \nL 988 2613 \nQ 925 3006 628 3006 \nL 475 3006 \nL 569 3500 \nL 788 3500 \nQ 1403 3500 1491 2950 \nz\n\" id=\"DejaVuSans-Oblique-3b3\" transform=\"scale(0.015625)\"/>\n       <path d=\"M 3841 3500 \nL 2234 1784 \nL 3219 0 \nL 2559 0 \nL 1819 1388 \nL 531 0 \nL -166 0 \nL 1556 1844 \nL 641 3500 \nL 1300 3500 \nL 1972 2234 \nL 3144 3500 \nL 3841 3500 \nz\n\" id=\"DejaVuSans-Oblique-78\" transform=\"scale(0.015625)\"/>\n       <path d=\"M 1984 4856 \nQ 1566 4138 1362 3434 \nQ 1159 2731 1159 2009 \nQ 1159 1288 1364 580 \nQ 1569 -128 1984 -844 \nL 1484 -844 \nQ 1016 -109 783 600 \nQ 550 1309 550 2009 \nQ 550 2706 781 3412 \nQ 1013 4119 1484 4856 \nL 1984 4856 \nz\n\" id=\"DejaVuSans-28\" transform=\"scale(0.015625)\"/>\n       <path d=\"M 1159 525 \nL 1159 -1331 \nL 581 -1331 \nL 581 3500 \nL 1159 3500 \nL 1159 2969 \nQ 1341 3281 1617 3432 \nQ 1894 3584 2278 3584 \nQ 2916 3584 3314 3078 \nQ 3713 2572 3713 1747 \nQ 3713 922 3314 415 \nQ 2916 -91 2278 -91 \nQ 1894 -91 1617 61 \nQ 1341 213 1159 525 \nz\nM 3116 1747 \nQ 3116 2381 2855 2742 \nQ 2594 3103 2138 3103 \nQ 1681 3103 1420 2742 \nQ 1159 2381 1159 1747 \nQ 1159 1113 1420 752 \nQ 1681 391 2138 391 \nQ 2594 391 2855 752 \nQ 3116 1113 3116 1747 \nz\n\" id=\"DejaVuSans-70\" transform=\"scale(0.015625)\"/>\n       <path d=\"M 3513 2113 \nL 3513 0 \nL 2938 0 \nL 2938 2094 \nQ 2938 2591 2744 2837 \nQ 2550 3084 2163 3084 \nQ 1697 3084 1428 2787 \nQ 1159 2491 1159 1978 \nL 1159 0 \nL 581 0 \nL 581 4863 \nL 1159 4863 \nL 1159 2956 \nQ 1366 3272 1645 3428 \nQ 1925 3584 2291 3584 \nQ 2894 3584 3203 3211 \nQ 3513 2838 3513 2113 \nz\n\" id=\"DejaVuSans-68\" transform=\"scale(0.015625)\"/>\n       <path d=\"M 1959 3097 \nQ 1497 3097 1228 2736 \nQ 959 2375 959 1747 \nQ 959 1119 1226 758 \nQ 1494 397 1959 397 \nQ 2419 397 2687 759 \nQ 2956 1122 2956 1747 \nQ 2956 2369 2687 2733 \nQ 2419 3097 1959 3097 \nz\nM 1959 3584 \nQ 2709 3584 3137 3096 \nQ 3566 2609 3566 1747 \nQ 3566 888 3137 398 \nQ 2709 -91 1959 -91 \nQ 1206 -91 779 398 \nQ 353 888 353 1747 \nQ 353 2609 779 3096 \nQ 1206 3584 1959 3584 \nz\n\" id=\"DejaVuSans-6f\" transform=\"scale(0.015625)\"/>\n       <path d=\"M 1172 4494 \nL 1172 3500 \nL 2356 3500 \nL 2356 3053 \nL 1172 3053 \nL 1172 1153 \nQ 1172 725 1289 603 \nQ 1406 481 1766 481 \nL 2356 481 \nL 2356 0 \nL 1766 0 \nQ 1100 0 847 248 \nQ 594 497 594 1153 \nL 594 3053 \nL 172 3053 \nL 172 3500 \nL 594 3500 \nL 594 4494 \nL 1172 4494 \nz\n\" id=\"DejaVuSans-74\" transform=\"scale(0.015625)\"/>\n       <path d=\"M 2834 3397 \nL 2834 2853 \nQ 2591 2978 2328 3040 \nQ 2066 3103 1784 3103 \nQ 1356 3103 1142 2972 \nQ 928 2841 928 2578 \nQ 928 2378 1081 2264 \nQ 1234 2150 1697 2047 \nL 1894 2003 \nQ 2506 1872 2764 1633 \nQ 3022 1394 3022 966 \nQ 3022 478 2636 193 \nQ 2250 -91 1575 -91 \nQ 1294 -91 989 -36 \nQ 684 19 347 128 \nL 347 722 \nQ 666 556 975 473 \nQ 1284 391 1588 391 \nQ 1994 391 2212 530 \nQ 2431 669 2431 922 \nQ 2431 1156 2273 1281 \nQ 2116 1406 1581 1522 \nL 1381 1569 \nQ 847 1681 609 1914 \nQ 372 2147 372 2553 \nQ 372 3047 722 3315 \nQ 1072 3584 1716 3584 \nQ 2034 3584 2315 3537 \nQ 2597 3491 2834 3397 \nz\n\" id=\"DejaVuSans-73\" transform=\"scale(0.015625)\"/>\n       <path d=\"M 678 2272 \nL 4684 2272 \nL 4684 1741 \nL 678 1741 \nL 678 2272 \nz\n\" id=\"DejaVuSans-2212\" transform=\"scale(0.015625)\"/>\n       <path d=\"M 513 4856 \nL 1013 4856 \nQ 1481 4119 1714 3412 \nQ 1947 2706 1947 2009 \nQ 1947 1309 1714 600 \nQ 1481 -109 1013 -844 \nL 513 -844 \nQ 928 -128 1133 580 \nQ 1338 1288 1338 2009 \nQ 1338 2731 1133 3434 \nQ 928 4138 513 4856 \nz\n\" id=\"DejaVuSans-29\" transform=\"scale(0.015625)\"/>\n      </defs>\n      <use transform=\"translate(22 65.810937)scale(0.7)\" xlink:href=\"#DejaVuSans-64\"/>\n      <use transform=\"translate(66.433594 65.810937)scale(0.7)\" xlink:href=\"#DejaVuSans-Oblique-4e\"/>\n      <use transform=\"translate(118.796875 54.326562)scale(0.49)\" xlink:href=\"#DejaVuSans-Oblique-3b3\"/>\n      <use transform=\"translate(0 -40.302969)scale(0.7)\" xlink:href=\"#DejaVuSans-64\"/>\n      <use transform=\"translate(44.433594 -40.302969)scale(0.7)\" xlink:href=\"#DejaVuSans-Oblique-78\"/>\n      <use transform=\"translate(85.859375 -40.302969)scale(0.7)\" xlink:href=\"#DejaVuSans-64\"/>\n      <use transform=\"translate(130.292969 -40.302969)scale(0.7)\" xlink:href=\"#DejaVuSans-Oblique-3bb\"/>\n      <use transform=\"translate(184.21875 0.339219)\" xlink:href=\"#DejaVuSans-20\"/>\n      <use transform=\"translate(216.005859 0.339219)\" xlink:href=\"#DejaVuSans-28\"/>\n      <use transform=\"translate(255.019531 0.339219)\" xlink:href=\"#DejaVuSans-70\"/>\n      <use transform=\"translate(318.496094 0.339219)\" xlink:href=\"#DejaVuSans-68\"/>\n      <use transform=\"translate(381.875 0.339219)\" xlink:href=\"#DejaVuSans-6f\"/>\n      <use transform=\"translate(443.056641 0.339219)\" xlink:href=\"#DejaVuSans-74\"/>\n      <use transform=\"translate(482.265625 0.339219)\" xlink:href=\"#DejaVuSans-6f\"/>\n      <use transform=\"translate(543.447266 0.339219)\" xlink:href=\"#DejaVuSans-6e\"/>\n      <use transform=\"translate(606.826172 0.339219)\" xlink:href=\"#DejaVuSans-73\"/>\n      <use transform=\"translate(658.925781 0.339219)\" xlink:href=\"#DejaVuSans-20\"/>\n      <use transform=\"translate(690.712891 0.339219)\" xlink:href=\"#DejaVuSans-6e\"/>\n      <use transform=\"translate(754.091797 0.339219)\" xlink:href=\"#DejaVuSans-6d\"/>\n      <use transform=\"translate(852.460938 38.620469)scale(0.7)\" xlink:href=\"#DejaVuSans-2212\"/>\n      <use transform=\"translate(911.113281 38.620469)scale(0.7)\" xlink:href=\"#DejaVuSans-32\"/>\n      <use transform=\"translate(958.383789 0.339219)\" xlink:href=\"#DejaVuSans-29\"/>\n      <path d=\"M 0 19.136094 \nL 0 25.386094 \nL 171.71875 25.386094 \nL 171.71875 19.136094 \nL 0 19.136094 \nz\n\"/>\n     </g>\n    </g>\n    <g id=\"text_15\">\n     <!-- 1e−7 -->\n     <g transform=\"translate(45.7725 14.798437)scale(0.1 -0.1)\">\n      <defs>\n       <path d=\"M 3597 1894 \nL 3597 1613 \nL 953 1613 \nQ 991 1019 1311 708 \nQ 1631 397 2203 397 \nQ 2534 397 2845 478 \nQ 3156 559 3463 722 \nL 3463 178 \nQ 3153 47 2828 -22 \nQ 2503 -91 2169 -91 \nQ 1331 -91 842 396 \nQ 353 884 353 1716 \nQ 353 2575 817 3079 \nQ 1281 3584 2069 3584 \nQ 2775 3584 3186 3129 \nQ 3597 2675 3597 1894 \nz\nM 3022 2063 \nQ 3016 2534 2758 2815 \nQ 2500 3097 2075 3097 \nQ 1594 3097 1305 2825 \nQ 1016 2553 972 2059 \nL 3022 2063 \nz\n\" id=\"DejaVuSans-65\" transform=\"scale(0.015625)\"/>\n       <path d=\"M 525 4666 \nL 3525 4666 \nL 3525 4397 \nL 1831 0 \nL 1172 0 \nL 2766 4134 \nL 525 4134 \nL 525 4666 \nz\n\" id=\"DejaVuSans-37\" transform=\"scale(0.015625)\"/>\n      </defs>\n      <use xlink:href=\"#DejaVuSans-31\"/>\n      <use x=\"63.623047\" xlink:href=\"#DejaVuSans-65\"/>\n      <use x=\"125.146484\" xlink:href=\"#DejaVuSans-2212\"/>\n      <use x=\"208.935547\" xlink:href=\"#DejaVuSans-37\"/>\n     </g>\n    </g>\n   </g>\n   <g id=\"line2d_25\">\n    <path clip-path=\"url(#pe8a667f8fd)\" d=\"M 58.454318 27.682074 \nL 61.847447 36.827006 \nL 65.240575 45.449436 \nL 69.481986 55.551863 \nL 73.723397 64.967171 \nL 77.964808 73.75629 \nL 82.206218 81.973542 \nL 86.447629 89.667483 \nL 90.68904 96.881625 \nL 94.930451 103.655046 \nL 99.171862 110.022929 \nL 103.413272 116.017012 \nL 107.654683 121.665991 \nL 111.896094 126.995857 \nL 116.985787 133.00353 \nL 122.07548 138.62228 \nL 127.165173 143.884966 \nL 132.254865 148.821051 \nL 137.344558 153.457011 \nL 142.434251 157.816693 \nL 148.372226 162.582403 \nL 154.310201 167.031959 \nL 160.248176 171.192718 \nL 166.186152 175.089143 \nL 172.124127 178.74316 \nL 178.910384 182.64753 \nL 185.696641 186.287244 \nL 192.482898 189.685692 \nL 200.117438 193.246445 \nL 207.751977 196.554578 \nL 215.386516 199.633435 \nL 223.869338 202.81059 \nL 232.352159 205.755318 \nL 241.683263 208.7524 \nL 251.014367 211.520854 \nL 261.193753 214.306807 \nL 272.221421 217.07805 \nL 283.249089 219.620131 \nL 295.125039 222.129604 \nL 307.849271 224.585097 \nL 312.090682 225.354801 \nL 312.090682 225.354801 \n\" style=\"fill:none;stroke:#1f77b4;stroke-linecap:square;stroke-width:1.75;\"/>\n   </g>\n   <g id=\"patch_3\">\n    <path d=\"M 45.7725 235.238438 \nL 45.7725 17.798438 \n\" style=\"fill:none;stroke:#000000;stroke-linecap:square;stroke-linejoin:miter;stroke-width:0.8;\"/>\n   </g>\n   <g id=\"patch_4\">\n    <path d=\"M 324.7725 235.238438 \nL 324.7725 17.798438 \n\" style=\"fill:none;stroke:#000000;stroke-linecap:square;stroke-linejoin:miter;stroke-width:0.8;\"/>\n   </g>\n   <g id=\"patch_5\">\n    <path d=\"M 45.7725 235.238437 \nL 324.7725 235.238437 \n\" style=\"fill:none;stroke:#000000;stroke-linecap:square;stroke-linejoin:miter;stroke-width:0.8;\"/>\n   </g>\n   <g id=\"patch_6\">\n    <path d=\"M 45.7725 17.798437 \nL 324.7725 17.798437 \n\" style=\"fill:none;stroke:#000000;stroke-linecap:square;stroke-linejoin:miter;stroke-width:0.8;\"/>\n   </g>\n  </g>\n </g>\n <defs>\n  <clipPath id=\"pe8a667f8fd\">\n   <rect height=\"217.44\" width=\"279\" x=\"45.7725\" y=\"17.798437\"/>\n  </clipPath>\n </defs>\n</svg>\n",
      "text/plain": [
       "<Figure size 360x288 with 1 Axes>"
      ]
     },
     "metadata": {
      "needs_background": "light"
     },
     "output_type": "display_data"
    }
   ],
   "source": [
    "import scipy.constants as cte\n",
    "alpha = cte.alpha #fine structure constant\n",
    "\n",
    "fig, ax = plt.subplots(figsize=(5,4))\n",
    "wl = np.arange(200, 500,1)\n",
    "n = 1.33\n",
    "ax.plot(wl, 2 * np.pi * alpha * ( 1- 1/n**2)/wl**2)\n",
    "ax.set_xlabel(\"$\\lambda$ [nm]\")\n",
    "ax.set_ylabel(r\"$\\frac{{\\rm d}N_\\gamma}{{\\rm d}x {\\rm d}\\lambda}}$ (photons nm$^{-2}$)\")\n",
    "ax.grid()\n",
    "plt.show()"
   ]
  },
  {
   "cell_type": "markdown",
   "metadata": {},
   "source": [
    "### Atmospheric extintion.\n",
    "\n",
    "Once in the atmosphere, the Cherenkov light can suffer absortion and scattering due to several processes:\n",
    "\n",
    "* Rayleigh scattering:\n",
    "\n",
    "$$ I = I_0 \\frac{8\\pi^4 \\alpha^2}{\\lambda^4 R^2}(1 - \\cos^2\\theta)$$\n",
    "\n",
    "where $R$ is the distance to the particle and $\\theta$ the scattering angle.\n",
    "\n",
    "* Absortion by ozone, above 20 km.\n",
    "* Aerosol, dust. Independent of $\\lambda$."
   ]
  },
  {
   "cell_type": "markdown",
   "metadata": {},
   "source": [
    "<div align=\"center\">\n",
    "<img src=\"images/Cherenkov_NSB_spectra.png\" width=\"50%\">\n",
    "</div>"
   ]
  },
  {
   "cell_type": "markdown",
   "metadata": {
    "slideshow": {
     "slide_type": "subslide"
    }
   },
   "source": [
    "This processes change the Cherenkov spectrum dependending on the altitude. In ice on the other hand, there is no UV absorption and the Cherenkov spectrum keeps the $1/\\lambda^2$ tendency."
   ]
  },
  {
   "cell_type": "markdown",
   "metadata": {},
   "source": [
    "### Gamma-ray detection techniques\n",
    "\n",
    "(See the visual [support](\"http://iihe.ac.be/~aguilar/PHYS-467.php\"))"
   ]
  },
  {
   "cell_type": "markdown",
   "metadata": {
    "slideshow": {
     "slide_type": "slide"
    }
   },
   "source": [
    "## Gamma-rays, Cosmic-Rays and Neutrinos\n",
    "\n",
    "### Introduction\n",
    "Both gamma-rays and neutrinos are produced as secondary products of Cosmic-Rays interactions. The dominant channels are:\n",
    "\n",
    "$$\n",
    "\\begin{aligned}\n",
    "p\\gamma &\\rightarrow \\Delta^+ \\rightarrow \\begin{cases}\n",
    "  p \\pi^0 & (2/3)\\\\\n",
    "  n \\pi^+ & (1/3)\n",
    "  \\end{cases}\\\\\n",
    "pp &\\rightarrow \\begin{cases}\n",
    "  pp \\pi^0 & (2/3)\\\\\n",
    "  nn \\pi^+ & (1/3)\n",
    "  \\end{cases}\n",
    "  \\end{aligned}$$\n",
    " \n",
    "The same processes occur with neutrons instead of protons leading to $\\pi^-$ production. The resulting neutrons can decay or interact. One assumption is that escaping neutrons decay as $n \\rightarrow p + e^- + \\nu_e$ producing the observed CRs. This is called the **magnetic confiment models** in which the protons are trapped in the magnetic fields and only neutrons escape. The **Waxman-Bachall models** on the other hand assume that some protons escape, and therefore the observed flux of cosmic rays is a lower-limit on the total number of accelerated protons. \n",
    "In both scenarios the charged and neutral pions will decay as:\n",
    "\n",
    "$$\\begin{aligned}\n",
    "\\pi^+ &\\rightarrow \\mu^+ \\nu_\\mu \\rightarrow e^+ \\nu_e \\bar{\\nu}_\\mu \\nu_\\mu\\\\\n",
    "\\pi^- &\\rightarrow \\mu^- \\bar{\\nu}_\\mu \\rightarrow e^- \\bar{\\nu}_e \\nu_\\mu\\bar{\\nu}_\\mu \\\\\n",
    "\\pi^0 &\\rightarrow \\gamma\\gamma\n",
    "\\end{aligned}$$\n",
    "\n",
    "Clearly the productions of neutrinos, cosmic-rays and $\\gamma$-rays are closely related."
   ]
  },
  {
   "cell_type": "markdown",
   "metadata": {
    "slideshow": {
     "slide_type": "subslide"
    }
   },
   "source": [
    "### p-p interactions\n",
    "\n",
    "For environments where radiation density is low (too few photons) $pp$ interactions dominate over $p\\gamma$ interactions. The cross section of $pp$ interactions is almost energy independent $\\sigma_{pp} \\sim 4 \\times 10^{-26}$ cm$^2$ (See [Kelner et al.](\"http://arxiv.org/abs/astro-ph/0606058\")). The cross section of this process has a threshold given by:\n",
    "\n",
    "$$E_{th} = m_p + m_\\pi(m_\\pi + 4m_p)/2m_p \\sim 1.2 {\\rm\\; GeV}$$\n",
    "\n",
    "Therefore most of accelerated protons can interact in the source if there is enough material and the spectra of secondary particles closely follows that of the parent proton spectrum assuming the meson *cooling time* (we usually call *cooling* to any process of energy loss due to radiation) and interaction length are larger than decay time/length (in other words, if the meson decays before loosing energy or interacts).\n",
    "\n",
    "* If the proton spectrum is **softer** than ${\\rm d}N_p/{\\rm d}E \\sim E^{-2}$, most of the electronmagnetic and neutrino power is in the energy band of 1 GeV. Gamma-ray emission is dominated by the $\\pi^0$ decay.\n",
    "\n",
    "* If the proton spectrum is **harder** than ${\\rm d}N_p/{\\rm d}E \\sim E^{-2}$, most of the energy ouput from proton interactions is at high energy. In this case the main contribution in gamma-ray comes from IC from secondary $e^-e^+$ pairs produced in $\\pi^{\\pm}$ decays. \n"
   ]
  },
  {
   "cell_type": "markdown",
   "metadata": {
    "slideshow": {
     "slide_type": "subslide"
    }
   },
   "source": [
    "\n",
    "### p-gamma interations\n",
    "\n",
    "The cross-section of this process has a higher energy threshold than $pp$ interactions given by:\n",
    "\n",
    "$$E_{th} = \\frac{m_p m_{\\pi} + m_{\\pi}^2}{\\epsilon_{ph}} \\simeq 7 \\times 10^{16} \\left[\\frac{\\epsilon_{ph}}{1{\\rm\\; eV}}\\right]^{-1}$$\n",
    "\n",
    "\n",
    "where $\\epsilon_{ph}$ is the target photon energy. Because this threshold only the highest energy protons can efficiently interact with the soft-photon fields. This process is the one typically considered for UHECR and extragalactic sources such as AGNs and Gamma-ray Bursts.\n",
    "\n"
   ]
  },
  {
   "cell_type": "markdown",
   "metadata": {
    "slideshow": {
     "slide_type": "subslide"
    }
   },
   "source": [
    "### The Waxman-Bahcall neutrino flux\n",
    "\n",
    "The neutrino flux from an optical thin (ie transparent for nucleon-meson interactions) source is usually referred as the [Waxman-Bahcall flux](http://journals.aps.org/prd/abstract/10.1103/PhysRevD.64.023002).\n",
    "\n",
    "To derive it let's assume only the extragalactic CR contribution. The energy density is, as we calculated in Lecture 3 given by:\n",
    "\n",
    "$$\\rho_{CR} = \\int E n(E) {\\rm d} E =4\\pi \\int_{E_{min}}^{E_{max}} \\frac{E}{c}I(E) {\\rm d} E \\sim 3\\times 10^{-19} {\\rm\\; ergs\\; cm^{-3}}$$\n",
    "\n",
    "where assume the extreme energies of the accelerator to be $E_{max}/E_{min} \\sim 10^{3}$. If the source is optically thin for $p\\gamma$ and $pp$ interactions then the energy flux of neutrinos cannot be greater than that of cosmic-rays (this can only happen in an optically thick source where cosmic-rays do not escape but only neutrinos do). To estimate a bound then we can therefore assume that the same energy density of cosmic rays ends up in neutrinos and electromagnetic energy:\n",
    "\n",
    "$$\\int E_\\nu I_\\nu (E_\\nu) {\\rm d}E_\\nu = c \\frac{\\rho_{CR}}{4\\pi}$$\n",
    "\n",
    "Assuming that the neutrino follows a power law of spectrum with an differential spectral index of 2 and a maximum $E_{max} = 10^{8}$ GeV the produced neutrino flux is:\n",
    "\n",
    "$$E_\\nu^2 I_\\nu (E_\\nu) \\sim 5 \\times 10^{-8} {\\rm \\; GeV\\; cm^{-2}\\; s^{-1}\\; sr^{-1}}$$\n",
    "\n",
    "The Waxman-Bahcall flux is sometimes referred as a bound, in part because more energy is transfer to the neutron than the charged pion (roughtly a factor 4 times more) and so:\n",
    "\n",
    "$$E_{\\nu_\\mu}^2 I_{\\nu_\\mu} (E_{\\nu_\\mu}) \\sim 1 - 5 \\times 10^{-8} {\\rm \\; GeV\\; cm^{-2}\\; s^{-1}\\; sr^{-1}}$$"
   ]
  },
  {
   "cell_type": "markdown",
   "metadata": {
    "slideshow": {
     "slide_type": "subslide"
    }
   },
   "source": [
    "The value derived above does not account for several things:\n",
    "\n",
    "* There are more CR than observed at Earth due to the GZK-effect. It also ignores the evolution of the sources as red-shift $\\rightarrow$ **increase the neutrino flux.**\n",
    "* In $p\\gamma$ muon neutrinos (and antineutrinos) from the pion decay $\\pi^+ \\rightarrow \\mu^+ \\nu_\\mu \\rightarrow e^+ \\nu_e \\bar{\\nu}_\\mu \\nu_\\mu$ only receive 1/2 of the energy of the charged pion (assuming each lepton carries the same energy) $\\rightarrow$ **decrease the neutrino flux**.\n",
    "\n",
    "In practice these corrections compensate. The other uncertainty is from where to chose $E_{min}$ ie the transition to Galactic sources. In general we can construct a more generic relation between the CR and neutrino flux of the form of:\n",
    "\n",
    "$$\\rho_{CR}(E_{min}) = n_{\\nu/p} \\rho_{\\nu}(E_{min}) = n_{\\nu/p}\\int_{E_{min}} n_\\nu (E_\\nu) E_\\nu {\\rm d} E_\\nu $$\n",
    "\n",
    "\n",
    "$$ n_{\\nu/p} 4\\pi \\int_{E_{min}} \\frac{I_\\nu (E_\\nu)}{c} E_\\nu {\\rm d} E_\\nu = 4\\pi \\int_{E_{min}} \\frac{I_p (E_p)}{c} E_p {\\rm d} E_p $$\n",
    "\n",
    "where $n_{\\nu/p}$ refers to the number of neutrinos per proton interaction. Ignoring the integrals we get the relation:\n",
    "\n",
    "$$E_\\nu I_\\nu (E_\\nu) \\sim n_{\\nu/p} E_p I_p (E_p)$$\n",
    "\n",
    "Using that the energy of the neutrinos will be a fraction $\\langle x_{p\\rightarrow \\nu} \\rangle$ of the proton energy we can rewrite it as:\n",
    "\n",
    "$$I_\\nu (E_\\nu) \\sim n_{\\nu/p} \\frac{1}{\\langle x_{p\\rightarrow \\nu} \\rangle} I_p (E_p)$$"
   ]
  },
  {
   "cell_type": "markdown",
   "metadata": {
    "slideshow": {
     "slide_type": "subslide"
    }
   },
   "source": [
    "### The neutrino and gamma connection \n",
    "#### Extragalactic p-gamma: Energy fraction\n",
    "\n",
    "Due to isospin the $\\Delta^+$ decays more often to $p$ than $n$.\n",
    "$$\n",
    "p\\gamma \\rightarrow \\Delta^+ \\rightarrow \\begin{cases}\n",
    "p \\pi^0 & (2/3)\\\\\n",
    "  n \\pi^+ & (1/3)\n",
    "  \\end{cases}$$\n",
    "\n",
    "In both cases, the fraction of energy that goes to the pions is $\\langle x_{p\\rightarrow\\pi}\\rangle \\sim 0.20$\n",
    ". Assuming the pion decays:\n",
    "\n",
    "$$\\pi^0 \\rightarrow \\gamma\\gamma, {\\rm\\;and\\;} \\pi^+ \\rightarrow \\mu^+ \\nu_\\mu \\rightarrow e^+ \\nu_e \\bar{\\nu}_\\mu \\nu_\\mu$$\n",
    "\n",
    "We have that:\n",
    "1. $\\gamma$'s take 1/2 of the neutral pion energy. \n",
    "2. Leptons take 1/4 of the charge pion energy.\n",
    "\n",
    "And so:\n",
    "\n",
    "$$\\begin{aligned}\n",
    "\\langle x_{p\\rightarrow\\nu}\\rangle &= \\frac{1}{4}\\langle x_{p\\rightarrow\\pi}\\rangle =\\frac{1}{20}\\\\\n",
    "\\langle x_{p\\rightarrow\\gamma}\\rangle &= \\frac{1}{2}\\langle x_{p\\rightarrow\\pi}\\rangle =\\frac{1}{10}\n",
    "\\end{aligned}$$\n",
    "\n",
    "\n",
    "\n"
   ]
  },
  {
   "cell_type": "markdown",
   "metadata": {
    "slideshow": {
     "slide_type": "subslide"
    }
   },
   "source": [
    "####  Extragalactic p-gamma: Number of particles\n",
    "\n",
    "If we consider only $\\nu_\\mu$ we have 2 $\\nu_\\mu$ per pion decay, as well as 2 $\\gamma$'s per pion decay. So the spectra can be related as:\n",
    "\n",
    "$$\\begin{aligned}\n",
    "    I_{\\nu_\\mu}(E_{\\nu_\\mu}) &= 2 \\times \\frac{1}{3} \\frac{1}{\\langle x_{p\\rightarrow\\nu}\\rangle} I_{p}(E_{p})\\\\\n",
    "    I_{\\gamma}(E_{\\gamma}) &= 2\\times \\frac{2}{3} \\frac{1}{\\langle x_{p\\rightarrow\\gamma}\\rangle}I_{p}(E_{p})\n",
    "\\end{aligned}$$\n",
    "\n",
    "Let's assume a proton spectrum $I_p(E_p) \\propto E_p^{-2}$ and so $I_p(E_p)\\propto E_{\\nu_\\mu}^{-2}\\langle x_{p\\rightarrow\\nu}\\rangle^2$\n",
    "\n",
    "$$\\begin{aligned}\n",
    "    I_{\\nu_\\mu}(E_{\\nu_\\mu}) \\propto 2 \\times \\frac{1}{3} \\langle x_{p\\rightarrow\\nu}\\rangle E_{\\nu_\\mu}^{-2} \\rightarrow 2 \\times \\frac{1}{3} \\times \\frac{1}{20} E_{\\nu_\\mu}^{-2}\\\\\n",
    "    I_\\gamma(E_\\gamma) \\propto 2 \\times \\frac{2}{3}\\langle x_{p\\rightarrow\\gamma}\\rangle  E_\\gamma^{-2} \\rightarrow  2 \\times \\frac{2}{3} \\times \\frac{1}{10} E_{\\gamma}^{-2}\n",
    "\\end{aligned}$$\n",
    "\n",
    "So:\n",
    "\n",
    "$$I_{\\nu_\\mu} (E_{\\nu_\\mu}) \\sim \\frac{1}{4} I_{\\gamma}(E_\\gamma)$$\n"
   ]
  },
  {
   "cell_type": "markdown",
   "metadata": {
    "collapsed": true,
    "slideshow": {
     "slide_type": "subslide"
    }
   },
   "source": [
    "\n",
    "#### Galactic pp\n",
    "\n",
    "In a matter dominated environtment such as Galactic SN shocks CRs interact with the H in the Galactic disk via pp interactions. As we saw these interactions have a lower threshold than $p\\gamma$. Let's consider the reaction:\n",
    "\n",
    "$$p + p \\rightarrow p + p + \\pi^0 + \\pi^+ \\pi^-$$\n",
    "  \n",
    "where we assume that pions are produced with the same probability (1/3). Doing the same calculation as before we get that:\n",
    "\n",
    "$$\\begin{aligned}\n",
    "    I_{\\nu_\\mu}(E_{\\nu_\\mu}) &\\propto 2 \\times \\frac{1}{3} \\langle x_{p\\rightarrow\\nu}\\rangle E_{\\nu_\\mu}^{-2} \\rightarrow 2 \\times \\frac{2}{3} \\times \\frac{1}{20} E_{\\nu_\\mu}^{-2}\\\\\n",
    "    I_\\gamma(E_\\gamma) &\\propto 2 \\times \\frac{2}{3}\\langle x_{p\\rightarrow\\gamma}\\rangle  E_\\gamma^{-2} \\rightarrow  2 \\times \\frac{1}{3} \\times \\frac{1}{10} E_{\\gamma}^{-2}\n",
    "\\end{aligned}$$"
   ]
  },
  {
   "cell_type": "markdown",
   "metadata": {
    "slideshow": {
     "slide_type": "slide"
    }
   },
   "source": [
    "\n",
    "#### Astrophysical Neutrino Oscillations\n",
    "\n",
    "In the discussion above we focused on muon neutrinos, however we ignored the fact that neutrino oscillate. We saw that the probability of neutrino flavor for $\\delta = 0$ can be written as: \n",
    "\n",
    "$$\\begin{aligned}\n",
    "P(\\nu_\\alpha \\rightarrow \\nu_\\beta) &=\\sum_j\\sum_i U_{\\alpha i}U^*_{\\beta i}U^*_{\\alpha  j}U_{\\beta j}e^{-i\\frac{\\Delta m^2L}{2E}}\\\\\n",
    "&= \\delta_{\\alpha\\beta}  -  4{\\sum_{i>j}{\\rm Re}(U_{\\alpha i}^{*}U_{\\beta i}U_{\\alpha j}U_{\\beta j}^{*}})\\sin^{2}(\\frac{\\Delta m_{ij}^{2}L}{4E})\n",
    "\\end{aligned}$$\n",
    "\n",
    "For a non-monochromatic neutrino beam, the probability has to be averaged over the spectrum. The $\\sin$ term will be averaged to 0.5 for large distances $L$. And thus the probability does not depend on time and can be written as a matrix:\n",
    "\n",
    "$$P(\\nu_\\alpha \\rightarrow \\nu_\\beta) = \\sum_j |U_{\\alpha  j}|^2 |U_{\\beta j}|^2 $$"
   ]
  },
  {
   "cell_type": "markdown",
   "metadata": {
    "slideshow": {
     "slide_type": "subslide"
    }
   },
   "source": [
    "### Tutorial II: Calculation of astrophysical neutrino oscillations"
   ]
  },
  {
   "cell_type": "code",
   "execution_count": 11,
   "metadata": {
    "collapsed": true
   },
   "outputs": [],
   "source": [
    "import numpy as np\n",
    "import scipy as sp\n",
    "\n",
    "def PMNS_Factory(t12, t13, t23, d):\n",
    "    s12 = np.sin(t12)\n",
    "    c12 = np.cos(t12)\n",
    "    s23 = np.sin(t23)\n",
    "    c23 = np.cos(t23)\n",
    "    s13 = np.sin(t13)\n",
    "    c13 = np.cos(t13)\n",
    "    cp  = np.exp(1j*d)\n",
    "    return np.array([[ c12*c13, s12*c13, s13*np.conj(cp) ],\n",
    "                  [-s12*c23 - c12*s23*s13*cp, c12*c23 - s12*s23*s13*cp, s23*c13],\n",
    "                  [ s12*s23 - c12*s23*s13*cp,-c12*s23 - s12*c23*s13*cp, c23*c13]])\n",
    "\n",
    "##Probability of flavor change when L->inf\n",
    "def Prob(a, b, U):\n",
    "    \"\"\"\n",
    "    Gives the oscillation probability for nu(a) -> nu(b)\n",
    "    for PMNS matrix U, and L in km and E in GeV\n",
    "    \"\"\"\n",
    "    s = 0\n",
    "    for i in range(3):\n",
    "            s += (np.conj(U[a,i])*U[b,i]*U[a,i]*np.conj(U[b,i])).real\n",
    "    return s\n",
    "\n",
    "\n",
    "def ProbMatrix(U):\n",
    "    return np.array([[Prob(0, 0, U), Prob(0, 1, U), Prob(0,2,U)],\n",
    "                     [Prob(1, 0, U), Prob(1, 1, U), Prob(1,2,U)],\n",
    "                     [Prob(2, 0, U), Prob(2, 1, U), Prob(2,2,U)]])\n",
    "                     \n",
    "\n",
    "t12 = np.arcsin(0.306**0.5)\n",
    "t13 = np.arcsin(0.0251**0.5)\n",
    "t23 = np.arcsin(0.42**0.5)\n",
    "U = PMNS_Factory(t12, t13, t23, 0)\n"
   ]
  },
  {
   "cell_type": "markdown",
   "metadata": {
    "slideshow": {
     "slide_type": "subslide"
    }
   },
   "source": [
    "The probability of a neutrino flavor fector of $(\\nu^{source}_e, \\nu^{source}_\\mu, \\nu^{source}_\\tau)$ to change into a flavor vector $(\\nu^{Earth}_e, \\nu^{Earth}_\\mu, \\nu^{Earth}_\\tau)$ is given by:\n",
    "\n",
    "$$\\begin{pmatrix}\\left.\\nu^{Earth}_e \\\\ \\nu^{Earth}_\\mu \\\\ \\nu^{Earth}_\\tau\\right.\\end{pmatrix} = P_{\\alpha\\beta} \\begin{pmatrix}\\left.\\nu^{Source}_e \\\\ \\nu^{Source}_\\mu \\\\ \\nu^{Source}_\\tau\\right.\\end{pmatrix} $$\n",
    "\n",
    "Assuming at the source the flavor ratio is (1:2:0) we have that:"
   ]
  },
  {
   "cell_type": "code",
   "execution_count": 13,
   "metadata": {},
   "outputs": [
    {
     "name": "stdout",
     "output_type": "stream",
     "text": [
      "[1.11460476 0.97356122 0.92130149]\n"
     ]
    }
   ],
   "source": [
    "source = np.array([1, 2, 0])\n",
    "\n",
    "P = ProbMatrix(U)\n",
    "\n",
    "Earth = np.dot(P, source)\n",
    "\n",
    "print (Earth)"
   ]
  },
  {
   "cell_type": "markdown",
   "metadata": {},
   "source": [
    "Thus, almost equal number of eletron, muon and tau astrophysical neutrinos are expected to be observed at Earth due to oscillations. More info at [arXiv:hep-ph/0005104](http://arxiv.org/abs/hep-ph/0005104)"
   ]
  },
  {
   "cell_type": "markdown",
   "metadata": {
    "slideshow": {
     "slide_type": "subslide"
    }
   },
   "source": [
    "### Gamma-ray neutrino relation\n",
    "After oscillations the neutrino and gamma-rays relations are given by:\n",
    "\n",
    "$$\\frac{{\\rm d}N_\\nu}{{\\rm d}E_\\nu} = \\frac{1}{2}\\frac{{\\rm d}N_\\gamma}{{\\rm d}E_\\gamma} {\\rm\\; for\\;} p + p$$\n",
    "\n",
    "$$\\frac{{\\rm d}N_\\nu}{{\\rm d}E_\\nu} = \\frac{1}{8}\\frac{{\\rm d}N_\\gamma}{{\\rm d}E_\\gamma} {\\rm\\; for\\;} p + \\gamma$$\n",
    "\n",
    "Assuming an $E^{-2}$ spectrum."
   ]
  },
  {
   "cell_type": "markdown",
   "metadata": {},
   "source": [
    "###  Neutrino Astronomy"
   ]
  },
  {
   "cell_type": "markdown",
   "metadata": {},
   "source": [
    "<div class=\"question\">\n",
    "Most of the material for this part can be found in the visual support [here](\"http://iihe.ac.be/~aguilar\")\n",
    "</div>"
   ]
  },
  {
   "cell_type": "markdown",
   "metadata": {},
   "source": [
    "### Diffuse flux of Astrophysical Neutrinos\n",
    "\n",
    "The first detection of high-energy neutrinos of cosmic origin in 2013 by the IceCube Neutrino Observatory opened a new window to the non-thermal processes in our universe. The  first  strong  evidence  for  a  cosmic  neutrino  component  came  from a  search  using  data  from  May  2010  to  April  2012  [35],  where  two  shower-like events from interactions within the detector with energies above 1 PeV were discovered.  A follow-up search for events starting in the detector with more than 30 TeV deposited energy that utilized the same dataset identified 25 additional high-energy events.  The spectrum and zenith angle distribution of the events was incompatible with the hypothesis of an atmospheric  origin  at > $4\\sigma$. IceCube  has  since  collected  independent  evidence for an astrophysical neutrino signal by analyzing different event signatures.\n",
    "\n",
    "#### Starting Events\n",
    "\n",
    "Neutrino interactions are identified in IceCube by searching for an interaction  vertex  within  the  instrumented  volume.   This  search  is  sensitive  to both shower-like and track-like events.  Since the main background for this\n",
    "search is comprised of muons from CR air showers, the rejection strategy is to identify Cherenkov photons from a track entering the detector.  For that, the outer parts of the instrumented volume are assigned to a “veto” region. An event is rejected if a certain number of Cherekov photons are found in this veto region at earlier times than the photons produced at the interaction vertex. The energy threshold for this analysis is about $E_\\nu \\sim 30$ TeV.\n",
    "\n",
    "#### Through-going muons\n",
    "\n",
    "Muons  produced  in  CC  neutrino  interactions  far  outside  the  detector can still reach the instrumented volume to produce track-like events.  Even at  1  TeV  a  muon  can  penetrate  several  kilometers  of  ice  before  it  stops and  decays.   This  allows  observation  of  high-energy  neutrino  interactions from  a  much  larger  volume  than  the  instrumented  one,  thereby  substantially increasing the effective area of the detector.  \n",
    "\n",
    "\n",
    "\n",
    "#### The spectral fit\n",
    "\n",
    "The results of a combined analysis fits the neutrino flux to a power-law between 27 TeV and 2 PeV consistent\n",
    "with an unbroken power law with a best-fit spectral index of $-2.49 \\pm 0.08$ given by:\n",
    "\n",
    "$$E^2\\Phi(E) = 2.06^{+0.35}_{-0.26} \\times 10^{-8} \\left(\\frac{E}{100 \\rm{ TeV}}\\right)^{-0.46\\pm 0.12} {\\rm GeV s}^{-1}\\rm{ sr}^{-1}{\\rm cm}^{-2}.$$\n",
    "\n",
    "\n",
    "\n",
    "However using only the high energy through-going muons (abouve 200 TeV) yields  a preferred spectral index of $-2.13\\pm 0.13$\n",
    "\n",
    "\n",
    "### The Search for Point Sources\n",
    "\n",
    "In the case where the cosmic neutrino flux is dominated by bright individual sources, they should be detectable as a local excess of events on the sky  with  respect  to  the  atmospheric  neutrino  and  diffuse  cosmic  neutrino\n",
    "background.  The sensitivity of a search for such features depends crucially on the precision by which the direction of the neutrinos can be reconstructed from the data, i.e.  on the detector angular resolution. No indication for a neutrino point source has been found in the IceCube data so far. The null result of a point-source of neutrinos, can be transformed into an flux upper limit at a given confidence level. This upper limits represents the neutrino flux that we can be certain to exclude, since IceCube did not see a point source."
   ]
  },
  {
   "cell_type": "markdown",
   "metadata": {},
   "source": [
    "<div>\n",
    "<img src=\"images/upperlimits.png\" width=\"80%\">\n",
    "<div class=\"caption\">Source: IceCube </div>\n",
    "</div>"
   ]
  },
  {
   "cell_type": "markdown",
   "metadata": {},
   "source": [
    "### The Olbers' Paradox\n",
    "\n",
    "Altough the most famous formulation of the problem comes from Henrich Olbers (1826), probably it was Kepler in 1610 the first to note that the most obvious observation, the night sky is dark, has very important consequences."
   ]
  },
  {
   "cell_type": "markdown",
   "metadata": {},
   "source": [
    "<div align=\"center\">\n",
    "<img src=\"images/olber.svg?sanitize=true\">\n",
    "</div>"
   ]
  },
  {
   "cell_type": "markdown",
   "metadata": {},
   "source": [
    "The idea is quite simple, suppose there is a source population with typical luminosity $L$ in ergs/s and a number density of $n$, then the total power emitted per unit area will be:\n",
    "\n",
    "$$ F = \\int L n \\frac{dV}{4\\pi^2} = \\frac{1}{4\\pi}\\int L n {\\rm d}\\Omega {\\rm d}r$$\n",
    "\n",
    "Integrating over all distances we can obtain the energy per steradian per second, and assuming the luminosity is independent of distance as well as number density we have that:\n",
    "\n",
    "$$\\frac{{\\rm d} F}{{\\rm d}\\Omega} = \\frac{1}{4\\pi} L n \\int_0^{\\infty} {\\rm d}r \\rightarrow \\infty$$\n",
    "\n",
    "The sky should be bright! The solution of this puzzle is the fact the Universe is dynamic and time dependent! In other words, if the Universe is expanding the radiation from increasingly distant sources is increasingly less. Also stars seems to have had a cosmological evolution, for example, there are more quasars per unit volume at $z \\sim 2$ than now.\n",
    "\n",
    "Although the Olbers' paradox is no more a paradox, it represents the *problem* that arises with neutrino astronomy. Since the extragalactic space is completely transparent for neutrinos, the flux of neutrinos that might arrive at Earth will have a significant contribution from very distant and faint sources. Let's assume now a source population with typical neutrino luminosity $L\\nu(E)$ and with a number density population given by:\n",
    "\n",
    "$$n(z) = n_0 (1+z)^m$$\n",
    "\n",
    "where $n_0$ is the *local density* of the source population, (ie the population close to our epoch $z = 0$). The parameter $m$ describes the source cosmological evolution (ie, when sources to appear in the history of the Universe, and how they evolved). Typical values are $m= 3$ for star–formation–like evolution and $m=0$ for no evolution.\n",
    "\n",
    "Since the Universe expands and sources move with the *Huble flow* we are going to use the comoving line of sight distance, defined as (see Lecture 2):\n",
    "\n",
    "$$D_c(z) = \\int_{t}^{t_0} c{\\rm d} t = \\frac{c}{H_0} \\int^z_0 \\frac{{\\rm d}z^\\prime}{E(z^\\prime)}$$\n",
    "\n",
    "where we introduced the function:\n",
    "\n",
    "$$E(z)\\equiv \\sqrt{\\Omega_M(1+z)^4 + \\Omega_r(1+z)^5 + \\Omega_k(1+z)^3 +\\Omega_\\Lambda(1+z)}$$\n",
    "\n",
    "revisiting the formula of the energy rate of neutrinos per steroradian we have:\n",
    "\n",
    "$$\\frac{{\\rm d} F_\\nu}{{\\rm d}\\Omega} = \\frac{1}{4\\pi} \\frac{c}{H_0}\\int_0^{\\infty} \\frac{L_\\nu(E_\\nu) n_0(1+z)^m}{E(z)} {\\rm d}z$$\n",
    "\n",
    "The expresion above needs an extra correction. We assumed that energy emitted by the source will be the same at the arrival, however energy will be red-shifted according to $E_\\nu (1 + z)$ so the formula it's technically:\n",
    "\n",
    "$$\\frac{{\\rm d} F_\\nu}{{\\rm d}\\Omega} = \\frac{1}{4\\pi} \\frac{c}{H_0}\\int_0^{\\infty} \\frac{L_\\nu(E_\\nu(1+z)) n_0(1+z)^m}{E(z)} {\\rm d}z$$\n",
    "\n",
    "Assuming the luminosity follows a power law with, $L_\\nu \\propto E^{-\\gamma}$, we can rewrite the expression as:\n",
    "\n",
    "$$\\frac{{\\rm d} F_\\nu}{{\\rm d}\\Omega} = \\xi \\frac{c}{H_0} \\frac{L_\\nu(E_\\nu) n_0}{4\\pi} $$\n",
    "\n",
    "where the unit-less parameter $\\xi$ is the integral that contains information on the expansion and cosmological evolution of the sources and the spectral index of the sources defined as:\n",
    "\n",
    "$$\\xi = \\int_0^{\\infty}\\frac{(1+z)^{(m - \\gamma)}{\\rm d} z}{E(z)}$$\n",
    "\n",
    "Assuming an spectral index of 2, and expressing it as function of the scale factor knowing that:\n",
    "\n",
    "$$\\frac{{\\rm d}z}{1+z} = - \\frac{{\\rm d}a}{a} \\rightarrow {\\rm d}z = -\\frac{{\\rm d}a}{a^2}$$ \n",
    "\n",
    "and that $z = \\infty \\rightarrow a = 0$,  $z = 0 \\rightarrow a = 1$, we can rewrite the integral as:\n",
    "\n",
    "$$\\xi = \\int_0^{1}\\frac{a^{-m} {\\rm d} a}{E(a)}$$\n",
    "\n",
    "Where it will depend on the cosmic evolution of the sources. Typical star forming rate evolution  (SFR) has an evolution of $m = 3.4$ in our local universe $z<1 $ and $m=-0.3$ for $ 1< z< 4$ and $m=-3.5$ elsewhere."
   ]
  },
  {
   "cell_type": "markdown",
   "metadata": {},
   "source": [
    "### Tutorial III: Calculate the value of $\\xi$ \n",
    "\n",
    "We are going to calculate the value of the parameter $\\xi$ for different cosmological evolution of the sources. The SFR evolution is given by the following broken power law formula:\n"
   ]
  },
  {
   "cell_type": "code",
   "execution_count": 14,
   "metadata": {},
   "outputs": [
    {
     "data": {
      "image/svg+xml": "<?xml version=\"1.0\" encoding=\"utf-8\" standalone=\"no\"?>\n<!DOCTYPE svg PUBLIC \"-//W3C//DTD SVG 1.1//EN\"\n  \"http://www.w3.org/Graphics/SVG/1.1/DTD/svg11.dtd\">\n<svg height=\"348.204062pt\" version=\"1.1\" viewBox=\"0 0 498.670937 348.204062\" width=\"498.670937pt\" xmlns=\"http://www.w3.org/2000/svg\" xmlns:xlink=\"http://www.w3.org/1999/xlink\">\n <metadata>\n  <rdf:RDF xmlns:cc=\"http://creativecommons.org/ns#\" xmlns:dc=\"http://purl.org/dc/elements/1.1/\" xmlns:rdf=\"http://www.w3.org/1999/02/22-rdf-syntax-ns#\">\n   <cc:Work>\n    <dc:type rdf:resource=\"http://purl.org/dc/dcmitype/StillImage\"/>\n    <dc:date>2022-04-19T18:40:53.391452</dc:date>\n    <dc:format>image/svg+xml</dc:format>\n    <dc:creator>\n     <cc:Agent>\n      <dc:title>Matplotlib v3.4.2, https://matplotlib.org/</dc:title>\n     </cc:Agent>\n    </dc:creator>\n   </cc:Work>\n  </rdf:RDF>\n </metadata>\n <defs>\n  <style type=\"text/css\">*{stroke-linecap:butt;stroke-linejoin:round;}</style>\n </defs>\n <g id=\"figure_1\">\n  <g id=\"patch_1\">\n   <path d=\"M 0 348.204062 \nL 498.670937 348.204062 \nL 498.670937 0 \nL 0 0 \nz\n\" style=\"fill:none;\"/>\n  </g>\n  <g id=\"axes_1\">\n   <g id=\"patch_2\">\n    <path d=\"M 45.070937 306.18 \nL 491.470937 306.18 \nL 491.470937 7.2 \nL 45.070937 7.2 \nz\n\" style=\"fill:#ffffff;\"/>\n   </g>\n   <g id=\"matplotlib.axis_1\">\n    <g id=\"xtick_1\">\n     <g id=\"line2d_1\">\n      <path clip-path=\"url(#pb8e13130de)\" d=\"M 65.361847 306.18 \nL 65.361847 7.2 \n\" style=\"fill:none;stroke:#b0b0b0;stroke-linecap:square;\"/>\n     </g>\n     <g id=\"line2d_2\">\n      <defs>\n       <path d=\"M 0 0 \nL 0 3.5 \n\" id=\"m99662b7b04\" style=\"stroke:#000000;\"/>\n      </defs>\n      <g>\n       <use style=\"stroke:#000000;\" x=\"65.361847\" xlink:href=\"#m99662b7b04\" y=\"306.18\"/>\n      </g>\n     </g>\n     <g id=\"text_1\">\n      <!-- 0 -->\n      <g transform=\"translate(62.180597 324.278437)scale(0.1 -0.1)\">\n       <defs>\n        <path d=\"M 2034 4250 \nQ 1547 4250 1301 3770 \nQ 1056 3291 1056 2328 \nQ 1056 1369 1301 889 \nQ 1547 409 2034 409 \nQ 2525 409 2770 889 \nQ 3016 1369 3016 2328 \nQ 3016 3291 2770 3770 \nQ 2525 4250 2034 4250 \nz\nM 2034 4750 \nQ 2819 4750 3233 4129 \nQ 3647 3509 3647 2328 \nQ 3647 1150 3233 529 \nQ 2819 -91 2034 -91 \nQ 1250 -91 836 529 \nQ 422 1150 422 2328 \nQ 422 3509 836 4129 \nQ 1250 4750 2034 4750 \nz\n\" id=\"DejaVuSans-30\" transform=\"scale(0.015625)\"/>\n       </defs>\n       <use xlink:href=\"#DejaVuSans-30\"/>\n      </g>\n     </g>\n    </g>\n    <g id=\"xtick_2\">\n     <g id=\"line2d_3\">\n      <path clip-path=\"url(#pb8e13130de)\" d=\"M 123.335873 306.18 \nL 123.335873 7.2 \n\" style=\"fill:none;stroke:#b0b0b0;stroke-linecap:square;\"/>\n     </g>\n     <g id=\"line2d_4\">\n      <g>\n       <use style=\"stroke:#000000;\" x=\"123.335873\" xlink:href=\"#m99662b7b04\" y=\"306.18\"/>\n      </g>\n     </g>\n     <g id=\"text_2\">\n      <!-- 1 -->\n      <g transform=\"translate(120.154623 324.278437)scale(0.1 -0.1)\">\n       <defs>\n        <path d=\"M 794 531 \nL 1825 531 \nL 1825 4091 \nL 703 3866 \nL 703 4441 \nL 1819 4666 \nL 2450 4666 \nL 2450 531 \nL 3481 531 \nL 3481 0 \nL 794 0 \nL 794 531 \nz\n\" id=\"DejaVuSans-31\" transform=\"scale(0.015625)\"/>\n       </defs>\n       <use xlink:href=\"#DejaVuSans-31\"/>\n      </g>\n     </g>\n    </g>\n    <g id=\"xtick_3\">\n     <g id=\"line2d_5\">\n      <path clip-path=\"url(#pb8e13130de)\" d=\"M 181.309899 306.18 \nL 181.309899 7.2 \n\" style=\"fill:none;stroke:#b0b0b0;stroke-linecap:square;\"/>\n     </g>\n     <g id=\"line2d_6\">\n      <g>\n       <use style=\"stroke:#000000;\" x=\"181.309899\" xlink:href=\"#m99662b7b04\" y=\"306.18\"/>\n      </g>\n     </g>\n     <g id=\"text_3\">\n      <!-- 2 -->\n      <g transform=\"translate(178.128649 324.278437)scale(0.1 -0.1)\">\n       <defs>\n        <path d=\"M 1228 531 \nL 3431 531 \nL 3431 0 \nL 469 0 \nL 469 531 \nQ 828 903 1448 1529 \nQ 2069 2156 2228 2338 \nQ 2531 2678 2651 2914 \nQ 2772 3150 2772 3378 \nQ 2772 3750 2511 3984 \nQ 2250 4219 1831 4219 \nQ 1534 4219 1204 4116 \nQ 875 4013 500 3803 \nL 500 4441 \nQ 881 4594 1212 4672 \nQ 1544 4750 1819 4750 \nQ 2544 4750 2975 4387 \nQ 3406 4025 3406 3419 \nQ 3406 3131 3298 2873 \nQ 3191 2616 2906 2266 \nQ 2828 2175 2409 1742 \nQ 1991 1309 1228 531 \nz\n\" id=\"DejaVuSans-32\" transform=\"scale(0.015625)\"/>\n       </defs>\n       <use xlink:href=\"#DejaVuSans-32\"/>\n      </g>\n     </g>\n    </g>\n    <g id=\"xtick_4\">\n     <g id=\"line2d_7\">\n      <path clip-path=\"url(#pb8e13130de)\" d=\"M 239.283925 306.18 \nL 239.283925 7.2 \n\" style=\"fill:none;stroke:#b0b0b0;stroke-linecap:square;\"/>\n     </g>\n     <g id=\"line2d_8\">\n      <g>\n       <use style=\"stroke:#000000;\" x=\"239.283925\" xlink:href=\"#m99662b7b04\" y=\"306.18\"/>\n      </g>\n     </g>\n     <g id=\"text_4\">\n      <!-- 3 -->\n      <g transform=\"translate(236.102675 324.278437)scale(0.1 -0.1)\">\n       <defs>\n        <path d=\"M 2597 2516 \nQ 3050 2419 3304 2112 \nQ 3559 1806 3559 1356 \nQ 3559 666 3084 287 \nQ 2609 -91 1734 -91 \nQ 1441 -91 1130 -33 \nQ 819 25 488 141 \nL 488 750 \nQ 750 597 1062 519 \nQ 1375 441 1716 441 \nQ 2309 441 2620 675 \nQ 2931 909 2931 1356 \nQ 2931 1769 2642 2001 \nQ 2353 2234 1838 2234 \nL 1294 2234 \nL 1294 2753 \nL 1863 2753 \nQ 2328 2753 2575 2939 \nQ 2822 3125 2822 3475 \nQ 2822 3834 2567 4026 \nQ 2313 4219 1838 4219 \nQ 1578 4219 1281 4162 \nQ 984 4106 628 3988 \nL 628 4550 \nQ 988 4650 1302 4700 \nQ 1616 4750 1894 4750 \nQ 2613 4750 3031 4423 \nQ 3450 4097 3450 3541 \nQ 3450 3153 3228 2886 \nQ 3006 2619 2597 2516 \nz\n\" id=\"DejaVuSans-33\" transform=\"scale(0.015625)\"/>\n       </defs>\n       <use xlink:href=\"#DejaVuSans-33\"/>\n      </g>\n     </g>\n    </g>\n    <g id=\"xtick_5\">\n     <g id=\"line2d_9\">\n      <path clip-path=\"url(#pb8e13130de)\" d=\"M 297.25795 306.18 \nL 297.25795 7.2 \n\" style=\"fill:none;stroke:#b0b0b0;stroke-linecap:square;\"/>\n     </g>\n     <g id=\"line2d_10\">\n      <g>\n       <use style=\"stroke:#000000;\" x=\"297.25795\" xlink:href=\"#m99662b7b04\" y=\"306.18\"/>\n      </g>\n     </g>\n     <g id=\"text_5\">\n      <!-- 4 -->\n      <g transform=\"translate(294.0767 324.278437)scale(0.1 -0.1)\">\n       <defs>\n        <path d=\"M 2419 4116 \nL 825 1625 \nL 2419 1625 \nL 2419 4116 \nz\nM 2253 4666 \nL 3047 4666 \nL 3047 1625 \nL 3713 1625 \nL 3713 1100 \nL 3047 1100 \nL 3047 0 \nL 2419 0 \nL 2419 1100 \nL 313 1100 \nL 313 1709 \nL 2253 4666 \nz\n\" id=\"DejaVuSans-34\" transform=\"scale(0.015625)\"/>\n       </defs>\n       <use xlink:href=\"#DejaVuSans-34\"/>\n      </g>\n     </g>\n    </g>\n    <g id=\"xtick_6\">\n     <g id=\"line2d_11\">\n      <path clip-path=\"url(#pb8e13130de)\" d=\"M 355.231976 306.18 \nL 355.231976 7.2 \n\" style=\"fill:none;stroke:#b0b0b0;stroke-linecap:square;\"/>\n     </g>\n     <g id=\"line2d_12\">\n      <g>\n       <use style=\"stroke:#000000;\" x=\"355.231976\" xlink:href=\"#m99662b7b04\" y=\"306.18\"/>\n      </g>\n     </g>\n     <g id=\"text_6\">\n      <!-- 5 -->\n      <g transform=\"translate(352.050726 324.278437)scale(0.1 -0.1)\">\n       <defs>\n        <path d=\"M 691 4666 \nL 3169 4666 \nL 3169 4134 \nL 1269 4134 \nL 1269 2991 \nQ 1406 3038 1543 3061 \nQ 1681 3084 1819 3084 \nQ 2600 3084 3056 2656 \nQ 3513 2228 3513 1497 \nQ 3513 744 3044 326 \nQ 2575 -91 1722 -91 \nQ 1428 -91 1123 -41 \nQ 819 9 494 109 \nL 494 744 \nQ 775 591 1075 516 \nQ 1375 441 1709 441 \nQ 2250 441 2565 725 \nQ 2881 1009 2881 1497 \nQ 2881 1984 2565 2268 \nQ 2250 2553 1709 2553 \nQ 1456 2553 1204 2497 \nQ 953 2441 691 2322 \nL 691 4666 \nz\n\" id=\"DejaVuSans-35\" transform=\"scale(0.015625)\"/>\n       </defs>\n       <use xlink:href=\"#DejaVuSans-35\"/>\n      </g>\n     </g>\n    </g>\n    <g id=\"xtick_7\">\n     <g id=\"line2d_13\">\n      <path clip-path=\"url(#pb8e13130de)\" d=\"M 413.206002 306.18 \nL 413.206002 7.2 \n\" style=\"fill:none;stroke:#b0b0b0;stroke-linecap:square;\"/>\n     </g>\n     <g id=\"line2d_14\">\n      <g>\n       <use style=\"stroke:#000000;\" x=\"413.206002\" xlink:href=\"#m99662b7b04\" y=\"306.18\"/>\n      </g>\n     </g>\n     <g id=\"text_7\">\n      <!-- 6 -->\n      <g transform=\"translate(410.024752 324.278437)scale(0.1 -0.1)\">\n       <defs>\n        <path d=\"M 2113 2584 \nQ 1688 2584 1439 2293 \nQ 1191 2003 1191 1497 \nQ 1191 994 1439 701 \nQ 1688 409 2113 409 \nQ 2538 409 2786 701 \nQ 3034 994 3034 1497 \nQ 3034 2003 2786 2293 \nQ 2538 2584 2113 2584 \nz\nM 3366 4563 \nL 3366 3988 \nQ 3128 4100 2886 4159 \nQ 2644 4219 2406 4219 \nQ 1781 4219 1451 3797 \nQ 1122 3375 1075 2522 \nQ 1259 2794 1537 2939 \nQ 1816 3084 2150 3084 \nQ 2853 3084 3261 2657 \nQ 3669 2231 3669 1497 \nQ 3669 778 3244 343 \nQ 2819 -91 2113 -91 \nQ 1303 -91 875 529 \nQ 447 1150 447 2328 \nQ 447 3434 972 4092 \nQ 1497 4750 2381 4750 \nQ 2619 4750 2861 4703 \nQ 3103 4656 3366 4563 \nz\n\" id=\"DejaVuSans-36\" transform=\"scale(0.015625)\"/>\n       </defs>\n       <use xlink:href=\"#DejaVuSans-36\"/>\n      </g>\n     </g>\n    </g>\n    <g id=\"xtick_8\">\n     <g id=\"line2d_15\">\n      <path clip-path=\"url(#pb8e13130de)\" d=\"M 471.180028 306.18 \nL 471.180028 7.2 \n\" style=\"fill:none;stroke:#b0b0b0;stroke-linecap:square;\"/>\n     </g>\n     <g id=\"line2d_16\">\n      <g>\n       <use style=\"stroke:#000000;\" x=\"471.180028\" xlink:href=\"#m99662b7b04\" y=\"306.18\"/>\n      </g>\n     </g>\n     <g id=\"text_8\">\n      <!-- 7 -->\n      <g transform=\"translate(467.998778 324.278437)scale(0.1 -0.1)\">\n       <defs>\n        <path d=\"M 525 4666 \nL 3525 4666 \nL 3525 4397 \nL 1831 0 \nL 1172 0 \nL 2766 4134 \nL 525 4134 \nL 525 4666 \nz\n\" id=\"DejaVuSans-37\" transform=\"scale(0.015625)\"/>\n       </defs>\n       <use xlink:href=\"#DejaVuSans-37\"/>\n      </g>\n     </g>\n    </g>\n    <g id=\"text_9\">\n     <!-- z -->\n     <g transform=\"translate(265.384297 338.716406)scale(0.11 -0.11)\">\n      <defs>\n       <path d=\"M 353 3500 \nL 3084 3500 \nL 3084 2975 \nL 922 459 \nL 3084 459 \nL 3084 0 \nL 275 0 \nL 275 525 \nL 2438 3041 \nL 353 3041 \nL 353 3500 \nz\n\" id=\"DejaVuSans-7a\" transform=\"scale(0.015625)\"/>\n      </defs>\n      <use xlink:href=\"#DejaVuSans-7a\"/>\n     </g>\n    </g>\n   </g>\n   <g id=\"matplotlib.axis_2\">\n    <g id=\"ytick_1\">\n     <g id=\"line2d_17\">\n      <path clip-path=\"url(#pb8e13130de)\" d=\"M 45.070937 264.137893 \nL 491.470937 264.137893 \n\" style=\"fill:none;stroke:#b0b0b0;stroke-linecap:square;\"/>\n     </g>\n     <g id=\"line2d_18\">\n      <defs>\n       <path d=\"M 0 0 \nL -3.5 0 \n\" id=\"m47ae9da49b\" style=\"stroke:#000000;\"/>\n      </defs>\n      <g>\n       <use style=\"stroke:#000000;\" x=\"45.070937\" xlink:href=\"#m47ae9da49b\" y=\"264.137893\"/>\n      </g>\n     </g>\n     <g id=\"text_10\">\n      <!-- 2 -->\n      <g transform=\"translate(28.208437 267.937112)scale(0.1 -0.1)\">\n       <use xlink:href=\"#DejaVuSans-32\"/>\n      </g>\n     </g>\n    </g>\n    <g id=\"ytick_2\">\n     <g id=\"line2d_19\">\n      <path clip-path=\"url(#pb8e13130de)\" d=\"M 45.070937 207.233679 \nL 491.470937 207.233679 \n\" style=\"fill:none;stroke:#b0b0b0;stroke-linecap:square;\"/>\n     </g>\n     <g id=\"line2d_20\">\n      <g>\n       <use style=\"stroke:#000000;\" x=\"45.070937\" xlink:href=\"#m47ae9da49b\" y=\"207.233679\"/>\n      </g>\n     </g>\n     <g id=\"text_11\">\n      <!-- 4 -->\n      <g transform=\"translate(28.208437 211.032898)scale(0.1 -0.1)\">\n       <use xlink:href=\"#DejaVuSans-34\"/>\n      </g>\n     </g>\n    </g>\n    <g id=\"ytick_3\">\n     <g id=\"line2d_21\">\n      <path clip-path=\"url(#pb8e13130de)\" d=\"M 45.070937 150.329465 \nL 491.470937 150.329465 \n\" style=\"fill:none;stroke:#b0b0b0;stroke-linecap:square;\"/>\n     </g>\n     <g id=\"line2d_22\">\n      <g>\n       <use style=\"stroke:#000000;\" x=\"45.070937\" xlink:href=\"#m47ae9da49b\" y=\"150.329465\"/>\n      </g>\n     </g>\n     <g id=\"text_12\">\n      <!-- 6 -->\n      <g transform=\"translate(28.208437 154.128684)scale(0.1 -0.1)\">\n       <use xlink:href=\"#DejaVuSans-36\"/>\n      </g>\n     </g>\n    </g>\n    <g id=\"ytick_4\">\n     <g id=\"line2d_23\">\n      <path clip-path=\"url(#pb8e13130de)\" d=\"M 45.070937 93.425252 \nL 491.470937 93.425252 \n\" style=\"fill:none;stroke:#b0b0b0;stroke-linecap:square;\"/>\n     </g>\n     <g id=\"line2d_24\">\n      <g>\n       <use style=\"stroke:#000000;\" x=\"45.070937\" xlink:href=\"#m47ae9da49b\" y=\"93.425252\"/>\n      </g>\n     </g>\n     <g id=\"text_13\">\n      <!-- 8 -->\n      <g transform=\"translate(28.208437 97.22447)scale(0.1 -0.1)\">\n       <defs>\n        <path d=\"M 2034 2216 \nQ 1584 2216 1326 1975 \nQ 1069 1734 1069 1313 \nQ 1069 891 1326 650 \nQ 1584 409 2034 409 \nQ 2484 409 2743 651 \nQ 3003 894 3003 1313 \nQ 3003 1734 2745 1975 \nQ 2488 2216 2034 2216 \nz\nM 1403 2484 \nQ 997 2584 770 2862 \nQ 544 3141 544 3541 \nQ 544 4100 942 4425 \nQ 1341 4750 2034 4750 \nQ 2731 4750 3128 4425 \nQ 3525 4100 3525 3541 \nQ 3525 3141 3298 2862 \nQ 3072 2584 2669 2484 \nQ 3125 2378 3379 2068 \nQ 3634 1759 3634 1313 \nQ 3634 634 3220 271 \nQ 2806 -91 2034 -91 \nQ 1263 -91 848 271 \nQ 434 634 434 1313 \nQ 434 1759 690 2068 \nQ 947 2378 1403 2484 \nz\nM 1172 3481 \nQ 1172 3119 1398 2916 \nQ 1625 2713 2034 2713 \nQ 2441 2713 2670 2916 \nQ 2900 3119 2900 3481 \nQ 2900 3844 2670 4047 \nQ 2441 4250 2034 4250 \nQ 1625 4250 1398 4047 \nQ 1172 3844 1172 3481 \nz\n\" id=\"DejaVuSans-38\" transform=\"scale(0.015625)\"/>\n       </defs>\n       <use xlink:href=\"#DejaVuSans-38\"/>\n      </g>\n     </g>\n    </g>\n    <g id=\"ytick_5\">\n     <g id=\"line2d_25\">\n      <path clip-path=\"url(#pb8e13130de)\" d=\"M 45.070937 36.521038 \nL 491.470937 36.521038 \n\" style=\"fill:none;stroke:#b0b0b0;stroke-linecap:square;\"/>\n     </g>\n     <g id=\"line2d_26\">\n      <g>\n       <use style=\"stroke:#000000;\" x=\"45.070937\" xlink:href=\"#m47ae9da49b\" y=\"36.521038\"/>\n      </g>\n     </g>\n     <g id=\"text_14\">\n      <!-- 10 -->\n      <g transform=\"translate(21.845937 40.320257)scale(0.1 -0.1)\">\n       <use xlink:href=\"#DejaVuSans-31\"/>\n       <use x=\"63.623047\" xlink:href=\"#DejaVuSans-30\"/>\n      </g>\n     </g>\n    </g>\n    <g id=\"text_15\">\n     <!-- $n_{SFR}(z)/n_0$ -->\n     <g transform=\"translate(15.558281 182.815)rotate(-90)scale(0.11 -0.11)\">\n      <defs>\n       <path d=\"M 3566 2113 \nL 3156 0 \nL 2578 0 \nL 2988 2091 \nQ 3016 2238 3031 2350 \nQ 3047 2463 3047 2528 \nQ 3047 2791 2881 2937 \nQ 2716 3084 2419 3084 \nQ 1956 3084 1622 2776 \nQ 1288 2469 1184 1941 \nL 800 0 \nL 225 0 \nL 903 3500 \nL 1478 3500 \nL 1363 2950 \nQ 1603 3253 1940 3418 \nQ 2278 3584 2650 3584 \nQ 3113 3584 3367 3334 \nQ 3622 3084 3622 2631 \nQ 3622 2519 3608 2391 \nQ 3594 2263 3566 2113 \nz\n\" id=\"DejaVuSans-Oblique-6e\" transform=\"scale(0.015625)\"/>\n       <path d=\"M 3859 4513 \nL 3738 3897 \nQ 3422 4066 3111 4152 \nQ 2800 4238 2509 4238 \nQ 1944 4238 1609 3991 \nQ 1275 3744 1275 3334 \nQ 1275 3109 1398 2989 \nQ 1522 2869 2034 2731 \nL 2413 2638 \nQ 3053 2472 3303 2217 \nQ 3553 1963 3553 1503 \nQ 3553 797 2998 353 \nQ 2444 -91 1538 -91 \nQ 1166 -91 791 -17 \nQ 416 56 38 206 \nL 166 856 \nQ 513 641 861 531 \nQ 1209 422 1556 422 \nQ 2147 422 2503 684 \nQ 2859 947 2859 1369 \nQ 2859 1650 2717 1795 \nQ 2575 1941 2106 2059 \nL 1728 2156 \nQ 1081 2325 845 2545 \nQ 609 2766 609 3163 \nQ 609 3859 1145 4304 \nQ 1681 4750 2541 4750 \nQ 2875 4750 3203 4690 \nQ 3531 4631 3859 4513 \nz\n\" id=\"DejaVuSans-Oblique-53\" transform=\"scale(0.015625)\"/>\n       <path d=\"M 1081 4666 \nL 3756 4666 \nL 3653 4134 \nL 1606 4134 \nL 1338 2759 \nL 3188 2759 \nL 3084 2228 \nL 1234 2228 \nL 800 0 \nL 172 0 \nL 1081 4666 \nz\n\" id=\"DejaVuSans-Oblique-46\" transform=\"scale(0.015625)\"/>\n       <path d=\"M 1613 4147 \nL 1294 2491 \nL 2106 2491 \nQ 2584 2491 2879 2755 \nQ 3175 3019 3175 3444 \nQ 3175 3784 2976 3965 \nQ 2778 4147 2406 4147 \nL 1613 4147 \nz\nM 2772 2241 \nQ 2972 2194 3105 2009 \nQ 3238 1825 3413 1275 \nL 3809 0 \nL 3144 0 \nL 2778 1197 \nQ 2638 1659 2453 1815 \nQ 2269 1972 1888 1972 \nL 1191 1972 \nL 806 0 \nL 172 0 \nL 1081 4666 \nL 2503 4666 \nQ 3150 4666 3495 4373 \nQ 3841 4081 3841 3531 \nQ 3841 3044 3547 2687 \nQ 3253 2331 2772 2241 \nz\n\" id=\"DejaVuSans-Oblique-52\" transform=\"scale(0.015625)\"/>\n       <path d=\"M 1984 4856 \nQ 1566 4138 1362 3434 \nQ 1159 2731 1159 2009 \nQ 1159 1288 1364 580 \nQ 1569 -128 1984 -844 \nL 1484 -844 \nQ 1016 -109 783 600 \nQ 550 1309 550 2009 \nQ 550 2706 781 3412 \nQ 1013 4119 1484 4856 \nL 1984 4856 \nz\n\" id=\"DejaVuSans-28\" transform=\"scale(0.015625)\"/>\n       <path d=\"M 744 3500 \nL 3475 3500 \nL 3372 2975 \nL 738 459 \nL 2913 459 \nL 2822 0 \nL -19 0 \nL 84 525 \nL 2719 3041 \nL 653 3041 \nL 744 3500 \nz\n\" id=\"DejaVuSans-Oblique-7a\" transform=\"scale(0.015625)\"/>\n       <path d=\"M 513 4856 \nL 1013 4856 \nQ 1481 4119 1714 3412 \nQ 1947 2706 1947 2009 \nQ 1947 1309 1714 600 \nQ 1481 -109 1013 -844 \nL 513 -844 \nQ 928 -128 1133 580 \nQ 1338 1288 1338 2009 \nQ 1338 2731 1133 3434 \nQ 928 4138 513 4856 \nz\n\" id=\"DejaVuSans-29\" transform=\"scale(0.015625)\"/>\n       <path d=\"M 1625 4666 \nL 2156 4666 \nL 531 -594 \nL 0 -594 \nL 1625 4666 \nz\n\" id=\"DejaVuSans-2f\" transform=\"scale(0.015625)\"/>\n      </defs>\n      <use transform=\"translate(0 0.125)\" xlink:href=\"#DejaVuSans-Oblique-6e\"/>\n      <use transform=\"translate(63.378906 -16.28125)scale(0.7)\" xlink:href=\"#DejaVuSans-Oblique-53\"/>\n      <use transform=\"translate(107.8125 -16.28125)scale(0.7)\" xlink:href=\"#DejaVuSans-Oblique-46\"/>\n      <use transform=\"translate(148.076172 -16.28125)scale(0.7)\" xlink:href=\"#DejaVuSans-Oblique-52\"/>\n      <use transform=\"translate(199.448242 0.125)\" xlink:href=\"#DejaVuSans-28\"/>\n      <use transform=\"translate(238.461914 0.125)\" xlink:href=\"#DejaVuSans-Oblique-7a\"/>\n      <use transform=\"translate(290.952148 0.125)\" xlink:href=\"#DejaVuSans-29\"/>\n      <use transform=\"translate(329.96582 0.125)\" xlink:href=\"#DejaVuSans-2f\"/>\n      <use transform=\"translate(363.657227 0.125)\" xlink:href=\"#DejaVuSans-Oblique-6e\"/>\n      <use transform=\"translate(427.036133 -16.28125)scale(0.7)\" xlink:href=\"#DejaVuSans-30\"/>\n     </g>\n    </g>\n   </g>\n   <g id=\"line2d_27\">\n    <path clip-path=\"url(#pb8e13130de)\" d=\"M 65.361847 292.59 \nL 67.799193 288.313746 \nL 70.236539 283.602738 \nL 72.673886 278.432223 \nL 75.111232 272.777066 \nL 77.548579 266.611748 \nL 79.985925 259.910386 \nL 82.829496 251.379589 \nL 85.673067 242.041141 \nL 88.516638 231.852109 \nL 91.360209 220.768929 \nL 94.203779 208.747425 \nL 97.04735 195.742815 \nL 99.890921 181.709729 \nL 102.734492 166.602216 \nL 105.578063 150.373756 \nL 108.421634 132.977273 \nL 111.671429 111.604226 \nL 114.921224 88.571421 \nL 118.171019 63.806 \nL 121.420815 37.234221 \nL 123.451937 20.79 \nL 129.139078 25.068206 \nL 135.232444 29.372811 \nL 141.732035 33.679825 \nL 148.231625 37.724132 \nL 155.13744 41.763582 \nL 162.44948 45.78146 \nL 170.167743 49.763715 \nL 178.292232 53.698703 \nL 186.822944 57.576933 \nL 195.759881 61.390803 \nL 205.103042 65.134366 \nL 214.852428 68.8031 \nL 225.414263 72.532774 \nL 236.382322 76.16514 \nL 247.756605 79.700592 \nL 259.943337 83.254949 \nL 272.942518 86.808472 \nL 286.347924 90.24369 \nL 297.315983 93.044581 \nL 301.378227 103.881779 \nL 305.440471 114.065584 \nL 309.502715 123.643508 \nL 313.564959 132.659031 \nL 317.627203 141.151992 \nL 321.689447 149.158941 \nL 325.751691 156.713442 \nL 330.220159 164.537571 \nL 334.688628 171.889182 \nL 339.157096 178.802689 \nL 343.625565 185.309584 \nL 348.094033 191.438718 \nL 352.562502 197.216553 \nL 357.437195 203.147491 \nL 362.311888 208.71813 \nL 367.18658 213.954867 \nL 372.061273 218.881839 \nL 377.342191 223.895424 \nL 382.623108 228.597051 \nL 387.904025 233.010122 \nL 393.591167 237.464404 \nL 399.278309 241.633054 \nL 404.96545 245.538143 \nL 411.058816 249.452475 \nL 417.152182 253.109716 \nL 423.651773 256.750285 \nL 430.151363 260.143804 \nL 437.057178 263.501266 \nL 444.369218 266.80129 \nL 451.681257 269.861916 \nL 459.399521 272.855907 \nL 467.524009 275.768596 \nL 471.180028 277.005436 \nL 471.180028 277.005436 \n\" style=\"fill:none;stroke:#1f77b4;stroke-linecap:square;stroke-width:1.75;\"/>\n   </g>\n   <g id=\"patch_3\">\n    <path d=\"M 45.070937 306.18 \nL 45.070937 7.2 \n\" style=\"fill:none;stroke:#000000;stroke-linecap:square;stroke-linejoin:miter;stroke-width:0.8;\"/>\n   </g>\n   <g id=\"patch_4\">\n    <path d=\"M 491.470937 306.18 \nL 491.470937 7.2 \n\" style=\"fill:none;stroke:#000000;stroke-linecap:square;stroke-linejoin:miter;stroke-width:0.8;\"/>\n   </g>\n   <g id=\"patch_5\">\n    <path d=\"M 45.070937 306.18 \nL 491.470937 306.18 \n\" style=\"fill:none;stroke:#000000;stroke-linecap:square;stroke-linejoin:miter;stroke-width:0.8;\"/>\n   </g>\n   <g id=\"patch_6\">\n    <path d=\"M 45.070937 7.2 \nL 491.470937 7.2 \n\" style=\"fill:none;stroke:#000000;stroke-linecap:square;stroke-linejoin:miter;stroke-width:0.8;\"/>\n   </g>\n  </g>\n </g>\n <defs>\n  <clipPath id=\"pb8e13130de\">\n   <rect height=\"298.98\" width=\"446.4\" x=\"45.070937\" y=\"7.2\"/>\n  </clipPath>\n </defs>\n</svg>\n",
      "text/plain": [
       "<Figure size 576x396 with 1 Axes>"
      ]
     },
     "metadata": {
      "needs_background": "light"
     },
     "output_type": "display_data"
    }
   ],
   "source": [
    "def rho(z):\n",
    "    if z < 1.:\n",
    "        return (1. + z)**3.4\n",
    "    elif z >= 1. and z <= 4.:\n",
    "        return (1+1.)**3.4 * ((1.+z)/(1.+1.))**-0.3\n",
    "    else:\n",
    "        return (1.+1.)**3.4*((1.+4.)/(1.+1.))**-0.3*((1.+z)/(1.+4.))**-3.5\n",
    "    \n",
    "ax = plt.subplot(111)\n",
    "\n",
    "z = np.linspace(0, 7, 1000)\n",
    "vrho = np.vectorize(rho)\n",
    "\n",
    "ax.plot(z, vrho(z))\n",
    "ax.set_xlabel(\"z\")\n",
    "ax.set_ylabel(\"$n_{SFR}(z)/n_0$\")\n",
    "ax.grid()"
   ]
  },
  {
   "cell_type": "code",
   "execution_count": 15,
   "metadata": {},
   "outputs": [
    {
     "data": {
      "text/latex": [
       "$\\xi$ = 2.39 for an evolution of SFR"
      ],
      "text/plain": [
       "<IPython.core.display.Latex object>"
      ]
     },
     "execution_count": 15,
     "metadata": {},
     "output_type": "execute_result"
    }
   ],
   "source": [
    "from astropy.cosmology import Planck13 as cosmo\n",
    "from scipy import integrate\n",
    "\n",
    "def xi(z):\n",
    "    return cosmo.H0.value/cosmo.H(z).value * rho(z) * (1 + z)**(-2)\n",
    "\n",
    "integral = integrate.quad(lambda z: xi(z), 0., np.inf)[0]\n",
    "\n",
    "Latex(r\"$\\xi$ = %.2f for an evolution of SFR\" %(integral))\n"
   ]
  },
  {
   "cell_type": "code",
   "execution_count": 16,
   "metadata": {},
   "outputs": [
    {
     "data": {
      "text/latex": [
       "$\\xi$ = 0.48 for no cosmological evolution up to redshift z < 2"
      ],
      "text/plain": [
       "<IPython.core.display.Latex object>"
      ]
     },
     "execution_count": 16,
     "metadata": {},
     "output_type": "execute_result"
    }
   ],
   "source": [
    "integral = integrate.quad(lambda z: cosmo.H0.value/cosmo.H(z).value  * (1 + z)**(-2), 0., 2)[0]\n",
    "\n",
    "Latex(r\"$\\xi$ = %.2f for no cosmological evolution up to redshift z < 2\" %(integral))\n"
   ]
  },
  {
   "cell_type": "markdown",
   "metadata": {
    "variables": {
     "\\rm GeV": "<p><strong>SyntaxError</strong>: unexpected character after line continuation character (<ipython-input-1-9ffa36a3dd5c>, line 1)</p>\n",
     "\\rm cm}^2{\\rm s\\;} {\\rm sr": "<p><strong>SyntaxError</strong>: unexpected character after line continuation character (<ipython-input-1-2d065fe3b6ca>, line 1)</p>\n"
    }
   },
   "source": [
    "Therefore the parameter $\\xi$ varies between $0.5\\sim 3$. We can equate this total neutrino flux per steroradian to the flux observed by IceCube (assuming an spectral index of 2):\n",
    "\n",
    "$$\\xi \\frac{c}{H_0} \\frac{L_\\nu(E_\\nu) n_0}{4\\pi} = E^2 \\Phi_\\nu \\sim 2.06 \\times 10^{-8} \\frac{{\\rm GeV}}{{\\rm cm}^2{\\rm s\\;} {\\rm sr}}$$"
   ]
  },
  {
   "cell_type": "code",
   "execution_count": 18,
   "metadata": {},
   "outputs": [
    {
     "data": {
      "text/latex": [
       "$n_0 L_\\nu \\sim$ 1.4e+43 $\\mathrm{\\frac{erg}{yr\\,Mpc^{3}}}$"
      ],
      "text/plain": [
       "<IPython.core.display.Latex object>"
      ]
     },
     "execution_count": 18,
     "metadata": {},
     "output_type": "execute_result"
    }
   ],
   "source": [
    "#I'm going to use units to avoid stupid mistakes\n",
    "import astropy.units as u\n",
    "from astropy import constants as const\n",
    "\n",
    "xi = 0.48\n",
    "\n",
    "icecube_flux = 2.06e-8 * u.GeV/u.cm**2/u.s/u.sr\n",
    "\n",
    "Ln = icecube_flux * cosmo.H0.to(1/u.s)/const.c.to(u.Mpc/u.s) * 4 * np.pi * u.sr * xi\n",
    "Ln = Ln.to(u.erg/u.Mpc**3/u.yr)\n",
    "\n",
    "Latex(r\"$n_0 L_\\nu \\sim$ {0:.1e} {1}\".format(Ln.value, Ln.unit.to_string(\"latex\")))"
   ]
  },
  {
   "cell_type": "markdown",
   "metadata": {},
   "source": [
    "ie, it reaches the value of:\n",
    "\n",
    "$$n_0 L_\\nu \\sim 10^{43} \\frac{\\rm{erg}}{\\rm{Mpc}^3\\rm{yr}}$$\n",
    "\n",
    "note that this is almost independent of the value of $xi$. We can represent this relation in a diagram now called Kowalski's plot:"
   ]
  },
  {
   "cell_type": "markdown",
   "metadata": {},
   "source": [
    "<div align=\"center\">\n",
    "<img src=\"images/kowalski2.png\" width=\"70%\">\n",
    "<div class=\"caption\">Source: Taken from [arxiv:1411.4385](https://arxiv.org/pdf/1411.4385.pdf)</div>\n",
    "<div>"
   ]
  },
  {
   "cell_type": "markdown",
   "metadata": {},
   "source": [
    "Constrains can also be obtained from the point-source limits. The argument is as follows, if the source population that is responsible of the diffuse astrophysical flux observed in IceCube, is rate (has a low density) then the closest of these sources should have provided a signal in the point-source analysis. \n",
    "Let's assume that $d$ is the distance to the nearest source for a source population with local density $n_0$ so:\n",
    "\n",
    "$$n_0 \\frac{4}{3} \\pi d^3 = 1$$\n",
    "\n",
    "since there is 1 source in an sphere of radius $d$. We can estimate the closest distance to a source of this population as:\n",
    "\n",
    "$$ d = \\left(\\frac{1}{\\frac{4}{3}\\pi n_0}\\right)^{1/3} \\propto n_0^{-1/3}$$\n",
    "\n",
    "and thus the estimated neutrino flux for this single point-source is: \n",
    "\n",
    "$$E^2 \\Phi^{ps}_\\nu = \\frac{L_\\nu}{4\\pi d^2} \\sim L_\\nu n_0^{2/3}$$\n",
    "\n",
    "A typical value of the neutrino point-source upper limits can be obtained for the Northern sky as:\n",
    "\n",
    "$$E^2 \\Phi^{u.l.}_\\nu \\leq 2 \\times 10^{-9} {\\rm GeV} {\\rm cm}^{-2}{\\rm s}^{-1} $$\n",
    "\n",
    "so we have the 2 constrains together:\n",
    "\n",
    "\n",
    "$$n_0^{-1/3} \\leq \\frac{\\Phi^{u.l.}}{10^{43}\\frac{\\rm{erg}}{\\rm{Mpc}^3\\rm{yr}} }$$\n",
    "\n",
    "which leads to the following condition on the local density of sources from the point-source upper limits:"
   ]
  },
  {
   "cell_type": "code",
   "execution_count": 19,
   "metadata": {},
   "outputs": [
    {
     "data": {
      "text/latex": [
       "$n_0 \\geq$ 2.8e-06 $\\mathrm{Mpc^{-3}}$"
      ],
      "text/plain": [
       "<IPython.core.display.Latex object>"
      ]
     },
     "execution_count": 19,
     "metadata": {},
     "output_type": "execute_result"
    }
   ],
   "source": [
    "flux_upperlimit = 2e-9 * u.GeV/u.cm**2 / u.s\n",
    "\n",
    "n0 = np.power(flux_upperlimit/Ln, -3)\n",
    "n0 = n0.to(u.Mpc**-3)\n",
    "\n",
    "Latex(\"$n_0 \\geq$ {0:.1e} {1}\".format(n0.value, n0.unit.to_string(\"latex_inline\")))"
   ]
  },
  {
   "cell_type": "markdown",
   "metadata": {
    "collapsed": true
   },
   "source": [
    "### Gravitational Waves \n",
    "\n",
    "Material for this part is only in the slides for the moment.\n"
   ]
  },
  {
   "cell_type": "markdown",
   "metadata": {},
   "source": [
    "#### References\n",
    "* High energy neutrinos in the context of multimessenger astrophysics. J. Becker [arXiv:0710.1557v2](https://arxiv.org/abs/0710.1557)\n",
    "* Cosmic Neutrinos from the Sources of Galactic and Extragalactic Cosmic Rays. F. Halzen\n",
    "[arxiv:0611915](https://arxiv.org/pdf/astro-ph/0611915.pdf)"
   ]
  },
  {
   "cell_type": "code",
   "execution_count": 20,
   "metadata": {},
   "outputs": [
    {
     "data": {
      "application/json": {
       "Software versions": [
        {
         "module": "Python",
         "version": "3.9.7 64bit [Clang 13.0.0 (clang-1300.0.29.3)]"
        },
        {
         "module": "IPython",
         "version": "7.23.1"
        },
        {
         "module": "OS",
         "version": "macOS 12.2 x86_64 i386 64bit"
        },
        {
         "module": "numpy",
         "version": "1.22.3"
        },
        {
         "module": "matplotlib",
         "version": "3.4.2"
        },
        {
         "module": "astropy",
         "version": "5.0.4"
        },
        {
         "module": "scipy",
         "version": "1.6.3"
        }
       ]
      },
      "text/html": [
       "<table><tr><th>Software</th><th>Version</th></tr><tr><td>Python</td><td>3.9.7 64bit [Clang 13.0.0 (clang-1300.0.29.3)]</td></tr><tr><td>IPython</td><td>7.23.1</td></tr><tr><td>OS</td><td>macOS 12.2 x86\\_64 i386 64bit</td></tr><tr><td>numpy</td><td>1.22.3</td></tr><tr><td>matplotlib</td><td>3.4.2</td></tr><tr><td>astropy</td><td>5.0.4</td></tr><tr><td>scipy</td><td>1.6.3</td></tr><tr><td colspan='2'>Tue Apr 19 18:41:28 2022 CEST</td></tr></table>"
      ],
      "text/latex": [
       "\\begin{tabular}{|l|l|}\\hline\n",
       "{\\bf Software} & {\\bf Version} \\\\ \\hline\\hline\n",
       "Python & 3.9.7 64bit [Clang 13.0.0 (clang-1300.0.29.3)] \\\\ \\hline\n",
       "IPython & 7.23.1 \\\\ \\hline\n",
       "OS & macOS 12.2 x86\\_64 i386 64bit \\\\ \\hline\n",
       "numpy & 1.22.3 \\\\ \\hline\n",
       "matplotlib & 3.4.2 \\\\ \\hline\n",
       "astropy & 5.0.4 \\\\ \\hline\n",
       "scipy & 1.6.3 \\\\ \\hline\n",
       "\\hline \\multicolumn{2}{|l|}{Tue Apr 19 18:41:28 2022 CEST} \\\\ \\hline\n",
       "\\end{tabular}\n"
      ],
      "text/plain": [
       "Software versions\n",
       "Python 3.9.7 64bit [Clang 13.0.0 (clang-1300.0.29.3)]\n",
       "IPython 7.23.1\n",
       "OS macOS 12.2 x86_64 i386 64bit\n",
       "numpy 1.22.3\n",
       "matplotlib 3.4.2\n",
       "astropy 5.0.4\n",
       "scipy 1.6.3\n",
       "Tue Apr 19 18:41:28 2022 CEST"
      ]
     },
     "execution_count": 20,
     "metadata": {},
     "output_type": "execute_result"
    }
   ],
   "source": [
    "%load_ext version_information\n",
    "%version_information numpy, matplotlib, astropy, scipy"
   ]
  },
  {
   "cell_type": "code",
   "execution_count": 21,
   "metadata": {},
   "outputs": [
    {
     "data": {
      "text/html": [],
      "text/plain": [
       "<IPython.core.display.HTML object>"
      ]
     },
     "execution_count": 21,
     "metadata": {},
     "output_type": "execute_result"
    }
   ],
   "source": [
    "from IPython.core.display import HTML\n",
    "def css_styling():\n",
    "    styles = open(\"css/custom.css\", \"r\").read()\n",
    "    return HTML(styles)\n",
    "css_styling()"
   ]
  },
  {
   "cell_type": "code",
   "execution_count": null,
   "metadata": {},
   "outputs": [],
   "source": []
  }
 ],
 "metadata": {
  "hide_input": false,
  "interpreter": {
   "hash": "aee8b7b246df8f9039afb4144a1f6fd8d2ca17a180786b69acc140d282b71a49"
  },
  "kernelspec": {
   "display_name": "Python 2",
   "language": "python",
   "name": "python3"
  },
  "language_info": {
   "codemirror_mode": {
    "name": "ipython",
    "version": 3
   },
   "file_extension": ".py",
   "mimetype": "text/x-python",
   "name": "python",
   "nbconvert_exporter": "python",
   "pygments_lexer": "ipython3",
   "version": "3.9.7"
  },
  "latex_envs": {
   "bibliofile": "biblio.bib",
   "cite_by": "apalike",
   "current_citInitial": 1,
   "eqLabelWithNumbers": true,
   "eqNumInitial": 0
  }
 },
 "nbformat": 4,
 "nbformat_minor": 1
}
